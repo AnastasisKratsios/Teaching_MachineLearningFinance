{
 "cells": [
  {
   "cell_type": "markdown",
   "id": "6f21c25c",
   "metadata": {},
   "source": [
    "# Numpy\n",
    "\n",
    "NumPy is a powerful Python package for numerical computations. It provides efficient arrays (ndarrays) for handling large datasets and offers a wide range of mathematical functions for array operations. NumPy is a fundamental tool for scientific computing, machine learning, and data analysis due to its speed and versatility."
   ]
  },
  {
   "cell_type": "markdown",
   "id": "684e1098",
   "metadata": {},
   "source": [
    "## Installing Numpy and Conda\n",
    "Let's be organized people and start with installing Conda, which will help us install all dependancies on which our packages depend.\n",
    "### Conda"
   ]
  },
  {
   "cell_type": "markdown",
   "id": "025dedeb",
   "metadata": {},
   "source": [
    "Download the installer:\n",
    "\n",
    "https://docs.conda.io/en/latest/miniconda.html\n",
    "\n",
    "TMiniconda---In your terminal window, run:\n",
    "\n",
    "<code>bash Miniconda3-latest-MacOSX-x86_64.sh\n",
    "</code>\n",
    "Follow the prompts on the installer screens.\n",
    "\n",
    "If you are unsure about any setting, accept the defaults. You can change them later.\n",
    "\n",
    "To make the changes take effect, close and then re-open your terminal window.\n",
    "Test your installation. In your terminal window or Anaconda Prompt, run the command conda list. A list of installed packages appears if it has been installed correctly.\n",
    "\n",
    "**Further Reading (For those who like instruction Manuals)**: https://docs.conda.io/projects/conda/en/latest/user-guide/install/macos.html"
   ]
  },
  {
   "cell_type": "markdown",
   "id": "3abc25bd",
   "metadata": {},
   "source": [
    "---\n",
    "*Now that we've installed Conda, let's install Numpy and its dependancies.*\n",
    "\n",
    "Best practice, use an environment rather than install in the base environment\n",
    "\n",
    "<code>conda create -n my-env\n",
    "conda activate my-env<\\code>\n",
    "\n",
    "If you want to install from conda-forge\n",
    "    \n",
    "<code>conda config --env --add channels conda-forge<\\code>\n",
    "    \n",
    "The actual install command\n",
    "    \n",
    "<code>conda install numpy<\\code>\n",
    "    \n",
    "---"
   ]
  },
  {
   "cell_type": "markdown",
   "id": "f5b79298",
   "metadata": {},
   "source": [
    "## Import Numpy\n",
    "We begin by loading the package on our machine."
   ]
  },
  {
   "cell_type": "code",
   "execution_count": 1,
   "id": "3a9dbddc",
   "metadata": {},
   "outputs": [],
   "source": [
    "import numpy as np"
   ]
  },
  {
   "cell_type": "code",
   "execution_count": null,
   "id": "c025dba1",
   "metadata": {},
   "outputs": [],
   "source": []
  }
 ],
 "metadata": {
  "kernelspec": {
   "display_name": "Python 3 (ipykernel)",
   "language": "python",
   "name": "python3"
  },
  "language_info": {
   "codemirror_mode": {
    "name": "ipython",
    "version": 3
   },
   "file_extension": ".py",
   "mimetype": "text/x-python",
   "name": "python",
   "nbconvert_exporter": "python",
   "pygments_lexer": "ipython3",
   "version": "3.9.12"
  }
 },
 "nbformat": 4,
 "nbformat_minor": 5
}
