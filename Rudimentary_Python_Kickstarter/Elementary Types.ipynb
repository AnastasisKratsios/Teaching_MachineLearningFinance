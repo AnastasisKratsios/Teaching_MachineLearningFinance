{
 "cells": [
  {
   "cell_type": "markdown",
   "id": "6f21c25c",
   "metadata": {},
   "source": [
    "# Numpy\n",
    "\n",
    "NumPy is a powerful Python package for numerical computations. It provides efficient arrays (ndarrays) for handling large datasets and offers a wide range of mathematical functions for array operations. NumPy is a fundamental tool for scientific computing, machine learning, and data analysis due to its speed and versatility."
   ]
  },
  {
   "cell_type": "markdown",
   "id": "684e1098",
   "metadata": {},
   "source": [
    "## Installing Numpy and Conda\n",
    "Let's be organized people and start with installing Conda, which will help us install all dependancies on which our packages depend.\n",
    "### Conda"
   ]
  },
  {
   "cell_type": "markdown",
   "id": "025dedeb",
   "metadata": {},
   "source": [
    "Download the installer:\n",
    "\n",
    "https://docs.conda.io/en/latest/miniconda.html\n",
    "\n",
    "TMiniconda---In your terminal window, run:\n",
    "\n",
    "<code>bash Miniconda3-latest-MacOSX-x86_64.sh\n",
    "</code>\n",
    "Follow the prompts on the installer screens.\n",
    "\n",
    "If you are unsure about any setting, accept the defaults. You can change them later.\n",
    "\n",
    "To make the changes take effect, close and then re-open your terminal window.\n",
    "Test your installation. In your terminal window or Anaconda Prompt, run the command conda list. A list of installed packages appears if it has been installed correctly.\n",
    "\n",
    "**Further Reading (For those who like instruction Manuals)**: https://docs.conda.io/projects/conda/en/latest/user-guide/install/macos.html"
   ]
  },
  {
   "cell_type": "markdown",
   "id": "3abc25bd",
   "metadata": {},
   "source": [
    "---\n",
    "*Now that we've installed Conda, let's install Numpy and its dependancies.*\n",
    "\n",
    "Best practice, use an environment rather than install in the base environment\n",
    "\n",
    "<code>conda create -n my-env\n",
    "conda activate my-env<\\code>\n",
    "\n",
    "If you want to install from conda-forge\n",
    "    \n",
    "<code>conda config --env --add channels conda-forge<\\code>\n",
    "    \n",
    "The actual install command\n",
    "    \n",
    "<code>conda install numpy<\\code>\n",
    "    \n",
    "---"
   ]
  },
  {
   "cell_type": "markdown",
   "id": "f5b79298",
   "metadata": {},
   "source": [
    "## Import Numpy\n",
    "We begin by loading the package on our machine.\n",
    "\n",
    "This basic code snippet loads the packages (import) and gives it an abreviation (as) when we want to call functions defined within the package."
   ]
  },
  {
   "cell_type": "code",
   "execution_count": 4,
   "id": "3a9dbddc",
   "metadata": {},
   "outputs": [],
   "source": [
    "import numpy as np"
   ]
  },
  {
   "cell_type": "markdown",
   "id": "71dbdb2f",
   "metadata": {},
   "source": [
    "## Arrays\n",
    "\n",
    "In Python, an array is a data structure that can hold a collection of elements, typically of the same data type. It provides a way to store and manipulate multiple values under a single variable name. Arrays can be one-dimensional (lists), two-dimensional (matrices), or multi-dimensional, and they allow for efficient element-wise operations and memory management. \n",
    "\n",
    "### Example of an Array\n",
    "\n",
    "Define Array as A"
   ]
  },
  {
   "cell_type": "code",
   "execution_count": 10,
   "id": "c025dba1",
   "metadata": {},
   "outputs": [],
   "source": [
    "A = np.array([1,2,3])"
   ]
  },
  {
   "cell_type": "markdown",
   "id": "7d13d176",
   "metadata": {},
   "source": [
    "View Array by calling to \"object\" A via the print function"
   ]
  },
  {
   "cell_type": "code",
   "execution_count": null,
   "id": "35242018",
   "metadata": {},
   "outputs": [],
   "source": [
    "print(A)"
   ]
  },
  {
   "cell_type": "markdown",
   "id": "5169be1c",
   "metadata": {},
   "source": [
    "Each object in a programming language, such as python, can be defined as a data field that has unique attributes and behavior.  In particular, **Numpy arrays** are one such type of objects which we can visualize as \"multidimensional arrays\".  These multidimensional arrays generalize vectors (1D), matrices (2D), elementary tensors (3D), etc..\n",
    "\n",
    "We can check the \"type\" of object we are dealing with using the type() command."
   ]
  },
  {
   "cell_type": "code",
   "execution_count": 11,
   "id": "a318cd8e",
   "metadata": {},
   "outputs": [
    {
     "data": {
      "text/plain": [
       "numpy.ndarray"
      ]
     },
     "execution_count": 11,
     "metadata": {},
     "output_type": "execute_result"
    }
   ],
   "source": [
    "type(A)"
   ]
  },
  {
   "cell_type": "markdown",
   "id": "e3472b9d",
   "metadata": {},
   "source": [
    "## Lists\n",
    "\n",
    "In Python, a list is a built-in data structure that can hold a collection of values, which can be of different data types. Lists are dynamic and versatile, allowing for easy addition, removal, and modification of elements. They are defined using square brackets [] and can contain elements like numbers, strings, or even other lists.\n",
    "\n",
    "On the other hand, an array in Python usually refers to the arrays provided by the NumPy library. While lists are part of Python's core, NumPy arrays are a part of the NumPy library and offer more specialized functionality for numerical computations. "
   ]
  },
  {
   "cell_type": "markdown",
   "id": "6e8c0488",
   "metadata": {},
   "source": [
    "Let's make a list by converting our array A into a list object"
   ]
  },
  {
   "cell_type": "code",
   "execution_count": 14,
   "id": "6edaa100",
   "metadata": {},
   "outputs": [
    {
     "data": {
      "text/plain": [
       "[1, 2, 3]"
      ]
     },
     "execution_count": 14,
     "metadata": {},
     "output_type": "execute_result"
    }
   ],
   "source": [
    "A_list = A.tolist()"
   ]
  },
  {
   "cell_type": "markdown",
   "id": "d409002b",
   "metadata": {},
   "source": [
    "Let's view and print our list"
   ]
  },
  {
   "cell_type": "code",
   "execution_count": 18,
   "id": "6ab3a6e6",
   "metadata": {},
   "outputs": [
    {
     "name": "stdout",
     "output_type": "stream",
     "text": [
      "A as a List:\n",
      "[1, 2, 3]\n",
      "View A_list directly\n"
     ]
    },
    {
     "data": {
      "text/plain": [
       "[1, 2, 3]"
      ]
     },
     "execution_count": 18,
     "metadata": {},
     "output_type": "execute_result"
    }
   ],
   "source": [
    "print('A as a List:')\n",
    "print(A_list)\n",
    "print('View A_list directly')\n",
    "A_list"
   ]
  },
  {
   "cell_type": "markdown",
   "id": "9c0eeba7",
   "metadata": {},
   "source": [
    "**Pro-Tip**: *Giving long and discriptive names will actually keep things organized.  Especially, when you open a code you have not worked on in a while or when passing it to a colleague for a downstream task.*"
   ]
  },
  {
   "cell_type": "markdown",
   "id": "02855554",
   "metadata": {},
   "source": [
    "---\n",
    "\n",
    "### Key Differences between lists and arrays \n",
    "\n",
    "*Here are some key differences between lists and NumPy arrays:*\n",
    "\n",
    "1. Data Type: In a list, elements can have different data types. In NumPy arrays, all elements must have the same data type, which allows for optimized memory usage and faster computations.\n",
    "\n",
    "2. Performance: NumPy arrays are more memory-efficient and performant than Python lists for numerical computations due to their fixed data type and memory layout. They are implemented in C and optimized for numerical operations.\n",
    "\n",
    "3. Vectorized Operations: NumPy arrays support vectorized operations, where you can apply operations to entire arrays without explicitly writing loops. This makes complex mathematical operations more concise and efficient.\n",
    "\n",
    "4. Multidimensionality: While Python lists can hold nested lists to create multi-dimensional structures, NumPy arrays are specifically designed for handling multi-dimensional data, like matrices or higher-dimensional arrays, making them more suitable for mathematical operations.\n",
    "\n",
    "5. Functionality: NumPy provides a wide range of mathematical functions and operations that are optimized for arrays, making it a powerful tool for scientific computing, machine learning, and data analysis. Python lists offer more general-purpose functionality.\n",
    "\n",
    "In summary, Python lists are general-purpose and flexible data structures, while NumPy arrays are specialized for numerical computations and offer better performance and functionality for these tasks."
   ]
  },
  {
   "cell_type": "markdown",
   "id": "46d0a937",
   "metadata": {},
   "source": [
    "I'm going to focus on Numpy Arrays and how we can process their information via some elementary mathematical operations.\n",
    "\n",
    "# Elemetary operations on Numpy arrays"
   ]
  },
  {
   "cell_type": "markdown",
   "id": "b0369f9b",
   "metadata": {},
   "source": [
    "Let's create a new array by adding a float \"1\" to each entry of the numpy array A."
   ]
  },
  {
   "cell_type": "code",
   "execution_count": 22,
   "id": "e0a29103",
   "metadata": {},
   "outputs": [
    {
     "data": {
      "text/plain": [
       "array([2, 3, 4])"
      ]
     },
     "execution_count": 22,
     "metadata": {},
     "output_type": "execute_result"
    }
   ],
   "source": [
    "# Perform Operation\n",
    "A_plus1 = A+1\n",
    "\n",
    "# View Result\n",
    "A_plus1"
   ]
  },
  {
   "cell_type": "markdown",
   "id": "b1262c54",
   "metadata": {},
   "source": [
    "We can multiply two arrays of the same dimension, componentwise."
   ]
  },
  {
   "cell_type": "code",
   "execution_count": 24,
   "id": "7222ff66",
   "metadata": {},
   "outputs": [
    {
     "data": {
      "text/plain": [
       "array([ 2,  6, 12])"
      ]
     },
     "execution_count": 24,
     "metadata": {},
     "output_type": "execute_result"
    }
   ],
   "source": [
    "A*A_plus1"
   ]
  },
  {
   "cell_type": "markdown",
   "id": "1498b526",
   "metadata": {},
   "source": [
    "We can divide two arrays of the same dimension, componentwise."
   ]
  },
  {
   "cell_type": "code",
   "execution_count": 26,
   "id": "734e7474",
   "metadata": {},
   "outputs": [
    {
     "data": {
      "text/plain": [
       "array([0.5       , 0.66666667, 0.75      ])"
      ]
     },
     "execution_count": 26,
     "metadata": {},
     "output_type": "execute_result"
    }
   ],
   "source": [
    "A/A_plus1"
   ]
  },
  {
   "cell_type": "markdown",
   "id": "b7173ceb",
   "metadata": {},
   "source": [
    "We can exponentiate an array by a scalar, or *componentwise* by an array of scalars."
   ]
  },
  {
   "cell_type": "code",
   "execution_count": 28,
   "id": "4107a403",
   "metadata": {},
   "outputs": [
    {
     "name": "stdout",
     "output_type": "stream",
     "text": [
      "A raised to the square\n",
      "[1 4 9]\n",
      "\n",
      "A raised to A_plus1\n"
     ]
    },
    {
     "data": {
      "text/plain": [
       "array([ 1,  8, 81])"
      ]
     },
     "execution_count": 28,
     "metadata": {},
     "output_type": "execute_result"
    }
   ],
   "source": [
    "print('A raised to the square')\n",
    "print(A**2)\n",
    "\n",
    "print('') # This is just used to create space and make the readout more legible.\n",
    "\n",
    "print('A raised to A_plus1')\n",
    "print(A**A_plus1)"
   ]
  },
  {
   "cell_type": "code",
   "execution_count": null,
   "id": "99d3289a",
   "metadata": {},
   "outputs": [],
   "source": []
  }
 ],
 "metadata": {
  "kernelspec": {
   "display_name": "Python 3 (ipykernel)",
   "language": "python",
   "name": "python3"
  },
  "language_info": {
   "codemirror_mode": {
    "name": "ipython",
    "version": 3
   },
   "file_extension": ".py",
   "mimetype": "text/x-python",
   "name": "python",
   "nbconvert_exporter": "python",
   "pygments_lexer": "ipython3",
   "version": "3.9.12"
  }
 },
 "nbformat": 4,
 "nbformat_minor": 5
}
