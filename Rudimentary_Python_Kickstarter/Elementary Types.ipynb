{
 "cells": [
  {
   "cell_type": "markdown",
   "id": "6f21c25c",
   "metadata": {},
   "source": [
    "![Image of Yaktocat](https://miro.medium.com/v2/resize:fit:705/0*SpprfEyaZaWE_Pez)\n",
    "\n",
    "---\n",
    "# About this Numpy Notebook\n",
    "\n",
    "Welcome to this Jupyter Notebook introduction to NumPy basics!\n",
    "\n",
    "NumPy, short for \"Numerical Python,\" is a fundamental library in Python for numerical computations. It provides powerful tools to work with arrays and matrices, enabling efficient mathematical operations and data manipulation. It provides efficient arrays (ndarrays) for handling large datasets and offers a wide range of mathematical functions for array operations. NumPy is a fundamental tool for scientific computing, machine learning, and data analysis due to its speed and versatility.\n",
    "\n",
    "\n",
    "1. **Importing Conda and NumPy**: To get started, import NumPy using the following line of code:\n",
    "   ```python\n",
    "   import numpy as np\n",
    "   ```\n",
    "\n",
    "2. **Creating Arrays**: Create NumPy arrays using `np.array()` or specialized functions like `np.zeros()`, `np.ones()`, or `np.arange()`.\n",
    "\n",
    "3. **Array Properties**: Learn about array attributes such as shape and dimensionality.  We also compare against other data type.\n",
    "\n",
    "4. **Array Operations**: Perform element-wise operations, mathematical calculations, and broadcasting with arrays.\n",
    "\n",
    "5. **Indexing and Slicing**: Access and manipulate array elements using indexing and slicing, similar to Python lists.\n",
    "\n",
    "6. **Array Reshaping**: Change the shape of arrays using `np.reshape()` or functions like `np.flatten()` and `np.ravel()`.\n",
    "\n",
    "7. **Array Concatenation and Splitting**: Combine arrays using `np.concatenate()` and split them using `np.split()`.\n",
    "\n",
    "NumPy forms the backbone of many scientific and data analysis tasks, making it an essential skill for researchers, data scientists, and engineers. Let's dive into these concepts and unlock the potential of NumPy for your numerical computations!\n",
    "\n",
    "---"
   ]
  },
  {
   "cell_type": "markdown",
   "id": "684e1098",
   "metadata": {},
   "source": [
    "## 1. Installing Numpy and Conda\n",
    "Let's be organized people and start with installing Conda, which will help us install all dependancies on which our packages depend.\n",
    "### Conda"
   ]
  },
  {
   "cell_type": "markdown",
   "id": "025dedeb",
   "metadata": {},
   "source": [
    "Download the installer:\n",
    "\n",
    "https://docs.conda.io/en/latest/miniconda.html\n",
    "\n",
    "TMiniconda---In your terminal window, run:\n",
    "\n",
    "<code>bash Miniconda3-latest-MacOSX-x86_64.sh\n",
    "</code>\n",
    "Follow the prompts on the installer screens.\n",
    "\n",
    "If you are unsure about any setting, accept the defaults. You can change them later.\n",
    "\n",
    "To make the changes take effect, close and then re-open your terminal window.\n",
    "Test your installation. In your terminal window or Anaconda Prompt, run the command conda list. A list of installed packages appears if it has been installed correctly.\n",
    "\n",
    "**Further Reading (For those who like instruction Manuals)**: https://docs.conda.io/projects/conda/en/latest/user-guide/install/macos.html"
   ]
  },
  {
   "cell_type": "markdown",
   "id": "3abc25bd",
   "metadata": {},
   "source": [
    "---\n",
    "*Now that we've installed Conda, let's install Numpy and its dependancies.*\n",
    "\n",
    "Best practice, use an environment rather than install in the base environment\n",
    "\n",
    "<code>conda create -n my-env\n",
    "conda activate my-env<\\code>\n",
    "\n",
    "If you want to install from conda-forge\n",
    "    \n",
    "<code>conda config --env --add channels conda-forge<\\code>\n",
    "    \n",
    "The actual install command\n",
    "    \n",
    "<code>conda install numpy<\\code>\n",
    "    \n",
    "---"
   ]
  },
  {
   "cell_type": "markdown",
   "id": "f5b79298",
   "metadata": {},
   "source": [
    "## Import Numpy\n",
    "We begin by loading the package on our machine.\n",
    "\n",
    "This basic code snippet loads the packages (import) and gives it an abreviation (as) when we want to call functions defined within the package."
   ]
  },
  {
   "cell_type": "code",
   "execution_count": 4,
   "id": "3a9dbddc",
   "metadata": {},
   "outputs": [],
   "source": [
    "import numpy as np"
   ]
  },
  {
   "cell_type": "markdown",
   "id": "b3f7494e",
   "metadata": {},
   "source": [
    "---\n",
    "\n",
    "## 2. Creating Arrays\n",
    "\n",
    "In Python, an array is a data structure that can hold a collection of elements, typically of the same data type. It provides a way to store and manipulate multiple values under a single variable name. Arrays can be one-dimensional (lists), two-dimensional (matrices), or multi-dimensional, and they allow for efficient element-wise operations and memory management. \n",
    "\n",
    "### Example of an Array\n",
    "\n",
    "Define Array as A"
   ]
  },
  {
   "cell_type": "code",
   "execution_count": 10,
   "id": "c025dba1",
   "metadata": {},
   "outputs": [],
   "source": [
    "A = np.array([1,2,3])"
   ]
  },
  {
   "cell_type": "markdown",
   "id": "1b2ad94c",
   "metadata": {},
   "source": [
    "View Array by calling to \"object\" A via the print function"
   ]
  },
  {
   "cell_type": "code",
   "execution_count": null,
   "id": "8ae03339",
   "metadata": {},
   "outputs": [],
   "source": [
    "print(A)"
   ]
  },
  {
   "cell_type": "markdown",
   "id": "43939937",
   "metadata": {},
   "source": [
    "Each object in a programming language, such as python, can be defined as a data field that has unique attributes and behavior.  In particular, **Numpy arrays** are one such type of objects which we can visualize as \"multidimensional arrays\".  These multidimensional arrays generalize vectors (1D), matrices (2D), elementary tensors (3D), etc..\n",
    "\n",
    "We can check the \"type\" of object we are dealing with using the type() command."
   ]
  },
  {
   "cell_type": "code",
   "execution_count": 11,
   "id": "9771c421",
   "metadata": {},
   "outputs": [
    {
     "data": {
      "text/plain": [
       "numpy.ndarray"
      ]
     },
     "execution_count": 11,
     "metadata": {},
     "output_type": "execute_result"
    }
   ],
   "source": [
    "type(A)"
   ]
  },
  {
   "cell_type": "markdown",
   "id": "e5fb5fe9",
   "metadata": {},
   "source": [
    "### Rapid Array Generation\n",
    "\n",
    "NumPy has some built-in functionality which helps us generate \"simple\" arrays rapidly and simply with a single function."
   ]
  },
  {
   "cell_type": "markdown",
   "id": "19933c2f",
   "metadata": {},
   "source": [
    "An array populated entirely by zeros can be generated as follows:"
   ]
  },
  {
   "cell_type": "code",
   "execution_count": 74,
   "id": "8c6d77b4",
   "metadata": {},
   "outputs": [
    {
     "data": {
      "text/plain": [
       "array([0., 0., 0., 0., 0.])"
      ]
     },
     "execution_count": 74,
     "metadata": {},
     "output_type": "execute_result"
    }
   ],
   "source": [
    "np.zeros(5)"
   ]
  },
  {
   "cell_type": "markdown",
   "id": "3fd9ec54",
   "metadata": {},
   "source": [
    "An array populated entirely by $1$s can be generated as follows:"
   ]
  },
  {
   "cell_type": "code",
   "execution_count": 78,
   "id": "5a5cc389",
   "metadata": {},
   "outputs": [
    {
     "data": {
      "text/plain": [
       "array([1., 1., 1., 1., 1., 1., 1., 1., 1., 1.])"
      ]
     },
     "execution_count": 78,
     "metadata": {},
     "output_type": "execute_result"
    }
   ],
   "source": [
    "np.ones(10)"
   ]
  },
  {
   "cell_type": "markdown",
   "id": "4076f8bb",
   "metadata": {},
   "source": [
    "An array populated entirely by a series of integerscan be generated as follows:"
   ]
  },
  {
   "cell_type": "code",
   "execution_count": 80,
   "id": "7a4da7e3",
   "metadata": {},
   "outputs": [
    {
     "data": {
      "text/plain": [
       "array([-5, -4, -3, -2, -1,  0,  1,  2,  3,  4,  5,  6,  7,  8,  9])"
      ]
     },
     "execution_count": 80,
     "metadata": {},
     "output_type": "execute_result"
    }
   ],
   "source": [
    "np.arange(-5,10)"
   ]
  },
  {
   "cell_type": "markdown",
   "id": "274df239",
   "metadata": {},
   "source": [
    "---\n",
    "\n",
    "## 3. Array Properties\n",
    "\n",
    "In this section, we'll explore important properties of NumPy arrays: **shape** and **dimensionality**."
   ]
  },
  {
   "cell_type": "markdown",
   "id": "66c6e69e",
   "metadata": {},
   "source": [
    "### Shape\n",
    "The **shape** of a NumPy array refers to the dimensions or sizes along each axis of the array. It is represented as a tuple indicating the number of elements along each axis. \n",
    "\n",
    "For example, our earlier array A is (3,), which we think of as \"Vector\" with three entires."
   ]
  },
  {
   "cell_type": "code",
   "execution_count": 34,
   "id": "47ddadc3",
   "metadata": {},
   "outputs": [
    {
     "name": "stdout",
     "output_type": "stream",
     "text": [
      "Shape of A: (3,)\n"
     ]
    }
   ],
   "source": [
    "print(\"Shape of A:\", A.shape)"
   ]
  },
  {
   "cell_type": "markdown",
   "id": "9b2cd5fb",
   "metadata": {},
   "source": [
    "Let's contrast against a \"2 Dimension\" matrix with 2 rows and 3 columns."
   ]
  },
  {
   "cell_type": "code",
   "execution_count": 37,
   "id": "32175b99",
   "metadata": {},
   "outputs": [
    {
     "name": "stdout",
     "output_type": "stream",
     "text": [
      "Shape of B_2d: (2, 3)\n"
     ]
    }
   ],
   "source": [
    "B_2d = np.array([[1, 2, 3], [4, 5, 6]])\n",
    "\n",
    "print(\"Shape of B_2d:\", B_2d.shape)"
   ]
  },
  {
   "cell_type": "markdown",
   "id": "d69c7ed6",
   "metadata": {},
   "source": [
    "### Dimensionality of an Array"
   ]
  },
  {
   "cell_type": "markdown",
   "id": "a0f63983",
   "metadata": {},
   "source": [
    "The **dimensionality** of an array refers to the number of axes or dimensions it has. A 1D array has one dimension, a 2D array has two dimensions, and so on. You can use the *'ndim'* attribute to find the dimensionality of an array.  Let's take a peek at some examples."
   ]
  },
  {
   "cell_type": "code",
   "execution_count": 39,
   "id": "ab980459",
   "metadata": {},
   "outputs": [
    {
     "name": "stdout",
     "output_type": "stream",
     "text": [
      "Dimensionality of array_1d: 1\n",
      "Dimensionality of array_2d: 2\n",
      "Dimensionality of array_3d: 3\n"
     ]
    }
   ],
   "source": [
    "# Create arrays of different dimensions\n",
    "array_1d = np.array([1, 2, 3])\n",
    "array_2d = np.array([[1, 2, 3], [4, 5, 6]])\n",
    "array_3d = np.array([[[1, 2], [3, 4]], [[5, 6], [7, 8]]])\n",
    "\n",
    "# Print the dimensionality of the arrays\n",
    "print(\"Dimensionality of array_1d:\", array_1d.ndim)  # Output: 1\n",
    "print(\"Dimensionality of array_2d:\", array_2d.ndim)  # Output: 2\n",
    "print(\"Dimensionality of array_3d:\", array_3d.ndim)  # Output: 3"
   ]
  },
  {
   "cell_type": "markdown",
   "id": "9b5193e7",
   "metadata": {},
   "source": [
    "In this example, array_1d has 1 dimension, array_2d has 2 dimensions, and array_3d has 3 dimensions.\n",
    "\n",
    "Understanding these properties is crucial when working with arrays, as they determine how data is organized and accessed within the array.\n",
    "\n",
    "Now that we've covered array shape and dimensionality, let's move on to performing operations on arrays!"
   ]
  },
  {
   "cell_type": "markdown",
   "id": "3e77075d",
   "metadata": {},
   "source": [
    "### A brief constrast against the \"Lists\" object type\n",
    "\n",
    "In Python, a list is a built-in data structure that can hold a collection of values, which can be of different data types. Lists are dynamic and versatile, allowing for easy addition, removal, and modification of elements. They are defined using square brackets [] and can contain elements like numbers, strings, or even other lists.\n",
    "\n",
    "On the other hand, an array in Python usually refers to the arrays provided by the NumPy library. While lists are part of Python's core, NumPy arrays are a part of the NumPy library and offer more specialized functionality for numerical computations. "
   ]
  },
  {
   "cell_type": "markdown",
   "id": "eb6024eb",
   "metadata": {},
   "source": [
    "Let's make a list by converting our array A into a list object"
   ]
  },
  {
   "cell_type": "code",
   "execution_count": 14,
   "id": "c05d9514",
   "metadata": {},
   "outputs": [
    {
     "data": {
      "text/plain": [
       "[1, 2, 3]"
      ]
     },
     "execution_count": 14,
     "metadata": {},
     "output_type": "execute_result"
    }
   ],
   "source": [
    "A_list = A.tolist()"
   ]
  },
  {
   "cell_type": "markdown",
   "id": "0847ad34",
   "metadata": {},
   "source": [
    "Let's view and print our list"
   ]
  },
  {
   "cell_type": "code",
   "execution_count": 18,
   "id": "8674c854",
   "metadata": {},
   "outputs": [
    {
     "name": "stdout",
     "output_type": "stream",
     "text": [
      "A as a List:\n",
      "[1, 2, 3]\n",
      "View A_list directly\n"
     ]
    },
    {
     "data": {
      "text/plain": [
       "[1, 2, 3]"
      ]
     },
     "execution_count": 18,
     "metadata": {},
     "output_type": "execute_result"
    }
   ],
   "source": [
    "print('A as a List:')\n",
    "print(A_list)\n",
    "print('View A_list directly')\n",
    "A_list"
   ]
  },
  {
   "cell_type": "markdown",
   "id": "b00a5809",
   "metadata": {},
   "source": [
    "**Pro-Tip**: *Giving long and discriptive names will actually keep things organized.  Especially, when you open a code you have not worked on in a while or when passing it to a colleague for a downstream task.*"
   ]
  },
  {
   "cell_type": "markdown",
   "id": "d4754e86",
   "metadata": {},
   "source": [
    "---\n",
    "\n",
    "### Key Differences between lists and arrays \n",
    "\n",
    "*Here are some key differences between lists and NumPy arrays:*\n",
    "\n",
    "1. Data Type: In a list, elements can have different data types. In NumPy arrays, all elements must have the same data type, which allows for optimized memory usage and faster computations.\n",
    "\n",
    "2. Performance: NumPy arrays are more memory-efficient and performant than Python lists for numerical computations due to their fixed data type and memory layout. They are implemented in C and optimized for numerical operations.\n",
    "\n",
    "3. Vectorized Operations: NumPy arrays support vectorized operations, where you can apply operations to entire arrays without explicitly writing loops. This makes complex mathematical operations more concise and efficient.\n",
    "\n",
    "4. Multidimensionality: While Python lists can hold nested lists to create multi-dimensional structures, NumPy arrays are specifically designed for handling multi-dimensional data, like matrices or higher-dimensional arrays, making them more suitable for mathematical operations.\n",
    "\n",
    "5. Functionality: NumPy provides a wide range of mathematical functions and operations that are optimized for arrays, making it a powerful tool for scientific computing, machine learning, and data analysis. Python lists offer more general-purpose functionality.\n",
    "\n",
    "In summary, Python lists are general-purpose and flexible data structures, while NumPy arrays are specialized for numerical computations and offer better performance and functionality for these tasks."
   ]
  },
  {
   "cell_type": "markdown",
   "id": "274e5b45",
   "metadata": {},
   "source": [
    "I'm going to focus on Numpy Arrays and how we can process their information via some elementary mathematical operations.\n",
    "\n",
    "# 4. Array Operations"
   ]
  },
  {
   "cell_type": "markdown",
   "id": "abf646c7",
   "metadata": {},
   "source": [
    "Let's create a new array by adding a float \"1\" to each entry of the numpy array A."
   ]
  },
  {
   "cell_type": "code",
   "execution_count": 22,
   "id": "e297789e",
   "metadata": {},
   "outputs": [
    {
     "data": {
      "text/plain": [
       "array([2, 3, 4])"
      ]
     },
     "execution_count": 22,
     "metadata": {},
     "output_type": "execute_result"
    }
   ],
   "source": [
    "# Perform Operation\n",
    "A_plus1 = A+1\n",
    "\n",
    "# View Result\n",
    "A_plus1"
   ]
  },
  {
   "cell_type": "markdown",
   "id": "dba9f654",
   "metadata": {},
   "source": [
    "We can multiply two arrays of the same dimension, componentwise."
   ]
  },
  {
   "cell_type": "code",
   "execution_count": 24,
   "id": "f1568616",
   "metadata": {},
   "outputs": [
    {
     "data": {
      "text/plain": [
       "array([ 2,  6, 12])"
      ]
     },
     "execution_count": 24,
     "metadata": {},
     "output_type": "execute_result"
    }
   ],
   "source": [
    "A*A_plus1"
   ]
  },
  {
   "cell_type": "markdown",
   "id": "db3e4e87",
   "metadata": {},
   "source": [
    "We can divide two arrays of the same dimension, componentwise."
   ]
  },
  {
   "cell_type": "code",
   "execution_count": 26,
   "id": "0a8ab8b7",
   "metadata": {},
   "outputs": [
    {
     "data": {
      "text/plain": [
       "array([0.5       , 0.66666667, 0.75      ])"
      ]
     },
     "execution_count": 26,
     "metadata": {},
     "output_type": "execute_result"
    }
   ],
   "source": [
    "A/A_plus1"
   ]
  },
  {
   "cell_type": "markdown",
   "id": "cfe5a614",
   "metadata": {},
   "source": [
    "We can exponentiate an array by a scalar, or *componentwise* by an array of scalars."
   ]
  },
  {
   "cell_type": "code",
   "execution_count": 29,
   "id": "6e29c52b",
   "metadata": {},
   "outputs": [
    {
     "name": "stdout",
     "output_type": "stream",
     "text": [
      "A raised to the square\n",
      "[1 4 9]\n",
      "\n",
      "A raised to A_plus1\n",
      "[ 1  8 81]\n"
     ]
    }
   ],
   "source": [
    "print('A raised to the square')\n",
    "print(A**2)\n",
    "\n",
    "print('') # This is just used to create space and make the readout more legible.\n",
    "\n",
    "print('A raised to A_plus1')\n",
    "print(A**A_plus1)"
   ]
  },
  {
   "cell_type": "markdown",
   "id": "e0f87fbc",
   "metadata": {},
   "source": [
    "We can also apply built-in functions to a numpy array.\n",
    "\n",
    "**Note:** *(We will come back to designing custom functions later.)*"
   ]
  },
  {
   "cell_type": "code",
   "execution_count": 31,
   "id": "25285d9c",
   "metadata": {},
   "outputs": [
    {
     "data": {
      "text/plain": [
       "array([-0.41614684, -0.9899925 , -0.65364362])"
      ]
     },
     "execution_count": 31,
     "metadata": {},
     "output_type": "execute_result"
    }
   ],
   "source": [
    "np.cos(A_plus1)"
   ]
  },
  {
   "cell_type": "markdown",
   "id": "6ee2d410",
   "metadata": {},
   "source": [
    "## 5. Indexing and Slicing"
   ]
  },
  {
   "cell_type": "markdown",
   "id": "442baa7e",
   "metadata": {},
   "source": [
    "Let's explore how to access and manipulate elements within NumPy arrays using indexing and slicing."
   ]
  },
  {
   "cell_type": "markdown",
   "id": "74960cc7",
   "metadata": {},
   "source": [
    "### Indexing Elements"
   ]
  },
  {
   "cell_type": "markdown",
   "id": "4339d00b",
   "metadata": {},
   "source": [
    "You can access individual elements of a NumPy array using square brackets `[]` and providing the indices of the element you want to access. Remember that indexing in Python is zero-based, meaning the first element is at index 0."
   ]
  },
  {
   "cell_type": "code",
   "execution_count": 46,
   "id": "b65366a8",
   "metadata": {},
   "outputs": [
    {
     "name": "stdout",
     "output_type": "stream",
     "text": [
      "first element: 1\n",
      "third element: 3\n"
     ]
    }
   ],
   "source": [
    "# Access elements using indexing\n",
    "first_element = A[0]\n",
    "print('first element: '+str(first_element))\n",
    "\n",
    "third_element = A[2]\n",
    "\n",
    "print('third element: '+str(third_element))"
   ]
  },
  {
   "cell_type": "markdown",
   "id": "786d6cf1",
   "metadata": {},
   "source": [
    "### Slicing Arrays"
   ]
  },
  {
   "cell_type": "markdown",
   "id": "e669b010",
   "metadata": {},
   "source": [
    "Slicing allows you to extract a portion of an array by specifying a range of indices. The syntax for slicing is `[start:end]`, where `start` is the index of the first element you want to include, and `end` is the index just after the last element you want to include. The sliced range includes elements from `start` up to, but not including, `end`."
   ]
  },
  {
   "cell_type": "code",
   "execution_count": 51,
   "id": "ab0f40b4",
   "metadata": {},
   "outputs": [
    {
     "name": "stdout",
     "output_type": "stream",
     "text": [
      "Basic Slicing: [1]\n",
      "Step: [1 2 3]\n",
      "Negative Indices: [3 2 1]\n"
     ]
    }
   ],
   "source": [
    "# Basic slicing\n",
    "A_subset = A[0:1] \n",
    "print('Basic Slicing: '+str(A_subset))\n",
    "\n",
    "# Slicing with step\n",
    "A_every_other = A[::1]\n",
    "print('Step: '+str(A_every_other))\n",
    "\n",
    "# Slicing with negative indices\n",
    "A_reverse = A[::-1] \n",
    "print('Negative Indices: '+str(A_reverse))"
   ]
  },
  {
   "cell_type": "markdown",
   "id": "d0a25902",
   "metadata": {},
   "source": [
    "**Note:** *Keep in mind that the start index is inclusive, and the end index is exclusive when slicing.*"
   ]
  },
  {
   "cell_type": "markdown",
   "id": "0d2eb892",
   "metadata": {},
   "source": [
    "---"
   ]
  },
  {
   "cell_type": "markdown",
   "id": "a8513d95",
   "metadata": {},
   "source": [
    "## 6. Reshaping NumPy Arrays\n",
    "Next, we'll learn how to reshape NumPy arrays, changing their dimensions while maintaining the same data."
   ]
  },
  {
   "cell_type": "markdown",
   "id": "38edefb2",
   "metadata": {},
   "source": [
    "### Basic Reshaping\n",
    "\n",
    "You can reshape an array using the `reshape()` method. This method takes a new shape as an argument, specified as a tuple.\n"
   ]
  },
  {
   "cell_type": "code",
   "execution_count": 55,
   "id": "14154356",
   "metadata": {},
   "outputs": [
    {
     "name": "stdout",
     "output_type": "stream",
     "text": [
      "Reshaped B_2d:\n",
      "[[1 2 3]\n",
      " [4 5 6]]\n"
     ]
    }
   ],
   "source": [
    "# Reshape to a 2D array (2 rows, 3 columns)\n",
    "reshaped__B_2d = B_2d.reshape((2, 3))\n",
    "print('Reshaped B_2d:')\n",
    "print(reshaped__B_2d)"
   ]
  },
  {
   "cell_type": "markdown",
   "id": "03f60839",
   "metadata": {},
   "source": [
    "### Special Reshaping\n",
    "\n",
    "NumPy also provides special reshaping functions like `reshape()` and `flatten()`."
   ]
  },
  {
   "cell_type": "code",
   "execution_count": 59,
   "id": "42f3ccae",
   "metadata": {},
   "outputs": [
    {
     "name": "stdout",
     "output_type": "stream",
     "text": [
      "Our frind B_2d has been completely flattened:\n",
      "[1 2 3 4 5 6]\n"
     ]
    }
   ],
   "source": [
    "# Flatten the array (convert to 1D)\n",
    "flattened__B_2d = B_2d.flatten()\n",
    "print('Our frind B_2d has been completely flattened:')\n",
    "print(flattened__B_2d)"
   ]
  },
  {
   "cell_type": "markdown",
   "id": "1a368026",
   "metadata": {},
   "source": [
    "### Changing Dimensionality\n",
    "\n",
    "Reshaping allows changing the dimensionality while keeping the total number of elements the same.  We will now transform our friend B_2d into a \"three dimensional array\" with 2 rows, 1 column, and 3 entires in its 3rd dimension, respectively."
   ]
  },
  {
   "cell_type": "code",
   "execution_count": 66,
   "id": "4bd17c7d",
   "metadata": {},
   "outputs": [
    {
     "data": {
      "text/plain": [
       "array([[[1, 2, 3]],\n",
       "\n",
       "       [[4, 5, 6]]])"
      ]
     },
     "execution_count": 66,
     "metadata": {},
     "output_type": "execute_result"
    }
   ],
   "source": [
    "B_2d.reshape((2, 1, 3))"
   ]
  },
  {
   "cell_type": "markdown",
   "id": "6d380c9c",
   "metadata": {},
   "source": [
    "# 7. Concatenation and Splitting"
   ]
  },
  {
   "cell_type": "markdown",
   "id": "820bf45e",
   "metadata": {},
   "source": [
    "Let's now see how two or more numpy arrays a can be joined together, or \"concatenated\".  Likewise, we now see how one array can be made, or \"split\", into several ones, efficiently using NumPy's built-in functionality.\n",
    "\n",
    "### Concatenating Arrays\n",
    "\n",
    "Concatenation is the process of combining two or more arrays to create a single array. NumPy provides the `np.concatenate()` function to achieve this."
   ]
  },
  {
   "cell_type": "code",
   "execution_count": 70,
   "id": "595ef66d",
   "metadata": {},
   "outputs": [
    {
     "name": "stdout",
     "output_type": "stream",
     "text": [
      "Our friends A and A_plus1 have been merged:\n",
      "[1 2 3 2 3 4]\n"
     ]
    }
   ],
   "source": [
    "# Concatenating\n",
    "concatenated = np.concatenate((A, A_plus1))\n",
    "\n",
    "# Readout\n",
    "print('Our friends A and A_plus1 have been merged:')\n",
    "print(concatenated)"
   ]
  },
  {
   "cell_type": "markdown",
   "id": "af1dc499",
   "metadata": {},
   "source": [
    "### Splitting Arrays\n",
    "\n",
    "Splitting divides a single array into multiple smaller arrays. The `np.split()` function is used for this purpose."
   ]
  },
  {
   "cell_type": "code",
   "execution_count": 72,
   "id": "9bd0cb58",
   "metadata": {},
   "outputs": [
    {
     "name": "stdout",
     "output_type": "stream",
     "text": [
      "Our poor friend A has been split into three parts:\n",
      "[array([1]), array([2]), array([3])]\n"
     ]
    }
   ],
   "source": [
    "# Split into three arrays\n",
    "split_arrays = np.split(A, 3)\n",
    "\n",
    "# Readout\n",
    "print('Our poor friend A has been split into three parts:')\n",
    "print(split_arrays)"
   ]
  },
  {
   "cell_type": "markdown",
   "id": "d229a6c5",
   "metadata": {},
   "source": [
    "You can also specify the indices at which the split should occur using the `indices_or_sections` argument."
   ]
  },
  {
   "cell_type": "code",
   "execution_count": 73,
   "id": "6619cb82",
   "metadata": {},
   "outputs": [
    {
     "name": "stdout",
     "output_type": "stream",
     "text": [
      "Our poor friend A has been split into three parts...again:\n",
      "[array([1]), array([2]), array([3])]\n"
     ]
    }
   ],
   "source": [
    "# Split at specific indices\n",
    "split_indices = np.split(A, [1, 2])\n",
    "\n",
    "# Readout\n",
    "print('Our poor friend A has been split into three parts...again:')\n",
    "print(split_indices)"
   ]
  },
  {
   "cell_type": "markdown",
   "id": "2135c9b8",
   "metadata": {},
   "source": [
    "---\n",
    "# Fin\n",
    "---"
   ]
  }
 ],
 "metadata": {
  "kernelspec": {
   "display_name": "Python 3 (ipykernel)",
   "language": "python",
   "name": "python3"
  },
  "language_info": {
   "codemirror_mode": {
    "name": "ipython",
    "version": 3
   },
   "file_extension": ".py",
   "mimetype": "text/x-python",
   "name": "python",
   "nbconvert_exporter": "python",
   "pygments_lexer": "ipython3",
   "version": "3.9.12"
  }
 },
 "nbformat": 4,
 "nbformat_minor": 5
}
