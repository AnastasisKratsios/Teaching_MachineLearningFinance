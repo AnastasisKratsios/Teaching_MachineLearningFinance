{
 "cells": [
  {
   "cell_type": "markdown",
   "metadata": {},
   "source": [
    "# Regression II:\n",
    " - Random Feature Models\n",
    " - Ridge Regression\n",
    " - Cross-Validation\n",
    " - XGBoost\n",
    " \n",
    " ---\n",
    " "
   ]
  },
  {
   "cell_type": "markdown",
   "metadata": {},
   "source": [
    "We'll do two experiments.\n",
    "\n",
    "- Experiment A: Try to predict Google's stock using a historical rolling window.\n",
    "\n",
    "- Experiment B: Try to predict Google's stock using Apple's stock.\n",
    "\n",
    "---\n",
    "\n",
    "**Notes:**\n",
    "Play around with some hyperparameters and see how the experiment's results change.  E.g.\n",
    "\n",
    " - The feature space's dimension,\n",
    " - The test set's size..."
   ]
  },
  {
   "cell_type": "code",
   "execution_count": 1,
   "metadata": {},
   "outputs": [],
   "source": [
    "# Set True for Experiment A and False for Experiment B!\n",
    "Experiment_A = False"
   ]
  },
  {
   "cell_type": "markdown",
   "metadata": {},
   "source": [
    "Do we predict the price itself, or the price movement?  I.e. $X_t$ vs. the *logarithmic returns* $\\log(\\frac{X_{t+1}}{X_t})$?"
   ]
  },
  {
   "cell_type": "code",
   "execution_count": 2,
   "metadata": {},
   "outputs": [],
   "source": [
    "Log_Returns = False"
   ]
  },
  {
   "cell_type": "markdown",
   "metadata": {},
   "source": [
    "## Getting Started\n",
    "Let's start with the basics and some artificial data!"
   ]
  },
  {
   "cell_type": "markdown",
   "metadata": {},
   "source": [
    "### Initializations"
   ]
  },
  {
   "cell_type": "markdown",
   "metadata": {},
   "source": [
    "Initialize/Import some basic packages\n",
    "\n",
    "*Make sure to comment your code so you can remember what it does in 2+ days :P*"
   ]
  },
  {
   "cell_type": "code",
   "execution_count": 3,
   "metadata": {},
   "outputs": [],
   "source": [
    "import numpy as np\n",
    "import matplotlib.pyplot as plt\n",
    "import seaborn as sns\n",
    "import pandas as pd\n",
    "import math\n",
    "\n",
    "# Let's ignore warnings (they're annoying and we know what's up)\n",
    "import warnings\n",
    "warnings.filterwarnings(\"ignore\")\n",
    "\n",
    "# Some HTML commands for the notebook\n",
    "from IPython.display import Image\n",
    "from IPython.core.display import HTML"
   ]
  },
  {
   "cell_type": "markdown",
   "metadata": {},
   "source": [
    "ML Models"
   ]
  },
  {
   "cell_type": "code",
   "execution_count": 4,
   "metadata": {},
   "outputs": [],
   "source": [
    "from sklearn.linear_model import LinearRegression"
   ]
  },
  {
   "cell_type": "markdown",
   "metadata": {},
   "source": [
    "Let's load our real data again."
   ]
  },
  {
   "cell_type": "code",
   "execution_count": 5,
   "metadata": {},
   "outputs": [],
   "source": [
    "# This package pulls, data from finance\n",
    "import yfinance as yf"
   ]
  },
  {
   "cell_type": "markdown",
   "metadata": {},
   "source": [
    "---"
   ]
  },
  {
   "cell_type": "markdown",
   "metadata": {},
   "source": [
    "Since we'll be randomizing things; we want our experiments to be reproducible...\n",
    "So let's set a seed!"
   ]
  },
  {
   "cell_type": "code",
   "execution_count": 6,
   "metadata": {},
   "outputs": [],
   "source": [
    "import random\n",
    "np.random.seed(2022) # Numpy uses a different (random) seed :/\n",
    "random.seed(2022)"
   ]
  },
  {
   "cell_type": "markdown",
   "metadata": {},
   "source": [
    "### Let's gather our hyperparameters here"
   ]
  },
  {
   "cell_type": "markdown",
   "metadata": {},
   "source": [
    "#### Size of Test Set"
   ]
  },
  {
   "cell_type": "code",
   "execution_count": 7,
   "metadata": {},
   "outputs": [],
   "source": [
    "# Number of testin points\n",
    "N_test = 200"
   ]
  },
  {
   "cell_type": "markdown",
   "metadata": {},
   "source": [
    "Shortly, we'll want to pick a large feature space dimension \"$F$\"."
   ]
  },
  {
   "cell_type": "markdown",
   "metadata": {},
   "source": [
    "#### Parameters for Random Feature Maps"
   ]
  },
  {
   "cell_type": "code",
   "execution_count": 8,
   "metadata": {},
   "outputs": [],
   "source": [
    "# Feature Space's Dimension\n",
    "dim_feature = 10**4\n",
    "\n",
    "# Radius for sampling random weights\n",
    "radius_weights = 0.25 # <- Should be positive\n",
    "# Radius for sampling random biases\n",
    "radius_bias = 1.1 # <- Should be bigger than 1"
   ]
  },
  {
   "cell_type": "markdown",
   "metadata": {},
   "source": [
    "#### Building and Training our Regression Model"
   ]
  },
  {
   "cell_type": "code",
   "execution_count": 9,
   "metadata": {},
   "outputs": [],
   "source": [
    "model_linReg = LinearRegression()"
   ]
  },
  {
   "cell_type": "markdown",
   "metadata": {},
   "source": [
    "As last week: \n",
    "We will pull, google stock's daily closing prices from Yahoo finance as covariates.\n",
    "The targets will be Google's next day price :)\n",
    "\n",
    "We'll train on a daily 5 year period!"
   ]
  },
  {
   "cell_type": "code",
   "execution_count": 10,
   "metadata": {},
   "outputs": [
    {
     "name": "stdout",
     "output_type": "stream",
     "text": [
      "[*********************100%***********************]  1 of 1 completed\n",
      "Tail\n",
      "                 Open       High        Low      Close  Adj Close    Volume\n",
      "Date                                                                       \n",
      "2020-12-23  86.405502  87.399498  86.251999  86.619003  86.619003  20676000\n",
      "2020-12-24  86.750000  87.300003  86.455498  86.942497  86.942497   6936000\n",
      "2020-12-28  87.581749  89.536400  87.316750  88.804497  88.804497  27860000\n",
      "2020-12-29  89.389503  89.622002  87.804497  87.935997  87.935997  25988000\n",
      "2020-12-30  88.100502  88.254753  86.279999  86.975998  86.975998  26122000\n",
      "Head\n",
      "                 Open       High        Low      Close  Adj Close     Volume\n",
      "Date                                                                        \n",
      "2008-01-02  17.257067  17.369146  16.879980  17.065783  17.065783  172921733\n",
      "2008-01-03  17.067528  17.107128  16.849842  17.069269  17.069269  130587647\n",
      "2008-01-04  16.928797  16.960428  16.313852  16.363665  16.363665  215195594\n",
      "2008-01-07  16.287451  16.495173  15.874249  16.170637  16.170637  257096061\n",
      "2008-01-08  16.264038  16.437389  15.716092  15.733029  15.733029  214364490\n"
     ]
    }
   ],
   "source": [
    "# Pull\n",
    "data_raw = yf.download('GOOG','2008-01-01','2020-12-31')\n",
    "# check\n",
    "print('Tail')\n",
    "print(data_raw.tail())\n",
    "print('Head')\n",
    "print(data_raw.head())"
   ]
  },
  {
   "cell_type": "code",
   "execution_count": 11,
   "metadata": {},
   "outputs": [],
   "source": [
    "# 1) Keep only the Closing Prices as covariates\n",
    "# 2) Convert to Dataframe type (Manipulation of data is easier for this object class; as opposed to numpy arrays)\n",
    "data_close = pd.DataFrame(data_raw.Close)"
   ]
  },
  {
   "cell_type": "markdown",
   "metadata": {},
   "source": [
    "Let's visualize things"
   ]
  },
  {
   "cell_type": "code",
   "execution_count": 12,
   "metadata": {},
   "outputs": [
    {
     "data": {
      "text/plain": [
       "[<matplotlib.lines.Line2D at 0x7f984fbf0ee0>]"
      ]
     },
     "execution_count": 12,
     "metadata": {},
     "output_type": "execute_result"
    },
    {
     "data": {
      "image/png": "[encoded data removed]",
      "text/plain": [
       "<Figure size 960x960 with 1 Axes>"
      ]
     },
     "metadata": {},
     "output_type": "display_data"
    }
   ],
   "source": [
    "# Activate Seaborn (<- this makes plots pretty :3)\n",
    "sns.set()\n",
    "# Set plot Size to display\n",
    "plt.figure(figsize=(12, 12), dpi=80)\n",
    "\n",
    "# Plot!\n",
    "plt.plot(data_close)"
   ]
  },
  {
   "cell_type": "code",
   "execution_count": 13,
   "metadata": {},
   "outputs": [
    {
     "name": "stdout",
     "output_type": "stream",
     "text": [
      "[*********************100%***********************]  1 of 1 completed\n",
      "Tail\n",
      "                 Open       High        Low      Close  Adj Close    Volume\n",
      "Date                                                                       \n",
      "2020-12-22  86.721497  86.870247  85.628754  86.175003  86.175003  18734000\n",
      "2020-12-23  86.405502  87.399498  86.251999  86.619003  86.619003  20676000\n",
      "2020-12-24  86.750000  87.300003  86.455498  86.942497  86.942497   6936000\n",
      "2020-12-28  87.581749  89.536400  87.316750  88.804497  88.804497  27860000\n",
      "2020-12-29  89.389503  89.622002  87.804497  87.935997  87.935997  25988000\n",
      "Head\n",
      "                 Open       High        Low      Close  Adj Close    Volume\n",
      "Date                                                                       \n",
      "2018-01-03  53.215500  54.314499  53.160500  54.124001  54.124001  28604000\n",
      "2018-01-04  54.400002  54.678501  54.200100  54.320000  54.320000  20092000\n",
      "2018-01-05  54.700001  55.212502  54.599998  55.111500  55.111500  25582000\n",
      "2018-01-08  55.111500  55.563499  55.081001  55.347000  55.347000  20952000\n",
      "2018-01-09  55.470001  55.528500  55.061550  55.313000  55.313000  18050000\n",
      "[*********************100%***********************]  1 of 1 completed\n",
      "Tail\n",
      "                  Open        High         Low       Close   Adj Close  \\\n",
      "Date                                                                     \n",
      "2020-12-21  125.019997  128.309998  123.449997  128.229996  126.919128   \n",
      "2020-12-22  131.610001  134.410004  129.649994  131.880005  130.531815   \n",
      "2020-12-23  132.160004  132.429993  130.779999  130.960007  129.621201   \n",
      "2020-12-24  131.320007  133.460007  131.100006  131.970001  130.620911   \n",
      "2020-12-28  133.990005  137.339996  133.509995  136.690002  135.292648   \n",
      "\n",
      "               Volume  \n",
      "Date                   \n",
      "2020-12-21  121251600  \n",
      "2020-12-22  168904800  \n",
      "2020-12-23   88223700  \n",
      "2020-12-24   54930100  \n",
      "2020-12-28  124486200  \n",
      "Head\n",
      "                 Open       High        Low      Close  Adj Close     Volume\n",
      "Date                                                                        \n",
      "2018-01-02  42.540001  43.075001  42.314999  43.064999  41.018417  102223600\n",
      "2018-01-03  43.132500  43.637501  42.990002  43.057499  41.011280  118071600\n",
      "2018-01-04  43.134998  43.367500  43.020000  43.257500  41.201782   89738400\n",
      "2018-01-05  43.360001  43.842499  43.262501  43.750000  41.670879   94640000\n",
      "2018-01-08  43.587502  43.902500  43.482498  43.587502  41.516109   82271200\n",
      "(753, 1)\n",
      "(753, 1)\n"
     ]
    }
   ],
   "source": [
    "if Experiment_A == True:\n",
    "    # The covariates \n",
    "    # The inputs will be the rolling average of the last 3 days\n",
    "    data = data_close\n",
    "    data['Rolling_Mean_Historical'] = data_close.shift(1).rolling(window=3).mean() \n",
    "    data = data.dropna()\n",
    "\n",
    "    # Lets divide things up into targets and covariates\n",
    "    Y = pd.DataFrame(data['Close'])\n",
    "    X = pd.DataFrame(data['Rolling_Mean_Historical'])\n",
    "else:\n",
    "    # Pull\n",
    "    Y_data_raw = yf.download('GOOG','2018-01-03','2020-12-30')\n",
    "    # check\n",
    "    print('Tail')\n",
    "    print(Y_data_raw.tail())\n",
    "    print('Head')\n",
    "    print(Y_data_raw.head())\n",
    "\n",
    "    # Pull Covariates\n",
    "    X_data_raw = yf.download('AAPL','2018-01-02','2020-12-29')\n",
    "    # check\n",
    "    print('Tail')\n",
    "    print(X_data_raw.tail())\n",
    "    print('Head')\n",
    "    print(X_data_raw.head())\n",
    "        \n",
    "        \n",
    "    #NB: This is the same as in lecture 0\n",
    "    \n",
    "    # 1) Keep only the Closing Prices as covariates\n",
    "    # 2) Convert to Dataframe type (Manipulation of data is easier for this object class; as opposed to numpy arrays)\n",
    "    Y = pd.DataFrame(Y_data_raw.Close)\n",
    "    X = pd.DataFrame(X_data_raw.Close)\n",
    "\n",
    "    # Just double-check arrays are of the same size (note Jan. 1rst is a holiday)\n",
    "    print(X.shape)\n",
    "    print(Y.shape)"
   ]
  },
  {
   "cell_type": "code",
   "execution_count": 14,
   "metadata": {},
   "outputs": [],
   "source": [
    "# Compute the log returns for X and for Y; NB we drop the first row since it is NAN by definition of the next command\n",
    "if Log_Returns == True:\n",
    "    # Compute the log return for X\n",
    "    X = np.log1p(X.pct_change()).dropna()\n",
    "    # Compute the log return for Y\n",
    "    Y = np.log1p(Y.pct_change()).dropna()"
   ]
  },
  {
   "cell_type": "markdown",
   "metadata": {},
   "source": [
    "Let's make the last 20 days \"invisible\" and use them as our testing set (we'll pretend those are the too be predicted prices!)."
   ]
  },
  {
   "cell_type": "code",
   "execution_count": 15,
   "metadata": {},
   "outputs": [
    {
     "name": "stdout",
     "output_type": "stream",
     "text": [
      "Check Train\n",
      "(553, 1)\n",
      "                Close\n",
      "Date                 \n",
      "2018-01-02  43.064999\n",
      "2018-01-03  43.057499\n",
      "2018-01-04  43.257500\n",
      "2018-01-05  43.750000\n",
      "2018-01-08  43.587502\n",
      "Check Test\n",
      "(200, 1)\n"
     ]
    },
    {
     "data": {
      "text/html": [
       "<div>\n",
       "<style scoped>\n",
       "    .dataframe tbody tr th:only-of-type {\n",
       "        vertical-align: middle;\n",
       "    }\n",
       "\n",
       "    .dataframe tbody tr th {\n",
       "        vertical-align: top;\n",
       "    }\n",
       "\n",
       "    .dataframe thead th {\n",
       "        text-align: right;\n",
       "    }\n",
       "</style>\n",
       "<table border=\"1\" class=\"dataframe\">\n",
       "  <thead>\n",
       "    <tr style=\"text-align: right;\">\n",
       "      <th></th>\n",
       "      <th>Close</th>\n",
       "    </tr>\n",
       "    <tr>\n",
       "      <th>Date</th>\n",
       "      <th></th>\n",
       "    </tr>\n",
       "  </thead>\n",
       "  <tbody>\n",
       "    <tr>\n",
       "      <th>2020-03-16</th>\n",
       "      <td>60.552502</td>\n",
       "    </tr>\n",
       "    <tr>\n",
       "      <th>2020-03-17</th>\n",
       "      <td>63.215000</td>\n",
       "    </tr>\n",
       "    <tr>\n",
       "      <th>2020-03-18</th>\n",
       "      <td>61.667500</td>\n",
       "    </tr>\n",
       "    <tr>\n",
       "      <th>2020-03-19</th>\n",
       "      <td>61.195000</td>\n",
       "    </tr>\n",
       "    <tr>\n",
       "      <th>2020-03-20</th>\n",
       "      <td>57.310001</td>\n",
       "    </tr>\n",
       "  </tbody>\n",
       "</table>\n",
       "</div>"
      ],
      "text/plain": [
       "                Close\n",
       "Date                 \n",
       "2020-03-16  60.552502\n",
       "2020-03-17  63.215000\n",
       "2020-03-18  61.667500\n",
       "2020-03-19  61.195000\n",
       "2020-03-20  57.310001"
      ]
     },
     "execution_count": 15,
     "metadata": {},
     "output_type": "execute_result"
    }
   ],
   "source": [
    "# Identify number of training datapoints\n",
    "N_train = Y.shape[0]-N_test\n",
    "\n",
    "# Build Train\n",
    "Y_train = Y[:N_train]\n",
    "X_train = X[:N_train]\n",
    "\n",
    "# Build Test\n",
    "Y_test = Y[N_train:]\n",
    "X_test = X[N_train:]\n",
    "\n",
    "\n",
    "# Visualize Dataframe Dimensions (make sure things are running reasonably!)\n",
    "print('Check Train')\n",
    "print(X_train.shape)\n",
    "print(X_train.head())\n",
    "print('Check Test')\n",
    "print(X_test.shape)\n",
    "X_test.head()"
   ]
  },
  {
   "cell_type": "markdown",
   "metadata": {},
   "source": [
    "---\n",
    "## We'll Initialize our Benchmark model\n",
    "\n",
    "This simple/basic/vanilla model will serve as our target to beat; if we don't then we're doing something wrong :S"
   ]
  },
  {
   "cell_type": "markdown",
   "metadata": {},
   "source": [
    "#### Building and Training our Regression Model"
   ]
  },
  {
   "cell_type": "code",
   "execution_count": 16,
   "metadata": {},
   "outputs": [],
   "source": [
    "model_linReg = LinearRegression()"
   ]
  },
  {
   "cell_type": "markdown",
   "metadata": {},
   "source": [
    "First we train our model, with the \"training\" (a.k.a. in-sample) data."
   ]
  },
  {
   "cell_type": "code",
   "execution_count": 17,
   "metadata": {},
   "outputs": [
    {
     "data": {
      "text/html": [
       "<style>#sk-container-id-1 {color: black;background-color: white;}#sk-container-id-1 pre{padding: 0;}#sk-container-id-1 div.sk-toggleable {background-color: white;}#sk-container-id-1 label.sk-toggleable__label {cursor: pointer;display: block;width: 100%;margin-bottom: 0;padding: 0.3em;box-sizing: border-box;text-align: center;}#sk-container-id-1 label.sk-toggleable__label-arrow:before {content: \"▸\";float: left;margin-right: 0.25em;color: #696969;}#sk-container-id-1 label.sk-toggleable__label-arrow:hover:before {color: black;}#sk-container-id-1 div.sk-estimator:hover label.sk-toggleable__label-arrow:before {color: black;}#sk-container-id-1 div.sk-toggleable__content {max-height: 0;max-width: 0;overflow: hidden;text-align: left;background-color: #f0f8ff;}#sk-container-id-1 div.sk-toggleable__content pre {margin: 0.2em;color: black;border-radius: 0.25em;background-color: #f0f8ff;}#sk-container-id-1 input.sk-toggleable__control:checked~div.sk-toggleable__content {max-height: 200px;max-width: 100%;overflow: auto;}#sk-container-id-1 input.sk-toggleable__control:checked~label.sk-toggleable__label-arrow:before {content: \"▾\";}#sk-container-id-1 div.sk-estimator input.sk-toggleable__control:checked~label.sk-toggleable__label {background-color: #d4ebff;}#sk-container-id-1 div.sk-label input.sk-toggleable__control:checked~label.sk-toggleable__label {background-color: #d4ebff;}#sk-container-id-1 input.sk-hidden--visually {border: 0;clip: rect(1px 1px 1px 1px);clip: rect(1px, 1px, 1px, 1px);height: 1px;margin: -1px;overflow: hidden;padding: 0;position: absolute;width: 1px;}#sk-container-id-1 div.sk-estimator {font-family: monospace;background-color: #f0f8ff;border: 1px dotted black;border-radius: 0.25em;box-sizing: border-box;margin-bottom: 0.5em;}#sk-container-id-1 div.sk-estimator:hover {background-color: #d4ebff;}#sk-container-id-1 div.sk-parallel-item::after {content: \"\";width: 100%;border-bottom: 1px solid gray;flex-grow: 1;}#sk-container-id-1 div.sk-label:hover label.sk-toggleable__label {background-color: #d4ebff;}#sk-container-id-1 div.sk-serial::before {content: \"\";position: absolute;border-left: 1px solid gray;box-sizing: border-box;top: 0;bottom: 0;left: 50%;z-index: 0;}#sk-container-id-1 div.sk-serial {display: flex;flex-direction: column;align-items: center;background-color: white;padding-right: 0.2em;padding-left: 0.2em;position: relative;}#sk-container-id-1 div.sk-item {position: relative;z-index: 1;}#sk-container-id-1 div.sk-parallel {display: flex;align-items: stretch;justify-content: center;background-color: white;position: relative;}#sk-container-id-1 div.sk-item::before, #sk-container-id-1 div.sk-parallel-item::before {content: \"\";position: absolute;border-left: 1px solid gray;box-sizing: border-box;top: 0;bottom: 0;left: 50%;z-index: -1;}#sk-container-id-1 div.sk-parallel-item {display: flex;flex-direction: column;z-index: 1;position: relative;background-color: white;}#sk-container-id-1 div.sk-parallel-item:first-child::after {align-self: flex-end;width: 50%;}#sk-container-id-1 div.sk-parallel-item:last-child::after {align-self: flex-start;width: 50%;}#sk-container-id-1 div.sk-parallel-item:only-child::after {width: 0;}#sk-container-id-1 div.sk-dashed-wrapped {border: 1px dashed gray;margin: 0 0.4em 0.5em 0.4em;box-sizing: border-box;padding-bottom: 0.4em;background-color: white;}#sk-container-id-1 div.sk-label label {font-family: monospace;font-weight: bold;display: inline-block;line-height: 1.2em;}#sk-container-id-1 div.sk-label-container {text-align: center;}#sk-container-id-1 div.sk-container {/* jupyter's `normalize.less` sets `[hidden] { display: none; }` but bootstrap.min.css set `[hidden] { display: none !important; }` so we also need the `!important` here to be able to override the default hidden behavior on the sphinx rendered scikit-learn.org. See: https://github.com/scikit-learn/scikit-learn/issues/21755 */display: inline-block !important;position: relative;}#sk-container-id-1 div.sk-text-repr-fallback {display: none;}</style><div id=\"sk-container-id-1\" class=\"sk-top-container\"><div class=\"sk-text-repr-fallback\"><pre>LinearRegression()</pre><b>In a Jupyter environment, please rerun this cell to show the HTML representation or trust the notebook. <br />On GitHub, the HTML representation is unable to render, please try loading this page with nbviewer.org.</b></div><div class=\"sk-container\" hidden><div class=\"sk-item\"><div class=\"sk-estimator sk-toggleable\"><input class=\"sk-toggleable__control sk-hidden--visually\" id=\"sk-estimator-id-1\" type=\"checkbox\" checked><label for=\"sk-estimator-id-1\" class=\"sk-toggleable__label sk-toggleable__label-arrow\">LinearRegression</label><div class=\"sk-toggleable__content\"><pre>LinearRegression()</pre></div></div></div></div></div>"
      ],
      "text/plain": [
       "LinearRegression()"
      ]
     },
     "execution_count": 17,
     "metadata": {},
     "output_type": "execute_result"
    }
   ],
   "source": [
    "model_linReg.fit(X_train, Y_train)"
   ]
  },
  {
   "cell_type": "markdown",
   "metadata": {},
   "source": [
    "Now we'll predict the test data given our input train data!"
   ]
  },
  {
   "cell_type": "code",
   "execution_count": 18,
   "metadata": {},
   "outputs": [
    {
     "data": {
      "text/plain": [
       "array([62.76457062, 64.03029889, 63.29463076, 63.07000851, 61.22311461,\n",
       "       60.64432462, 63.3195896 , 63.15795653, 64.69346979, 63.42179877,\n",
       "       64.26205172, 64.20025036, 62.61006813, 63.08783495, 62.66949202,\n",
       "       65.17242625, 64.81112794, 65.60027903, 65.82846476, 66.45360531,\n",
       "       68.0937034 , 67.78232276, 68.05091993, 67.58860028, 66.89096431,\n",
       "       65.8736275 , 66.79232224, 66.66515423, 67.608806  , 67.63257701,\n",
       "       67.08706245, 68.17452265, 68.895926  , 68.33377826, 68.8198653 ,\n",
       "       69.34279486, 69.70765845, 70.07727335, 70.83671248, 71.41669029,\n",
       "       70.98883751, 70.54196865, 70.76659272, 70.54909923, 71.41074573,\n",
       "       71.1944455 , 71.91822812, 71.63536979, 71.87782031, 71.62110864,\n",
       "       71.78511555, 71.80175598, 71.76491345, 72.22960876, 72.40669081,\n",
       "       72.61823973, 72.28546737, 73.37648923, 73.60942989, 74.860897  ,\n",
       "       75.91270069, 73.89941879, 74.24407667, 74.74204921, 75.82237521,\n",
       "       75.76414095, 75.78078138, 75.54189616, 76.62935274, 77.53972726,\n",
       "       76.7707819 , 77.3388742 , 76.00659146, 76.97520025, 77.33411928,\n",
       "       77.25211401, 77.25211401, 78.40969398, 78.2718301 , 79.30342807,\n",
       "       79.49834019, 79.57796618, 79.3676069 , 80.11872582, 80.43604739,\n",
       "       79.8643898 , 79.77168867, 80.73673216, 80.09138952, 80.22093318,\n",
       "       78.11613978, 78.00679822, 79.05028169, 78.30986227, 79.15962326,\n",
       "       79.70632383, 84.49351277, 85.76637162, 86.11221913, 86.30118669,\n",
       "       88.12668704, 86.80034887, 87.56810459, 85.97435526, 87.70240318,\n",
       "       88.65318552, 88.60445749, 88.46183869, 88.91583812, 88.98476825,\n",
       "       90.2053374 , 93.10284717, 93.80998936, 93.31914739, 94.12612492,\n",
       "       93.40709723, 93.3108308 , 95.32291944, 97.76642976, 96.44484289,\n",
       "       91.44372937, 91.48176153, 87.61207769, 89.75133796, 87.93058891,\n",
       "       87.22225708, 88.8195717 , 88.90514226, 87.28405663, 86.43310599,\n",
       "       84.7692369 , 86.3095069 , 87.1319316 , 84.90234947, 85.42527903,\n",
       "       87.35536603, 88.62941451, 88.21582288, 89.03349628, 89.49938122,\n",
       "       87.70715448, 89.36151735, 87.77371258, 88.68646275, 88.63416944,\n",
       "       89.58495178, 93.11710832, 91.54831601, 91.5911031 , 91.36291374,\n",
       "       90.5595015 , 89.11431553, 89.84166344, 89.53741339, 89.00497397,\n",
       "       88.66744667, 88.6722016 , 89.40905574, 86.84194269, 88.80055562,\n",
       "       85.72952909, 85.686742  , 86.48064801, 88.62465958, 90.56425643,\n",
       "       90.40262517, 89.27594679, 89.10956061, 90.78293593, 90.64982698,\n",
       "       90.67359799, 91.16800525, 90.73539754, 90.08886526, 90.37885416,\n",
       "       89.76084419, 88.10173002, 88.72924622, 89.13808292, 89.40430081,\n",
       "       90.57376628, 92.31845101, 92.48959212, 92.42303765, 92.09501658,\n",
       "       92.80810333, 93.10759847, 91.87158215, 92.56565282, 92.17108091,\n",
       "       91.87158215, 94.77146756, 94.73819033, 95.16128818, 94.19149338,\n",
       "       94.93785375, 96.67303587, 96.23567687, 96.71581934, 98.95966624])"
      ]
     },
     "execution_count": 18,
     "metadata": {},
     "output_type": "execute_result"
    }
   ],
   "source": [
    "# Generate Prediction\n",
    "Yhat_test_linReg = model_linReg.predict(X_test)\n",
    "# Convert to \"vector shape\"\n",
    "Yhat_test_linReg = Yhat_test_linReg.reshape([-1,])\n",
    "# Visualize to make sure things look okay!\n",
    "Yhat_test_linReg"
   ]
  },
  {
   "cell_type": "markdown",
   "metadata": {},
   "source": [
    "We'll record our training performance while we're at it also."
   ]
  },
  {
   "cell_type": "code",
   "execution_count": 19,
   "metadata": {},
   "outputs": [
    {
     "data": {
      "text/plain": [
       "array([54.45116607, 54.44760078, 54.54267938, 54.77680968, 54.69955934,\n",
       "       54.69718187, 54.69242695, 54.81008691, 55.02520113, 54.91823884,\n",
       "       55.26408635, 55.28310062, 55.18802384, 55.01450526, 55.01925838,\n",
       "       54.68410854, 54.31449184, 54.36203023, 53.94012202, 53.82246205,\n",
       "       53.87713102, 53.91872847, 53.05351668, 52.57693769, 53.35420145,\n",
       "       52.93942201, 52.41768027, 52.56742965, 53.3161711 , 53.50989177,\n",
       "       53.87000044, 54.53792627, 54.47136998, 54.40243986, 54.30973872,\n",
       "       54.4796902 , 54.83623357, 55.24863556, 55.17970362, 55.14761421,\n",
       "       54.77680968, 54.9206163 , 54.99311353, 54.97528527, 54.78037497,\n",
       "       55.00737469, 55.36867118, 55.57546699, 55.36748335, 55.18564637,\n",
       "       55.2106034 , 55.13573052, 54.81246438, 54.8053338 , 54.33350792,\n",
       "       54.04589648, 53.58120117, 54.51177961, 53.98528294, 53.76422598,\n",
       "       53.91872847, 53.78799517, 53.9912257 , 54.37391573, 54.5153449 ,\n",
       "       53.99003787, 54.18851347, 54.56882604, 54.47255962, 54.6746005 ,\n",
       "       54.74472027, 54.87426574, 55.16187718, 55.11433697, 54.5153449 ,\n",
       "       53.67390231, 53.61685587, 53.34350559, 53.42788651, 53.49563062,\n",
       "       53.26982054, 53.61923152, 54.07560843, 54.96340158, 55.00143193,\n",
       "       55.8262359 , 55.98430369, 56.09007815, 56.24576847, 56.56427968,\n",
       "       56.39195074, 56.33965743, 56.13642872, 56.34322271, 56.20179536,\n",
       "       56.12097792, 56.27785788, 56.22199927, 56.36461626, 56.33965743,\n",
       "       56.39076292, 56.30994548, 56.26240709, 56.1875324 , 56.58805069,\n",
       "       56.77701825, 56.95291247, 57.03254027, 56.97074073, 56.76156745,\n",
       "       56.70570885, 56.83049939, 56.64271966, 56.65460516, 56.42166269,\n",
       "       56.409779  , 56.04729287, 56.14355929, 56.01995839, 55.95577956,\n",
       "       55.62894813, 55.89754349, 55.86545589, 56.0247115 , 55.97836093,\n",
       "       56.22437492, 55.83693177, 56.012826  , 56.31826569, 56.62845851,\n",
       "       56.60112402, 56.30756983, 56.68193965, 56.71759435, 56.66767849,\n",
       "       56.7318555 , 56.60706496, 56.782961  , 56.73066768, 56.75087159,\n",
       "       56.91606995, 57.1323738 , 57.05987657, 56.6759969 , 56.5488307 ,\n",
       "       56.59399163, 57.92627618, 58.62628961, 58.69759901, 58.82595484,\n",
       "       58.59301237, 58.60965099, 58.80337347, 58.64292823, 58.80218384,\n",
       "       58.90677047, 58.96500654, 59.33105796, 59.83734891, 59.58539217,\n",
       "       59.5354745 , 59.53666414, 59.58895746, 59.66858526, 59.88013419,\n",
       "       60.08930565, 60.47912626, 60.7227646 , 61.03176959, 61.11852797,\n",
       "       60.9414441 , 60.49338923, 60.27946284, 59.92648475, 60.58252508,\n",
       "       60.25212836, 60.88677513, 60.58133544, 59.87300361, 59.91578889,\n",
       "       59.93123787, 60.12852564, 59.84685695, 60.21884931, 60.3852373 ,\n",
       "       60.1748762 , 60.71325656, 60.80714733, 60.98779467, 61.22786772,\n",
       "       61.55945408, 61.07455486, 60.63481658, 60.57301703, 60.9414441 ,\n",
       "       59.69235446, 59.46535474, 60.37572926, 59.81120225, 60.38048238,\n",
       "       60.26638951, 59.65194664, 60.04295508, 60.20221069, 60.44941431,\n",
       "       59.54141725, 60.10119115, 59.68522388, 59.20270213, 59.3286805 ,\n",
       "       59.98947394, 60.38880259, 58.63698548, 57.93697205, 58.19606118,\n",
       "       58.93053967, 58.75702291, 58.27925427, 57.05512165, 56.82455664,\n",
       "       56.17921399, 56.72710239, 56.97905913, 56.06749678, 55.0121278 ,\n",
       "       54.9883586 , 54.45473136, 54.73164694, 54.68648601, 55.48276586,\n",
       "       55.3175675 , 55.20228499, 55.94389587, 54.97766274, 54.74353244,\n",
       "       54.0031112 , 54.13503232, 54.01974982, 54.07560843, 54.29547575,\n",
       "       53.64537818, 53.46235338, 53.71549976, 53.09986725, 52.6173455 ,\n",
       "       51.89237324, 51.42886758, 52.65775332, 52.53652806, 52.5460361 ,\n",
       "       52.72549743, 52.74688916, 50.87741389, 51.59881905, 51.55959906,\n",
       "       51.89475071, 52.19900076, 52.25723684, 52.07777551, 51.80561486,\n",
       "       52.17047845, 52.39272325, 52.502063  , 52.61615768, 52.19781294,\n",
       "       52.27149799, 52.12650354, 52.72787308, 52.55435632, 52.36182166,\n",
       "       53.6180437 , 53.75947286, 53.7689809 , 54.33113046, 54.67935362,\n",
       "       54.68648601, 54.29428793, 54.23129874, 54.1148266 , 54.28834518,\n",
       "       54.20396245, 54.27764931, 54.23248657, 54.29309829, 54.42383159,\n",
       "       54.30854908, 54.5355488 , 54.68529637, 54.69718187, 54.76135888,\n",
       "       54.55694054, 54.77324439, 54.87783103, 54.83979886, 54.71976325,\n",
       "       54.4796902 , 54.52841823, 55.24031534, 55.47920057, 55.57427916,\n",
       "       55.8143504 , 56.09839655, 56.32420845, 56.14712458, 56.34084706,\n",
       "       57.1644614 , 56.68431711, 56.409779  , 56.17802436, 56.37768959,\n",
       "       56.40740154, 56.55358382, 56.70689848, 57.0372952 , 57.19536298,\n",
       "       57.2357708 , 57.39146112, 57.75989   , 57.6885806 , 57.82168955,\n",
       "       57.62321395, 57.61370591, 57.65649119, 57.65886865, 58.11999867,\n",
       "       58.20675705, 58.28638485, 58.63698548, 58.59895513, 58.37552069,\n",
       "       58.25905037, 58.29589289, 57.8276323 , 58.99828378, 58.83546107,\n",
       "       59.14446606, 58.75583327, 58.08790925, 58.09266237, 57.83357505,\n",
       "       57.41285285, 56.05085816, 56.40027096, 56.66886632, 56.56903461,\n",
       "       56.44067878, 55.73828789, 56.1554448 , 55.70144536, 55.33064083,\n",
       "       55.24863556, 55.16068754, 55.059668  , 55.16900776, 54.78512989,\n",
       "       54.57476879, 55.32826336, 55.67292124, 55.99143426, 56.57735301,\n",
       "       56.86615409, 57.13118416, 57.05749911, 57.05274418, 56.88517017,\n",
       "       57.02184441, 57.56379005, 57.49485812, 57.68382748, 57.60301004,\n",
       "       57.57924085, 57.22150964, 57.7242353 , 57.71710472, 57.50080087,\n",
       "       57.93221894, 58.07245846, 58.2721237 , 58.25073015, 57.75038196,\n",
       "       57.89537641, 58.13188236, 57.95598813, 58.14020257, 58.36720229,\n",
       "       58.28281956, 58.14614533, 58.42068344, 58.05581984, 58.6060857 ,\n",
       "       58.79861855, 58.77841464, 58.58231651, 58.66788706, 58.89845026,\n",
       "       58.79148797, 59.29777891, 58.74989052, 58.22577313, 56.95647776,\n",
       "       57.39146112, 57.63390982, 58.15565155, 57.86566446, 57.80505093,\n",
       "       58.81406934, 58.07483592, 57.95480031, 58.52051515, 58.97807987,\n",
       "       58.9792677 , 59.25024052, 59.22884879, 58.06176259, 58.51932732,\n",
       "       58.24241175, 58.40523264, 58.81882245, 58.78673486, 58.42543655,\n",
       "       58.840216  , 59.32630304, 59.32392557, 59.4320775 , 59.73276227,\n",
       "       60.55162349, 60.49219959, 59.97640061, 60.11307484, 60.20815344,\n",
       "       60.45416924, 60.23905503, 59.85517535, 59.97283532, 59.8492326 ,\n",
       "       60.24737343, 60.11188702, 59.98472082, 60.59678623, 60.67047128,\n",
       "       60.00135944, 60.22241641, 60.95808272, 60.96402547, 60.64788991,\n",
       "       60.96046019, 61.32413414, 62.05148387, 62.01107424, 61.9457094 ,\n",
       "       61.83280255, 61.94095448, 62.07525306, 62.56252792, 62.49716309,\n",
       "       62.87985131, 62.92739152, 63.2839349 , 63.57748909, 62.89292464,\n",
       "       62.88935935, 63.54302221, 64.38208915, 64.58175257, 64.53777947,\n",
       "       64.55085099, 64.81112794, 64.89551249, 65.14033865, 65.11181271,\n",
       "       65.41012183, 65.19263197, 65.5634365 , 65.72269211, 65.62642569,\n",
       "       65.2579968 , 65.11775728, 65.09042098, 65.63593191, 65.3887301 ,\n",
       "       65.81063831, 65.74051855, 65.37327931, 64.81350722, 65.08566605,\n",
       "       65.54204114, 66.1517309 , 65.70130038, 65.88670264, 66.15886148,\n",
       "       66.24086674, 66.67941539, 67.23918748, 67.30455594, 67.22492632,\n",
       "       67.25820356, 67.18927344, 67.73121908, 67.76330668, 68.43360997,\n",
       "       68.42053483, 68.62495317, 68.87809955, 69.67438122, 69.32734406,\n",
       "       69.60901275, 69.44144056, 70.01190851, 70.77728859, 70.86047986,\n",
       "       71.64844131, 71.1397729 , 70.9805173 , 71.44402296, 71.85880422,\n",
       "       71.60209256, 71.73639114, 71.91822812, 71.80888656, 70.69647296,\n",
       "       71.7352015 , 72.5255386 , 72.46967999, 70.76302743, 70.66200608,\n",
       "       71.87306538, 72.18207037, 72.6289356 , 72.0133049 , 72.19395224,\n",
       "       71.96338724, 72.86544517, 72.58852779, 72.59803764, 71.89089182,\n",
       "       72.43996805, 72.0453925 , 71.18374601, 69.41647991, 68.21611648,\n",
       "       68.75925176, 66.48569291, 66.46667682, 69.4913546 , 68.36349021,\n",
       "       69.95842555, 68.79134299, 68.32902333, 65.61216453, 67.89047469,\n",
       "       66.71269263, 63.48003303, 67.01456703])"
      ]
     },
     "execution_count": 19,
     "metadata": {},
     "output_type": "execute_result"
    }
   ],
   "source": [
    "# Generate Prediction\n",
    "Yhat_train_linReg = model_linReg.predict(X_train)\n",
    "# Convert to \"vector shape\"\n",
    "Yhat_train_linReg = Yhat_train_linReg.reshape([-1,])\n",
    "# Visualize to make sure things look okay!\n",
    "Yhat_train_linReg"
   ]
  },
  {
   "cell_type": "markdown",
   "metadata": {},
   "source": [
    "### Let's check how we did!"
   ]
  },
  {
   "cell_type": "markdown",
   "metadata": {},
   "source": [
    "Build dataframe\n",
    "\n",
    "*This is not the most efficient coding; but the point is rather to show you how to name and join columns to dataframes :)*"
   ]
  },
  {
   "cell_type": "code",
   "execution_count": 20,
   "metadata": {},
   "outputs": [
    {
     "data": {
      "text/html": [
       "<div>\n",
       "<style scoped>\n",
       "    .dataframe tbody tr th:only-of-type {\n",
       "        vertical-align: middle;\n",
       "    }\n",
       "\n",
       "    .dataframe tbody tr th {\n",
       "        vertical-align: top;\n",
       "    }\n",
       "\n",
       "    .dataframe thead th {\n",
       "        text-align: right;\n",
       "    }\n",
       "</style>\n",
       "<table border=\"1\" class=\"dataframe\">\n",
       "  <thead>\n",
       "    <tr style=\"text-align: right;\">\n",
       "      <th></th>\n",
       "      <th>Targets_Test</th>\n",
       "      <th>Predictions_Test</th>\n",
       "    </tr>\n",
       "    <tr>\n",
       "      <th>Date</th>\n",
       "      <th></th>\n",
       "      <th></th>\n",
       "    </tr>\n",
       "  </thead>\n",
       "  <tbody>\n",
       "    <tr>\n",
       "      <th>2020-03-17</th>\n",
       "      <td>55.990002</td>\n",
       "      <td>62.764571</td>\n",
       "    </tr>\n",
       "    <tr>\n",
       "      <th>2020-03-18</th>\n",
       "      <td>54.840000</td>\n",
       "      <td>64.030299</td>\n",
       "    </tr>\n",
       "    <tr>\n",
       "      <th>2020-03-19</th>\n",
       "      <td>55.764500</td>\n",
       "      <td>63.294631</td>\n",
       "    </tr>\n",
       "    <tr>\n",
       "      <th>2020-03-20</th>\n",
       "      <td>53.616001</td>\n",
       "      <td>63.070009</td>\n",
       "    </tr>\n",
       "    <tr>\n",
       "      <th>2020-03-23</th>\n",
       "      <td>52.831001</td>\n",
       "      <td>61.223115</td>\n",
       "    </tr>\n",
       "    <tr>\n",
       "      <th>...</th>\n",
       "      <td>...</td>\n",
       "      <td>...</td>\n",
       "    </tr>\n",
       "    <tr>\n",
       "      <th>2020-12-22</th>\n",
       "      <td>86.175003</td>\n",
       "      <td>94.937854</td>\n",
       "    </tr>\n",
       "    <tr>\n",
       "      <th>2020-12-23</th>\n",
       "      <td>86.619003</td>\n",
       "      <td>96.673036</td>\n",
       "    </tr>\n",
       "    <tr>\n",
       "      <th>2020-12-24</th>\n",
       "      <td>86.942497</td>\n",
       "      <td>96.235677</td>\n",
       "    </tr>\n",
       "    <tr>\n",
       "      <th>2020-12-28</th>\n",
       "      <td>88.804497</td>\n",
       "      <td>96.715819</td>\n",
       "    </tr>\n",
       "    <tr>\n",
       "      <th>2020-12-29</th>\n",
       "      <td>87.935997</td>\n",
       "      <td>98.959666</td>\n",
       "    </tr>\n",
       "  </tbody>\n",
       "</table>\n",
       "<p>200 rows × 2 columns</p>\n",
       "</div>"
      ],
      "text/plain": [
       "            Targets_Test  Predictions_Test\n",
       "Date                                      \n",
       "2020-03-17     55.990002         62.764571\n",
       "2020-03-18     54.840000         64.030299\n",
       "2020-03-19     55.764500         63.294631\n",
       "2020-03-20     53.616001         63.070009\n",
       "2020-03-23     52.831001         61.223115\n",
       "...                  ...               ...\n",
       "2020-12-22     86.175003         94.937854\n",
       "2020-12-23     86.619003         96.673036\n",
       "2020-12-24     86.942497         96.235677\n",
       "2020-12-28     88.804497         96.715819\n",
       "2020-12-29     87.935997         98.959666\n",
       "\n",
       "[200 rows x 2 columns]"
      ]
     },
     "execution_count": 20,
     "metadata": {},
     "output_type": "execute_result"
    }
   ],
   "source": [
    "# Let's build a dataframe with the target and our predictions as columns\n",
    "time_series_comparison = pd.DataFrame(Y_test)\n",
    "time_series_comparison.columns = ['Targets_Test'] # <- Rename columns\n",
    "\n",
    "# Append Predictions to Dataframe\n",
    "time_series_comparison['Predictions_Test'] = Yhat_test_linReg\n",
    "\n",
    "# Check nothing went wrong (Safefy First!)\n",
    "time_series_comparison"
   ]
  },
  {
   "cell_type": "markdown",
   "metadata": {},
   "source": [
    "# Like Last week We Visualize how things are panning our so far!"
   ]
  },
  {
   "cell_type": "code",
   "execution_count": 21,
   "metadata": {},
   "outputs": [
    {
     "data": {
      "image/png": "[encoded data removed]",
      "text/plain": [
       "<Figure size 960x960 with 1 Axes>"
      ]
     },
     "metadata": {},
     "output_type": "display_data"
    }
   ],
   "source": [
    "# Activate Seaborn (<- this makes plots pretty :3)\n",
    "sns.set()\n",
    "# Set plot Size to display\n",
    "plt.figure(figsize=(12, 12), dpi=80)\n",
    "\n",
    "# Plot!\n",
    "plt.plot(time_series_comparison)\n",
    "\n",
    "# Now we'll need a legend also\n",
    "plt.legend(time_series_comparison.columns);"
   ]
  },
  {
   "cell_type": "markdown",
   "metadata": {},
   "source": [
    "---"
   ]
  },
  {
   "cell_type": "markdown",
   "metadata": {},
   "source": [
    "## Time to try our Random Feature model"
   ]
  },
  {
   "cell_type": "markdown",
   "metadata": {},
   "source": [
    "#### Let's initialize our hyperparameters + latent parameters\n",
    "These will be used in generating our (random) feature map"
   ]
  },
  {
   "cell_type": "code",
   "execution_count": 22,
   "metadata": {},
   "outputs": [],
   "source": [
    "dim_data = X_train.shape[1] # <- Number of covariates"
   ]
  },
  {
   "cell_type": "markdown",
   "metadata": {},
   "source": [
    "### Helper Functions"
   ]
  },
  {
   "cell_type": "markdown",
   "metadata": {},
   "source": [
    "Well get our first \"helper function\".  These are intended to be used often (like lemata) to help with small individual tasks, which we frequently perform.  "
   ]
  },
  {
   "cell_type": "markdown",
   "metadata": {},
   "source": [
    "#### Uniform Sampler "
   ]
  },
  {
   "cell_type": "code",
   "execution_count": 23,
   "metadata": {},
   "outputs": [],
   "source": [
    "def random_ball(num_points = dim_feature, dimension=dim_data, radius=1):\n",
    "    from numpy import random, linalg\n",
    "    # First generate random directions by normalizing the length of a\n",
    "    # vector of random-normal values (these distribute evenly on ball).\n",
    "    random_directions = random.normal(size=(dimension,num_points))\n",
    "    random_directions /= linalg.norm(random_directions, axis=0)\n",
    "    # Second generate a random radius with probability proportional to\n",
    "    # the surface area of a ball with a given radius.\n",
    "    random_radii = random.random(num_points) ** (1/dimension)\n",
    "    # Return the list of random (direction & length) points.\n",
    "    return radius * (random_directions * random_radii).T"
   ]
  },
  {
   "cell_type": "markdown",
   "metadata": {},
   "source": [
    "## Next let's write a little function to generate random features"
   ]
  },
  {
   "cell_type": "markdown",
   "metadata": {},
   "source": [
    "Since we have set the correct default parameters for the theorem...let's just run it with an empty argument."
   ]
  },
  {
   "cell_type": "code",
   "execution_count": 24,
   "metadata": {},
   "outputs": [],
   "source": [
    "# Generate the random parameters determining our feature map\n",
    "rand_weights = random_ball(radius=radius_weights)\n",
    "rand_biases = random_ball(dimension = 1,radius=radius_bias)"
   ]
  },
  {
   "cell_type": "markdown",
   "metadata": {},
   "source": [
    "**Note**: It's crucial to initialize the random matrix and random vectors externally to the random feature map.  Otherwise, everytime you run the code you'll be multiplying by a different matrix + adding a different vector.\n",
    "\n",
    "*I.e.: You'll turn your features into pure noise :0*"
   ]
  },
  {
   "cell_type": "code",
   "execution_count": 25,
   "metadata": {},
   "outputs": [],
   "source": [
    "def rand_feature_map(x_input):\n",
    "    x_int = np.array(x_input).transpose()\n",
    "    #Apply Random Weights\n",
    "    x_int = rand_weights.dot(x_int).transpose()\n",
    "    #Apply Random Bias\n",
    "    x_int = x_int + rand_biases.transpose()\n",
    "    #Apply ReLU activation function\n",
    "    x_int = np.maximum(x_int,0)\n",
    "    #Return Random Features\n",
    "    return x_int"
   ]
  },
  {
   "cell_type": "markdown",
   "metadata": {},
   "source": [
    "Next we apply our random feature map to each of our data points in X\n",
    "\n",
    "This gives us our random features."
   ]
  },
  {
   "cell_type": "code",
   "execution_count": null,
   "metadata": {},
   "outputs": [],
   "source": [
    "#Apply to each data\n",
    "## first to the training dataset\n",
    "X_Rand_Features_train = rand_feature_map(X_train)\n",
    "X_Rand_Features_train = pd.DataFrame(X_Rand_Features_train)\n",
    "## then to the testing dataset\n",
    "X_Rand_Features_test = rand_feature_map(X_test)\n",
    "X_Rand_Features_test = pd.DataFrame(X_Rand_Features_test)\n",
    "\n",
    "# Vislualize things to make sure all is working\n",
    "print('Train Shape')\n",
    "print(X_Rand_Features_train.shape)\n",
    "print(X_Rand_Features_train.head())\n",
    "print('Test Shape')\n",
    "print(X_Rand_Features_test.shape)\n",
    "print('Test Features')\n",
    "X_Rand_Features_test.head()"
   ]
  },
  {
   "cell_type": "markdown",
   "metadata": {},
   "source": [
    "We'll also include the original (untransformed features)"
   ]
  },
  {
   "cell_type": "code",
   "execution_count": null,
   "metadata": {},
   "outputs": [],
   "source": [
    "X_Rand_Features_train['Original_Features'] = np.array(X_train)\n",
    "X_Rand_Features_test['Original_Features'] = np.array(X_test)\n",
    "\n",
    "# Let's check all is working well\n",
    "print(X_Rand_Features_train.head())\n",
    "X_Rand_Features_test.head()"
   ]
  },
  {
   "cell_type": "markdown",
   "metadata": {},
   "source": [
    "As before...\n",
    "\n",
    "#### Building and Training our Regression Model"
   ]
  },
  {
   "cell_type": "code",
   "execution_count": null,
   "metadata": {},
   "outputs": [],
   "source": [
    "model_linReg_randfeatures = LinearRegression()"
   ]
  },
  {
   "cell_type": "markdown",
   "metadata": {},
   "source": [
    "First we train our model, with the \"training\" (a.k.a. in-sample) data."
   ]
  },
  {
   "cell_type": "code",
   "execution_count": null,
   "metadata": {
    "scrolled": true
   },
   "outputs": [],
   "source": [
    "model_linReg_randfeatures.fit(X_Rand_Features_train, Y_train)"
   ]
  },
  {
   "cell_type": "markdown",
   "metadata": {},
   "source": [
    "It remains to train our random neural network (or random feature model)"
   ]
  },
  {
   "cell_type": "code",
   "execution_count": null,
   "metadata": {},
   "outputs": [],
   "source": [
    "# Instantiate Model\n",
    "model_linReg_randfeatures = LinearRegression()\n",
    "# Train Model\n",
    "# fit model\n",
    "model_linReg_randfeatures.fit(X_Rand_Features_train, Y_train)"
   ]
  },
  {
   "cell_type": "markdown",
   "metadata": {},
   "source": [
    "Now we'll predict the test data given our input train data!"
   ]
  },
  {
   "cell_type": "code",
   "execution_count": null,
   "metadata": {},
   "outputs": [],
   "source": [
    "# Generate Prediction\n",
    "Yhat_train_linReg_RF = model_linReg_randfeatures.predict(X_Rand_Features_train)\n",
    "Yhat_train_linReg_RF = Yhat_train_linReg_RF.reshape([-1,])"
   ]
  },
  {
   "cell_type": "markdown",
   "metadata": {},
   "source": [
    "We'll record our training performance while we're at it also."
   ]
  },
  {
   "cell_type": "code",
   "execution_count": null,
   "metadata": {},
   "outputs": [],
   "source": [
    "Yhat_test_linReg_RF = model_linReg_randfeatures.predict(X_Rand_Features_test)\n",
    "# Yhat_test_linReg = pd.DataFrame(Yhat_test_linReg)\n",
    "Yhat_test_linReg_RF = Yhat_test_linReg_RF.reshape([-1,])"
   ]
  },
  {
   "cell_type": "markdown",
   "metadata": {},
   "source": [
    "---"
   ]
  },
  {
   "cell_type": "markdown",
   "metadata": {},
   "source": [
    "# Let's see how our new random feature model measures up"
   ]
  },
  {
   "cell_type": "code",
   "execution_count": null,
   "metadata": {},
   "outputs": [],
   "source": [
    "# Append Predictions to Dataframe\n",
    "time_series_comparison['Predictions_Test_RF'] = Yhat_test_linReg_RF\n",
    "\n",
    "# Check nothing went wrong (Safefy First!)\n",
    "Yhat_test_linReg"
   ]
  },
  {
   "cell_type": "markdown",
   "metadata": {},
   "source": [
    "## Let's Visualize How we did with our Random Features!"
   ]
  },
  {
   "cell_type": "code",
   "execution_count": null,
   "metadata": {},
   "outputs": [],
   "source": [
    "# Activate Seaborn (<- this makes plots pretty :3)\n",
    "sns.set()\n",
    "# Set plot Size to display\n",
    "plt.figure(figsize=(8, 8), dpi=70)\n",
    "\n",
    "# Plot!\n",
    "plt.plot(time_series_comparison)\n",
    "\n",
    "# Now we'll need a legend also\n",
    "plt.legend(time_series_comparison.columns);"
   ]
  },
  {
   "cell_type": "markdown",
   "metadata": {},
   "source": [
    "To get a better look, let's plot the time-series of squared prediction errors!"
   ]
  },
  {
   "cell_type": "markdown",
   "metadata": {},
   "source": [
    "Let's look at some statistics to see when and if we ever do better with the random feature?\n",
    "\n",
    "Typically, is:\n",
    "\n",
    "time_series_comparison_errors['Lin. Reg.'] > time_series_comparison_errors['Lin. Reg. + RF']?\n",
    "\n",
    "I.e. is this quantity positive?"
   ]
  },
  {
   "cell_type": "code",
   "execution_count": null,
   "metadata": {},
   "outputs": [],
   "source": [
    "# Get timeseries of Squred prediction errors, for vanilla regression model!\n",
    "SSE_LinReg = np.abs(time_series_comparison['Targets_Test'] - time_series_comparison['Predictions_Test'])**2\n",
    "\n",
    "# Get timeseries of Squred prediction errors, for random feature model!\n",
    "SSE_LinReg_RF = np.abs(time_series_comparison['Targets_Test'] - time_series_comparison['Predictions_Test_RF'])**2"
   ]
  },
  {
   "cell_type": "markdown",
   "metadata": {},
   "source": [
    "We'll make a pandas dataframe!"
   ]
  },
  {
   "cell_type": "code",
   "execution_count": null,
   "metadata": {},
   "outputs": [],
   "source": [
    "# Append Predictions to Dataframe\n",
    "time_series_comparison_errors = pd.DataFrame({'Lin. Reg.':SSE_LinReg,'Lin. Reg. + RF':SSE_LinReg_RF})\n",
    "\n",
    "# Check nothing went wrong (Safefy First!)\n",
    "time_series_comparison_errors.head()"
   ]
  },
  {
   "cell_type": "code",
   "execution_count": null,
   "metadata": {},
   "outputs": [],
   "source": [
    "print('Average gain by random features') \n",
    "np.mean(time_series_comparison_errors['Lin. Reg.']-time_series_comparison_errors['Lin. Reg. + RF'])"
   ]
  },
  {
   "cell_type": "markdown",
   "metadata": {},
   "source": [
    "What about the variance in the two model's errors?"
   ]
  },
  {
   "cell_type": "code",
   "execution_count": null,
   "metadata": {},
   "outputs": [],
   "source": [
    "print('Variance')\n",
    "np.var(time_series_comparison_errors['Lin. Reg.']-time_series_comparison_errors['Lin. Reg. + RF'])"
   ]
  },
  {
   "cell_type": "markdown",
   "metadata": {},
   "source": [
    "How often are the random features paying off?"
   ]
  },
  {
   "cell_type": "code",
   "execution_count": null,
   "metadata": {},
   "outputs": [],
   "source": [
    "print('Linear Regression has a larger error')\n",
    "print(np.mean(time_series_comparison_errors['Lin. Reg.']>time_series_comparison_errors['Lin. Reg. + RF']))\n",
    "print('percent of the time!')"
   ]
  },
  {
   "cell_type": "markdown",
   "metadata": {},
   "source": [
    "---"
   ]
  },
  {
   "cell_type": "markdown",
   "metadata": {},
   "source": [
    "# Training with Ridge Regression"
   ]
  },
  {
   "cell_type": "markdown",
   "metadata": {},
   "source": [
    "Let's train our regressor, after having generated random features, with a stabler algorithm; namely the *ridge regression* method we have seen in class.\n",
    "\n",
    "We will **tune** the hyperparameters using [($k$-fold) cross-validation](https://en.wikipedia.org/wiki/Cross-validation_(statistics)) using what's built into the [sklearn package](https://scikit-learn.org/stable/modules/generated/sklearn.model_selection.KFold.html)."
   ]
  },
  {
   "cell_type": "code",
   "execution_count": null,
   "metadata": {},
   "outputs": [],
   "source": [
    "## Packages for grid searching (hyperparameter tuning)\n",
    "from sklearn.model_selection import GridSearchCV\n",
    "from sklearn.model_selection import RandomizedSearchCV\n",
    "from sklearn.model_selection import RepeatedKFold\n",
    "from sklearn.linear_model import Ridge"
   ]
  },
  {
   "cell_type": "markdown",
   "metadata": {},
   "source": [
    "#### Building and Training our Regression Model\n",
    "\n",
    "We first initialize our regression model/"
   ]
  },
  {
   "cell_type": "code",
   "execution_count": null,
   "metadata": {},
   "outputs": [],
   "source": [
    "model_Ridge_randfeatures = Ridge()\n",
    "\n",
    "# define model evaluation method\n",
    "cv = RepeatedKFold(n_splits=10, n_repeats=20, random_state=2022)"
   ]
  },
  {
   "cell_type": "markdown",
   "metadata": {},
   "source": [
    "Next we define our grid of hyperparameters defining the ridge regression.  These will be used to cross-validate our model's hyperparameter *(namely the $\\lambda\\ge 0$ in the course notes)*. "
   ]
  },
  {
   "cell_type": "code",
   "execution_count": null,
   "metadata": {},
   "outputs": [],
   "source": [
    "# First we define the grid\n",
    "Ridge_hyperparameters = dict()\n",
    "Ridge_hyperparameters['alpha'] = np.arange(0, 1, 0.01)\n",
    "\n",
    "# Then we state how we search (namely randomized for speed) and using what criterion \n",
    "# By which we judge a model's quality on the validation set\n",
    "search = RandomizedSearchCV(model_Ridge_randfeatures, \n",
    "                            Ridge_hyperparameters, \n",
    "                            scoring='neg_mean_squared_error', \n",
    "                            cv=4, \n",
    "                            n_jobs=-1,\n",
    "                            n_iter = 25)"
   ]
  },
  {
   "cell_type": "code",
   "execution_count": null,
   "metadata": {},
   "outputs": [],
   "source": [
    "results"
   ]
  },
  {
   "cell_type": "markdown",
   "metadata": {},
   "source": [
    "Then we perform the $4$-fold cross-validation."
   ]
  },
  {
   "cell_type": "code",
   "execution_count": null,
   "metadata": {},
   "outputs": [],
   "source": [
    "# Perform the randomized grid search\n",
    "results = search.fit(X_Rand_Features_train, Y_train)\n",
    "# Save Best Ridge Parameter\n",
    "best_ridge_parameter = results.best_params_['alpha']\n",
    "# Summarize the result (we use mean absolute error)\n",
    "print('The best MSE is: %.3f' % results.best_score_)\n",
    "print('The best Ridge-regression hyperparameter is: %s' % results.best_params_)"
   ]
  },
  {
   "cell_type": "markdown",
   "metadata": {},
   "source": [
    "Next we define and train our ridge model with the best parameter identified by cross-validation.  "
   ]
  },
  {
   "cell_type": "code",
   "execution_count": null,
   "metadata": {
    "scrolled": true
   },
   "outputs": [],
   "source": [
    "model_Ridge_randfeatures = Ridge(alpha = best_ridge_parameter)\n",
    "model_Ridge_randfeatures.fit(X_Rand_Features_train, Y_train)"
   ]
  },
  {
   "cell_type": "markdown",
   "metadata": {},
   "source": [
    "Now we'll predict the test data given our input train data!"
   ]
  },
  {
   "cell_type": "code",
   "execution_count": null,
   "metadata": {},
   "outputs": [],
   "source": [
    "# Generate Prediction\n",
    "Yhat_train_ridgeReg_RF = model_Ridge_randfeatures.predict(X_Rand_Features_train)\n",
    "Yhat_train_ridgeReg_RF = Yhat_train_ridgeReg_RF.reshape([-1,])"
   ]
  },
  {
   "cell_type": "markdown",
   "metadata": {},
   "source": [
    "We'll record our training performance while we're at it also."
   ]
  },
  {
   "cell_type": "code",
   "execution_count": null,
   "metadata": {},
   "outputs": [],
   "source": [
    "Yhat_test_ridgeReg_RF = model_Ridge_randfeatures.predict(X_Rand_Features_test)\n",
    "# Yhat_test_linReg = pd.DataFrame(Yhat_test_linReg)\n",
    "Yhat_test_ridgeReg_RF = Yhat_test_ridgeReg_RF.reshape([-1,])"
   ]
  },
  {
   "cell_type": "markdown",
   "metadata": {},
   "source": [
    "# Let's see how our new random feature model trained with ridge regression works"
   ]
  },
  {
   "cell_type": "code",
   "execution_count": null,
   "metadata": {},
   "outputs": [],
   "source": [
    "# Append Predictions to Dataframe\n",
    "time_series_comparison['Predictions_Test_RF_Ridge'] = Yhat_test_ridgeReg_RF\n",
    "\n",
    "# Check nothing went wrong (Safefy First!)\n",
    "Yhat_test_ridgeReg_RF"
   ]
  },
  {
   "cell_type": "markdown",
   "metadata": {},
   "source": [
    "## Let's Visualize How we did with our Random Features!"
   ]
  },
  {
   "cell_type": "code",
   "execution_count": null,
   "metadata": {},
   "outputs": [],
   "source": [
    "# Activate Seaborn (<- this makes plots pretty :3)\n",
    "sns.set()\n",
    "# Set plot Size to display\n",
    "plt.figure(figsize=(12, 12), dpi=80)\n",
    "\n",
    "# Plot!\n",
    "plt.plot(time_series_comparison)\n",
    "\n",
    "# Now we'll need a legend also\n",
    "plt.legend(time_series_comparison.columns);"
   ]
  },
  {
   "cell_type": "code",
   "execution_count": null,
   "metadata": {},
   "outputs": [],
   "source": [
    "# Get timeseries of Squred prediction errors, for vanilla regression model!\n",
    "SSE_LinReg = np.abs(time_series_comparison['Targets_Test'] - time_series_comparison['Predictions_Test'])**2\n",
    "\n",
    "# Get timeseries of Squred prediction errors, for random feature model!\n",
    "SSE_LinReg_RF = np.abs(time_series_comparison['Targets_Test'] - time_series_comparison['Predictions_Test_RF'])**2\n",
    "\n",
    "# Get timeseries of Squred prediction errors, for random feature model trained with ridge regression!\n",
    "SSE_LinReg_ridge = np.abs(time_series_comparison['Targets_Test'] - time_series_comparison['Predictions_Test_RF_Ridge'])**2"
   ]
  },
  {
   "cell_type": "markdown",
   "metadata": {},
   "source": [
    "We'll make a pandas dataframe!"
   ]
  },
  {
   "cell_type": "code",
   "execution_count": null,
   "metadata": {},
   "outputs": [],
   "source": [
    "# Append Predictions to Dataframe\n",
    "time_series_comparison_errors = pd.DataFrame({'Lin. Reg.':SSE_LinReg,'Lin. Reg. + RF':SSE_LinReg_RF, 'Ridge Reg. + RF': SSE_LinReg_ridge})\n",
    "\n",
    "# Check nothing went wrong (Safefy First!)\n",
    "time_series_comparison_errors.head()"
   ]
  },
  {
   "cell_type": "code",
   "execution_count": null,
   "metadata": {
    "scrolled": true
   },
   "outputs": [],
   "source": [
    "# Activate Seaborn (<- this makes plots pretty :3)\n",
    "sns.set()\n",
    "# Set plot Size to display\n",
    "plt.figure(figsize=(6,6), dpi=80)\n",
    "\n",
    "# Plot!\n",
    "plt.plot(time_series_comparison_errors)\n",
    "\n",
    "# Now we'll need a legend also\n",
    "plt.legend(time_series_comparison_errors.columns);\n",
    "\n",
    "plt.show()"
   ]
  },
  {
   "cell_type": "markdown",
   "metadata": {},
   "source": [
    "# Comparing Model Performance Statistically\n",
    "\n",
    "Well get a quantitative understanding of how our models performed statistically, by looking at some descriptive statistics such as the \"mean test set's error\" and the \"variance of our test set's errors\".  "
   ]
  },
  {
   "cell_type": "code",
   "execution_count": null,
   "metadata": {},
   "outputs": [],
   "source": [
    "time_series_comparison_errors.mean()[np.argsort(time_series_comparison_errors.mean())]"
   ]
  },
  {
   "cell_type": "code",
   "execution_count": null,
   "metadata": {
    "scrolled": false
   },
   "outputs": [],
   "source": [
    "time_series_comparison_errors.var()[np.argsort(time_series_comparison_errors.var())]"
   ]
  },
  {
   "cell_type": "markdown",
   "metadata": {},
   "source": [
    "---"
   ]
  },
  {
   "cell_type": "markdown",
   "metadata": {},
   "source": [
    "---"
   ]
  },
  {
   "cell_type": "markdown",
   "metadata": {},
   "source": [
    "# Training our Random Feature Model with the Huber Loss Regression"
   ]
  },
  {
   "cell_type": "code",
   "execution_count": null,
   "metadata": {},
   "outputs": [],
   "source": [
    "# Load the package of regression with the Huber loss function\n",
    "from sklearn.linear_model import HuberRegressor"
   ]
  },
  {
   "cell_type": "markdown",
   "metadata": {},
   "source": [
    "#### Building and Training our Regression Model\n",
    "\n",
    "We first initialize our regression model/"
   ]
  },
  {
   "cell_type": "code",
   "execution_count": null,
   "metadata": {},
   "outputs": [],
   "source": [
    "model_HuberRegression_randfeatures = HuberRegressor()"
   ]
  },
  {
   "cell_type": "markdown",
   "metadata": {},
   "source": [
    "Next we define and train our ridge model with the best parameter identified by cross-validation.  "
   ]
  },
  {
   "cell_type": "code",
   "execution_count": null,
   "metadata": {
    "scrolled": true
   },
   "outputs": [],
   "source": [
    "model_HuberRegression_randfeatures.fit(X_Rand_Features_train, Y_train)"
   ]
  },
  {
   "cell_type": "markdown",
   "metadata": {},
   "source": [
    "Now we'll predict the test data given our input train data!"
   ]
  },
  {
   "cell_type": "code",
   "execution_count": null,
   "metadata": {},
   "outputs": [],
   "source": [
    "# Generate Prediction\n",
    "Yhat_train_HuberReg_RF = model_HuberRegression_randfeatures.predict(X_Rand_Features_train)\n",
    "Yhat_train_HuberReg_RF = Yhat_train_HuberReg_RF.reshape([-1,])"
   ]
  },
  {
   "cell_type": "markdown",
   "metadata": {},
   "source": [
    "We'll record our training performance while we're at it also."
   ]
  },
  {
   "cell_type": "code",
   "execution_count": null,
   "metadata": {},
   "outputs": [],
   "source": [
    "Yhat_test_HubertReg_RF = model_HuberRegression_randfeatures.predict(X_Rand_Features_test)\n",
    "# Yhat_test_linReg = pd.DataFrame(Yhat_test_linReg)\n",
    "Yhat_test_HubertReg_RF = Yhat_test_HubertReg_RF.reshape([-1,])"
   ]
  },
  {
   "cell_type": "markdown",
   "metadata": {},
   "source": [
    "# Let's see how our new random feature model trained with ridge regression works"
   ]
  },
  {
   "cell_type": "code",
   "execution_count": null,
   "metadata": {},
   "outputs": [],
   "source": [
    "# Append Predictions to Dataframe\n",
    "time_series_comparison['Predictions_Test_RF_Huber'] = Yhat_test_HubertReg_RF\n",
    "\n",
    "# Check nothing went wrong (Safefy First!)\n",
    "Yhat_test_HubertReg_RF"
   ]
  },
  {
   "cell_type": "markdown",
   "metadata": {},
   "source": [
    "## Let's Visualize How we did with our Random Features!"
   ]
  },
  {
   "cell_type": "code",
   "execution_count": null,
   "metadata": {},
   "outputs": [],
   "source": [
    "# Activate Seaborn (<- this makes plots pretty :3)\n",
    "sns.set()\n",
    "# Set plot Size to display\n",
    "plt.figure(figsize=(12, 12), dpi=80)\n",
    "\n",
    "# Plot!\n",
    "plt.plot(time_series_comparison)\n",
    "\n",
    "# Now we'll need a legend also\n",
    "plt.legend(time_series_comparison.columns);\n",
    "\n",
    "plt.show()"
   ]
  },
  {
   "cell_type": "code",
   "execution_count": null,
   "metadata": {},
   "outputs": [],
   "source": [
    "# Get timeseries of Squred prediction errors, for vanilla regression model!\n",
    "SSE_LinReg = np.abs(time_series_comparison['Targets_Test'] - time_series_comparison['Predictions_Test'])**2\n",
    "\n",
    "# Get timeseries of Squred prediction errors, for random feature model!\n",
    "SSE_LinReg_RF = np.abs(time_series_comparison['Targets_Test'] - time_series_comparison['Predictions_Test_RF'])**2\n",
    "\n",
    "# Get timeseries of Squred prediction errors, for random feature model trained with ridge regression!\n",
    "SSE_LinReg_ridge = np.abs(time_series_comparison['Targets_Test'] - time_series_comparison['Predictions_Test_RF_Ridge'])**2\n",
    "\n",
    "# Get timeseries of Squred prediction errors, for random feature model trained with Huber loss!\n",
    "SSE_LinReg_Huber = np.abs(time_series_comparison['Targets_Test'] - time_series_comparison['Predictions_Test_RF_Huber'])**2"
   ]
  },
  {
   "cell_type": "markdown",
   "metadata": {},
   "source": [
    "We'll make a pandas dataframe!"
   ]
  },
  {
   "cell_type": "code",
   "execution_count": null,
   "metadata": {},
   "outputs": [],
   "source": [
    "# Append Predictions to Dataframe\n",
    "time_series_comparison_errors = pd.DataFrame({'Lin. Reg.':SSE_LinReg,'Lin. Reg. + RF':SSE_LinReg_RF, 'Ridge Reg. + RF': SSE_LinReg_ridge, 'Huber Loss Reg.+ RF':SSE_LinReg_Huber})\n",
    "\n",
    "# Check nothing went wrong (Safefy First!)\n",
    "time_series_comparison_errors.head()"
   ]
  },
  {
   "cell_type": "code",
   "execution_count": null,
   "metadata": {
    "scrolled": true
   },
   "outputs": [],
   "source": [
    "# Activate Seaborn (<- this makes plots pretty :3)\n",
    "sns.set()\n",
    "# Set plot Size to display\n",
    "plt.figure(figsize=(6,6), dpi=80)\n",
    "\n",
    "# Plot!\n",
    "plt.plot(time_series_comparison_errors)\n",
    "\n",
    "# Now we'll need a legend also\n",
    "plt.legend(time_series_comparison_errors.columns);\n",
    "\n",
    "plt.show()"
   ]
  },
  {
   "cell_type": "markdown",
   "metadata": {},
   "source": [
    "# Comparing Model Performance Statistically\n",
    "\n",
    "Well get a quantitative understanding of how our models performed statistically, by looking at some descriptive statistics such as the \"mean test set's error\" and the \"variance of our test set's errors\".  "
   ]
  },
  {
   "cell_type": "code",
   "execution_count": null,
   "metadata": {},
   "outputs": [],
   "source": [
    "time_series_comparison_errors.mean()[np.argsort(time_series_comparison_errors.mean())]"
   ]
  },
  {
   "cell_type": "code",
   "execution_count": null,
   "metadata": {
    "scrolled": false
   },
   "outputs": [],
   "source": [
    "time_series_comparison_errors.var()[np.argsort(time_series_comparison_errors.var())]"
   ]
  },
  {
   "cell_type": "markdown",
   "metadata": {},
   "source": [
    "---"
   ]
  },
  {
   "cell_type": "markdown",
   "metadata": {},
   "source": [
    "# Closing Thoughts:\n",
    "\n",
    "Linear regression, with its many variants does an alright job at making predictions.  However, all in all, its a bit underwhealming and overly simplistic (imo).  \n",
    "\n",
    "---\n",
    "\n",
    "# Playing with Our First *Serious* ML Algorithm\n",
    "\n",
    "However, we're now ready to take things to the next level; and really consider a simple but so powerful machine learning algorithm called *gradient boosting*.  Moreover, this regression algorithm is implemented super efficiently in the [*XGBoost* Python Package](https://xgboost.readthedocs.io/en/stable/)."
   ]
  },
  {
   "cell_type": "markdown",
   "metadata": {},
   "source": [
    "---"
   ]
  },
  {
   "cell_type": "markdown",
   "metadata": {},
   "source": [
    "# Gradient Boosting Regression"
   ]
  },
  {
   "cell_type": "markdown",
   "metadata": {},
   "source": [
    "One of your best friends when implementing ML algorithms will be [*XGBoost*](https://en.wikipedia.org/wiki/XGBoost).  This intuitive, lightning-fast, yet extremely powerful learning algorithm is very difficult to beat in practice and should (imo) as your go-to second benchmark (or even final ML model). \n",
    "\n",
    "This time, our (much richer) hypothesis class consists of regression trees.  These are a specific subclass of the set of **piecewise constant** functions (think simple functions like in Ito/stochastic integration theory which you've seen in your other course).  I.e. our hypothesis/models are of the form\n",
    "$$\n",
    "\\hat{f}(x) := \\sum_{n=1}^N\\, y_n\\, I_{[a_1^n,b_1^n]\\times \\dots \\times [a_d^n,b_d^n]}(x)\n",
    "$$\n",
    "plus some additional \"tree-structure\" amongst the little cubes $[a_1^n,b_1^n]\\times \\dots \\times [a_d^n,b_d^n]$ in $\\mathbb{R}^d$, \n",
    "*(for some vectors $y_n\\in \\mathbb{R}^D$, some real-numbers $a_i<b_i$, and some positive integer $N$)*.\n",
    "\n",
    "![Image of Yaktocat](https://www.nvidia.com/content/dam/en-zz/Solutions/glossary/data-science/xgboost/img-3.png)\n",
    "\n",
    "The tree structure is used to descide how we chop up our input space $\\mathcal{X}$ in $\\mathbb{R}^d$ into $N$ tiny little cubes: \n",
    " - $[a_1^1,b_1^1]\\times \\dots \\times [a_d^1,b_d^1]$,\n",
    " - ...\n",
    " - $[a_1^n,b_1^n]\\times \\dots \\times [a_d^N,b_d^N]$.\n",
    " \n",
    " They key point is how the algorithm chops up the space.  In brief, it first making a single prediction.  Then, it identifies the region in $\\mathbb{R}^d$ containing the most poorly predicted datapoints.  We then divid the input space into two parts; where the data was predicted well and where it was not.  We then perform another regression focusing on the points which were poorly predicted.  \n",
    " \n",
    "...\n",
    " \n",
    "This procedue is then iterated again and again, until we are satisfied with our result.  This proceduring is known in machine learning as **boosting**.  \n",
    "\n",
    "**Note:** We identify which points our model performs the worst on, by identifying the points whereon our loss-functions' *gradient* (i.e. its partial *derivatives*) are steepest!  This is where the term \"gradient\" arises in the algorithm's name: XGBoost or: (extreme) **gradient** boosting!\n",
    "\n",
    "**Note II:** The extreme in XGBoost refers to the randomization used in the algorithm *(see [extreme machine learning](https://en.wikipedia.org/wiki/Extreme_learning_machine) for further details)*.\n",
    "\n",
    "---\n",
    "\n",
    "**But how is the tree constructed?**\n",
    "\n",
    "Informally, one creates a branch \"or split of the input space\" wherever the model is underperforming on the training data.  This is quantified on the subset of the training data $\\{(x_i,y_i)\\}_{i=1}^N$ on which the model $\\hat{f}$ predict the output $y_i$ badly given the input $x_i$.  Instead of \"hand crafting\" the weights by which the \"good/badness\" of performance is ranked, we let the \"data talk\" by automatically/algorithmically adjusting the relative need to create a branch near any given data point by looking at where the model's loss is *steapest*.  \n",
    "\n",
    "This is formalized by the point where its gradient is largest!\n",
    "\n",
    "$$\\frac{\\partial \\ell}{\\partial F(x_i)} = \\frac{2}{n}(y_i - \\hat{f}(x_i))$$\n",
    "\n",
    "We iterate \"greedily\" until we are happy with our validation set results!"
   ]
  },
  {
   "cell_type": "markdown",
   "metadata": {},
   "source": [
    "As usual, let's get started by importing everyting; we'll work from xbgoost's [XGBRegressor implementation](https://xgboost.readthedocs.io/en/stable/)."
   ]
  },
  {
   "cell_type": "code",
   "execution_count": null,
   "metadata": {},
   "outputs": [],
   "source": [
    "from xgboost import XGBRegressor"
   ]
  },
  {
   "cell_type": "code",
   "execution_count": null,
   "metadata": {},
   "outputs": [],
   "source": [
    "# fit a final xgboost model on the housing dataset and make a prediction\n",
    "from numpy import asarray\n",
    "from pandas import read_csv\n",
    "\n",
    "# load the dataset\n",
    "url = 'https://raw.githubusercontent.com/jbrownlee/Datasets/master/housing.csv'\n",
    "dataframe = read_csv(url, header=None)\n",
    "data = dataframe.values\n",
    "# split dataset into input and output columns\n",
    "X, y = data[:, :-1], data[:, -1]\n",
    "# define model\n",
    "model = XGBRegressor()\n",
    "# fit model\n",
    "model.fit(X, y)\n",
    "# define new data\n",
    "row = [0.00632,18.00,2.310,0,0.5380,6.5750,65.20,4.0900,1,296.0,15.30,396.90,4.98]\n",
    "new_data = asarray([row])\n",
    "# make a prediction\n",
    "yhat = model.predict(new_data)\n",
    "# summarize prediction\n",
    "print('Predicted: %.3f' % yhat)"
   ]
  },
  {
   "cell_type": "markdown",
   "metadata": {},
   "source": [
    "#### Let's Building our XGBoost model using the classical features (just in X) as well as our random features (used in our random feature regressors thus far) and compare!\n",
    "\n",
    "We first initialize our regression model/"
   ]
  },
  {
   "cell_type": "code",
   "execution_count": null,
   "metadata": {},
   "outputs": [],
   "source": [
    "model_XGBoost = XGBRegressor(seed=2022)\n",
    "model_XGBoost_RF = XGBRegressor(seed=2022)"
   ]
  },
  {
   "cell_type": "markdown",
   "metadata": {},
   "source": [
    "Next we train both models, on their respective training sets (i.e. with X and with our random features $\\phi(X)$)."
   ]
  },
  {
   "cell_type": "code",
   "execution_count": null,
   "metadata": {
    "scrolled": true
   },
   "outputs": [],
   "source": [
    "# Train model with standard features (just X)\n",
    "model_XGBoost.fit(X_train, Y_train)\n",
    "# Train model with random features (phi(X))\n",
    "model_XGBoost_RF.fit(X_Rand_Features_train, Y_train)"
   ]
  },
  {
   "cell_type": "markdown",
   "metadata": {},
   "source": [
    "---"
   ]
  },
  {
   "cell_type": "markdown",
   "metadata": {},
   "source": [
    "### Let's see how much improvement we can get if we actually optimize XGBoost's hyperparameters.\n",
    "\n",
    "As before, we use $4$-fold cross validation; which is built into sklearn."
   ]
  },
  {
   "cell_type": "code",
   "execution_count": null,
   "metadata": {},
   "outputs": [],
   "source": [
    "# Define XGBoost Model\n",
    "model_XGBoost_Optimized = XGBRegressor(seed=2022)\n",
    "\n",
    "# Let's define our hyperparameter grid \n",
    "XGBoost_Hyperparameters = {\n",
    "    'max_depth': range (3, 8, 1),\n",
    "    'max_leaves': range (1, 5, 1),\n",
    "    'n_estimators': range(200, 400, 20),\n",
    "    'learning_rate': np.linspace(0.1, 0.5,20)\n",
    "}\n",
    "\n",
    "# As before, we'll do a (randomized) grid search amongst the model's possible hyperparameter combinations\n",
    "XGBoost_grid_search = RandomizedSearchCV(model_XGBoost_Optimized,\n",
    "                                         XGBoost_Hyperparameters,\n",
    "                                         scoring = 'neg_mean_absolute_error', \n",
    "                                         cv=2, \n",
    "                                         n_jobs=-1,\n",
    "                                         n_iter = 5,\n",
    "                                         verbose = True)\n",
    "\n",
    "# We perform the grid search\n",
    "XGBoost_grid_search.fit(X_Rand_Features_train,Y_train)\n",
    "\n",
    "# We then update/extract our best XGBoost model's/parameters\n",
    "model_XGBoost_Optimized = XGBoost_grid_search.best_estimator_"
   ]
  },
  {
   "cell_type": "markdown",
   "metadata": {},
   "source": [
    "Now we'll predict the test data given our input train data!"
   ]
  },
  {
   "cell_type": "code",
   "execution_count": null,
   "metadata": {},
   "outputs": [],
   "source": [
    "# Predict model with standard features (just X)\n",
    "Yhat_train_XGBoost = model_XGBoost.predict(X_train)\n",
    "Yhat_train_XGBoost = Yhat_train_XGBoost.reshape([-1,])\n",
    "\n",
    "\n",
    "\n",
    "# Predict model with random features (phi(X))\n",
    "Yhat_train_XGBoost_RF = model_XGBoost_RF.predict(X_Rand_Features_train)\n",
    "Yhat_train_XGBoost_RF = Yhat_train_XGBoost_RF.reshape([-1,])\n",
    "\n",
    "\n",
    "# Predict model with standard features (phi(X)) but optimized hyperparameters\n",
    "Yhat_train_XGBoost_Optimized = model_XGBoost_Optimized.predict(X_Rand_Features_train)\n",
    "Yhat_train_XGBoost_Optimized = Yhat_train_XGBoost_Optimized.reshape([-1,])"
   ]
  },
  {
   "cell_type": "markdown",
   "metadata": {},
   "source": [
    "We'll record our training performance while we're at it also."
   ]
  },
  {
   "cell_type": "code",
   "execution_count": null,
   "metadata": {},
   "outputs": [],
   "source": [
    "# Predict model with standard features (just X)\n",
    "Yhat_test_XGBoost_test = model_XGBoost.predict(X_test)\n",
    "Yhat_test_XGBoost_test = Yhat_test_XGBoost_test.reshape([-1,])\n",
    "\n",
    "\n",
    "\n",
    "# Predict model with random features (phi(X))\n",
    "Yhat_test_XGBoost_RF_test = model_XGBoost_RF.predict(X_Rand_Features_test)\n",
    "Yhat_test_XGBoost_RF_test = Yhat_test_XGBoost_RF_test.reshape([-1,])\n",
    "\n",
    "# Predict model with standard features (just X) but optimized hyperparameters\n",
    "Yhat_test_XGBoost_Optimized_test = model_XGBoost_Optimized.predict(X_Rand_Features_test)\n",
    "Yhat_test_XGBoost_Optimized_test = Yhat_test_XGBoost_Optimized_test.reshape([-1,])"
   ]
  },
  {
   "cell_type": "markdown",
   "metadata": {},
   "source": [
    "---"
   ]
  },
  {
   "cell_type": "markdown",
   "metadata": {},
   "source": [
    "# Let's compare"
   ]
  },
  {
   "cell_type": "code",
   "execution_count": null,
   "metadata": {},
   "outputs": [],
   "source": [
    "# Append Predictions to Dataframe\n",
    "time_series_comparison['Yhat_Test_XGBoost'] = Yhat_test_XGBoost_test\n",
    "time_series_comparison['Yhat_Test_XGBoost_RF'] = Yhat_test_XGBoost_RF_test\n",
    "time_series_comparison['Yhat_Test_XGBoost_Optim'] = Yhat_test_XGBoost_Optimized_test\n",
    "\n",
    "# Check nothing went wrong (Safefy First!)\n",
    "print(Yhat_test_XGBoost_test)\n",
    "print(Yhat_test_XGBoost_RF_test)\n",
    "print(Yhat_test_XGBoost_Optimized_test)"
   ]
  },
  {
   "cell_type": "markdown",
   "metadata": {},
   "source": [
    "## Let's Visualize How we did with our Random Features!"
   ]
  },
  {
   "cell_type": "code",
   "execution_count": null,
   "metadata": {},
   "outputs": [],
   "source": [
    "# Activate Seaborn (<- this makes plots pretty :3)\n",
    "sns.set()\n",
    "# Set plot Size to display\n",
    "plt.figure(figsize=(12, 12), dpi=80)\n",
    "\n",
    "# Plot!\n",
    "plt.plot(time_series_comparison)\n",
    "\n",
    "# Now we'll need a legend also\n",
    "plt.legend(time_series_comparison.columns);\n",
    "\n",
    "plt.show()"
   ]
  },
  {
   "cell_type": "code",
   "execution_count": null,
   "metadata": {},
   "outputs": [],
   "source": [
    "# Get timeseries of Squred prediction errors, for vanilla regression model!\n",
    "SSE_LinReg = np.abs(time_series_comparison['Targets_Test'] - time_series_comparison['Predictions_Test'])**2\n",
    "\n",
    "# Get timeseries of Squred prediction errors, for random feature model!\n",
    "SSE_LinReg_RF = np.abs(time_series_comparison['Targets_Test'] - time_series_comparison['Predictions_Test_RF'])**2\n",
    "\n",
    "# Get timeseries of Squred prediction errors, for random feature model trained with ridge regression!\n",
    "SSE_LinReg_ridge = np.abs(time_series_comparison['Targets_Test'] - time_series_comparison['Predictions_Test_RF_Ridge'])**2\n",
    "\n",
    "# Get timeseries of Squred prediction errors, for random feature model trained with Huber loss!\n",
    "SSE_LinReg_Huber = np.abs(time_series_comparison['Targets_Test'] - time_series_comparison['Predictions_Test_RF_Huber'])**2\n",
    "\n",
    "\n",
    "\n",
    "# Get timeseries of Squred prediction errors, XGBoost model with no random features\n",
    "SSE_XGBoost = np.abs(time_series_comparison['Targets_Test'] - time_series_comparison['Yhat_Test_XGBoost'])**2\n",
    "# Get timeseries of Squred prediction errors, XGBoost model with random features\n",
    "SSE_XGBoost_RF = np.abs(time_series_comparison['Targets_Test'] - time_series_comparison['Yhat_Test_XGBoost_RF'])**2\n",
    "# Get timeseries of Squred prediction errors, XGBoost model with random features\n",
    "SSE_XGBoost_Optim = np.abs(time_series_comparison['Targets_Test'] - time_series_comparison['Yhat_Test_XGBoost_Optim'])**2"
   ]
  },
  {
   "cell_type": "markdown",
   "metadata": {},
   "source": [
    "We'll make a pandas dataframe!"
   ]
  },
  {
   "cell_type": "code",
   "execution_count": null,
   "metadata": {},
   "outputs": [],
   "source": [
    "# Append Predictions to Dataframe\n",
    "time_series_comparison_errors = pd.DataFrame({'Lin. Reg.':SSE_LinReg,\n",
    "                                              'Lin. Reg. + RF':SSE_LinReg_RF,\n",
    "                                              'Ridge Reg. + RF': SSE_LinReg_ridge,\n",
    "                                              'Huber Loss Reg.+ RF':SSE_LinReg_Huber,\n",
    "                                              'XGBoost':SSE_XGBoost,\n",
    "                                              'XGBoost + RF':SSE_XGBoost_RF,\n",
    "                                              'XGBoost (Optimized)':SSE_XGBoost_Optim})\n",
    "\n",
    "# Check nothing went wrong (Safefy First!)\n",
    "time_series_comparison_errors.head()"
   ]
  },
  {
   "cell_type": "code",
   "execution_count": null,
   "metadata": {
    "scrolled": true
   },
   "outputs": [],
   "source": [
    "# Activate Seaborn (<- this makes plots pretty :3)\n",
    "sns.set()\n",
    "# Set plot Size to display\n",
    "plt.figure(figsize=(6,6), dpi=80)\n",
    "\n",
    "# Plot!\n",
    "plt.plot(time_series_comparison_errors)\n",
    "\n",
    "# Now we'll need a legend also\n",
    "plt.legend(time_series_comparison_errors.columns);\n",
    "\n",
    "plt.show()"
   ]
  },
  {
   "cell_type": "markdown",
   "metadata": {},
   "source": [
    "# Comparing Model Performance Statistically\n",
    "\n",
    "Well get a quantitative understanding of how our models performed statistically, by looking at some descriptive statistics such as the \"mean test set's error\" and the \"variance of our test set's errors\".  "
   ]
  },
  {
   "cell_type": "code",
   "execution_count": null,
   "metadata": {},
   "outputs": [],
   "source": [
    "time_series_comparison_errors.mean()[np.argsort(time_series_comparison_errors.mean())]"
   ]
  },
  {
   "cell_type": "code",
   "execution_count": null,
   "metadata": {
    "scrolled": false
   },
   "outputs": [],
   "source": [
    "time_series_comparison_errors.var()[np.argsort(time_series_comparison_errors.var())]"
   ]
  },
  {
   "cell_type": "markdown",
   "metadata": {},
   "source": [
    "Lastly, let's visualize how its test errors behave by visually examining the distribution of our best model's test erros.  "
   ]
  },
  {
   "cell_type": "code",
   "execution_count": null,
   "metadata": {},
   "outputs": [],
   "source": [
    "# Identify which model performs best\n",
    "errors_best_model_test = time_series_comparison_errors.iloc[:,np.array(np.argsort(time_series_comparison_errors.mean())==1)]\n",
    "\n",
    "\n",
    "# Plot\n",
    "## Set plot Size to display\n",
    "plt.figure(figsize=(6,6), dpi=80)\n",
    "## Plot!\n",
    "plt.hist(errors_best_model_test, density=True, bins=30)  # density=False would make counts\n",
    "## Now we'll need a legend also\n",
    "plt.legend('Tets Error Distribution');\n",
    "\n",
    "plt.show()"
   ]
  },
  {
   "cell_type": "markdown",
   "metadata": {},
   "source": [
    "---"
   ]
  },
  {
   "cell_type": "markdown",
   "metadata": {},
   "source": [
    "---"
   ]
  },
  {
   "cell_type": "markdown",
   "metadata": {},
   "source": [
    "---"
   ]
  }
 ],
 "metadata": {
  "kernelspec": {
   "display_name": "Python 3",
   "language": "python",
   "name": "python3"
  },
  "language_info": {
   "codemirror_mode": {
    "name": "ipython",
    "version": 3
   },
   "file_extension": ".py",
   "mimetype": "text/x-python",
   "name": "python",
   "nbconvert_exporter": "python",
   "pygments_lexer": "ipython3",
   "version": "3.9.13"
  }
 },
 "nbformat": 4,
 "nbformat_minor": 5
}
