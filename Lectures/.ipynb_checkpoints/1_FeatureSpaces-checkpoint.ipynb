{
 "cells": [
  {
   "cell_type": "markdown",
   "id": "25eeac8a",
   "metadata": {},
   "source": [
    "# Introduction to Regression\n",
    "\n",
    "---"
   ]
  },
  {
   "cell_type": "markdown",
   "id": "7d110253",
   "metadata": {},
   "source": [
    "## Getting Started\n",
    "Let's start with the basics and some artificial data!"
   ]
  },
  {
   "cell_type": "markdown",
   "id": "710724fe",
   "metadata": {},
   "source": [
    "### Initializations"
   ]
  },
  {
   "cell_type": "markdown",
   "id": "b553255c",
   "metadata": {},
   "source": [
    "Initialize/Import some basic packages\n",
    "\n",
    "*Make sure to comment your code so you can remember what it does in 2+ days :P*"
   ]
  },
  {
   "cell_type": "code",
   "execution_count": 1,
   "id": "444b4473",
   "metadata": {},
   "outputs": [],
   "source": [
    "import numpy as np\n",
    "import pandas as pd\n",
    "\n",
    "import matplotlib.pyplot as plt\n",
    "import seaborn as sns\n",
    "\n",
    "import math\n",
    "\n",
    "# pipeing:\n",
    "from sklearn.pipeline import make_pipeline\n",
    "\n",
    "# Let's ignore warnings (they're annoying and we know what's up)\n",
    "import warnings\n",
    "warnings.filterwarnings(\"ignore\")"
   ]
  },
  {
   "cell_type": "markdown",
   "id": "8f46da20",
   "metadata": {},
   "source": [
    "ML Models"
   ]
  },
  {
   "cell_type": "code",
   "execution_count": 2,
   "id": "d8f72263",
   "metadata": {},
   "outputs": [],
   "source": [
    "from sklearn.linear_model import LinearRegression"
   ]
  },
  {
   "cell_type": "markdown",
   "id": "4c0e67f7",
   "metadata": {},
   "source": [
    "---\n",
    "\n",
    "Let's generate some fake data\n",
    "\n",
    "---"
   ]
  },
  {
   "cell_type": "markdown",
   "id": "f373986b",
   "metadata": {},
   "source": [
    "Let's fix some parameters\n",
    "\n",
    "*Fixing things ahead of time will make it easy to modify our code on the fly!*"
   ]
  },
  {
   "cell_type": "code",
   "execution_count": 3,
   "id": "7a70afcf",
   "metadata": {},
   "outputs": [],
   "source": [
    "# Number of training points\n",
    "N_train = 10\n",
    "N_test = 2\n",
    "# Dimension of Input Space\n",
    "d = 2"
   ]
  },
  {
   "cell_type": "markdown",
   "id": "355573f3",
   "metadata": {},
   "source": [
    "#### Inputs"
   ]
  },
  {
   "cell_type": "code",
   "execution_count": 4,
   "id": "0555eb54",
   "metadata": {},
   "outputs": [
    {
     "name": "stdout",
     "output_type": "stream",
     "text": [
      "         x1        x2\n",
      "0  0.342005  1.346096\n",
      "1 -0.122777  0.562365\n",
      "2 -0.948012  0.023128\n",
      "3 -0.856475 -2.488948\n",
      "4  0.528913 -1.491566\n",
      "5 -1.046714 -0.274282\n",
      "6 -1.988050  0.199408\n",
      "7 -2.369515 -0.549052\n",
      "8  0.085393  0.514469\n",
      "9  0.915233  0.119964\n"
     ]
    },
    {
     "data": {
      "text/html": [
       "<div>\n",
       "<style scoped>\n",
       "    .dataframe tbody tr th:only-of-type {\n",
       "        vertical-align: middle;\n",
       "    }\n",
       "\n",
       "    .dataframe tbody tr th {\n",
       "        vertical-align: top;\n",
       "    }\n",
       "\n",
       "    .dataframe thead th {\n",
       "        text-align: right;\n",
       "    }\n",
       "</style>\n",
       "<table border=\"1\" class=\"dataframe\">\n",
       "  <thead>\n",
       "    <tr style=\"text-align: right;\">\n",
       "      <th></th>\n",
       "      <th>x1</th>\n",
       "      <th>x2</th>\n",
       "    </tr>\n",
       "  </thead>\n",
       "  <tbody>\n",
       "    <tr>\n",
       "      <th>0</th>\n",
       "      <td>-1.171330</td>\n",
       "      <td>-0.876224</td>\n",
       "    </tr>\n",
       "    <tr>\n",
       "      <th>1</th>\n",
       "      <td>-0.745724</td>\n",
       "      <td>-0.323911</td>\n",
       "    </tr>\n",
       "  </tbody>\n",
       "</table>\n",
       "</div>"
      ],
      "text/plain": [
       "         x1        x2\n",
       "0 -1.171330 -0.876224\n",
       "1 -0.745724 -0.323911"
      ]
     },
     "execution_count": 4,
     "metadata": {},
     "output_type": "execute_result"
    }
   ],
   "source": [
    "# Training Set\n",
    "\n",
    "## A Random set of N inputs in 2 dimensions\n",
    "X_train = np.random.normal(0,1,np.array([N_train,d]))\n",
    "## 1) We'll convert to pandas object type since it's easier to work with than numpy (in these cases)\n",
    "## 2) We'll name our columns\n",
    "X_train = pd.DataFrame(X_train,columns=['x1','x2'])\n",
    "## View our Dataframe (to make sure there arent' any coding erros)\n",
    "print(X_train)\n",
    "\n",
    "# Testing Set\n",
    "X_test = np.random.normal(0,1,np.array([N_test,d]))\n",
    "## 1) We'll convert to pandas object type since it's easier to work with than numpy (in these cases)\n",
    "## 2) We'll name our columns\n",
    "X_test = pd.DataFrame(X_test,columns=['x1','x2'])\n",
    "## View our Dataframe (to make sure there arent' any coding erros)\n",
    "X_test"
   ]
  },
  {
   "cell_type": "markdown",
   "id": "d07bde4b",
   "metadata": {},
   "source": [
    "#### Outputs\n",
    "We'll consider the simple (noisless) linear target model\n",
    "$$\n",
    "y_n = 2\\,x_1 + 2\\,x_2\n",
    "$$"
   ]
  },
  {
   "cell_type": "code",
   "execution_count": 5,
   "id": "c14f60d7",
   "metadata": {},
   "outputs": [
    {
     "name": "stdout",
     "output_type": "stream",
     "text": [
      "          Y\n",
      "0  2.030106\n",
      "1  0.316810\n",
      "2 -1.872895\n",
      "3 -4.201897\n",
      "4 -0.433740\n",
      "5 -2.367711\n",
      "6 -3.776691\n",
      "7 -5.288083\n",
      "8  0.685254\n",
      "9  1.950431\n"
     ]
    },
    {
     "data": {
      "text/html": [
       "<div>\n",
       "<style scoped>\n",
       "    .dataframe tbody tr th:only-of-type {\n",
       "        vertical-align: middle;\n",
       "    }\n",
       "\n",
       "    .dataframe tbody tr th {\n",
       "        vertical-align: top;\n",
       "    }\n",
       "\n",
       "    .dataframe thead th {\n",
       "        text-align: right;\n",
       "    }\n",
       "</style>\n",
       "<table border=\"1\" class=\"dataframe\">\n",
       "  <thead>\n",
       "    <tr style=\"text-align: right;\">\n",
       "      <th></th>\n",
       "      <th>Y</th>\n",
       "    </tr>\n",
       "  </thead>\n",
       "  <tbody>\n",
       "    <tr>\n",
       "      <th>0</th>\n",
       "      <td>-3.218884</td>\n",
       "    </tr>\n",
       "    <tr>\n",
       "      <th>1</th>\n",
       "      <td>-1.815359</td>\n",
       "    </tr>\n",
       "  </tbody>\n",
       "</table>\n",
       "</div>"
      ],
      "text/plain": [
       "          Y\n",
       "0 -3.218884\n",
       "1 -1.815359"
      ]
     },
     "execution_count": 5,
     "metadata": {},
     "output_type": "execute_result"
    }
   ],
   "source": [
    "# Train\n",
    "\n",
    "## Initialize our target dataframe\n",
    "Y_train = X_train.copy()\n",
    "## We first multiply the first row of our Pandas Dataframe by 2 (note the above equation)\n",
    "Y_train['x1'] = Y_train['x1'].apply(lambda x: 2*x)\n",
    "## We'll sum across the rows of our dataframe\n",
    "Y_train = pd.DataFrame(Y_train.sum(axis = 1),columns=['Y'])\n",
    "## Visualize to check there are no coding errors!\n",
    "print(Y_train)\n",
    "\n",
    "# Test\n",
    "## Initialize our target dataframe\n",
    "Y_test = X_test.copy()\n",
    "## We first multiply the first row of our Pandas Dataframe by 2 (note the above equation)\n",
    "Y_test['x1'] = Y_test['x1'].apply(lambda x: 2*x)\n",
    "## We'll sum across the rows of our dataframe\n",
    "Y_test = pd.DataFrame(Y_test.sum(axis = 1),columns=['Y'])\n",
    "Y_test"
   ]
  },
  {
   "cell_type": "markdown",
   "id": "f9b1eaae",
   "metadata": {},
   "source": [
    "#### Building and Training our Regression Model"
   ]
  },
  {
   "cell_type": "code",
   "execution_count": 6,
   "id": "0fc866a5",
   "metadata": {},
   "outputs": [],
   "source": [
    "model = LinearRegression()"
   ]
  },
  {
   "cell_type": "markdown",
   "id": "872c2681",
   "metadata": {},
   "source": [
    "First we train our model, with the \"training\" (a.k.a. in-sample) data."
   ]
  },
  {
   "cell_type": "code",
   "execution_count": 7,
   "id": "44603410",
   "metadata": {},
   "outputs": [
    {
     "data": {
      "text/html": [
       "<style>#sk-container-id-1 {color: black;background-color: white;}#sk-container-id-1 pre{padding: 0;}#sk-container-id-1 div.sk-toggleable {background-color: white;}#sk-container-id-1 label.sk-toggleable__label {cursor: pointer;display: block;width: 100%;margin-bottom: 0;padding: 0.3em;box-sizing: border-box;text-align: center;}#sk-container-id-1 label.sk-toggleable__label-arrow:before {content: \"▸\";float: left;margin-right: 0.25em;color: #696969;}#sk-container-id-1 label.sk-toggleable__label-arrow:hover:before {color: black;}#sk-container-id-1 div.sk-estimator:hover label.sk-toggleable__label-arrow:before {color: black;}#sk-container-id-1 div.sk-toggleable__content {max-height: 0;max-width: 0;overflow: hidden;text-align: left;background-color: #f0f8ff;}#sk-container-id-1 div.sk-toggleable__content pre {margin: 0.2em;color: black;border-radius: 0.25em;background-color: #f0f8ff;}#sk-container-id-1 input.sk-toggleable__control:checked~div.sk-toggleable__content {max-height: 200px;max-width: 100%;overflow: auto;}#sk-container-id-1 input.sk-toggleable__control:checked~label.sk-toggleable__label-arrow:before {content: \"▾\";}#sk-container-id-1 div.sk-estimator input.sk-toggleable__control:checked~label.sk-toggleable__label {background-color: #d4ebff;}#sk-container-id-1 div.sk-label input.sk-toggleable__control:checked~label.sk-toggleable__label {background-color: #d4ebff;}#sk-container-id-1 input.sk-hidden--visually {border: 0;clip: rect(1px 1px 1px 1px);clip: rect(1px, 1px, 1px, 1px);height: 1px;margin: -1px;overflow: hidden;padding: 0;position: absolute;width: 1px;}#sk-container-id-1 div.sk-estimator {font-family: monospace;background-color: #f0f8ff;border: 1px dotted black;border-radius: 0.25em;box-sizing: border-box;margin-bottom: 0.5em;}#sk-container-id-1 div.sk-estimator:hover {background-color: #d4ebff;}#sk-container-id-1 div.sk-parallel-item::after {content: \"\";width: 100%;border-bottom: 1px solid gray;flex-grow: 1;}#sk-container-id-1 div.sk-label:hover label.sk-toggleable__label {background-color: #d4ebff;}#sk-container-id-1 div.sk-serial::before {content: \"\";position: absolute;border-left: 1px solid gray;box-sizing: border-box;top: 0;bottom: 0;left: 50%;z-index: 0;}#sk-container-id-1 div.sk-serial {display: flex;flex-direction: column;align-items: center;background-color: white;padding-right: 0.2em;padding-left: 0.2em;position: relative;}#sk-container-id-1 div.sk-item {position: relative;z-index: 1;}#sk-container-id-1 div.sk-parallel {display: flex;align-items: stretch;justify-content: center;background-color: white;position: relative;}#sk-container-id-1 div.sk-item::before, #sk-container-id-1 div.sk-parallel-item::before {content: \"\";position: absolute;border-left: 1px solid gray;box-sizing: border-box;top: 0;bottom: 0;left: 50%;z-index: -1;}#sk-container-id-1 div.sk-parallel-item {display: flex;flex-direction: column;z-index: 1;position: relative;background-color: white;}#sk-container-id-1 div.sk-parallel-item:first-child::after {align-self: flex-end;width: 50%;}#sk-container-id-1 div.sk-parallel-item:last-child::after {align-self: flex-start;width: 50%;}#sk-container-id-1 div.sk-parallel-item:only-child::after {width: 0;}#sk-container-id-1 div.sk-dashed-wrapped {border: 1px dashed gray;margin: 0 0.4em 0.5em 0.4em;box-sizing: border-box;padding-bottom: 0.4em;background-color: white;}#sk-container-id-1 div.sk-label label {font-family: monospace;font-weight: bold;display: inline-block;line-height: 1.2em;}#sk-container-id-1 div.sk-label-container {text-align: center;}#sk-container-id-1 div.sk-container {/* jupyter's `normalize.less` sets `[hidden] { display: none; }` but bootstrap.min.css set `[hidden] { display: none !important; }` so we also need the `!important` here to be able to override the default hidden behavior on the sphinx rendered scikit-learn.org. See: https://github.com/scikit-learn/scikit-learn/issues/21755 */display: inline-block !important;position: relative;}#sk-container-id-1 div.sk-text-repr-fallback {display: none;}</style><div id=\"sk-container-id-1\" class=\"sk-top-container\"><div class=\"sk-text-repr-fallback\"><pre>LinearRegression()</pre><b>In a Jupyter environment, please rerun this cell to show the HTML representation or trust the notebook. <br />On GitHub, the HTML representation is unable to render, please try loading this page with nbviewer.org.</b></div><div class=\"sk-container\" hidden><div class=\"sk-item\"><div class=\"sk-estimator sk-toggleable\"><input class=\"sk-toggleable__control sk-hidden--visually\" id=\"sk-estimator-id-1\" type=\"checkbox\" checked><label for=\"sk-estimator-id-1\" class=\"sk-toggleable__label sk-toggleable__label-arrow\">LinearRegression</label><div class=\"sk-toggleable__content\"><pre>LinearRegression()</pre></div></div></div></div></div>"
      ],
      "text/plain": [
       "LinearRegression()"
      ]
     },
     "execution_count": 7,
     "metadata": {},
     "output_type": "execute_result"
    }
   ],
   "source": [
    "model.fit(X_train, Y_train)"
   ]
  },
  {
   "cell_type": "markdown",
   "id": "d28fbfd2",
   "metadata": {},
   "source": [
    "Now we'll predict the test data given our input train data!"
   ]
  },
  {
   "cell_type": "code",
   "execution_count": 8,
   "id": "9ef5d691",
   "metadata": {},
   "outputs": [
    {
     "data": {
      "text/plain": [
       "array([-3.21888368, -1.81535899])"
      ]
     },
     "execution_count": 8,
     "metadata": {},
     "output_type": "execute_result"
    }
   ],
   "source": [
    "# Generate Prediction\n",
    "Yhat_test = model.predict(X_test)\n",
    "# Convert to \"vector shape\"\n",
    "Yhat_test = Yhat_test.reshape([-1,])\n",
    "# Visualize to make sure things look okay!\n",
    "Yhat_test"
   ]
  },
  {
   "cell_type": "markdown",
   "id": "2965e039",
   "metadata": {},
   "source": [
    "We'll record our training performance while we're at it also."
   ]
  },
  {
   "cell_type": "code",
   "execution_count": 9,
   "id": "ea091f38",
   "metadata": {},
   "outputs": [
    {
     "data": {
      "text/plain": [
       "array([ 2.03010591,  0.31680972, -1.87289537, -4.20189718, -0.43373997,\n",
       "       -2.3677107 , -3.77669109, -5.28808279,  0.6852542 ,  1.95043105])"
      ]
     },
     "execution_count": 9,
     "metadata": {},
     "output_type": "execute_result"
    }
   ],
   "source": [
    "# Generate Prediction\n",
    "Yhat_train = model.predict(X_train)\n",
    "# Convert to \"vector shape\"\n",
    "Yhat_train = Yhat_train.reshape([-1,])\n",
    "# Visualize to make sure things look okay!\n",
    "Yhat_train"
   ]
  },
  {
   "cell_type": "markdown",
   "id": "70f49448",
   "metadata": {},
   "source": [
    "---"
   ]
  },
  {
   "cell_type": "markdown",
   "id": "b3e5206e",
   "metadata": {},
   "source": [
    "### Let's do it with real data.\n",
    "\n",
    "Let's pull data from Yahoo finance."
   ]
  },
  {
   "cell_type": "code",
   "execution_count": 10,
   "id": "54d97514",
   "metadata": {},
   "outputs": [],
   "source": [
    "# This package pulls, data from finance\n",
    "import yfinance as yf"
   ]
  },
  {
   "cell_type": "markdown",
   "id": "3cd425a6",
   "metadata": {},
   "source": [
    "We will pull, google stock's daily closing prices from Yahoo finance as covariates.\n",
    "The targets will be Google's next day price using apple's closing price from the day before:)\n",
    "\n",
    "We'll train on a daily 3 year period!"
   ]
  },
  {
   "cell_type": "code",
   "execution_count": 11,
   "id": "881b348e",
   "metadata": {},
   "outputs": [
    {
     "name": "stdout",
     "output_type": "stream",
     "text": [
      "[*********************100%***********************]  1 of 1 completed\n",
      "Tail\n",
      "                 Open       High        Low      Close  Adj Close    Volume\n",
      "Date                                                                       \n",
      "2020-12-22  86.721497  86.870247  85.628754  86.175003  86.175003  18734000\n",
      "2020-12-23  86.405502  87.399498  86.251999  86.619003  86.619003  20676000\n",
      "2020-12-24  86.750000  87.300003  86.455498  86.942497  86.942497   6936000\n",
      "2020-12-28  87.581749  89.536400  87.316750  88.804497  88.804497  27860000\n",
      "2020-12-29  89.389503  89.622002  87.804497  87.935997  87.935997  25988000\n",
      "Head\n",
      "                 Open       High        Low      Close  Adj Close    Volume\n",
      "Date                                                                       \n",
      "2018-01-03  53.215500  54.314499  53.160500  54.124001  54.124001  28604000\n",
      "2018-01-04  54.400002  54.678501  54.200100  54.320000  54.320000  20092000\n",
      "2018-01-05  54.700001  55.212502  54.599998  55.111500  55.111500  25582000\n",
      "2018-01-08  55.111500  55.563499  55.081001  55.347000  55.347000  20952000\n",
      "2018-01-09  55.470001  55.528500  55.061550  55.313000  55.313000  18050000\n",
      "[*********************100%***********************]  1 of 1 completed\n",
      "Tail\n",
      "                  Open        High         Low       Close   Adj Close  \\\n",
      "Date                                                                     \n",
      "2020-12-21  125.019997  128.309998  123.449997  128.229996  126.170647   \n",
      "2020-12-22  131.610001  134.410004  129.649994  131.880005  129.762024   \n",
      "2020-12-23  132.160004  132.429993  130.779999  130.960007  128.856827   \n",
      "2020-12-24  131.320007  133.460007  131.100006  131.970001  129.850555   \n",
      "2020-12-28  133.990005  137.339996  133.509995  136.690002  134.494766   \n",
      "\n",
      "               Volume  \n",
      "Date                   \n",
      "2020-12-21  121251600  \n",
      "2020-12-22  168904800  \n",
      "2020-12-23   88223700  \n",
      "2020-12-24   54930100  \n",
      "2020-12-28  124486200  \n",
      "Head\n",
      "                 Open       High        Low      Close  Adj Close     Volume\n",
      "Date                                                                        \n",
      "2018-01-02  42.540001  43.075001  42.314999  43.064999  40.776524  102223600\n",
      "2018-01-03  43.132500  43.637501  42.990002  43.057499  40.769424  118071600\n",
      "2018-01-04  43.134998  43.367500  43.020000  43.257500  40.958794   89738400\n",
      "2018-01-05  43.360001  43.842499  43.262501  43.750000  41.425129   94640000\n",
      "2018-01-08  43.587502  43.902500  43.482498  43.587502  41.271267   82271200\n"
     ]
    }
   ],
   "source": [
    "# Pull\n",
    "Y_data_raw = yf.download('GOOG','2018-01-03','2020-12-30')\n",
    "# check\n",
    "print('Tail')\n",
    "print(Y_data_raw.tail())\n",
    "print('Head')\n",
    "print(Y_data_raw.head())\n",
    "\n",
    "# Pull Covariates\n",
    "X_data_raw = yf.download('AAPL','2018-01-02','2020-12-29')\n",
    "# check\n",
    "print('Tail')\n",
    "print(X_data_raw.tail())\n",
    "print('Head')\n",
    "print(X_data_raw.head())"
   ]
  },
  {
   "cell_type": "code",
   "execution_count": 12,
   "id": "38b77553",
   "metadata": {},
   "outputs": [
    {
     "name": "stdout",
     "output_type": "stream",
     "text": [
      "(753, 1)\n",
      "(753, 1)\n"
     ]
    }
   ],
   "source": [
    "# 1) Keep only the Closing Prices as covariates\n",
    "# 2) Convert to Dataframe type (Manipulation of data is easier for this object class; as opposed to numpy arrays)\n",
    "Y = pd.DataFrame(Y_data_raw.Close)\n",
    "X = pd.DataFrame(X_data_raw.Close)\n",
    "\n",
    "# Just double-check arrays are of the same size (note Jan. 1rst is a holiday)\n",
    "print(X.shape)\n",
    "print(Y.shape)"
   ]
  },
  {
   "cell_type": "markdown",
   "id": "fa51f3cb",
   "metadata": {},
   "source": [
    "Let's visualize things"
   ]
  },
  {
   "cell_type": "code",
   "execution_count": 13,
   "id": "84e6d299",
   "metadata": {},
   "outputs": [
    {
     "data": {
      "text/plain": [
       "[<matplotlib.lines.Line2D at 0x1617e50d0>]"
      ]
     },
     "execution_count": 13,
     "metadata": {},
     "output_type": "execute_result"
    },
    {
     "data": {
      "image/png": "[encoded data removed]",
      "text/plain": [
       "<Figure size 640x480 with 1 Axes>"
      ]
     },
     "metadata": {},
     "output_type": "display_data"
    }
   ],
   "source": [
    "# Activate Seaborn (<- this makes plots pretty :3)\n",
    "sns.set()\n",
    "\n",
    "# Plot!\n",
    "plt.plot(Y)\n",
    "plt.plot(X)"
   ]
  },
  {
   "cell_type": "markdown",
   "id": "f837ce1d",
   "metadata": {},
   "source": [
    "Let's make the last 20 days \"invisible\" and use them as our testing set (we'll pretend those are the too be predicted prices!)."
   ]
  },
  {
   "cell_type": "code",
   "execution_count": 14,
   "id": "e69a232d",
   "metadata": {},
   "outputs": [
    {
     "name": "stdout",
     "output_type": "stream",
     "text": [
      "Check Train\n",
      "(653, 1)\n",
      "                Close\n",
      "Date                 \n",
      "2018-01-02  43.064999\n",
      "2018-01-03  43.057499\n",
      "2018-01-04  43.257500\n",
      "2018-01-05  43.750000\n",
      "2018-01-08  43.587502\n",
      "Check Test\n",
      "(100, 1)\n"
     ]
    },
    {
     "data": {
      "text/html": [
       "<div>\n",
       "<style scoped>\n",
       "    .dataframe tbody tr th:only-of-type {\n",
       "        vertical-align: middle;\n",
       "    }\n",
       "\n",
       "    .dataframe tbody tr th {\n",
       "        vertical-align: top;\n",
       "    }\n",
       "\n",
       "    .dataframe thead th {\n",
       "        text-align: right;\n",
       "    }\n",
       "</style>\n",
       "<table border=\"1\" class=\"dataframe\">\n",
       "  <thead>\n",
       "    <tr style=\"text-align: right;\">\n",
       "      <th></th>\n",
       "      <th>Close</th>\n",
       "    </tr>\n",
       "    <tr>\n",
       "      <th>Date</th>\n",
       "      <th></th>\n",
       "    </tr>\n",
       "  </thead>\n",
       "  <tbody>\n",
       "    <tr>\n",
       "      <th>2018-01-02</th>\n",
       "      <td>43.064999</td>\n",
       "    </tr>\n",
       "    <tr>\n",
       "      <th>2018-01-03</th>\n",
       "      <td>43.057499</td>\n",
       "    </tr>\n",
       "    <tr>\n",
       "      <th>2018-01-04</th>\n",
       "      <td>43.257500</td>\n",
       "    </tr>\n",
       "    <tr>\n",
       "      <th>2018-01-05</th>\n",
       "      <td>43.750000</td>\n",
       "    </tr>\n",
       "    <tr>\n",
       "      <th>2018-01-08</th>\n",
       "      <td>43.587502</td>\n",
       "    </tr>\n",
       "  </tbody>\n",
       "</table>\n",
       "</div>"
      ],
      "text/plain": [
       "                Close\n",
       "Date                 \n",
       "2018-01-02  43.064999\n",
       "2018-01-03  43.057499\n",
       "2018-01-04  43.257500\n",
       "2018-01-05  43.750000\n",
       "2018-01-08  43.587502"
      ]
     },
     "execution_count": 14,
     "metadata": {},
     "output_type": "execute_result"
    }
   ],
   "source": [
    "# Number of training points\n",
    "N_test = 10**2\n",
    "\n",
    "# Build Train\n",
    "Y_train = Y[:-N_test]\n",
    "X_train = X[:-N_test]\n",
    "\n",
    "# Build Test\n",
    "Y_test = Y[:N_test]\n",
    "X_test = X[:N_test]\n",
    "\n",
    "\n",
    "# Visualize Dataframe Dimensions (make sure things are running reasonably!)\n",
    "print('Check Train')\n",
    "print(X_train.shape)\n",
    "print(X_train.head())\n",
    "print('Check Test')\n",
    "print(X_test.shape)\n",
    "X_test.head()"
   ]
  },
  {
   "cell_type": "markdown",
   "id": "182b221b",
   "metadata": {},
   "source": [
    "#### Building and Training our Regression Model"
   ]
  },
  {
   "cell_type": "code",
   "execution_count": 15,
   "id": "ca1f429b",
   "metadata": {},
   "outputs": [],
   "source": [
    "model = LinearRegression()"
   ]
  },
  {
   "cell_type": "markdown",
   "id": "edae35a9",
   "metadata": {},
   "source": [
    "First we train our model, with the \"training\" (a.k.a. in-sample) data."
   ]
  },
  {
   "cell_type": "code",
   "execution_count": 16,
   "id": "5d635c23",
   "metadata": {},
   "outputs": [
    {
     "data": {
      "text/html": [
       "<style>#sk-container-id-2 {color: black;background-color: white;}#sk-container-id-2 pre{padding: 0;}#sk-container-id-2 div.sk-toggleable {background-color: white;}#sk-container-id-2 label.sk-toggleable__label {cursor: pointer;display: block;width: 100%;margin-bottom: 0;padding: 0.3em;box-sizing: border-box;text-align: center;}#sk-container-id-2 label.sk-toggleable__label-arrow:before {content: \"▸\";float: left;margin-right: 0.25em;color: #696969;}#sk-container-id-2 label.sk-toggleable__label-arrow:hover:before {color: black;}#sk-container-id-2 div.sk-estimator:hover label.sk-toggleable__label-arrow:before {color: black;}#sk-container-id-2 div.sk-toggleable__content {max-height: 0;max-width: 0;overflow: hidden;text-align: left;background-color: #f0f8ff;}#sk-container-id-2 div.sk-toggleable__content pre {margin: 0.2em;color: black;border-radius: 0.25em;background-color: #f0f8ff;}#sk-container-id-2 input.sk-toggleable__control:checked~div.sk-toggleable__content {max-height: 200px;max-width: 100%;overflow: auto;}#sk-container-id-2 input.sk-toggleable__control:checked~label.sk-toggleable__label-arrow:before {content: \"▾\";}#sk-container-id-2 div.sk-estimator input.sk-toggleable__control:checked~label.sk-toggleable__label {background-color: #d4ebff;}#sk-container-id-2 div.sk-label input.sk-toggleable__control:checked~label.sk-toggleable__label {background-color: #d4ebff;}#sk-container-id-2 input.sk-hidden--visually {border: 0;clip: rect(1px 1px 1px 1px);clip: rect(1px, 1px, 1px, 1px);height: 1px;margin: -1px;overflow: hidden;padding: 0;position: absolute;width: 1px;}#sk-container-id-2 div.sk-estimator {font-family: monospace;background-color: #f0f8ff;border: 1px dotted black;border-radius: 0.25em;box-sizing: border-box;margin-bottom: 0.5em;}#sk-container-id-2 div.sk-estimator:hover {background-color: #d4ebff;}#sk-container-id-2 div.sk-parallel-item::after {content: \"\";width: 100%;border-bottom: 1px solid gray;flex-grow: 1;}#sk-container-id-2 div.sk-label:hover label.sk-toggleable__label {background-color: #d4ebff;}#sk-container-id-2 div.sk-serial::before {content: \"\";position: absolute;border-left: 1px solid gray;box-sizing: border-box;top: 0;bottom: 0;left: 50%;z-index: 0;}#sk-container-id-2 div.sk-serial {display: flex;flex-direction: column;align-items: center;background-color: white;padding-right: 0.2em;padding-left: 0.2em;position: relative;}#sk-container-id-2 div.sk-item {position: relative;z-index: 1;}#sk-container-id-2 div.sk-parallel {display: flex;align-items: stretch;justify-content: center;background-color: white;position: relative;}#sk-container-id-2 div.sk-item::before, #sk-container-id-2 div.sk-parallel-item::before {content: \"\";position: absolute;border-left: 1px solid gray;box-sizing: border-box;top: 0;bottom: 0;left: 50%;z-index: -1;}#sk-container-id-2 div.sk-parallel-item {display: flex;flex-direction: column;z-index: 1;position: relative;background-color: white;}#sk-container-id-2 div.sk-parallel-item:first-child::after {align-self: flex-end;width: 50%;}#sk-container-id-2 div.sk-parallel-item:last-child::after {align-self: flex-start;width: 50%;}#sk-container-id-2 div.sk-parallel-item:only-child::after {width: 0;}#sk-container-id-2 div.sk-dashed-wrapped {border: 1px dashed gray;margin: 0 0.4em 0.5em 0.4em;box-sizing: border-box;padding-bottom: 0.4em;background-color: white;}#sk-container-id-2 div.sk-label label {font-family: monospace;font-weight: bold;display: inline-block;line-height: 1.2em;}#sk-container-id-2 div.sk-label-container {text-align: center;}#sk-container-id-2 div.sk-container {/* jupyter's `normalize.less` sets `[hidden] { display: none; }` but bootstrap.min.css set `[hidden] { display: none !important; }` so we also need the `!important` here to be able to override the default hidden behavior on the sphinx rendered scikit-learn.org. See: https://github.com/scikit-learn/scikit-learn/issues/21755 */display: inline-block !important;position: relative;}#sk-container-id-2 div.sk-text-repr-fallback {display: none;}</style><div id=\"sk-container-id-2\" class=\"sk-top-container\"><div class=\"sk-text-repr-fallback\"><pre>LinearRegression()</pre><b>In a Jupyter environment, please rerun this cell to show the HTML representation or trust the notebook. <br />On GitHub, the HTML representation is unable to render, please try loading this page with nbviewer.org.</b></div><div class=\"sk-container\" hidden><div class=\"sk-item\"><div class=\"sk-estimator sk-toggleable\"><input class=\"sk-toggleable__control sk-hidden--visually\" id=\"sk-estimator-id-2\" type=\"checkbox\" checked><label for=\"sk-estimator-id-2\" class=\"sk-toggleable__label sk-toggleable__label-arrow\">LinearRegression</label><div class=\"sk-toggleable__content\"><pre>LinearRegression()</pre></div></div></div></div></div>"
      ],
      "text/plain": [
       "LinearRegression()"
      ]
     },
     "execution_count": 16,
     "metadata": {},
     "output_type": "execute_result"
    }
   ],
   "source": [
    "model.fit(X_train, Y_train)"
   ]
  },
  {
   "cell_type": "markdown",
   "id": "fe89fda2",
   "metadata": {},
   "source": [
    "Now we'll predict the test data given our input train data!"
   ]
  },
  {
   "cell_type": "code",
   "execution_count": 17,
   "id": "b816f223",
   "metadata": {},
   "outputs": [
    {
     "data": {
      "text/plain": [
       "array([54.71761996, 54.7145467 , 54.79650399, 54.99832318, 54.93173376,\n",
       "       54.92968439, 54.92558567, 55.027008  , 55.21243541, 55.12023444,\n",
       "       55.41835333, 55.43474353, 55.35278781, 55.20321563, 55.20731279,\n",
       "       54.91841525, 54.59980742, 54.64078529, 54.27710244, 54.17568011,\n",
       "       54.2228045 , 54.25866131, 53.51285291, 53.10204411, 53.77204173,\n",
       "       53.41450385, 52.96476498, 53.09384822, 53.73925976, 53.90624604,\n",
       "       54.21665798, 54.79240683, 54.73503563, 54.67561819, 54.59571026,\n",
       "       54.74220761, 55.04954629, 55.40503482, 55.34561582, 55.3179549 ,\n",
       "       54.99832318, 55.1222838 , 55.18477606, 55.16940819, 55.00139644,\n",
       "       55.1970691 , 55.50850494, 55.68676194, 55.50748104, 55.35073844,\n",
       "       55.37225127, 55.30771122, 55.02905736, 55.02291083, 54.61619919,\n",
       "       54.36827952, 53.9677144 , 54.76986853, 54.31603094, 54.1254809 ,\n",
       "       54.25866131, 54.14596983, 54.32115357, 54.65103054, 54.77294179,\n",
       "       54.32012967, 54.49121467, 54.81904228, 54.73606109, 54.91021936,\n",
       "       54.97066226, 55.08232983, 55.33024951, 55.28927008, 54.77294179,\n",
       "       54.04762233, 53.99844858, 53.76282195, 53.83555789, 53.89395299,\n",
       "       53.69930579, 54.00049638, 54.39389107, 55.1591645 , 55.19194648,\n",
       "       55.90292354, 56.0391772 , 56.13035428, 56.26455859, 56.53911372,\n",
       "       56.39056701, 56.34549042, 56.17030825, 56.34856368, 56.22665398,\n",
       "       56.15698974, 56.2922195 , 56.24406965, 56.36700481, 56.34549042])"
      ]
     },
     "execution_count": 17,
     "metadata": {},
     "output_type": "execute_result"
    }
   ],
   "source": [
    "# Generate Prediction\n",
    "Yhat_test = model.predict(X_test)\n",
    "# Convert to \"vector shape\"\n",
    "Yhat_test = Yhat_test.reshape([-1,])\n",
    "# Visualize to make sure things look okay!\n",
    "Yhat_test"
   ]
  },
  {
   "cell_type": "markdown",
   "id": "ea4d424a",
   "metadata": {},
   "source": [
    "We'll record our training performance while we're at it also."
   ]
  },
  {
   "cell_type": "code",
   "execution_count": 18,
   "id": "280d61e1",
   "metadata": {},
   "outputs": [
    {
     "data": {
      "text/plain": [
       "array([54.71761996, 54.7145467 , 54.79650399, 54.99832318, 54.93173376,\n",
       "       54.92968439, 54.92558567, 55.027008  , 55.21243541, 55.12023444,\n",
       "       55.41835333, 55.43474353, 55.35278781, 55.20321563, 55.20731279,\n",
       "       54.91841525, 54.59980742, 54.64078529, 54.27710244, 54.17568011,\n",
       "       54.2228045 , 54.25866131, 53.51285291, 53.10204411, 53.77204173,\n",
       "       53.41450385, 52.96476498, 53.09384822, 53.73925976, 53.90624604,\n",
       "       54.21665798, 54.79240683, 54.73503563, 54.67561819, 54.59571026,\n",
       "       54.74220761, 55.04954629, 55.40503482, 55.34561582, 55.3179549 ,\n",
       "       54.99832318, 55.1222838 , 55.18477606, 55.16940819, 55.00139644,\n",
       "       55.1970691 , 55.50850494, 55.68676194, 55.50748104, 55.35073844,\n",
       "       55.37225127, 55.30771122, 55.02905736, 55.02291083, 54.61619919,\n",
       "       54.36827952, 53.9677144 , 54.76986853, 54.31603094, 54.1254809 ,\n",
       "       54.25866131, 54.14596983, 54.32115357, 54.65103054, 54.77294179,\n",
       "       54.32012967, 54.49121467, 54.81904228, 54.73606109, 54.91021936,\n",
       "       54.97066226, 55.08232983, 55.33024951, 55.28927008, 54.77294179,\n",
       "       54.04762233, 53.99844858, 53.76282195, 53.83555789, 53.89395299,\n",
       "       53.69930579, 54.00049638, 54.39389107, 55.1591645 , 55.19194648,\n",
       "       55.90292354, 56.0391772 , 56.13035428, 56.26455859, 56.53911372,\n",
       "       56.39056701, 56.34549042, 56.17030825, 56.34856368, 56.22665398,\n",
       "       56.15698974, 56.2922195 , 56.24406965, 56.36700481, 56.34549042,\n",
       "       56.38954311, 56.31987886, 56.27890099, 56.21435937, 56.55960421,\n",
       "       56.72249334, 56.87411331, 56.9427521 , 56.88948119, 56.70917483,\n",
       "       56.66102498, 56.76859383, 56.6067286 , 56.61697385, 56.41617856,\n",
       "       56.40593488, 56.09347358, 56.17645477, 56.06991138, 56.01458955,\n",
       "       55.73286243, 55.96439033, 55.93673098, 56.07400854, 56.03405458,\n",
       "       56.24611745, 55.91214332, 56.0637633 , 56.32705085, 56.59443556,\n",
       "       56.57087336, 56.31783106, 56.64053605, 56.67127023, 56.628243  ,\n",
       "       56.68356327, 56.57599442, 56.72761596, 56.68253937, 56.69995504,\n",
       "       56.84235523, 57.02880811, 56.96631585, 56.63541342, 56.52579677,\n",
       "       56.56472528, 57.71314815, 58.31655635, 58.37802472, 58.48866683,\n",
       "       58.28787154, 58.30221395, 58.46920179, 58.33089876, 58.46817633,\n",
       "       58.55832951, 58.60852872, 58.92406328, 59.36048364, 59.14329814,\n",
       "       59.10026935, 59.10129482, 59.14637141, 59.21501019, 59.39736435,\n",
       "       59.57766914, 59.91369263, 60.12370771, 60.39006852, 60.46485383,\n",
       "       60.31220839, 59.92598724, 59.74158372, 59.43731831, 60.00282191,\n",
       "       59.71802153, 60.265084  , 60.00179645, 59.39121782, 59.42809853,\n",
       "       59.44141547, 59.61147658, 59.36867953, 59.68933515, 59.8327608 ,\n",
       "       59.65143055, 60.11551182, 60.19644522, 60.35216235, 60.55910417,\n",
       "       60.84493001, 60.42694922, 60.04789694, 59.99462603, 60.31220839,\n",
       "       59.23549912, 59.03982646, 59.82456492, 59.33794535, 59.82866208,\n",
       "       59.73031458, 59.20066778, 59.53771517, 59.67499274, 59.88808108,\n",
       "       59.10539198, 59.58791439, 59.2293526 , 58.81342117, 58.92201392,\n",
       "       59.49161468, 59.83583406, 58.32577614, 57.72236794, 57.94570152,\n",
       "       58.57881844, 58.42924783, 58.01741356, 56.96221713, 56.7634712 ,\n",
       "       56.20718895, 56.67946611, 56.89665161, 56.11088925, 55.20116627,\n",
       "       55.18067733, 54.72069322, 54.95939311, 54.92046461, 55.60685401,\n",
       "       55.46445382, 55.36508085, 56.00434586, 55.17145755, 54.96963836,\n",
       "       54.33139881, 54.44511419, 54.34574122, 54.39389107, 54.58341565,\n",
       "       54.02303467, 53.86526817, 54.08347914, 53.55280687, 53.13687545,\n",
       "       52.51195285, 52.1124132 , 53.17170679, 53.0672112 , 53.07540709,\n",
       "       53.23010189, 53.24854146, 51.63706277, 52.25891055, 52.22510311,\n",
       "       52.51400221, 52.7762643 , 52.82646351, 52.67176871, 52.43716754,\n",
       "       52.75167821, 52.94325215, 53.03750249, 53.13585155, 52.7752404 ,\n",
       "       52.83875656, 52.71377204, 53.23214969, 53.08257908, 52.91661513,\n",
       "       53.99947248, 54.12138374, 54.12957962, 54.61414983, 54.91431652,\n",
       "       54.92046461, 54.58239175, 54.52809538, 54.42769695, 54.57726913,\n",
       "       54.50453162, 54.56804934, 54.52911928, 54.58136629, 54.69405776,\n",
       "       54.5946848 , 54.79035747, 54.91943915, 54.92968439, 54.98500467,\n",
       "       54.80879704, 54.99524992, 55.08540309, 55.05261955, 54.94914943,\n",
       "       54.74220761, 54.78421094, 55.39786283, 55.60378074, 55.68573804,\n",
       "       55.89267829, 56.1375247 , 56.33217347, 56.17952803, 56.34651588,\n",
       "       57.05646747, 56.64258541, 56.40593488, 56.20616349, 56.37827396,\n",
       "       56.40388551, 56.52989393, 56.66205044, 56.94685082, 57.08310449,\n",
       "       57.11793583, 57.25214014, 57.56972406, 57.5082557 , 57.62299497,\n",
       "       57.45190996, 57.44371408, 57.48059478, 57.48264414, 57.880136  ,\n",
       "       57.9549213 , 58.02356009, 58.32577614, 58.29299416, 58.10039476,\n",
       "       57.99999789, 58.03175597, 57.6281176 , 58.63721354, 58.49686115,\n",
       "       58.76322196, 58.42822237, 57.85247508, 57.85657224, 57.63324022,\n",
       "       57.27057971, 56.09654684, 56.39773899, 56.6292669 , 56.54321244,\n",
       "       56.43257033, 55.82711277, 56.18670002, 55.79535469, 55.47572296,\n",
       "       55.40503482, 55.32922405, 55.24214569, 55.33639603, 55.00549516,\n",
       "       54.82416491, 55.4736736 , 55.77076703, 56.04532373, 56.55038287,\n",
       "       56.79932801, 57.02778265, 56.96426649, 56.96016777, 56.81571978,\n",
       "       56.93353231, 57.40068685, 57.34126785, 57.50415854, 57.43449429,\n",
       "       57.41400536, 57.10564278, 57.53898988, 57.53284336, 57.34639048,\n",
       "       57.71827077, 57.83915657, 58.01126704, 57.99282591, 57.56152817,\n",
       "       57.68651269, 57.89037968, 57.73875971, 57.89755167, 58.09322433,\n",
       "       58.02048683, 57.90267429, 58.13932482, 57.82481416, 58.29914068,\n",
       "       58.46510307, 58.4476874 , 58.27865175, 58.35241316, 58.55115752,\n",
       "       58.45895655, 58.8953769 , 58.42309974, 57.97131308, 56.87718658,\n",
       "       57.25214014, 57.46112975, 57.91086861, 57.66090114, 57.60865256,\n",
       "       58.47842158, 57.84120593, 57.73773581, 58.22537928, 58.61979787,\n",
       "       58.62082177, 58.85439904, 58.83595947, 57.82993678, 58.22435538,\n",
       "       57.98565548, 58.12600631, 58.48251874, 58.45485938, 58.14342198,\n",
       "       58.50095987, 58.91996456, 58.9179152 , 59.01114164, 59.27033046,\n",
       "       59.97618489, 59.92496178, 59.48034554, 59.59815807, 59.68011536,\n",
       "       59.8921798 , 59.70675238, 59.37584995, 59.47727228, 59.37072733,\n",
       "       59.71392281, 59.59713417, 59.48751752, 60.01511496, 60.07863112,\n",
       "       59.50185993, 59.69240997, 60.3265508 , 60.33167342, 60.05916609,\n",
       "       60.32860016, 60.64208536, 61.26905732, 61.23422442, 61.17788024,\n",
       "       61.08055508, 61.17378152, 61.28954625, 61.70957484, 61.65323067,\n",
       "       61.98310607, 62.0240855 , 62.33142418, 62.58446648, 61.99437522,\n",
       "       61.99130196, 62.5547562 , 63.27802786, 63.45013677, 63.41223217,\n",
       "       63.42349975, 63.64785724, 63.72059631, 63.93163528, 63.90704606,\n",
       "       64.16418709, 63.97671187, 64.29634359, 64.43362116, 64.35063997,\n",
       "       64.03305604, 63.91217025, 63.88860649, 64.35883429, 64.14574752,\n",
       "       64.50943037, 64.44898747, 64.13242901, 63.64990816, 63.88450777,\n",
       "       64.2779009 , 64.80345053, 64.41518159, 64.57499745, 64.80959706,\n",
       "       64.8802852 , 65.25831202, 65.74083287, 65.79718017, 65.72853982,\n",
       "       65.75722464, 65.69780721, 66.16496174, 66.1926211 , 66.77041931,\n",
       "       66.7591486 , 66.93535623, 67.15356719, 67.83995815, 67.5408138 ,\n",
       "       67.78361085, 67.63916443, 68.13090506, 68.790659  , 68.86236948,\n",
       "       69.54158846, 69.10311874, 68.96584117, 69.36538082, 69.72292028,\n",
       "       69.50163605, 69.61740079, 69.77414339, 69.67989149, 68.72099632,\n",
       "       69.61637533, 70.2976421 , 70.24949225, 68.77836595, 68.69128604,\n",
       "       69.73521332, 70.00157413, 70.38676982, 69.85609912, 70.01181626,\n",
       "       69.81307033, 70.59063993, 70.35193847, 70.36013592, 69.75057963,\n",
       "       70.22388069, 69.88375847, 69.14102334, 67.61764847, 66.58294097,\n",
       "       67.05112097, 65.09132418, 65.0749324 , 67.68219009, 66.70997641,\n",
       "       68.08480301, 67.07878345, 66.68026613, 64.33834692, 66.30223931,\n",
       "       65.28699684, 62.50045982, 65.54721113, 61.88373467, 62.97478635,\n",
       "       62.34064396, 62.14702066, 60.555007  , 60.05609282, 62.36215836,\n",
       "       62.22283143, 63.54643647, 62.45026217, 63.17455617, 63.1212837 ,\n",
       "       61.75055427, 62.16238697, 61.80177738, 63.95929464, 63.64785724,\n",
       "       64.32810167, 64.52479667, 65.06366482, 66.47742148, 66.20901287,\n",
       "       66.44054234, 66.04202502, 65.44066618, 64.56372674, 65.35563719,\n",
       "       65.24601898, 66.05944226, 66.07993275, 65.60970183, 66.54708729,\n",
       "       67.1689335 , 66.68436486, 67.10336954, 67.55413231, 67.86864297,\n",
       "       68.18724923, 68.84188211, 69.34182019, 68.97301316, 68.58781435,\n",
       "       68.78143921, 68.59396087, 69.33669601, 69.15024625, 69.77414339,\n",
       "       69.53032087, 69.73931205, 69.51802783, 69.65940099, 69.67374496,\n",
       "       69.64198688, 70.042552  , 70.19519587, 70.37755003, 70.09070185,\n",
       "       71.03115745, 71.23195117, 72.3107098 , 73.21735952, 71.48192021,\n",
       "       71.77901364, 72.20826358, 73.13949939, 73.08930174, 73.10364571,\n",
       "       72.8977278 , 73.83511014, 74.6198486 , 73.95702139, 74.44671423,\n",
       "       73.29829292, 74.13322903, 74.4426155 , 74.37192736, 74.37192736,\n",
       "       75.36975572, 75.25091772, 76.14015021, 76.30816352, 76.37680074,\n",
       "       76.19547204, 76.84293294, 77.11646261, 76.62369652, 76.54378859,\n",
       "       77.37565144, 76.81936918, 76.93103519, 75.11671342, 75.02246151,\n",
       "       75.92193925, 75.28370126, 76.01619115, 76.48744441, 80.61397825,\n",
       "       81.71117644, 82.00929533, 82.17218446])"
      ]
     },
     "execution_count": 18,
     "metadata": {},
     "output_type": "execute_result"
    }
   ],
   "source": [
    "# Generate Prediction\n",
    "Yhat_train = model.predict(X_train)\n",
    "# Convert to \"vector shape\"\n",
    "Yhat_train = Yhat_train.reshape([-1,])\n",
    "# Visualize to make sure things look okay!\n",
    "Yhat_train"
   ]
  },
  {
   "cell_type": "markdown",
   "id": "353b23af",
   "metadata": {},
   "source": [
    "### Let's check how we did!"
   ]
  },
  {
   "cell_type": "markdown",
   "id": "ca5e9923",
   "metadata": {},
   "source": [
    "Build dataframe\n",
    "\n",
    "*This is not the most efficient coding; but the point is rather to show you how to name and join columns to dataframes :)*"
   ]
  },
  {
   "cell_type": "code",
   "execution_count": 19,
   "id": "c8736229",
   "metadata": {},
   "outputs": [
    {
     "data": {
      "text/html": [
       "<div>\n",
       "<style scoped>\n",
       "    .dataframe tbody tr th:only-of-type {\n",
       "        vertical-align: middle;\n",
       "    }\n",
       "\n",
       "    .dataframe tbody tr th {\n",
       "        vertical-align: top;\n",
       "    }\n",
       "\n",
       "    .dataframe thead th {\n",
       "        text-align: right;\n",
       "    }\n",
       "</style>\n",
       "<table border=\"1\" class=\"dataframe\">\n",
       "  <thead>\n",
       "    <tr style=\"text-align: right;\">\n",
       "      <th></th>\n",
       "      <th>Targets_Test</th>\n",
       "      <th>Predictions_Test</th>\n",
       "    </tr>\n",
       "    <tr>\n",
       "      <th>Date</th>\n",
       "      <th></th>\n",
       "      <th></th>\n",
       "    </tr>\n",
       "  </thead>\n",
       "  <tbody>\n",
       "    <tr>\n",
       "      <th>2018-01-03</th>\n",
       "      <td>54.124001</td>\n",
       "      <td>54.717620</td>\n",
       "    </tr>\n",
       "    <tr>\n",
       "      <th>2018-01-04</th>\n",
       "      <td>54.320000</td>\n",
       "      <td>54.714547</td>\n",
       "    </tr>\n",
       "    <tr>\n",
       "      <th>2018-01-05</th>\n",
       "      <td>55.111500</td>\n",
       "      <td>54.796504</td>\n",
       "    </tr>\n",
       "    <tr>\n",
       "      <th>2018-01-08</th>\n",
       "      <td>55.347000</td>\n",
       "      <td>54.998323</td>\n",
       "    </tr>\n",
       "    <tr>\n",
       "      <th>2018-01-09</th>\n",
       "      <td>55.313000</td>\n",
       "      <td>54.931734</td>\n",
       "    </tr>\n",
       "    <tr>\n",
       "      <th>...</th>\n",
       "      <td>...</td>\n",
       "      <td>...</td>\n",
       "    </tr>\n",
       "    <tr>\n",
       "      <th>2018-05-21</th>\n",
       "      <td>53.979000</td>\n",
       "      <td>56.156990</td>\n",
       "    </tr>\n",
       "    <tr>\n",
       "      <th>2018-05-22</th>\n",
       "      <td>53.486500</td>\n",
       "      <td>56.292220</td>\n",
       "    </tr>\n",
       "    <tr>\n",
       "      <th>2018-05-23</th>\n",
       "      <td>53.984501</td>\n",
       "      <td>56.244070</td>\n",
       "    </tr>\n",
       "    <tr>\n",
       "      <th>2018-05-24</th>\n",
       "      <td>53.962002</td>\n",
       "      <td>56.367005</td>\n",
       "    </tr>\n",
       "    <tr>\n",
       "      <th>2018-05-25</th>\n",
       "      <td>53.783001</td>\n",
       "      <td>56.345490</td>\n",
       "    </tr>\n",
       "  </tbody>\n",
       "</table>\n",
       "<p>100 rows × 2 columns</p>\n",
       "</div>"
      ],
      "text/plain": [
       "            Targets_Test  Predictions_Test\n",
       "Date                                      \n",
       "2018-01-03     54.124001         54.717620\n",
       "2018-01-04     54.320000         54.714547\n",
       "2018-01-05     55.111500         54.796504\n",
       "2018-01-08     55.347000         54.998323\n",
       "2018-01-09     55.313000         54.931734\n",
       "...                  ...               ...\n",
       "2018-05-21     53.979000         56.156990\n",
       "2018-05-22     53.486500         56.292220\n",
       "2018-05-23     53.984501         56.244070\n",
       "2018-05-24     53.962002         56.367005\n",
       "2018-05-25     53.783001         56.345490\n",
       "\n",
       "[100 rows x 2 columns]"
      ]
     },
     "execution_count": 19,
     "metadata": {},
     "output_type": "execute_result"
    }
   ],
   "source": [
    "# Let's build a dataframe with the target and our predictions as columns\n",
    "time_series_comparison = pd.DataFrame(Y_test)\n",
    "time_series_comparison.columns = ['Targets_Test'] # <- Rename columns\n",
    "\n",
    "# Append Predictions to Dataframe\n",
    "time_series_comparison['Predictions_Test'] = Yhat_test\n",
    "\n",
    "# Check nothing went wrong (Safefy First!)\n",
    "time_series_comparison"
   ]
  },
  {
   "cell_type": "code",
   "execution_count": 20,
   "id": "09fc2cb2",
   "metadata": {},
   "outputs": [
    {
     "data": {
      "image/png": "[encoded data removed]",
      "text/plain": [
       "<Figure size 640x480 with 1 Axes>"
      ]
     },
     "metadata": {},
     "output_type": "display_data"
    }
   ],
   "source": [
    "# Activate Seaborn (<- this makes plots pretty :3)\n",
    "sns.set()\n",
    "\n",
    "# Plot!\n",
    "plt.plot(time_series_comparison)\n",
    "\n",
    "# Now we'll need a legend also\n",
    "plt.legend(time_series_comparison.columns);"
   ]
  },
  {
   "cell_type": "markdown",
   "id": "881cda1e",
   "metadata": {},
   "source": [
    "# Polynomial Features"
   ]
  },
  {
   "cell_type": "markdown",
   "id": "53d446fe",
   "metadata": {},
   "source": [
    "We will begin by using polynomial features.  I.e. we use the feature map\n",
    "$$\n",
    "\\phi:x\\mapsto (1,\\dots,x^p)\n",
    "$$\n",
    "where $p\\in \\mathbb{N}$ is the degree of the polynomial regressors we will construct.  Thus, for a given $p$, our hypothesis class consists of all functions $f:\\mathbb{R}\\rightarrow \\mathbb{R}$ of the form\n",
    "$$\n",
    "f_w(x) := w^{\\top}\\,\\phi(x)\n",
    "$$\n",
    "where $w\\in \\mathbb{R}^{\\boldsymbol{1}+p}$. "
   ]
  },
  {
   "cell_type": "markdown",
   "id": "64d1fc7d",
   "metadata": {},
   "source": [
    "---\n",
    "Let's import the built-in function which builds the polynomial feature map for us."
   ]
  },
  {
   "cell_type": "code",
   "execution_count": 21,
   "id": "2a4f818b",
   "metadata": {},
   "outputs": [],
   "source": [
    "from sklearn.preprocessing import PolynomialFeatures"
   ]
  },
  {
   "cell_type": "markdown",
   "id": "bdc23b5b",
   "metadata": {},
   "source": [
    "What degree polynomial will we use?"
   ]
  },
  {
   "cell_type": "code",
   "execution_count": 22,
   "id": "080e7fec",
   "metadata": {},
   "outputs": [],
   "source": [
    "# Create polynomial features\n",
    "degree = 4  # Change this to the degree of the polynomial you want\n",
    "poly_features = PolynomialFeatures(degree=degree)"
   ]
  },
  {
   "cell_type": "markdown",
   "id": "0fd69577",
   "metadata": {},
   "source": [
    "Let us apply the feature map.  We can do so via a direct change of variables."
   ]
  },
  {
   "cell_type": "code",
   "execution_count": 23,
   "id": "27ddf445",
   "metadata": {},
   "outputs": [],
   "source": [
    "# Training Set\n",
    "X_poly__train = poly_features.fit_transform(X_train)\n",
    "\n",
    "# Test Set\n",
    "X_poly__test = poly_features.fit_transform(X_test)"
   ]
  },
  {
   "cell_type": "markdown",
   "id": "b3158537",
   "metadata": {},
   "source": [
    "Let's build/train the model."
   ]
  },
  {
   "cell_type": "markdown",
   "id": "8b7d1a29",
   "metadata": {},
   "source": [
    "We will use the following variant of the regression problem which solves the minimum energy problem:\n",
    "$$\n",
    "\\min_{f_w\\in \\mathcal{H}}\\, \\frac1{N}\\,\\sum_{n=1}^N\\, \\|f_w(x_n)-y_n\\|^2\n",
    "+\n",
    "\\alpha\\,{\\color{green}{\\|w\\|_2^2}}\n",
    "$$\n",
    "where $\\alpha >0$ is a hyperparameter ensuring stability of the regression problem.  Note that, if \"$\\alpha=0$\" then we recover the original regression problem which may be [ill-posed](https://en.wikipedia.org/wiki/Well-posed_problem)."
   ]
  },
  {
   "cell_type": "code",
   "execution_count": 24,
   "id": "dacc1e00",
   "metadata": {},
   "outputs": [],
   "source": [
    "from sklearn.linear_model import Ridge"
   ]
  },
  {
   "cell_type": "code",
   "execution_count": 25,
   "id": "ce31a87b",
   "metadata": {},
   "outputs": [
    {
     "data": {
      "text/html": [
       "<style>#sk-container-id-3 {color: black;background-color: white;}#sk-container-id-3 pre{padding: 0;}#sk-container-id-3 div.sk-toggleable {background-color: white;}#sk-container-id-3 label.sk-toggleable__label {cursor: pointer;display: block;width: 100%;margin-bottom: 0;padding: 0.3em;box-sizing: border-box;text-align: center;}#sk-container-id-3 label.sk-toggleable__label-arrow:before {content: \"▸\";float: left;margin-right: 0.25em;color: #696969;}#sk-container-id-3 label.sk-toggleable__label-arrow:hover:before {color: black;}#sk-container-id-3 div.sk-estimator:hover label.sk-toggleable__label-arrow:before {color: black;}#sk-container-id-3 div.sk-toggleable__content {max-height: 0;max-width: 0;overflow: hidden;text-align: left;background-color: #f0f8ff;}#sk-container-id-3 div.sk-toggleable__content pre {margin: 0.2em;color: black;border-radius: 0.25em;background-color: #f0f8ff;}#sk-container-id-3 input.sk-toggleable__control:checked~div.sk-toggleable__content {max-height: 200px;max-width: 100%;overflow: auto;}#sk-container-id-3 input.sk-toggleable__control:checked~label.sk-toggleable__label-arrow:before {content: \"▾\";}#sk-container-id-3 div.sk-estimator input.sk-toggleable__control:checked~label.sk-toggleable__label {background-color: #d4ebff;}#sk-container-id-3 div.sk-label input.sk-toggleable__control:checked~label.sk-toggleable__label {background-color: #d4ebff;}#sk-container-id-3 input.sk-hidden--visually {border: 0;clip: rect(1px 1px 1px 1px);clip: rect(1px, 1px, 1px, 1px);height: 1px;margin: -1px;overflow: hidden;padding: 0;position: absolute;width: 1px;}#sk-container-id-3 div.sk-estimator {font-family: monospace;background-color: #f0f8ff;border: 1px dotted black;border-radius: 0.25em;box-sizing: border-box;margin-bottom: 0.5em;}#sk-container-id-3 div.sk-estimator:hover {background-color: #d4ebff;}#sk-container-id-3 div.sk-parallel-item::after {content: \"\";width: 100%;border-bottom: 1px solid gray;flex-grow: 1;}#sk-container-id-3 div.sk-label:hover label.sk-toggleable__label {background-color: #d4ebff;}#sk-container-id-3 div.sk-serial::before {content: \"\";position: absolute;border-left: 1px solid gray;box-sizing: border-box;top: 0;bottom: 0;left: 50%;z-index: 0;}#sk-container-id-3 div.sk-serial {display: flex;flex-direction: column;align-items: center;background-color: white;padding-right: 0.2em;padding-left: 0.2em;position: relative;}#sk-container-id-3 div.sk-item {position: relative;z-index: 1;}#sk-container-id-3 div.sk-parallel {display: flex;align-items: stretch;justify-content: center;background-color: white;position: relative;}#sk-container-id-3 div.sk-item::before, #sk-container-id-3 div.sk-parallel-item::before {content: \"\";position: absolute;border-left: 1px solid gray;box-sizing: border-box;top: 0;bottom: 0;left: 50%;z-index: -1;}#sk-container-id-3 div.sk-parallel-item {display: flex;flex-direction: column;z-index: 1;position: relative;background-color: white;}#sk-container-id-3 div.sk-parallel-item:first-child::after {align-self: flex-end;width: 50%;}#sk-container-id-3 div.sk-parallel-item:last-child::after {align-self: flex-start;width: 50%;}#sk-container-id-3 div.sk-parallel-item:only-child::after {width: 0;}#sk-container-id-3 div.sk-dashed-wrapped {border: 1px dashed gray;margin: 0 0.4em 0.5em 0.4em;box-sizing: border-box;padding-bottom: 0.4em;background-color: white;}#sk-container-id-3 div.sk-label label {font-family: monospace;font-weight: bold;display: inline-block;line-height: 1.2em;}#sk-container-id-3 div.sk-label-container {text-align: center;}#sk-container-id-3 div.sk-container {/* jupyter's `normalize.less` sets `[hidden] { display: none; }` but bootstrap.min.css set `[hidden] { display: none !important; }` so we also need the `!important` here to be able to override the default hidden behavior on the sphinx rendered scikit-learn.org. See: https://github.com/scikit-learn/scikit-learn/issues/21755 */display: inline-block !important;position: relative;}#sk-container-id-3 div.sk-text-repr-fallback {display: none;}</style><div id=\"sk-container-id-3\" class=\"sk-top-container\"><div class=\"sk-text-repr-fallback\"><pre>Ridge(alpha=0.001)</pre><b>In a Jupyter environment, please rerun this cell to show the HTML representation or trust the notebook. <br />On GitHub, the HTML representation is unable to render, please try loading this page with nbviewer.org.</b></div><div class=\"sk-container\" hidden><div class=\"sk-item\"><div class=\"sk-estimator sk-toggleable\"><input class=\"sk-toggleable__control sk-hidden--visually\" id=\"sk-estimator-id-3\" type=\"checkbox\" checked><label for=\"sk-estimator-id-3\" class=\"sk-toggleable__label sk-toggleable__label-arrow\">Ridge</label><div class=\"sk-toggleable__content\"><pre>Ridge(alpha=0.001)</pre></div></div></div></div></div>"
      ],
      "text/plain": [
       "Ridge(alpha=0.001)"
      ]
     },
     "execution_count": 25,
     "metadata": {},
     "output_type": "execute_result"
    }
   ],
   "source": [
    "# Fit a Ridge regression model to the polynomial features\n",
    "alpha = 10**-3  # Regularization strength; you can adjust this value\n",
    "poly_ridge_model = Ridge(alpha=alpha)\n",
    "poly_ridge_model.fit(X_poly__train, Y_train)"
   ]
  },
  {
   "cell_type": "markdown",
   "id": "89fdf214",
   "metadata": {},
   "source": [
    "Generate Predictions"
   ]
  },
  {
   "cell_type": "markdown",
   "id": "8fbd1015",
   "metadata": {},
   "source": [
    "#### Training"
   ]
  },
  {
   "cell_type": "code",
   "execution_count": 26,
   "id": "76598278",
   "metadata": {},
   "outputs": [
    {
     "data": {
      "text/plain": [
       "array([54.76052089, 54.75739282, 54.84060073, 55.04370015, 54.97696278,\n",
       "       54.97490466, 54.97078765, 55.0723681 , 55.25656273, 55.16521363,\n",
       "       55.45897152, 55.47499175, 55.39475538, 55.24744883, 55.2514995 ,\n",
       "       54.9635828 , 54.64015432, 54.68212707, 54.30541151, 54.19857404,\n",
       "       54.24831602, 54.28604622, 53.47854442, 53.01074146, 53.76486138,\n",
       "       53.36816938, 52.85027766, 53.00122192, 53.72900182, 53.91064078,\n",
       "       54.24183814, 54.83645135, 54.77823541, 54.71771583, 54.63595134,\n",
       "       54.78552469, 55.09485968, 55.44594412, 55.38771813, 55.36055267,\n",
       "       55.04370015, 55.16724912, 55.22920737, 55.21399059, 55.0467739 ,\n",
       "       55.24137037, 55.54693059, 55.71976672, 55.54593372, 55.39274478,\n",
       "       55.41384032, 55.35048266, 55.07441443, 55.06827628, 54.65695788,\n",
       "       54.40077185, 53.97687456, 54.81360659, 54.34620408, 54.14538914,\n",
       "       54.28604622, 54.16712149, 54.35156329, 54.69260315, 54.81672357,\n",
       "       54.35049226, 54.52835915, 54.86340711, 54.77927785, 54.95534374,\n",
       "       55.01600979, 55.12752333, 55.37263182, 55.3323407 , 54.81672357,\n",
       "       54.06248889, 54.00986823, 53.75478612, 53.83405884, 53.89735481,\n",
       "       53.68516123, 54.01206369, 54.42744485, 55.2038405 , 55.23630293,\n",
       "       55.92758194, 56.05767362, 56.14437259, 56.27150824, 56.53003208,\n",
       "       56.39040373, 56.34792179, 56.18227978, 56.35081989, 56.23565523,\n",
       "       56.16964912, 56.29764568, 56.25213352, 56.36820459, 56.34792179,\n",
       "       56.38943937, 56.32375992, 56.28506345, 56.22401693, 56.54925065,\n",
       "       56.70170243, 56.84313993, 56.90704   , 56.85745338, 56.68925793,\n",
       "       56.64423824, 56.7447512 , 56.59341379, 56.60300875, 56.41451713,\n",
       "       56.4048747 , 56.10933611, 56.188107  , 56.08692894, 56.03424606,\n",
       "       55.76424341, 55.9863504 , 55.95992219, 56.09082658, 56.0527944 ,\n",
       "       56.25407051, 55.93640575, 56.08107922, 56.33052778, 56.58189799,\n",
       "       56.55981618, 56.32182725, 56.62506681, 56.65382141, 56.61355999,\n",
       "       56.6653172 , 56.56461655, 56.70648797, 56.66435982, 56.68064113,\n",
       "       56.8135484 , 56.98705434, 56.92896012, 56.62027221, 56.51753656,\n",
       "       56.55405232, 57.62073605, 58.17871611, 58.23566569, 58.33826178,\n",
       "       58.15215068, 58.16543259, 58.32020344, 58.1920013 , 58.31925219,\n",
       "       58.40292362, 58.44955366, 58.74342867, 59.15266319, 58.94855171,\n",
       "       58.90822412, 58.90918481, 58.95143339, 59.01584111, 59.18742207,\n",
       "       59.35779634, 59.67744548, 59.87877561, 60.13599414, 60.20860911,\n",
       "       60.06058135, 59.68919747, 59.51335988, 59.22511131, 59.76273608,\n",
       "       59.4909566 , 60.01502968, 59.76175352, 59.1816271 , 59.21641097,\n",
       "       59.22897826, 59.38982696, 59.16038499, 59.46370027, 59.60018828,\n",
       "       59.42771705, 59.87089491, 59.94880289, 60.09925576, 60.30038107,\n",
       "       60.58050339, 60.17178223, 59.80595489, 59.7548839 , 60.06058135,\n",
       "       59.03508514, 58.85163362, 59.59237434, 59.13143613, 59.59628034,\n",
       "       59.50264323, 59.00237515, 59.31997767, 59.45008064, 59.65297759,\n",
       "       58.91302334, 59.36750021, 59.02931119, 58.64021632, 58.74151515,\n",
       "       59.27638778, 59.60311878, 58.18725609, 57.62925647, 57.83564765,\n",
       "       58.42195217, 58.28314895, 57.90193625, 56.92514789, 56.73996967,\n",
       "       56.21722719, 56.6614861 , 56.8641305 , 56.12588638, 55.24542239,\n",
       "       55.22515019, 54.76364834, 55.00471566, 54.96564232, 55.64246127,\n",
       "       55.50399868, 55.40681154, 56.02447958, 55.21602055, 55.01498393,\n",
       "       54.36227569, 54.48064437, 54.3772586 , 54.42744485, 54.6233322 ,\n",
       "       54.03620344, 53.86630079, 54.1007303 , 53.5231056 , 53.05111378,\n",
       "       52.3048694 , 51.80122239, 53.0913505 , 52.97023038, 52.97977468,\n",
       "       53.15850718, 53.17963602, 51.17149696, 51.98847837, 51.94553703,\n",
       "       52.30739654, 52.62632439, 52.68638414, 52.50030103, 52.21226705,\n",
       "       52.59679573, 52.82493343, 52.93556956, 53.04992894, 52.62509614,\n",
       "       52.70104498, 52.55112202, 53.16085546, 52.98812036, 52.79347673,\n",
       "       54.010966  , 54.1410392 , 54.14973936, 54.65485805, 54.95946299,\n",
       "       54.96564232, 54.6222808 , 54.56642096, 54.46257686, 54.6170195 ,\n",
       "       54.5421138 , 54.60754551, 54.56747627, 54.62122773, 54.73652251,\n",
       "       54.63489921, 54.83437547, 54.96461181, 54.97490466, 55.0303731 ,\n",
       "       54.853044  , 55.04062584, 55.13058222, 55.0979243 , 54.99444269,\n",
       "       54.78552469, 54.8281478 , 55.43892533, 55.6394826 , 55.71877789,\n",
       "       55.91777303, 56.15117939, 56.33536088, 56.19102017, 56.34888884,\n",
       "       57.0127499 , 56.62698479, 56.4048747 , 56.21625604, 56.37882367,\n",
       "       56.4029453 , 56.52138144, 56.64519753, 56.91085343, 57.03748628,\n",
       "       57.06981891, 57.1942677 , 57.48816773, 57.43133078, 57.53741306,\n",
       "       57.37921438, 57.3716322 , 57.40574823, 57.40764374, 57.77505166,\n",
       "       57.84416935, 57.90761868, 58.18725609, 58.15689435, 57.97866475,\n",
       "       57.88583624, 57.91519596, 57.5421481 , 58.47621271, 58.34586511,\n",
       "       58.59344963, 58.28219812, 57.74948929, 57.75327556, 57.54688307,\n",
       "       57.21135261, 56.11225737, 56.39715791, 56.61451853, 56.53387716,\n",
       "       56.42994117, 55.85490654, 56.19781743, 55.82439648, 55.51499013,\n",
       "       55.44594412, 55.37162462, 55.28590109, 55.37866776, 55.05087242,\n",
       "       54.86858617, 55.51299171, 55.80074784, 56.06352693, 56.5406029 ,\n",
       "       56.77342879, 56.98610148, 56.92705403, 56.92324168, 56.78871671,\n",
       "       56.89846104, 57.33182002, 57.27681999, 57.42754171, 57.36310231,\n",
       "       57.34414463, 57.05840942, 57.45975131, 57.45406784, 57.28156268,\n",
       "       57.62547011, 57.73718148, 57.89625394, 57.87920636, 57.48059029,\n",
       "       57.59612028, 57.78451843, 57.64440462, 57.79114656, 57.97203344,\n",
       "       57.90477745, 57.79588078, 58.01467231, 57.72392761, 58.16258644,\n",
       "       58.31640142, 58.30024837, 58.14361346, 58.21193301, 58.39626398,\n",
       "       58.31070017, 58.71665002, 58.27744844, 57.85932053, 56.84600264,\n",
       "       57.1942677 , 57.38774331, 57.8034539 , 57.57244954, 57.5241554 ,\n",
       "       58.32875644, 57.73907532, 57.64345841, 58.09429702, 58.46002574,\n",
       "       58.4609773 , 58.67842014, 58.66122569, 57.72866143, 58.09334935,\n",
       "       57.87257808, 58.00235275, 58.33255757, 58.30690002, 58.01846235,\n",
       "       58.34966849, 58.7396017 , 58.73768832, 58.82480007, 59.06781967,\n",
       "       59.73722305, 59.68821711, 59.26573986, 59.37720512, 59.45494452,\n",
       "       59.65689209, 59.48024674, 59.16714183, 59.26283653, 59.16231456,\n",
       "       59.48706092, 59.37623496, 59.27251614, 59.77451716, 59.83545679,\n",
       "       59.28607079, 59.46662081, 60.07445872, 60.07941679, 59.81676905,\n",
       "       60.07644215, 60.381422  , 61.00146131, 60.96664103, 60.91041271,\n",
       "       60.8135629 , 60.90632699, 61.02196397, 61.44579852, 61.38854766,\n",
       "       61.7255159 , 61.76767961, 62.08606885, 62.35111044, 61.73710398,\n",
       "       61.73394324, 62.31985465, 63.09112098, 63.27782762, 63.23660398,\n",
       "       63.24885206, 63.49380876, 63.57366355, 63.80654538, 63.77932005,\n",
       "       64.06520052, 63.85651638, 64.21312373, 64.36748082, 64.27409061,\n",
       "       63.91909066, 63.78499161, 63.75891934, 64.28330131, 64.04461436,\n",
       "       64.45302389, 64.38480292, 64.02975358, 63.4960574 , 63.75438653,\n",
       "       64.19244071, 64.78677901, 64.34670594, 64.52718079, 64.79378916,\n",
       "       64.87450451, 65.30903359, 65.87023394, 65.93620995, 65.85585188,\n",
       "       65.88941775, 65.81991521, 66.36888098, 66.40155523, 67.08780097,\n",
       "       67.07435501, 67.28479852, 67.54600803, 68.3704197 , 68.01077854,\n",
       "       68.30265858, 68.12898461, 68.72027746, 69.51165822, 69.59735004,\n",
       "       70.4034958 , 69.88433818, 69.7208351 , 70.19548952, 70.61652734,\n",
       "       70.35641512, 70.49269499, 70.67649917, 70.56607721, 69.42833413,\n",
       "       70.49148971, 71.28334726, 71.22803916, 69.4969599 , 69.39277526,\n",
       "       70.63092861, 70.94156953, 71.38542389, 70.77225117, 70.95345776,\n",
       "       70.72201048, 71.61735888, 71.34557944, 71.35496224, 70.64892258,\n",
       "       71.19857476, 70.80450884, 69.92941228, 68.10312109, 66.86442273,\n",
       "       67.42329958, 65.11650028, 65.09765024, 68.18070956, 67.01571728,\n",
       "       68.66485278, 67.45642082, 66.98030777, 64.26027756, 66.53122027,\n",
       "       65.34219713, 62.2628279 , 65.64420761, 61.62355262, 62.76512394,\n",
       "       62.09567965, 61.89457427, 60.29638562, 59.81381951, 62.11812002,\n",
       "       61.97313238, 63.38282299, 62.21021405, 62.97945842, 62.92214087,\n",
       "       61.48751572, 61.91047856, 61.53975423, 63.8371985 , 63.49380876,\n",
       "       64.24876987, 64.47038914, 65.08469805, 66.7389808 , 66.42092736,\n",
       "       66.69519037, 66.22387503, 65.520299  , 64.5144223 , 65.42166016,\n",
       "       65.29482919, 66.24439665, 66.26854883, 65.71703897, 66.82177573,\n",
       "       67.56442406, 66.98519183, 67.48586647, 68.02678304, 68.40491615,\n",
       "       68.78800355, 69.57287713, 70.16760926, 69.72938679, 69.26884019,\n",
       "       69.50063471, 69.27620617, 70.16154359, 69.94037469, 70.67649917,\n",
       "       70.3902229 , 70.63572905, 70.3757375 , 70.54203004, 70.55886531,\n",
       "       70.52158197, 70.9891067 , 71.16553807, 71.37488314, 71.04487181,\n",
       "       72.11025908, 72.33071304, 73.45903037, 74.31480424, 72.60101929,\n",
       "       72.91575298, 73.35650495, 74.24527253, 74.20002255, 74.21298615,\n",
       "       74.02437385, 74.83646049, 75.41266527, 74.93268201, 75.29464689,\n",
       "       74.38622213, 75.06755491, 75.29178773, 75.24201117, 75.24201117,\n",
       "       75.8575591 , 75.79463305, 76.18922792, 76.24284149, 76.26269829,\n",
       "       76.20765818, 76.3648704 , 76.39707673, 76.32403881, 76.3059368 ,\n",
       "       76.40760445, 76.36111234, 76.37755305, 75.72002764, 75.66543586,\n",
       "       76.10925983, 75.81228978, 76.14520887, 76.29215921, 74.54889967,\n",
       "       72.88948022, 72.33019699, 72.00384982])"
      ]
     },
     "execution_count": 26,
     "metadata": {},
     "output_type": "execute_result"
    }
   ],
   "source": [
    "# Generate Prediction\n",
    "poly__Yhat_train = poly_ridge_model.predict(X_poly__train)\n",
    "# Convert to \"vector shape\"\n",
    "poly__Yhat_train = poly__Yhat_train.reshape([-1,])\n",
    "# Visualize to make sure things look okay!\n",
    "poly__Yhat_train"
   ]
  },
  {
   "cell_type": "markdown",
   "id": "3df9b549",
   "metadata": {},
   "source": [
    "#### Testing"
   ]
  },
  {
   "cell_type": "code",
   "execution_count": 27,
   "id": "1d22f121",
   "metadata": {},
   "outputs": [
    {
     "data": {
      "text/plain": [
       "(100,)"
      ]
     },
     "execution_count": 27,
     "metadata": {},
     "output_type": "execute_result"
    }
   ],
   "source": [
    "# Generate Prediction\n",
    "poly__Yhat_test = poly_ridge_model.predict(X_poly__test)\n",
    "# Convert to \"vector shape\"\n",
    "poly__Yhat_test = poly__Yhat_test.reshape([-1,])\n",
    "# Visualize to make sure things look okay!\n",
    "np.shape(poly__Yhat_test)"
   ]
  },
  {
   "cell_type": "markdown",
   "id": "b2adbb0b",
   "metadata": {},
   "source": [
    "### Let's check how we did! (Again)"
   ]
  },
  {
   "cell_type": "code",
   "execution_count": 28,
   "id": "3b956660",
   "metadata": {},
   "outputs": [
    {
     "data": {
      "text/html": [
       "<div>\n",
       "<style scoped>\n",
       "    .dataframe tbody tr th:only-of-type {\n",
       "        vertical-align: middle;\n",
       "    }\n",
       "\n",
       "    .dataframe tbody tr th {\n",
       "        vertical-align: top;\n",
       "    }\n",
       "\n",
       "    .dataframe thead th {\n",
       "        text-align: right;\n",
       "    }\n",
       "</style>\n",
       "<table border=\"1\" class=\"dataframe\">\n",
       "  <thead>\n",
       "    <tr style=\"text-align: right;\">\n",
       "      <th></th>\n",
       "      <th>Targets_Test</th>\n",
       "      <th>Predictions_Test</th>\n",
       "      <th>Poly_Predictions_Test</th>\n",
       "    </tr>\n",
       "    <tr>\n",
       "      <th>Date</th>\n",
       "      <th></th>\n",
       "      <th></th>\n",
       "      <th></th>\n",
       "    </tr>\n",
       "  </thead>\n",
       "  <tbody>\n",
       "    <tr>\n",
       "      <th>2018-01-03</th>\n",
       "      <td>54.124001</td>\n",
       "      <td>54.717620</td>\n",
       "      <td>54.760521</td>\n",
       "    </tr>\n",
       "    <tr>\n",
       "      <th>2018-01-04</th>\n",
       "      <td>54.320000</td>\n",
       "      <td>54.714547</td>\n",
       "      <td>54.757393</td>\n",
       "    </tr>\n",
       "    <tr>\n",
       "      <th>2018-01-05</th>\n",
       "      <td>55.111500</td>\n",
       "      <td>54.796504</td>\n",
       "      <td>54.840601</td>\n",
       "    </tr>\n",
       "    <tr>\n",
       "      <th>2018-01-08</th>\n",
       "      <td>55.347000</td>\n",
       "      <td>54.998323</td>\n",
       "      <td>55.043700</td>\n",
       "    </tr>\n",
       "    <tr>\n",
       "      <th>2018-01-09</th>\n",
       "      <td>55.313000</td>\n",
       "      <td>54.931734</td>\n",
       "      <td>54.976963</td>\n",
       "    </tr>\n",
       "    <tr>\n",
       "      <th>...</th>\n",
       "      <td>...</td>\n",
       "      <td>...</td>\n",
       "      <td>...</td>\n",
       "    </tr>\n",
       "    <tr>\n",
       "      <th>2018-05-21</th>\n",
       "      <td>53.979000</td>\n",
       "      <td>56.156990</td>\n",
       "      <td>56.169649</td>\n",
       "    </tr>\n",
       "    <tr>\n",
       "      <th>2018-05-22</th>\n",
       "      <td>53.486500</td>\n",
       "      <td>56.292220</td>\n",
       "      <td>56.297646</td>\n",
       "    </tr>\n",
       "    <tr>\n",
       "      <th>2018-05-23</th>\n",
       "      <td>53.984501</td>\n",
       "      <td>56.244070</td>\n",
       "      <td>56.252134</td>\n",
       "    </tr>\n",
       "    <tr>\n",
       "      <th>2018-05-24</th>\n",
       "      <td>53.962002</td>\n",
       "      <td>56.367005</td>\n",
       "      <td>56.368205</td>\n",
       "    </tr>\n",
       "    <tr>\n",
       "      <th>2018-05-25</th>\n",
       "      <td>53.783001</td>\n",
       "      <td>56.345490</td>\n",
       "      <td>56.347922</td>\n",
       "    </tr>\n",
       "  </tbody>\n",
       "</table>\n",
       "<p>100 rows × 3 columns</p>\n",
       "</div>"
      ],
      "text/plain": [
       "            Targets_Test  Predictions_Test  Poly_Predictions_Test\n",
       "Date                                                             \n",
       "2018-01-03     54.124001         54.717620              54.760521\n",
       "2018-01-04     54.320000         54.714547              54.757393\n",
       "2018-01-05     55.111500         54.796504              54.840601\n",
       "2018-01-08     55.347000         54.998323              55.043700\n",
       "2018-01-09     55.313000         54.931734              54.976963\n",
       "...                  ...               ...                    ...\n",
       "2018-05-21     53.979000         56.156990              56.169649\n",
       "2018-05-22     53.486500         56.292220              56.297646\n",
       "2018-05-23     53.984501         56.244070              56.252134\n",
       "2018-05-24     53.962002         56.367005              56.368205\n",
       "2018-05-25     53.783001         56.345490              56.347922\n",
       "\n",
       "[100 rows x 3 columns]"
      ]
     },
     "execution_count": 28,
     "metadata": {},
     "output_type": "execute_result"
    }
   ],
   "source": [
    "# Append Predictions to Dataframe\n",
    "time_series_comparison['Poly_Predictions_Test'] = poly__Yhat_test\n",
    "\n",
    "# Check nothing went wrong (Safefy First!)\n",
    "time_series_comparison"
   ]
  },
  {
   "cell_type": "code",
   "execution_count": 29,
   "id": "4616cb4a",
   "metadata": {},
   "outputs": [
    {
     "data": {
      "image/png": "[encoded data removed]",
      "text/plain": [
       "<Figure size 640x480 with 1 Axes>"
      ]
     },
     "metadata": {},
     "output_type": "display_data"
    }
   ],
   "source": [
    "# Activate Seaborn (<- this makes plots pretty :3)\n",
    "sns.set()\n",
    "\n",
    "# Plot!\n",
    "plt.plot(time_series_comparison)\n",
    "\n",
    "# Now we'll need a legend also\n",
    "plt.legend(time_series_comparison.columns);"
   ]
  },
  {
   "cell_type": "markdown",
   "id": "8774cc68",
   "metadata": {},
   "source": [
    "We did **marginally better**!"
   ]
  },
  {
   "cell_type": "markdown",
   "id": "f592aa0b",
   "metadata": {},
   "source": [
    "## Let's try other feature maps!"
   ]
  },
  {
   "cell_type": "markdown",
   "id": "68242b16",
   "metadata": {},
   "source": [
    "What about sinusoidal features?\n",
    "$$\n",
    "x\\mapsto (\\sin(i\\,x))_{i=0}^p\n",
    "$$"
   ]
  },
  {
   "cell_type": "markdown",
   "id": "a29b63f8",
   "metadata": {},
   "source": [
    "Let's write up our feature map (default 10 frequencies)."
   ]
  },
  {
   "cell_type": "markdown",
   "id": "e7cb09dc",
   "metadata": {},
   "source": [
    "Let's set the dimension of our feature space!"
   ]
  },
  {
   "cell_type": "code",
   "execution_count": 30,
   "id": "088e983d",
   "metadata": {},
   "outputs": [],
   "source": [
    "# Max osculations size\n",
    "frequencies_max=100\n",
    "# Create polynomial features\n",
    "degree = 5000  # Change this to the degree of the polynomial you want"
   ]
  },
  {
   "cell_type": "markdown",
   "id": "989e09d4",
   "metadata": {},
   "source": [
    "Let's build the feature map !"
   ]
  },
  {
   "cell_type": "code",
   "execution_count": 31,
   "id": "719200a7",
   "metadata": {},
   "outputs": [],
   "source": [
    "def sine_feature_map(X, frequency_max = frequencies_max, feature_space_dim = degree):\n",
    "    # Generate Frequencies\n",
    "    frequencies = np.linspace(-frequency_max,frequency_max,degree)\n",
    "    \"\"\"\n",
    "    Apply a sine feature map to the input data.\n",
    "\n",
    "    Parameters:\n",
    "    - X: ndarray, input data of shape (n_samples, n_features).\n",
    "    - frequencies: list of floats, the frequencies to use for the sine transformation.\n",
    "\n",
    "    Returns:\n",
    "    - mapped_X: ndarray, transformed data with sine features of shape (n_samples, n_features * len(frequencies)).\n",
    "    \"\"\"\n",
    "    mapped_X = np.concatenate([np.sin(f * X) for f in frequencies], axis=1)\n",
    "    \n",
    "    # We add back in the identity\n",
    "    mapped_X = np.concatenate([X,mapped_X],axis=1)\n",
    "    \n",
    "    # Let's add ones\n",
    "    mapped_X = np.concatenate([np.ones(np.shape(X)),mapped_X],axis=1)\n",
    "    \n",
    "    return mapped_X"
   ]
  },
  {
   "cell_type": "markdown",
   "id": "b792a848",
   "metadata": {},
   "source": [
    "Let's trasform our data."
   ]
  },
  {
   "cell_type": "code",
   "execution_count": 32,
   "id": "bc9c3f97",
   "metadata": {},
   "outputs": [],
   "source": [
    "# Training Set\n",
    "X_sin__train = sine_feature_map(X_train)\n",
    "\n",
    "# Test Set\n",
    "X_sin__test = sine_feature_map(X_test)"
   ]
  },
  {
   "cell_type": "markdown",
   "id": "57151cf3",
   "metadata": {},
   "source": [
    "Let's evaluate our previous pipeline with the sinusoidal feature map and see how we compare!"
   ]
  },
  {
   "cell_type": "code",
   "execution_count": 33,
   "id": "bf992bd0",
   "metadata": {},
   "outputs": [
    {
     "data": {
      "image/png": "[encoded data removed]",
      "text/plain": [
       "<Figure size 640x480 with 1 Axes>"
      ]
     },
     "metadata": {},
     "output_type": "display_data"
    }
   ],
   "source": [
    "# Fit a Ridge regression model to the sinusoidal features\n",
    "alpha = 10**-2  # Regularization strength; you can adjust this value\n",
    "sin_ridge_model = Ridge(alpha=alpha)\n",
    "sin_ridge_model.fit(X_sin__train, Y_train)\n",
    "\n",
    "# Generate Prediction\n",
    "sin__Yhat_train = sin_ridge_model.predict(X_sin__train)\n",
    "# Convert to \"vector shape\"\n",
    "sin__Yhat_train = sin__Yhat_train.reshape([-1,])\n",
    "# Visualize to make sure things look okay!\n",
    "sin__Yhat_train\n",
    "\n",
    "# Generate Prediction\n",
    "sin__Yhat_test = sin_ridge_model.predict(X_sin__test)\n",
    "# Convert to \"vector shape\"\n",
    "sin__Yhat_test = sin__Yhat_test.reshape([-1,])\n",
    "# Visualize to make sure things look okay!\n",
    "np.shape(sin__Yhat_test)\n",
    "\n",
    "# Append Predictions to Dataframe\n",
    "time_series_comparison['Sin_Predictions_Test'] = sin__Yhat_test\n",
    "\n",
    "# Check nothing went wrong (Safefy First!)\n",
    "time_series_comparison\n",
    "\n",
    "# Activate Seaborn (<- this makes plots pretty :3)\n",
    "sns.set()\n",
    "\n",
    "# Plot!\n",
    "plt.plot(time_series_comparison)\n",
    "\n",
    "# Now we'll need a legend also\n",
    "plt.legend(time_series_comparison.columns);"
   ]
  },
  {
   "cell_type": "markdown",
   "id": "bdeb8eb2",
   "metadata": {},
   "source": [
    "Let's Evaluate"
   ]
  },
  {
   "cell_type": "code",
   "execution_count": 34,
   "id": "57e42742",
   "metadata": {},
   "outputs": [
    {
     "name": "stdout",
     "output_type": "stream",
     "text": [
      "Vanilla MAE - Test\n"
     ]
    },
    {
     "data": {
      "text/plain": [
       "1.9926571939370847"
      ]
     },
     "execution_count": 34,
     "metadata": {},
     "output_type": "execute_result"
    }
   ],
   "source": [
    "print('Vanilla MAE - Test')\n",
    "np.mean(np.abs(Yhat_test-Y_test['Targets_Test']))"
   ]
  },
  {
   "cell_type": "code",
   "execution_count": 35,
   "id": "8d16d786",
   "metadata": {},
   "outputs": [
    {
     "name": "stdout",
     "output_type": "stream",
     "text": [
      "Poly MAE - Test\n"
     ]
    },
    {
     "data": {
      "text/plain": [
       "1.9914018296387601"
      ]
     },
     "execution_count": 35,
     "metadata": {},
     "output_type": "execute_result"
    }
   ],
   "source": [
    "print('Poly MAE - Test')\n",
    "np.mean(np.abs(poly__Yhat_test-Y_test['Targets_Test']))"
   ]
  },
  {
   "cell_type": "code",
   "execution_count": 36,
   "id": "cb7e43ea",
   "metadata": {},
   "outputs": [
    {
     "name": "stdout",
     "output_type": "stream",
     "text": [
      "Sine MAE - Test\n"
     ]
    },
    {
     "data": {
      "text/plain": [
       "0.43053952538252427"
      ]
     },
     "execution_count": 36,
     "metadata": {},
     "output_type": "execute_result"
    }
   ],
   "source": [
    "print('Sine MAE - Test')\n",
    "np.mean(np.abs(sin__Yhat_test-Y_test['Targets_Test']))"
   ]
  },
  {
   "cell_type": "markdown",
   "id": "94dcaa93",
   "metadata": {},
   "source": [
    "# Let's get creative... what about random features"
   ]
  },
  {
   "cell_type": "markdown",
   "id": "5a7c4025",
   "metadata": {},
   "source": [
    "Load sparse matrix packages."
   ]
  },
  {
   "cell_type": "code",
   "execution_count": 77,
   "id": "cadc581c",
   "metadata": {},
   "outputs": [],
   "source": [
    "# Scipy\n",
    "from scipy.sparse import random\n",
    "from scipy import stats\n",
    "from scipy import sparse\n",
    "from scipy.stats import rv_continuous"
   ]
  },
  {
   "cell_type": "code",
   "execution_count": 185,
   "id": "4e0fa693",
   "metadata": {},
   "outputs": [],
   "source": [
    "# F in paper\n",
    "Feature_Space_Dimension = 10**5\n",
    "# d in paper\n",
    "Input_Space_Dimension = X.shape[1]\n",
    "\n",
    "### Hyperparameter (Sparisity)\n",
    "Sparsity = .1\n",
    "Fluctuation_size = 10**-3"
   ]
  },
  {
   "cell_type": "markdown",
   "id": "a2484c0d",
   "metadata": {},
   "source": [
    "Let's write our feature map\n",
    "$$\n",
    "x\\mapsto \\sin \\bullet (Ax+b)\n",
    "$$\n",
    "where:\n",
    " - $\\bullet$ indicates *componentwise application* of the $\\sin$ function!\n",
    " - $A$ is a random sparse matrix\n",
    " - $b$ is a compatible random sparse vector\n",
    " \n",
    "**What does sparse mean?** *Most entries of $A$ and b are zero*\n",
    "\n",
    "**Why consider sparse structures?** *Can obtain higher dimensional features while using very few parameters in memory!*"
   ]
  },
  {
   "cell_type": "code",
   "execution_count": 186,
   "id": "fa6df598",
   "metadata": {},
   "outputs": [],
   "source": [
    "### Some Helper Functions ###\n",
    "##-------------------------##\n",
    "\n",
    "# Basic Univariat non-linearity\n",
    "def activation_scalar(x_in):\n",
    "    x_out = np.sin(np.sin(x_in))\n",
    "    return x_out\n",
    "\n",
    "# Vectorize it\n",
    "activation = np.vectorize(activation_scalar)\n",
    "\n",
    "# Get Gaussian Distribution\n",
    "class CustomDistribution(rv_continuous):\n",
    "    def _rvs(self,  size=None, random_state=None):\n",
    "        return random_state.standard_normal(size)\n",
    "dist = CustomDistribution(seed=2023)\n",
    "dist_frozen = dist()  # get a frozen version of the distribution\n",
    "\n",
    "# Generate Random (Hidden) Weights\n",
    "W_hidden = random(Feature_Space_Dimension, Input_Space_Dimension, \n",
    "           density=Sparsity, \n",
    "           random_state=2023, \n",
    "           data_rvs=dist_frozen.rvs)\n",
    "\n",
    "# Generate Random Bias\n",
    "feature_var = max(1/np.sqrt(Input_Space_Dimension),Fluctuation_size) #Control gradient by controlling random features\n",
    "b_hidden = np.random.normal(0,feature_var,Feature_Space_Dimension)\n",
    "\n",
    "## The Feature Map ##\n",
    "##-----------------##\n",
    "def phi_uni(x_in):\n",
    "    # Apply Random Weights\n",
    "    x_out = sparse.csr_matrix.dot(W_hidden, x_in)\n",
    "    # Apply Random Biases\n",
    "    x_out = x_out + b_hidden\n",
    "    # Apply ReLU\n",
    "    x_out = activation(x_out)\n",
    "    # Return \n",
    "    return x_out"
   ]
  },
  {
   "cell_type": "code",
   "execution_count": 187,
   "id": "c28c2f37",
   "metadata": {},
   "outputs": [],
   "source": [
    "def phi(x_in):\n",
    "    mapped_X = np.apply_along_axis(phi_uni, 1, x_in)\n",
    "\n",
    "    # We add back in the identity\n",
    "    mapped_X = np.concatenate([x_in,mapped_X],axis=1)\n",
    "    \n",
    "    # Let's add ones\n",
    "    mapped_X = np.concatenate([np.ones(np.shape(x_in)),mapped_X],axis=1)\n",
    "    \n",
    "    return mapped_X"
   ]
  },
  {
   "cell_type": "markdown",
   "id": "781b56d3",
   "metadata": {},
   "source": [
    "Apply Feature Transform"
   ]
  },
  {
   "cell_type": "code",
   "execution_count": 188,
   "id": "c60328e9",
   "metadata": {},
   "outputs": [],
   "source": [
    "# Training Data\n",
    "X_sinPrand__train = phi(X_train)\n",
    "\n",
    "# Testing Data\n",
    "X_sinPrand__test = phi(X_test)"
   ]
  },
  {
   "cell_type": "markdown",
   "id": "b37359b8",
   "metadata": {},
   "source": [
    "As before, we run it through our pipeline."
   ]
  },
  {
   "cell_type": "code",
   "execution_count": null,
   "id": "acfb2124",
   "metadata": {},
   "outputs": [],
   "source": [
    "# Fit a Ridge regression model to the sinusoidal features\n",
    "alpha = 10**-3  # Regularization strength; you can adjust this value\n",
    "sinPrand_ridge_model = Ridge(alpha=alpha)\n",
    "sinPrand_ridge_model.fit(X_sinPrand__train, Y_train)\n",
    "\n",
    "# Generate Prediction\n",
    "sinPrand__Yhat_train = sinPrand_ridge_model.predict(X_sinPrand__train)\n",
    "# Convert to \"vector shape\"\n",
    "sinPrand__Yhat_train = sinPrand__Yhat_train.reshape([-1,])\n",
    "# Visualize to make sure things look okay!\n",
    "sinPrand__Yhat_train\n",
    "\n",
    "# Generate Prediction\n",
    "sinPrand__Yhat_test = sinPrand_ridge_model.predict(X_sinPrand__test)\n",
    "# Convert to \"vector shape\"\n",
    "sinPrand__Yhat_test = sinPrand__Yhat_test.reshape([-1,])\n",
    "# Visualize to make sure things look okay!\n",
    "np.shape(sinPrand__Yhat_test)\n",
    "\n",
    "# Append Predictions to Dataframe\n",
    "time_series_comparison['Sin + Random_Predictions_Test'] = sinPrand__Yhat_test\n",
    "\n",
    "# Check nothing went wrong (Safefy First!)\n",
    "time_series_comparison\n",
    "\n",
    "# Activate Seaborn (<- this makes plots pretty :3)\n",
    "sns.set()\n",
    "\n",
    "# Plot!\n",
    "plt.plot(time_series_comparison)\n",
    "\n",
    "# Now we'll need a legend also\n",
    "plt.legend(time_series_comparison.columns);"
   ]
  },
  {
   "cell_type": "markdown",
   "id": "2934b539",
   "metadata": {},
   "source": [
    "## Sin + Random Sin\n",
    "\n",
    "Just for fun.  Let's combine the \"systematically generated\" sinusoidal features as well as the random sin features.  "
   ]
  },
  {
   "cell_type": "code",
   "execution_count": null,
   "id": "e9151953",
   "metadata": {},
   "outputs": [],
   "source": [
    "# Training Set\n",
    "X_sin2Rand__train = np.concatenate([X_sin__train,X_sinPrand__train], axis=1)\n",
    "\n",
    "# Test Set\n",
    "X_sin2Rand__test = np.concatenate([X_sin__test,X_sinPrand__test], axis=1)\n",
    "\n",
    "\n",
    "# Fit a Ridge regression model to the sinusoidal features\n",
    "alpha = 10**-3  # Regularization strength; you can adjust this value\n",
    "sin2Rand_ridge_model = Ridge(alpha=alpha)\n",
    "sin2Rand_ridge_model.fit(X_sin2Rand__train, Y_train)\n",
    "\n",
    "# Generate Prediction\n",
    "sin2Rand__Yhat_train = sin2Rand_ridge_model.predict(X_sin2Rand__train)\n",
    "# Convert to \"vector shape\"\n",
    "sin2Rand__Yhat_train = sin2Rand__Yhat_train.reshape([-1,])\n",
    "\n",
    "\n",
    "# Generate Prediction\n",
    "sin2Rand__Yhat_test = sin2Rand_ridge_model.predict(X_sin2Rand__test)\n",
    "# Convert to \"vector shape\"\n",
    "sin2Rand__Yhat_test = sin2Rand__Yhat_test.reshape([-1,])\n",
    "# Visualize to make sure things look okay!\n",
    "np.shape(sin2Rand__Yhat_test)\n",
    "\n",
    "# Append Predictions to Dataframe\n",
    "time_series_comparison['Sin + Sin and Random_Predictions_Test'] = sin2Rand__Yhat_test"
   ]
  },
  {
   "cell_type": "markdown",
   "id": "515eb3c5",
   "metadata": {},
   "source": [
    "## Final Rankings"
   ]
  },
  {
   "cell_type": "markdown",
   "id": "0ec7b05f",
   "metadata": {},
   "source": [
    "Qualitative/Visual"
   ]
  },
  {
   "cell_type": "code",
   "execution_count": null,
   "id": "84ff4c7d",
   "metadata": {},
   "outputs": [],
   "source": [
    "# Activate Seaborn (<- this makes plots pretty :3)\n",
    "sns.set()\n",
    "\n",
    "# Plot!\n",
    "plt.plot(time_series_comparison)\n",
    "\n",
    "# Now we'll need a legend also\n",
    "plt.legend(time_series_comparison.columns);"
   ]
  },
  {
   "cell_type": "markdown",
   "id": "1aca25cd",
   "metadata": {},
   "source": [
    "Quantitative"
   ]
  },
  {
   "cell_type": "code",
   "execution_count": null,
   "id": "c72d13b5",
   "metadata": {},
   "outputs": [],
   "source": [
    "# Compute MAEs\n",
    "Van_MAE = np.mean(np.abs(Yhat_test-Y_test['Targets_Test']))\n",
    "pol_MAE = np.mean(np.abs(poly__Yhat_test-Y_test['Targets_Test']))\n",
    "Sin_MAE = np.mean(np.abs(sin__Yhat_test-Y_test['Targets_Test']))\n",
    "SinPRand_MAE = np.mean(np.abs(sinPrand__Yhat_test-Y_test['Targets_Test']))\n",
    "sin2Rand_MAE = np.mean(np.abs(sin2Rand__Yhat_test-Y_test['Targets_Test']))\n",
    "\n",
    "\n",
    "# Report\n",
    "print('Vanilla MAE - Test:  '+str(Van_MAE))\n",
    "print('Poly MAE - Test:  '+str(pol_MAE))\n",
    "print('Sine MAE - Test:  '+str(Sin_MAE))\n",
    "print('Sine + Rand MAE - Test:  '+str(SinPRand_MAE))\n",
    "print('Sine + S in Rand MAE - Test:  '+str(sin2Rand_MAE))"
   ]
  },
  {
   "cell_type": "markdown",
   "id": "12e1f3d5",
   "metadata": {},
   "source": [
    "### Visualization"
   ]
  },
  {
   "cell_type": "code",
   "execution_count": 183,
   "id": "f0a6ed4a",
   "metadata": {},
   "outputs": [
    {
     "name": "stdout",
     "output_type": "stream",
     "text": [
      "Done!\n"
     ]
    },
    {
     "data": {
      "image/png": "[encoded data removed]",
      "text/plain": [
       "<Figure size 1400x500 with 1 Axes>"
      ]
     },
     "metadata": {},
     "output_type": "display_data"
    }
   ],
   "source": [
    "# creating the dataset\n",
    "data = pd.DataFrame({'Method':[Van_MAE,pol_MAE,Sin_MAE,SinPRand_MAE,sin2Rand_MAE]}, \n",
    "                    index=['Vanilla','Poly','Sin','Sin+Rand','Sin+SinRand'])\n",
    "\n",
    "\n",
    "fig, ax = plt.subplots(figsize=(14, 5))\n",
    "bars = ax.bar(data.index, data['Method'], color=[\"green\", \"red\", \"blue\", \"cyan\",\"orange\"], width = 0.3)\n",
    "\n",
    " \n",
    "plt.xlabel(\"Feature Space\")\n",
    "plt.ylabel(\"Test - MAE\")\n",
    "plt.title(\"Comparison of Feature Space's Impact of (Test) Risk\")\n",
    "\n",
    "print('Done!')\n",
    "plt.show()"
   ]
  },
  {
   "cell_type": "markdown",
   "id": "59ff0e8a",
   "metadata": {},
   "source": [
    "---"
   ]
  },
  {
   "cell_type": "markdown",
   "id": "1bc70646",
   "metadata": {},
   "source": [
    "# Fin"
   ]
  },
  {
   "cell_type": "markdown",
   "id": "e10e1bf8",
   "metadata": {},
   "source": [
    "---"
   ]
  }
 ],
 "metadata": {
  "kernelspec": {
   "display_name": "Python 3 (ipykernel)",
   "language": "python",
   "name": "python3"
  },
  "language_info": {
   "codemirror_mode": {
    "name": "ipython",
    "version": 3
   },
   "file_extension": ".py",
   "mimetype": "text/x-python",
   "name": "python",
   "nbconvert_exporter": "python",
   "pygments_lexer": "ipython3",
   "version": "3.9.12"
  }
 },
 "nbformat": 4,
 "nbformat_minor": 5
}
