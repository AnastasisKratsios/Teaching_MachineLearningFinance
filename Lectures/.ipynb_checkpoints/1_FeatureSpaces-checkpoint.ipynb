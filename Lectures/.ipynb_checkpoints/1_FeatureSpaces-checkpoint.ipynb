{
 "cells": [
  {
   "cell_type": "markdown",
   "id": "25eeac8a",
   "metadata": {},
   "source": [
    "# Introduction to Regression"
   ]
  },
  {
   "cell_type": "markdown",
   "id": "7d110253",
   "metadata": {},
   "source": [
    "## Getting Started\n",
    "Let's start with the basics and some artificial data!"
   ]
  },
  {
   "cell_type": "markdown",
   "id": "710724fe",
   "metadata": {},
   "source": [
    "### Initializations"
   ]
  },
  {
   "cell_type": "markdown",
   "id": "b553255c",
   "metadata": {},
   "source": [
    "Initialize/Import some basic packages\n",
    "\n",
    "*Make sure to comment your code so you can remember what it does in 2+ days :P*"
   ]
  },
  {
   "cell_type": "code",
   "execution_count": 1,
   "id": "444b4473",
   "metadata": {},
   "outputs": [],
   "source": [
    "import numpy as np\n",
    "import matplotlib.pyplot as plt\n",
    "import seaborn as sns\n",
    "import pandas as pd\n",
    "import math\n",
    "\n",
    "# pipeing:\n",
    "from sklearn.pipeline import make_pipeline\n",
    "\n",
    "# Let's ignore warnings (they're annoying and we know what's up)\n",
    "import warnings\n",
    "warnings.filterwarnings(\"ignore\")"
   ]
  },
  {
   "cell_type": "markdown",
   "id": "8f46da20",
   "metadata": {},
   "source": [
    "ML Models"
   ]
  },
  {
   "cell_type": "code",
   "execution_count": 2,
   "id": "d8f72263",
   "metadata": {},
   "outputs": [],
   "source": [
    "from sklearn.linear_model import LinearRegression"
   ]
  },
  {
   "cell_type": "markdown",
   "id": "4c0e67f7",
   "metadata": {},
   "source": [
    "---\n",
    "\n",
    "Let's generate some fake data\n",
    "\n",
    "---"
   ]
  },
  {
   "cell_type": "markdown",
   "id": "f373986b",
   "metadata": {},
   "source": [
    "Let's fix some parameters\n",
    "\n",
    "*Fixing things ahead of time will make it easy to modify our code on the fly!*"
   ]
  },
  {
   "cell_type": "code",
   "execution_count": 3,
   "id": "7a70afcf",
   "metadata": {},
   "outputs": [],
   "source": [
    "# Number of training points\n",
    "N_train = 10\n",
    "N_test = 2\n",
    "# Dimension of Input Space\n",
    "d = 2"
   ]
  },
  {
   "cell_type": "markdown",
   "id": "355573f3",
   "metadata": {},
   "source": [
    "#### Inputs"
   ]
  },
  {
   "cell_type": "code",
   "execution_count": 4,
   "id": "0555eb54",
   "metadata": {},
   "outputs": [
    {
     "name": "stdout",
     "output_type": "stream",
     "text": [
      "         x1        x2\n",
      "0  0.163552  0.045574\n",
      "1  0.558703  1.033687\n",
      "2 -0.466828  0.877509\n",
      "3  0.777574  0.509648\n",
      "4  0.838307  0.646752\n",
      "5  0.393118  0.204410\n",
      "6 -0.042426 -0.683345\n",
      "7  0.812230 -1.770989\n",
      "8  2.102389  0.750097\n",
      "9 -0.308162 -1.140942\n"
     ]
    },
    {
     "data": {
      "text/html": [
       "<div>\n",
       "<style scoped>\n",
       "    .dataframe tbody tr th:only-of-type {\n",
       "        vertical-align: middle;\n",
       "    }\n",
       "\n",
       "    .dataframe tbody tr th {\n",
       "        vertical-align: top;\n",
       "    }\n",
       "\n",
       "    .dataframe thead th {\n",
       "        text-align: right;\n",
       "    }\n",
       "</style>\n",
       "<table border=\"1\" class=\"dataframe\">\n",
       "  <thead>\n",
       "    <tr style=\"text-align: right;\">\n",
       "      <th></th>\n",
       "      <th>x1</th>\n",
       "      <th>x2</th>\n",
       "    </tr>\n",
       "  </thead>\n",
       "  <tbody>\n",
       "    <tr>\n",
       "      <th>0</th>\n",
       "      <td>1.381239</td>\n",
       "      <td>1.995897</td>\n",
       "    </tr>\n",
       "    <tr>\n",
       "      <th>1</th>\n",
       "      <td>-0.568077</td>\n",
       "      <td>-0.840023</td>\n",
       "    </tr>\n",
       "  </tbody>\n",
       "</table>\n",
       "</div>"
      ],
      "text/plain": [
       "         x1        x2\n",
       "0  1.381239  1.995897\n",
       "1 -0.568077 -0.840023"
      ]
     },
     "execution_count": 4,
     "metadata": {},
     "output_type": "execute_result"
    }
   ],
   "source": [
    "# Training Set\n",
    "\n",
    "## A Random set of N inputs in 2 dimensions\n",
    "X_train = np.random.normal(0,1,np.array([N_train,d]))\n",
    "## 1) We'll convert to pandas object type since it's easier to work with than numpy (in these cases)\n",
    "## 2) We'll name our columns\n",
    "X_train = pd.DataFrame(X_train,columns=['x1','x2'])\n",
    "## View our Dataframe (to make sure there arent' any coding erros)\n",
    "print(X_train)\n",
    "\n",
    "# Testing Set\n",
    "X_test = np.random.normal(0,1,np.array([N_test,d]))\n",
    "## 1) We'll convert to pandas object type since it's easier to work with than numpy (in these cases)\n",
    "## 2) We'll name our columns\n",
    "X_test = pd.DataFrame(X_test,columns=['x1','x2'])\n",
    "## View our Dataframe (to make sure there arent' any coding erros)\n",
    "X_test"
   ]
  },
  {
   "cell_type": "markdown",
   "id": "d07bde4b",
   "metadata": {},
   "source": [
    "#### Outputs\n",
    "We'll consider the simple (noisless) linear target model\n",
    "$$\n",
    "y_n = 2\\,x_1 + x_2\n",
    "$$"
   ]
  },
  {
   "cell_type": "code",
   "execution_count": 5,
   "id": "c14f60d7",
   "metadata": {},
   "outputs": [
    {
     "name": "stdout",
     "output_type": "stream",
     "text": [
      "          Y\n",
      "0  0.372678\n",
      "1  2.151093\n",
      "2 -0.056146\n",
      "3  2.064795\n",
      "4  2.323366\n",
      "5  0.990646\n",
      "6 -0.768198\n",
      "7 -0.146530\n",
      "8  4.954875\n",
      "9 -1.757267\n"
     ]
    },
    {
     "data": {
      "text/html": [
       "<div>\n",
       "<style scoped>\n",
       "    .dataframe tbody tr th:only-of-type {\n",
       "        vertical-align: middle;\n",
       "    }\n",
       "\n",
       "    .dataframe tbody tr th {\n",
       "        vertical-align: top;\n",
       "    }\n",
       "\n",
       "    .dataframe thead th {\n",
       "        text-align: right;\n",
       "    }\n",
       "</style>\n",
       "<table border=\"1\" class=\"dataframe\">\n",
       "  <thead>\n",
       "    <tr style=\"text-align: right;\">\n",
       "      <th></th>\n",
       "      <th>Y</th>\n",
       "    </tr>\n",
       "  </thead>\n",
       "  <tbody>\n",
       "    <tr>\n",
       "      <th>0</th>\n",
       "      <td>4.758376</td>\n",
       "    </tr>\n",
       "    <tr>\n",
       "      <th>1</th>\n",
       "      <td>-1.976176</td>\n",
       "    </tr>\n",
       "  </tbody>\n",
       "</table>\n",
       "</div>"
      ],
      "text/plain": [
       "          Y\n",
       "0  4.758376\n",
       "1 -1.976176"
      ]
     },
     "execution_count": 5,
     "metadata": {},
     "output_type": "execute_result"
    }
   ],
   "source": [
    "# Train\n",
    "\n",
    "## Initialize our target dataframe\n",
    "Y_train = X_train.copy()\n",
    "## We first multiply the first row of our Pandas Dataframe by 2 (note the above equation)\n",
    "Y_train['x1'] = Y_train['x1'].apply(lambda x: 2*x)\n",
    "## We'll sum across the rows of our dataframe\n",
    "Y_train = pd.DataFrame(Y_train.sum(axis = 1),columns=['Y'])\n",
    "## Visualize to check there are no coding errors!\n",
    "print(Y_train)\n",
    "\n",
    "# Test\n",
    "## Initialize our target dataframe\n",
    "Y_test = X_test.copy()\n",
    "## We first multiply the first row of our Pandas Dataframe by 2 (note the above equation)\n",
    "Y_test['x1'] = Y_test['x1'].apply(lambda x: 2*x)\n",
    "## We'll sum across the rows of our dataframe\n",
    "Y_test = pd.DataFrame(Y_test.sum(axis = 1),columns=['Y'])\n",
    "Y_test"
   ]
  },
  {
   "cell_type": "markdown",
   "id": "f9b1eaae",
   "metadata": {},
   "source": [
    "#### Building and Training our Regression Model"
   ]
  },
  {
   "cell_type": "code",
   "execution_count": 6,
   "id": "0fc866a5",
   "metadata": {},
   "outputs": [],
   "source": [
    "model = LinearRegression()"
   ]
  },
  {
   "cell_type": "markdown",
   "id": "872c2681",
   "metadata": {},
   "source": [
    "First we train our model, with the \"training\" (a.k.a. in-sample) data."
   ]
  },
  {
   "cell_type": "code",
   "execution_count": 7,
   "id": "44603410",
   "metadata": {},
   "outputs": [
    {
     "data": {
      "text/html": [
       "<style>#sk-container-id-1 {color: black;background-color: white;}#sk-container-id-1 pre{padding: 0;}#sk-container-id-1 div.sk-toggleable {background-color: white;}#sk-container-id-1 label.sk-toggleable__label {cursor: pointer;display: block;width: 100%;margin-bottom: 0;padding: 0.3em;box-sizing: border-box;text-align: center;}#sk-container-id-1 label.sk-toggleable__label-arrow:before {content: \"▸\";float: left;margin-right: 0.25em;color: #696969;}#sk-container-id-1 label.sk-toggleable__label-arrow:hover:before {color: black;}#sk-container-id-1 div.sk-estimator:hover label.sk-toggleable__label-arrow:before {color: black;}#sk-container-id-1 div.sk-toggleable__content {max-height: 0;max-width: 0;overflow: hidden;text-align: left;background-color: #f0f8ff;}#sk-container-id-1 div.sk-toggleable__content pre {margin: 0.2em;color: black;border-radius: 0.25em;background-color: #f0f8ff;}#sk-container-id-1 input.sk-toggleable__control:checked~div.sk-toggleable__content {max-height: 200px;max-width: 100%;overflow: auto;}#sk-container-id-1 input.sk-toggleable__control:checked~label.sk-toggleable__label-arrow:before {content: \"▾\";}#sk-container-id-1 div.sk-estimator input.sk-toggleable__control:checked~label.sk-toggleable__label {background-color: #d4ebff;}#sk-container-id-1 div.sk-label input.sk-toggleable__control:checked~label.sk-toggleable__label {background-color: #d4ebff;}#sk-container-id-1 input.sk-hidden--visually {border: 0;clip: rect(1px 1px 1px 1px);clip: rect(1px, 1px, 1px, 1px);height: 1px;margin: -1px;overflow: hidden;padding: 0;position: absolute;width: 1px;}#sk-container-id-1 div.sk-estimator {font-family: monospace;background-color: #f0f8ff;border: 1px dotted black;border-radius: 0.25em;box-sizing: border-box;margin-bottom: 0.5em;}#sk-container-id-1 div.sk-estimator:hover {background-color: #d4ebff;}#sk-container-id-1 div.sk-parallel-item::after {content: \"\";width: 100%;border-bottom: 1px solid gray;flex-grow: 1;}#sk-container-id-1 div.sk-label:hover label.sk-toggleable__label {background-color: #d4ebff;}#sk-container-id-1 div.sk-serial::before {content: \"\";position: absolute;border-left: 1px solid gray;box-sizing: border-box;top: 0;bottom: 0;left: 50%;z-index: 0;}#sk-container-id-1 div.sk-serial {display: flex;flex-direction: column;align-items: center;background-color: white;padding-right: 0.2em;padding-left: 0.2em;position: relative;}#sk-container-id-1 div.sk-item {position: relative;z-index: 1;}#sk-container-id-1 div.sk-parallel {display: flex;align-items: stretch;justify-content: center;background-color: white;position: relative;}#sk-container-id-1 div.sk-item::before, #sk-container-id-1 div.sk-parallel-item::before {content: \"\";position: absolute;border-left: 1px solid gray;box-sizing: border-box;top: 0;bottom: 0;left: 50%;z-index: -1;}#sk-container-id-1 div.sk-parallel-item {display: flex;flex-direction: column;z-index: 1;position: relative;background-color: white;}#sk-container-id-1 div.sk-parallel-item:first-child::after {align-self: flex-end;width: 50%;}#sk-container-id-1 div.sk-parallel-item:last-child::after {align-self: flex-start;width: 50%;}#sk-container-id-1 div.sk-parallel-item:only-child::after {width: 0;}#sk-container-id-1 div.sk-dashed-wrapped {border: 1px dashed gray;margin: 0 0.4em 0.5em 0.4em;box-sizing: border-box;padding-bottom: 0.4em;background-color: white;}#sk-container-id-1 div.sk-label label {font-family: monospace;font-weight: bold;display: inline-block;line-height: 1.2em;}#sk-container-id-1 div.sk-label-container {text-align: center;}#sk-container-id-1 div.sk-container {/* jupyter's `normalize.less` sets `[hidden] { display: none; }` but bootstrap.min.css set `[hidden] { display: none !important; }` so we also need the `!important` here to be able to override the default hidden behavior on the sphinx rendered scikit-learn.org. See: https://github.com/scikit-learn/scikit-learn/issues/21755 */display: inline-block !important;position: relative;}#sk-container-id-1 div.sk-text-repr-fallback {display: none;}</style><div id=\"sk-container-id-1\" class=\"sk-top-container\"><div class=\"sk-text-repr-fallback\"><pre>LinearRegression()</pre><b>In a Jupyter environment, please rerun this cell to show the HTML representation or trust the notebook. <br />On GitHub, the HTML representation is unable to render, please try loading this page with nbviewer.org.</b></div><div class=\"sk-container\" hidden><div class=\"sk-item\"><div class=\"sk-estimator sk-toggleable\"><input class=\"sk-toggleable__control sk-hidden--visually\" id=\"sk-estimator-id-1\" type=\"checkbox\" checked><label for=\"sk-estimator-id-1\" class=\"sk-toggleable__label sk-toggleable__label-arrow\">LinearRegression</label><div class=\"sk-toggleable__content\"><pre>LinearRegression()</pre></div></div></div></div></div>"
      ],
      "text/plain": [
       "LinearRegression()"
      ]
     },
     "execution_count": 7,
     "metadata": {},
     "output_type": "execute_result"
    }
   ],
   "source": [
    "model.fit(X_train, Y_train)"
   ]
  },
  {
   "cell_type": "markdown",
   "id": "d28fbfd2",
   "metadata": {},
   "source": [
    "Now we'll predict the test data given our input train data!"
   ]
  },
  {
   "cell_type": "code",
   "execution_count": 8,
   "id": "9ef5d691",
   "metadata": {},
   "outputs": [
    {
     "data": {
      "text/plain": [
       "array([ 4.75837624, -1.97617611])"
      ]
     },
     "execution_count": 8,
     "metadata": {},
     "output_type": "execute_result"
    }
   ],
   "source": [
    "# Generate Prediction\n",
    "Yhat_test = model.predict(X_test)\n",
    "# Convert to \"vector shape\"\n",
    "Yhat_test = Yhat_test.reshape([-1,])\n",
    "# Visualize to make sure things look okay!\n",
    "Yhat_test"
   ]
  },
  {
   "cell_type": "markdown",
   "id": "2965e039",
   "metadata": {},
   "source": [
    "We'll record our training performance while we're at it also."
   ]
  },
  {
   "cell_type": "code",
   "execution_count": 9,
   "id": "ea091f38",
   "metadata": {},
   "outputs": [
    {
     "data": {
      "text/plain": [
       "array([ 0.37267771,  2.15109268, -0.05614631,  2.06479512,  2.32336556,\n",
       "        0.99064551, -0.7681979 , -0.14652964,  4.95487512, -1.7572665 ])"
      ]
     },
     "execution_count": 9,
     "metadata": {},
     "output_type": "execute_result"
    }
   ],
   "source": [
    "# Generate Prediction\n",
    "Yhat_train = model.predict(X_train)\n",
    "# Convert to \"vector shape\"\n",
    "Yhat_train = Yhat_train.reshape([-1,])\n",
    "# Visualize to make sure things look okay!\n",
    "Yhat_train"
   ]
  },
  {
   "cell_type": "markdown",
   "id": "70f49448",
   "metadata": {},
   "source": [
    "---"
   ]
  },
  {
   "cell_type": "markdown",
   "id": "b3e5206e",
   "metadata": {},
   "source": [
    "### Let's do it with real data.\n",
    "\n",
    "Let's pull data from Yahoo finance."
   ]
  },
  {
   "cell_type": "code",
   "execution_count": 10,
   "id": "54d97514",
   "metadata": {},
   "outputs": [],
   "source": [
    "# This package pulls, data from finance\n",
    "import yfinance as yf"
   ]
  },
  {
   "cell_type": "markdown",
   "id": "3cd425a6",
   "metadata": {},
   "source": [
    "We will pull, google stock's daily closing prices from Yahoo finance as covariates.\n",
    "The targets will be Google's next day price using apple's closing price from the day before:)\n",
    "\n",
    "We'll train on a daily 3 year period!"
   ]
  },
  {
   "cell_type": "code",
   "execution_count": 11,
   "id": "881b348e",
   "metadata": {},
   "outputs": [
    {
     "name": "stdout",
     "output_type": "stream",
     "text": [
      "[*********************100%***********************]  1 of 1 completed\n",
      "Tail\n",
      "                 Open       High        Low      Close  Adj Close    Volume\n",
      "Date                                                                       \n",
      "2020-12-22  86.721497  86.870247  85.628754  86.175003  86.175003  18734000\n",
      "2020-12-23  86.405502  87.399498  86.251999  86.619003  86.619003  20676000\n",
      "2020-12-24  86.750000  87.300003  86.455498  86.942497  86.942497   6936000\n",
      "2020-12-28  87.581749  89.536400  87.316750  88.804497  88.804497  27860000\n",
      "2020-12-29  89.389503  89.622002  87.804497  87.935997  87.935997  25988000\n",
      "Head\n",
      "                 Open       High        Low      Close  Adj Close    Volume\n",
      "Date                                                                       \n",
      "2018-01-03  53.215500  54.314499  53.160500  54.124001  54.124001  28604000\n",
      "2018-01-04  54.400002  54.678501  54.200100  54.320000  54.320000  20092000\n",
      "2018-01-05  54.700001  55.212502  54.599998  55.111500  55.111500  25582000\n",
      "2018-01-08  55.111500  55.563499  55.081001  55.347000  55.347000  20952000\n",
      "2018-01-09  55.470001  55.528500  55.061550  55.313000  55.313000  18050000\n",
      "[*********************100%***********************]  1 of 1 completed\n",
      "Tail\n",
      "                  Open        High         Low       Close   Adj Close  \\\n",
      "Date                                                                     \n",
      "2020-12-21  125.019997  128.309998  123.449997  128.229996  126.170631   \n",
      "2020-12-22  131.610001  134.410004  129.649994  131.880005  129.762039   \n",
      "2020-12-23  132.160004  132.429993  130.779999  130.960007  128.856796   \n",
      "2020-12-24  131.320007  133.460007  131.100006  131.970001  129.850601   \n",
      "2020-12-28  133.990005  137.339996  133.509995  136.690002  134.494766   \n",
      "\n",
      "               Volume  \n",
      "Date                   \n",
      "2020-12-21  121251600  \n",
      "2020-12-22  168904800  \n",
      "2020-12-23   88223700  \n",
      "2020-12-24   54930100  \n",
      "2020-12-28  124486200  \n",
      "Head\n",
      "                 Open       High        Low      Close  Adj Close     Volume\n",
      "Date                                                                        \n",
      "2018-01-02  42.540001  43.075001  42.314999  43.064999  40.776527  102223600\n",
      "2018-01-03  43.132500  43.637501  42.990002  43.057499  40.769428  118071600\n",
      "2018-01-04  43.134998  43.367500  43.020000  43.257500  40.958801   89738400\n",
      "2018-01-05  43.360001  43.842499  43.262501  43.750000  41.425129   94640000\n",
      "2018-01-08  43.587502  43.902500  43.482498  43.587502  41.271263   82271200\n"
     ]
    }
   ],
   "source": [
    "# Pull\n",
    "Y_data_raw = yf.download('GOOG','2018-01-03','2020-12-30')\n",
    "# check\n",
    "print('Tail')\n",
    "print(Y_data_raw.tail())\n",
    "print('Head')\n",
    "print(Y_data_raw.head())\n",
    "\n",
    "# Pull Covariates\n",
    "X_data_raw = yf.download('AAPL','2018-01-02','2020-12-29')\n",
    "# check\n",
    "print('Tail')\n",
    "print(X_data_raw.tail())\n",
    "print('Head')\n",
    "print(X_data_raw.head())"
   ]
  },
  {
   "cell_type": "code",
   "execution_count": 12,
   "id": "38b77553",
   "metadata": {},
   "outputs": [
    {
     "name": "stdout",
     "output_type": "stream",
     "text": [
      "(753, 1)\n",
      "(753, 1)\n"
     ]
    }
   ],
   "source": [
    "# 1) Keep only the Closing Prices as covariates\n",
    "# 2) Convert to Dataframe type (Manipulation of data is easier for this object class; as opposed to numpy arrays)\n",
    "Y = pd.DataFrame(Y_data_raw.Close)\n",
    "X = pd.DataFrame(X_data_raw.Close)\n",
    "\n",
    "# Just double-check arrays are of the same size (note Jan. 1rst is a holiday)\n",
    "print(X.shape)\n",
    "print(Y.shape)"
   ]
  },
  {
   "cell_type": "markdown",
   "id": "fa51f3cb",
   "metadata": {},
   "source": [
    "Let's visualize things"
   ]
  },
  {
   "cell_type": "code",
   "execution_count": 13,
   "id": "84e6d299",
   "metadata": {},
   "outputs": [
    {
     "data": {
      "text/plain": [
       "[<matplotlib.lines.Line2D at 0x14fc63130>]"
      ]
     },
     "execution_count": 13,
     "metadata": {},
     "output_type": "execute_result"
    },
    {
     "data": {
      "image/png": "[encoded data removed]",
      "text/plain": [
       "<Figure size 640x480 with 1 Axes>"
      ]
     },
     "metadata": {},
     "output_type": "display_data"
    }
   ],
   "source": [
    "# Activate Seaborn (<- this makes plots pretty :3)\n",
    "sns.set()\n",
    "\n",
    "# Plot!\n",
    "plt.plot(Y)\n",
    "plt.plot(X)"
   ]
  },
  {
   "cell_type": "markdown",
   "id": "f837ce1d",
   "metadata": {},
   "source": [
    "Let's make the last 20 days \"invisible\" and use them as our testing set (we'll pretend those are the too be predicted prices!)."
   ]
  },
  {
   "cell_type": "code",
   "execution_count": 14,
   "id": "e69a232d",
   "metadata": {},
   "outputs": [
    {
     "name": "stdout",
     "output_type": "stream",
     "text": [
      "Check Train\n",
      "(653, 1)\n",
      "                Close\n",
      "Date                 \n",
      "2018-01-02  43.064999\n",
      "2018-01-03  43.057499\n",
      "2018-01-04  43.257500\n",
      "2018-01-05  43.750000\n",
      "2018-01-08  43.587502\n",
      "Check Test\n",
      "(100, 1)\n"
     ]
    },
    {
     "data": {
      "text/html": [
       "<div>\n",
       "<style scoped>\n",
       "    .dataframe tbody tr th:only-of-type {\n",
       "        vertical-align: middle;\n",
       "    }\n",
       "\n",
       "    .dataframe tbody tr th {\n",
       "        vertical-align: top;\n",
       "    }\n",
       "\n",
       "    .dataframe thead th {\n",
       "        text-align: right;\n",
       "    }\n",
       "</style>\n",
       "<table border=\"1\" class=\"dataframe\">\n",
       "  <thead>\n",
       "    <tr style=\"text-align: right;\">\n",
       "      <th></th>\n",
       "      <th>Close</th>\n",
       "    </tr>\n",
       "    <tr>\n",
       "      <th>Date</th>\n",
       "      <th></th>\n",
       "    </tr>\n",
       "  </thead>\n",
       "  <tbody>\n",
       "    <tr>\n",
       "      <th>2018-01-02</th>\n",
       "      <td>43.064999</td>\n",
       "    </tr>\n",
       "    <tr>\n",
       "      <th>2018-01-03</th>\n",
       "      <td>43.057499</td>\n",
       "    </tr>\n",
       "    <tr>\n",
       "      <th>2018-01-04</th>\n",
       "      <td>43.257500</td>\n",
       "    </tr>\n",
       "    <tr>\n",
       "      <th>2018-01-05</th>\n",
       "      <td>43.750000</td>\n",
       "    </tr>\n",
       "    <tr>\n",
       "      <th>2018-01-08</th>\n",
       "      <td>43.587502</td>\n",
       "    </tr>\n",
       "  </tbody>\n",
       "</table>\n",
       "</div>"
      ],
      "text/plain": [
       "                Close\n",
       "Date                 \n",
       "2018-01-02  43.064999\n",
       "2018-01-03  43.057499\n",
       "2018-01-04  43.257500\n",
       "2018-01-05  43.750000\n",
       "2018-01-08  43.587502"
      ]
     },
     "execution_count": 14,
     "metadata": {},
     "output_type": "execute_result"
    }
   ],
   "source": [
    "# Number of training points\n",
    "N_test = 10**2\n",
    "\n",
    "# Build Train\n",
    "Y_train = Y[:-N_test]\n",
    "X_train = X[:-N_test]\n",
    "\n",
    "# Build Test\n",
    "Y_test = Y[:N_test]\n",
    "X_test = X[:N_test]\n",
    "\n",
    "\n",
    "# Visualize Dataframe Dimensions (make sure things are running reasonably!)\n",
    "print('Check Train')\n",
    "print(X_train.shape)\n",
    "print(X_train.head())\n",
    "print('Check Test')\n",
    "print(X_test.shape)\n",
    "X_test.head()"
   ]
  },
  {
   "cell_type": "markdown",
   "id": "182b221b",
   "metadata": {},
   "source": [
    "#### Building and Training our Regression Model"
   ]
  },
  {
   "cell_type": "code",
   "execution_count": 15,
   "id": "ca1f429b",
   "metadata": {},
   "outputs": [],
   "source": [
    "model = LinearRegression()"
   ]
  },
  {
   "cell_type": "markdown",
   "id": "edae35a9",
   "metadata": {},
   "source": [
    "First we train our model, with the \"training\" (a.k.a. in-sample) data."
   ]
  },
  {
   "cell_type": "code",
   "execution_count": 16,
   "id": "5d635c23",
   "metadata": {},
   "outputs": [
    {
     "data": {
      "text/html": [
       "<style>#sk-container-id-2 {color: black;background-color: white;}#sk-container-id-2 pre{padding: 0;}#sk-container-id-2 div.sk-toggleable {background-color: white;}#sk-container-id-2 label.sk-toggleable__label {cursor: pointer;display: block;width: 100%;margin-bottom: 0;padding: 0.3em;box-sizing: border-box;text-align: center;}#sk-container-id-2 label.sk-toggleable__label-arrow:before {content: \"▸\";float: left;margin-right: 0.25em;color: #696969;}#sk-container-id-2 label.sk-toggleable__label-arrow:hover:before {color: black;}#sk-container-id-2 div.sk-estimator:hover label.sk-toggleable__label-arrow:before {color: black;}#sk-container-id-2 div.sk-toggleable__content {max-height: 0;max-width: 0;overflow: hidden;text-align: left;background-color: #f0f8ff;}#sk-container-id-2 div.sk-toggleable__content pre {margin: 0.2em;color: black;border-radius: 0.25em;background-color: #f0f8ff;}#sk-container-id-2 input.sk-toggleable__control:checked~div.sk-toggleable__content {max-height: 200px;max-width: 100%;overflow: auto;}#sk-container-id-2 input.sk-toggleable__control:checked~label.sk-toggleable__label-arrow:before {content: \"▾\";}#sk-container-id-2 div.sk-estimator input.sk-toggleable__control:checked~label.sk-toggleable__label {background-color: #d4ebff;}#sk-container-id-2 div.sk-label input.sk-toggleable__control:checked~label.sk-toggleable__label {background-color: #d4ebff;}#sk-container-id-2 input.sk-hidden--visually {border: 0;clip: rect(1px 1px 1px 1px);clip: rect(1px, 1px, 1px, 1px);height: 1px;margin: -1px;overflow: hidden;padding: 0;position: absolute;width: 1px;}#sk-container-id-2 div.sk-estimator {font-family: monospace;background-color: #f0f8ff;border: 1px dotted black;border-radius: 0.25em;box-sizing: border-box;margin-bottom: 0.5em;}#sk-container-id-2 div.sk-estimator:hover {background-color: #d4ebff;}#sk-container-id-2 div.sk-parallel-item::after {content: \"\";width: 100%;border-bottom: 1px solid gray;flex-grow: 1;}#sk-container-id-2 div.sk-label:hover label.sk-toggleable__label {background-color: #d4ebff;}#sk-container-id-2 div.sk-serial::before {content: \"\";position: absolute;border-left: 1px solid gray;box-sizing: border-box;top: 0;bottom: 0;left: 50%;z-index: 0;}#sk-container-id-2 div.sk-serial {display: flex;flex-direction: column;align-items: center;background-color: white;padding-right: 0.2em;padding-left: 0.2em;position: relative;}#sk-container-id-2 div.sk-item {position: relative;z-index: 1;}#sk-container-id-2 div.sk-parallel {display: flex;align-items: stretch;justify-content: center;background-color: white;position: relative;}#sk-container-id-2 div.sk-item::before, #sk-container-id-2 div.sk-parallel-item::before {content: \"\";position: absolute;border-left: 1px solid gray;box-sizing: border-box;top: 0;bottom: 0;left: 50%;z-index: -1;}#sk-container-id-2 div.sk-parallel-item {display: flex;flex-direction: column;z-index: 1;position: relative;background-color: white;}#sk-container-id-2 div.sk-parallel-item:first-child::after {align-self: flex-end;width: 50%;}#sk-container-id-2 div.sk-parallel-item:last-child::after {align-self: flex-start;width: 50%;}#sk-container-id-2 div.sk-parallel-item:only-child::after {width: 0;}#sk-container-id-2 div.sk-dashed-wrapped {border: 1px dashed gray;margin: 0 0.4em 0.5em 0.4em;box-sizing: border-box;padding-bottom: 0.4em;background-color: white;}#sk-container-id-2 div.sk-label label {font-family: monospace;font-weight: bold;display: inline-block;line-height: 1.2em;}#sk-container-id-2 div.sk-label-container {text-align: center;}#sk-container-id-2 div.sk-container {/* jupyter's `normalize.less` sets `[hidden] { display: none; }` but bootstrap.min.css set `[hidden] { display: none !important; }` so we also need the `!important` here to be able to override the default hidden behavior on the sphinx rendered scikit-learn.org. See: https://github.com/scikit-learn/scikit-learn/issues/21755 */display: inline-block !important;position: relative;}#sk-container-id-2 div.sk-text-repr-fallback {display: none;}</style><div id=\"sk-container-id-2\" class=\"sk-top-container\"><div class=\"sk-text-repr-fallback\"><pre>LinearRegression()</pre><b>In a Jupyter environment, please rerun this cell to show the HTML representation or trust the notebook. <br />On GitHub, the HTML representation is unable to render, please try loading this page with nbviewer.org.</b></div><div class=\"sk-container\" hidden><div class=\"sk-item\"><div class=\"sk-estimator sk-toggleable\"><input class=\"sk-toggleable__control sk-hidden--visually\" id=\"sk-estimator-id-2\" type=\"checkbox\" checked><label for=\"sk-estimator-id-2\" class=\"sk-toggleable__label sk-toggleable__label-arrow\">LinearRegression</label><div class=\"sk-toggleable__content\"><pre>LinearRegression()</pre></div></div></div></div></div>"
      ],
      "text/plain": [
       "LinearRegression()"
      ]
     },
     "execution_count": 16,
     "metadata": {},
     "output_type": "execute_result"
    }
   ],
   "source": [
    "model.fit(X_train, Y_train)"
   ]
  },
  {
   "cell_type": "markdown",
   "id": "fe89fda2",
   "metadata": {},
   "source": [
    "Now we'll predict the test data given our input train data!"
   ]
  },
  {
   "cell_type": "code",
   "execution_count": 17,
   "id": "b816f223",
   "metadata": {},
   "outputs": [
    {
     "data": {
      "text/plain": [
       "array([54.71761996, 54.7145467 , 54.79650399, 54.99832318, 54.93173376,\n",
       "       54.92968439, 54.92558567, 55.027008  , 55.21243541, 55.12023444,\n",
       "       55.41835333, 55.43474353, 55.35278781, 55.20321563, 55.20731279,\n",
       "       54.91841525, 54.59980742, 54.64078529, 54.27710244, 54.17568011,\n",
       "       54.2228045 , 54.25866131, 53.51285291, 53.10204411, 53.77204173,\n",
       "       53.41450385, 52.96476498, 53.09384822, 53.73925976, 53.90624604,\n",
       "       54.21665798, 54.79240683, 54.73503563, 54.67561819, 54.59571026,\n",
       "       54.74220761, 55.04954629, 55.40503482, 55.34561582, 55.3179549 ,\n",
       "       54.99832318, 55.1222838 , 55.18477606, 55.16940819, 55.00139644,\n",
       "       55.1970691 , 55.50850494, 55.68676194, 55.50748104, 55.35073844,\n",
       "       55.37225127, 55.30771122, 55.02905736, 55.02291083, 54.61619919,\n",
       "       54.36827952, 53.9677144 , 54.76986853, 54.31603094, 54.1254809 ,\n",
       "       54.25866131, 54.14596983, 54.32115357, 54.65103054, 54.77294179,\n",
       "       54.32012967, 54.49121467, 54.81904228, 54.73606109, 54.91021936,\n",
       "       54.97066226, 55.08232983, 55.33024951, 55.28927008, 54.77294179,\n",
       "       54.04762233, 53.99844858, 53.76282195, 53.83555789, 53.89395299,\n",
       "       53.69930579, 54.00049638, 54.39389107, 55.1591645 , 55.19194648,\n",
       "       55.90292354, 56.0391772 , 56.13035428, 56.26455859, 56.53911372,\n",
       "       56.39056701, 56.34549042, 56.17030825, 56.34856368, 56.22665398,\n",
       "       56.15698974, 56.2922195 , 56.24406965, 56.36700481, 56.34549042])"
      ]
     },
     "execution_count": 17,
     "metadata": {},
     "output_type": "execute_result"
    }
   ],
   "source": [
    "# Generate Prediction\n",
    "Yhat_test = model.predict(X_test)\n",
    "# Convert to \"vector shape\"\n",
    "Yhat_test = Yhat_test.reshape([-1,])\n",
    "# Visualize to make sure things look okay!\n",
    "Yhat_test"
   ]
  },
  {
   "cell_type": "markdown",
   "id": "ea4d424a",
   "metadata": {},
   "source": [
    "We'll record our training performance while we're at it also."
   ]
  },
  {
   "cell_type": "code",
   "execution_count": 18,
   "id": "280d61e1",
   "metadata": {},
   "outputs": [
    {
     "data": {
      "text/plain": [
       "array([54.71761996, 54.7145467 , 54.79650399, 54.99832318, 54.93173376,\n",
       "       54.92968439, 54.92558567, 55.027008  , 55.21243541, 55.12023444,\n",
       "       55.41835333, 55.43474353, 55.35278781, 55.20321563, 55.20731279,\n",
       "       54.91841525, 54.59980742, 54.64078529, 54.27710244, 54.17568011,\n",
       "       54.2228045 , 54.25866131, 53.51285291, 53.10204411, 53.77204173,\n",
       "       53.41450385, 52.96476498, 53.09384822, 53.73925976, 53.90624604,\n",
       "       54.21665798, 54.79240683, 54.73503563, 54.67561819, 54.59571026,\n",
       "       54.74220761, 55.04954629, 55.40503482, 55.34561582, 55.3179549 ,\n",
       "       54.99832318, 55.1222838 , 55.18477606, 55.16940819, 55.00139644,\n",
       "       55.1970691 , 55.50850494, 55.68676194, 55.50748104, 55.35073844,\n",
       "       55.37225127, 55.30771122, 55.02905736, 55.02291083, 54.61619919,\n",
       "       54.36827952, 53.9677144 , 54.76986853, 54.31603094, 54.1254809 ,\n",
       "       54.25866131, 54.14596983, 54.32115357, 54.65103054, 54.77294179,\n",
       "       54.32012967, 54.49121467, 54.81904228, 54.73606109, 54.91021936,\n",
       "       54.97066226, 55.08232983, 55.33024951, 55.28927008, 54.77294179,\n",
       "       54.04762233, 53.99844858, 53.76282195, 53.83555789, 53.89395299,\n",
       "       53.69930579, 54.00049638, 54.39389107, 55.1591645 , 55.19194648,\n",
       "       55.90292354, 56.0391772 , 56.13035428, 56.26455859, 56.53911372,\n",
       "       56.39056701, 56.34549042, 56.17030825, 56.34856368, 56.22665398,\n",
       "       56.15698974, 56.2922195 , 56.24406965, 56.36700481, 56.34549042,\n",
       "       56.38954311, 56.31987886, 56.27890099, 56.21435937, 56.55960421,\n",
       "       56.72249334, 56.87411331, 56.9427521 , 56.88948119, 56.70917483,\n",
       "       56.66102498, 56.76859383, 56.6067286 , 56.61697385, 56.41617856,\n",
       "       56.40593488, 56.09347358, 56.17645477, 56.06991138, 56.01458955,\n",
       "       55.73286243, 55.96439033, 55.93673098, 56.07400854, 56.03405458,\n",
       "       56.24611745, 55.91214332, 56.0637633 , 56.32705085, 56.59443556,\n",
       "       56.57087336, 56.31783106, 56.64053605, 56.67127023, 56.628243  ,\n",
       "       56.68356327, 56.57599442, 56.72761596, 56.68253937, 56.69995504,\n",
       "       56.84235523, 57.02880811, 56.96631585, 56.63541342, 56.52579677,\n",
       "       56.56472528, 57.71314815, 58.31655635, 58.37802472, 58.48866683,\n",
       "       58.28787154, 58.30221395, 58.46920179, 58.33089876, 58.46817633,\n",
       "       58.55832951, 58.60852872, 58.92406328, 59.36048364, 59.14329814,\n",
       "       59.10026935, 59.10129482, 59.14637141, 59.21501019, 59.39736435,\n",
       "       59.57766914, 59.91369263, 60.12370771, 60.39006852, 60.46485383,\n",
       "       60.31220839, 59.92598724, 59.74158372, 59.43731831, 60.00282191,\n",
       "       59.71802153, 60.265084  , 60.00179645, 59.39121782, 59.42809853,\n",
       "       59.44141547, 59.61147658, 59.36867953, 59.68933515, 59.8327608 ,\n",
       "       59.65143055, 60.11551182, 60.19644522, 60.35216235, 60.55910417,\n",
       "       60.84493001, 60.42694922, 60.04789694, 59.99462603, 60.31220839,\n",
       "       59.23549912, 59.03982646, 59.82456492, 59.33794535, 59.82866208,\n",
       "       59.73031458, 59.20066778, 59.53771517, 59.67499274, 59.88808108,\n",
       "       59.10539198, 59.58791439, 59.2293526 , 58.81342117, 58.92201392,\n",
       "       59.49161468, 59.83583406, 58.32577614, 57.72236794, 57.94570152,\n",
       "       58.57881844, 58.42924783, 58.01741356, 56.96221713, 56.7634712 ,\n",
       "       56.20718895, 56.67946611, 56.89665161, 56.11088925, 55.20116627,\n",
       "       55.18067733, 54.72069322, 54.95939311, 54.92046461, 55.60685401,\n",
       "       55.46445382, 55.36508085, 56.00434586, 55.17145755, 54.96963836,\n",
       "       54.33139881, 54.44511419, 54.34574122, 54.39389107, 54.58341565,\n",
       "       54.02303467, 53.86526817, 54.08347914, 53.55280687, 53.13687545,\n",
       "       52.51195285, 52.1124132 , 53.17170679, 53.0672112 , 53.07540709,\n",
       "       53.23010189, 53.24854146, 51.63706277, 52.25891055, 52.22510311,\n",
       "       52.51400221, 52.7762643 , 52.82646351, 52.67176871, 52.43716754,\n",
       "       52.75167821, 52.94325215, 53.03750249, 53.13585155, 52.7752404 ,\n",
       "       52.83875656, 52.71377204, 53.23214969, 53.08257908, 52.91661513,\n",
       "       53.99947248, 54.12138374, 54.12957962, 54.61414983, 54.91431652,\n",
       "       54.92046461, 54.58239175, 54.52809538, 54.42769695, 54.57726913,\n",
       "       54.50453162, 54.56804934, 54.52911928, 54.58136629, 54.69405776,\n",
       "       54.5946848 , 54.79035747, 54.91943915, 54.92968439, 54.98500467,\n",
       "       54.80879704, 54.99524992, 55.08540309, 55.05261955, 54.94914943,\n",
       "       54.74220761, 54.78421094, 55.39786283, 55.60378074, 55.68573804,\n",
       "       55.89267829, 56.1375247 , 56.33217347, 56.17952803, 56.34651588,\n",
       "       57.05646747, 56.64258541, 56.40593488, 56.20616349, 56.37827396,\n",
       "       56.40388551, 56.52989393, 56.66205044, 56.94685082, 57.08310449,\n",
       "       57.11793583, 57.25214014, 57.56972406, 57.5082557 , 57.62299497,\n",
       "       57.45190996, 57.44371408, 57.48059478, 57.48264414, 57.880136  ,\n",
       "       57.9549213 , 58.02356009, 58.32577614, 58.29299416, 58.10039476,\n",
       "       57.99999789, 58.03175597, 57.6281176 , 58.63721354, 58.49686115,\n",
       "       58.76322196, 58.42822237, 57.85247508, 57.85657224, 57.63324022,\n",
       "       57.27057971, 56.09654684, 56.39773899, 56.6292669 , 56.54321244,\n",
       "       56.43257033, 55.82711277, 56.18670002, 55.79535469, 55.47572296,\n",
       "       55.40503482, 55.32922405, 55.24214569, 55.33639603, 55.00549516,\n",
       "       54.82416491, 55.4736736 , 55.77076703, 56.04532373, 56.55038287,\n",
       "       56.79932801, 57.02778265, 56.96426649, 56.96016777, 56.81571978,\n",
       "       56.93353231, 57.40068685, 57.34126785, 57.50415854, 57.43449429,\n",
       "       57.41400536, 57.10564278, 57.53898988, 57.53284336, 57.34639048,\n",
       "       57.71827077, 57.83915657, 58.01126704, 57.99282591, 57.56152817,\n",
       "       57.68651269, 57.89037968, 57.73875971, 57.89755167, 58.09322433,\n",
       "       58.02048683, 57.90267429, 58.13932482, 57.82481416, 58.29914068,\n",
       "       58.46510307, 58.4476874 , 58.27865175, 58.35241316, 58.55115752,\n",
       "       58.45895655, 58.8953769 , 58.42309974, 57.97131308, 56.87718658,\n",
       "       57.25214014, 57.46112975, 57.91086861, 57.66090114, 57.60865256,\n",
       "       58.47842158, 57.84120593, 57.73773581, 58.22537928, 58.61979787,\n",
       "       58.62082177, 58.85439904, 58.83595947, 57.82993678, 58.22435538,\n",
       "       57.98565548, 58.12600631, 58.48251874, 58.45485938, 58.14342198,\n",
       "       58.50095987, 58.91996456, 58.9179152 , 59.01114164, 59.27033046,\n",
       "       59.97618489, 59.92496178, 59.48034554, 59.59815807, 59.68011536,\n",
       "       59.8921798 , 59.70675238, 59.37584995, 59.47727228, 59.37072733,\n",
       "       59.71392281, 59.59713417, 59.48751752, 60.01511496, 60.07863112,\n",
       "       59.50185993, 59.69240997, 60.3265508 , 60.33167342, 60.05916609,\n",
       "       60.32860016, 60.64208536, 61.26905732, 61.23422442, 61.17788024,\n",
       "       61.08055508, 61.17378152, 61.28954625, 61.70957484, 61.65323067,\n",
       "       61.98310607, 62.0240855 , 62.33142418, 62.58446648, 61.99437522,\n",
       "       61.99130196, 62.5547562 , 63.27802786, 63.45013677, 63.41223217,\n",
       "       63.42349975, 63.64785724, 63.72059631, 63.93163528, 63.90704606,\n",
       "       64.16418709, 63.97671187, 64.29634359, 64.43362116, 64.35063997,\n",
       "       64.03305604, 63.91217025, 63.88860649, 64.35883429, 64.14574752,\n",
       "       64.50943037, 64.44898747, 64.13242901, 63.64990816, 63.88450777,\n",
       "       64.2779009 , 64.80345053, 64.41518159, 64.57499745, 64.80959706,\n",
       "       64.8802852 , 65.25831202, 65.74083287, 65.79718017, 65.72853982,\n",
       "       65.75722464, 65.69780721, 66.16496174, 66.1926211 , 66.77041931,\n",
       "       66.7591486 , 66.93535623, 67.15356719, 67.83995815, 67.5408138 ,\n",
       "       67.78361085, 67.63916443, 68.13090506, 68.790659  , 68.86236948,\n",
       "       69.54158846, 69.10311874, 68.96584117, 69.36538082, 69.72292028,\n",
       "       69.50163605, 69.61740079, 69.77414339, 69.67989149, 68.72099632,\n",
       "       69.61637533, 70.2976421 , 70.24949225, 68.77836595, 68.69128604,\n",
       "       69.73521332, 70.00157413, 70.38676982, 69.85609912, 70.01181626,\n",
       "       69.81307033, 70.59063993, 70.35193847, 70.36013592, 69.75057963,\n",
       "       70.22388069, 69.88375847, 69.14102334, 67.61764847, 66.58294097,\n",
       "       67.05112097, 65.09132418, 65.0749324 , 67.68219009, 66.70997641,\n",
       "       68.08480301, 67.07878345, 66.68026613, 64.33834692, 66.30223931,\n",
       "       65.28699684, 62.50045982, 65.54721113, 61.88373467, 62.97478635,\n",
       "       62.34064396, 62.14702066, 60.555007  , 60.05609282, 62.36215836,\n",
       "       62.22283143, 63.54643647, 62.45026217, 63.17455617, 63.1212837 ,\n",
       "       61.75055427, 62.16238697, 61.80177738, 63.95929464, 63.64785724,\n",
       "       64.32810167, 64.52479667, 65.06366482, 66.47742148, 66.20901287,\n",
       "       66.44054234, 66.04202502, 65.44066618, 64.56372674, 65.35563719,\n",
       "       65.24601898, 66.05944226, 66.07993275, 65.60970183, 66.54708729,\n",
       "       67.1689335 , 66.68436486, 67.10336954, 67.55413231, 67.86864297,\n",
       "       68.18724923, 68.84188211, 69.34182019, 68.97301316, 68.58781435,\n",
       "       68.78143921, 68.59396087, 69.33669601, 69.15024625, 69.77414339,\n",
       "       69.53032087, 69.73931205, 69.51802783, 69.65940099, 69.67374496,\n",
       "       69.64198688, 70.042552  , 70.19519587, 70.37755003, 70.09070185,\n",
       "       71.03115745, 71.23195117, 72.3107098 , 73.21735952, 71.48192021,\n",
       "       71.77901364, 72.20826358, 73.13949939, 73.08930174, 73.10364571,\n",
       "       72.8977278 , 73.83511014, 74.6198486 , 73.95702139, 74.44671423,\n",
       "       73.29829292, 74.13322903, 74.4426155 , 74.37192736, 74.37192736,\n",
       "       75.36975572, 75.25091772, 76.14015021, 76.30816352, 76.37680074,\n",
       "       76.19547204, 76.84293294, 77.11646261, 76.62369652, 76.54378859,\n",
       "       77.37565144, 76.81936918, 76.93103519, 75.11671342, 75.02246151,\n",
       "       75.92193925, 75.28370126, 76.01619115, 76.48744441, 80.61397825,\n",
       "       81.71117644, 82.00929533, 82.17218446])"
      ]
     },
     "execution_count": 18,
     "metadata": {},
     "output_type": "execute_result"
    }
   ],
   "source": [
    "# Generate Prediction\n",
    "Yhat_train = model.predict(X_train)\n",
    "# Convert to \"vector shape\"\n",
    "Yhat_train = Yhat_train.reshape([-1,])\n",
    "# Visualize to make sure things look okay!\n",
    "Yhat_train"
   ]
  },
  {
   "cell_type": "markdown",
   "id": "353b23af",
   "metadata": {},
   "source": [
    "### Let's check how we did!"
   ]
  },
  {
   "cell_type": "markdown",
   "id": "ca5e9923",
   "metadata": {},
   "source": [
    "Build dataframe\n",
    "\n",
    "*This is not the most efficient coding; but the point is rather to show you how to name and join columns to dataframes :)*"
   ]
  },
  {
   "cell_type": "code",
   "execution_count": 19,
   "id": "c8736229",
   "metadata": {},
   "outputs": [
    {
     "data": {
      "text/html": [
       "<div>\n",
       "<style scoped>\n",
       "    .dataframe tbody tr th:only-of-type {\n",
       "        vertical-align: middle;\n",
       "    }\n",
       "\n",
       "    .dataframe tbody tr th {\n",
       "        vertical-align: top;\n",
       "    }\n",
       "\n",
       "    .dataframe thead th {\n",
       "        text-align: right;\n",
       "    }\n",
       "</style>\n",
       "<table border=\"1\" class=\"dataframe\">\n",
       "  <thead>\n",
       "    <tr style=\"text-align: right;\">\n",
       "      <th></th>\n",
       "      <th>Targets_Test</th>\n",
       "      <th>Predictions_Test</th>\n",
       "    </tr>\n",
       "    <tr>\n",
       "      <th>Date</th>\n",
       "      <th></th>\n",
       "      <th></th>\n",
       "    </tr>\n",
       "  </thead>\n",
       "  <tbody>\n",
       "    <tr>\n",
       "      <th>2018-01-03</th>\n",
       "      <td>54.124001</td>\n",
       "      <td>54.717620</td>\n",
       "    </tr>\n",
       "    <tr>\n",
       "      <th>2018-01-04</th>\n",
       "      <td>54.320000</td>\n",
       "      <td>54.714547</td>\n",
       "    </tr>\n",
       "    <tr>\n",
       "      <th>2018-01-05</th>\n",
       "      <td>55.111500</td>\n",
       "      <td>54.796504</td>\n",
       "    </tr>\n",
       "    <tr>\n",
       "      <th>2018-01-08</th>\n",
       "      <td>55.347000</td>\n",
       "      <td>54.998323</td>\n",
       "    </tr>\n",
       "    <tr>\n",
       "      <th>2018-01-09</th>\n",
       "      <td>55.313000</td>\n",
       "      <td>54.931734</td>\n",
       "    </tr>\n",
       "    <tr>\n",
       "      <th>...</th>\n",
       "      <td>...</td>\n",
       "      <td>...</td>\n",
       "    </tr>\n",
       "    <tr>\n",
       "      <th>2018-05-21</th>\n",
       "      <td>53.979000</td>\n",
       "      <td>56.156990</td>\n",
       "    </tr>\n",
       "    <tr>\n",
       "      <th>2018-05-22</th>\n",
       "      <td>53.486500</td>\n",
       "      <td>56.292220</td>\n",
       "    </tr>\n",
       "    <tr>\n",
       "      <th>2018-05-23</th>\n",
       "      <td>53.984501</td>\n",
       "      <td>56.244070</td>\n",
       "    </tr>\n",
       "    <tr>\n",
       "      <th>2018-05-24</th>\n",
       "      <td>53.962002</td>\n",
       "      <td>56.367005</td>\n",
       "    </tr>\n",
       "    <tr>\n",
       "      <th>2018-05-25</th>\n",
       "      <td>53.783001</td>\n",
       "      <td>56.345490</td>\n",
       "    </tr>\n",
       "  </tbody>\n",
       "</table>\n",
       "<p>100 rows × 2 columns</p>\n",
       "</div>"
      ],
      "text/plain": [
       "            Targets_Test  Predictions_Test\n",
       "Date                                      \n",
       "2018-01-03     54.124001         54.717620\n",
       "2018-01-04     54.320000         54.714547\n",
       "2018-01-05     55.111500         54.796504\n",
       "2018-01-08     55.347000         54.998323\n",
       "2018-01-09     55.313000         54.931734\n",
       "...                  ...               ...\n",
       "2018-05-21     53.979000         56.156990\n",
       "2018-05-22     53.486500         56.292220\n",
       "2018-05-23     53.984501         56.244070\n",
       "2018-05-24     53.962002         56.367005\n",
       "2018-05-25     53.783001         56.345490\n",
       "\n",
       "[100 rows x 2 columns]"
      ]
     },
     "execution_count": 19,
     "metadata": {},
     "output_type": "execute_result"
    }
   ],
   "source": [
    "# Let's build a dataframe with the target and our predictions as columns\n",
    "time_series_comparison = pd.DataFrame(Y_test)\n",
    "time_series_comparison.columns = ['Targets_Test'] # <- Rename columns\n",
    "\n",
    "# Append Predictions to Dataframe\n",
    "time_series_comparison['Predictions_Test'] = Yhat_test\n",
    "\n",
    "# Check nothing went wrong (Safefy First!)\n",
    "time_series_comparison"
   ]
  },
  {
   "cell_type": "code",
   "execution_count": 20,
   "id": "09fc2cb2",
   "metadata": {},
   "outputs": [
    {
     "data": {
      "image/png": "[encoded data removed]",
      "text/plain": [
       "<Figure size 640x480 with 1 Axes>"
      ]
     },
     "metadata": {},
     "output_type": "display_data"
    }
   ],
   "source": [
    "# Activate Seaborn (<- this makes plots pretty :3)\n",
    "sns.set()\n",
    "\n",
    "# Plot!\n",
    "plt.plot(time_series_comparison)\n",
    "\n",
    "# Now we'll need a legend also\n",
    "plt.legend(time_series_comparison.columns);"
   ]
  },
  {
   "cell_type": "markdown",
   "id": "e319fcec",
   "metadata": {},
   "source": [
    "# Polynomial Features"
   ]
  },
  {
   "cell_type": "markdown",
   "id": "86670489",
   "metadata": {},
   "source": [
    "We will begin by using polynomial features.  I.e. we use the feature map\n",
    "$$\n",
    "\\phi:x\\mapsto (1,\\dots,x^p)\n",
    "$$\n",
    "where $p\\in \\mathbb{N}$ is the degree of the polynomial regressors we will construct.  Thus, for a given $p$, our hypothesis class consists of all functions $f:\\mathbb{R}\\rightarrow \\mathbb{R}$ of the form\n",
    "$$\n",
    "f_w(x) := w^{\\top}\\,\\phi(x)\n",
    "$$\n",
    "where $w\\in \\mathbb{R}^{\\boldsymbol{1}+p}$. "
   ]
  },
  {
   "cell_type": "markdown",
   "id": "1686eea6",
   "metadata": {},
   "source": [
    "---\n",
    "Let's import the built-in function which builds the polynomial feature map for us."
   ]
  },
  {
   "cell_type": "code",
   "execution_count": 21,
   "id": "35f8180d",
   "metadata": {},
   "outputs": [],
   "source": [
    "from sklearn.preprocessing import PolynomialFeatures"
   ]
  },
  {
   "cell_type": "markdown",
   "id": "c6232e84",
   "metadata": {},
   "source": [
    "What degree polynomial will we use?"
   ]
  },
  {
   "cell_type": "code",
   "execution_count": 77,
   "id": "172d3d9a",
   "metadata": {},
   "outputs": [],
   "source": [
    "# Create polynomial features\n",
    "degree = 5  # Change this to the degree of the polynomial you want\n",
    "poly_features = PolynomialFeatures(degree=degree)"
   ]
  },
  {
   "cell_type": "markdown",
   "id": "3f72f26e",
   "metadata": {},
   "source": [
    "Let us apply the feature map.  We can do so via a direct change of variables."
   ]
  },
  {
   "cell_type": "code",
   "execution_count": 78,
   "id": "3d22b39b",
   "metadata": {},
   "outputs": [],
   "source": [
    "# Training Set\n",
    "X_poly__train = poly_features.fit_transform(X_train)\n",
    "\n",
    "# Test Set\n",
    "X_poly__test = poly_features.fit_transform(X_test)"
   ]
  },
  {
   "cell_type": "markdown",
   "id": "72658f52",
   "metadata": {},
   "source": [
    "Let's build/train the model."
   ]
  },
  {
   "cell_type": "markdown",
   "id": "faddd97e",
   "metadata": {},
   "source": [
    "We will use the following variant of the regression problem which solves the minimum energy problem:\n",
    "$$\n",
    "\\min_{f_w\\in \\mathcal{H}}\\, \\frac1{N}\\,\\sum_{n=1}^N\\, \\|f_w(x_n)-y_n\\|^2\n",
    "+\n",
    "\\alpha\\,{\\color{green}{\\|w\\|_2^2}}\n",
    "$$\n",
    "where $\\alpha >0$ is a hyperparameter ensuring stability of the regression problem.  Note that, if \"$\\alpha=0$\" then we recover the original regression problem which may be [ill-posed](https://en.wikipedia.org/wiki/Well-posed_problem)."
   ]
  },
  {
   "cell_type": "code",
   "execution_count": 79,
   "id": "f6452d99",
   "metadata": {},
   "outputs": [],
   "source": [
    "from sklearn.linear_model import Ridge"
   ]
  },
  {
   "cell_type": "code",
   "execution_count": 98,
   "id": "c0d28cc6",
   "metadata": {},
   "outputs": [
    {
     "data": {
      "text/html": [
       "<style>#sk-container-id-13 {color: black;background-color: white;}#sk-container-id-13 pre{padding: 0;}#sk-container-id-13 div.sk-toggleable {background-color: white;}#sk-container-id-13 label.sk-toggleable__label {cursor: pointer;display: block;width: 100%;margin-bottom: 0;padding: 0.3em;box-sizing: border-box;text-align: center;}#sk-container-id-13 label.sk-toggleable__label-arrow:before {content: \"▸\";float: left;margin-right: 0.25em;color: #696969;}#sk-container-id-13 label.sk-toggleable__label-arrow:hover:before {color: black;}#sk-container-id-13 div.sk-estimator:hover label.sk-toggleable__label-arrow:before {color: black;}#sk-container-id-13 div.sk-toggleable__content {max-height: 0;max-width: 0;overflow: hidden;text-align: left;background-color: #f0f8ff;}#sk-container-id-13 div.sk-toggleable__content pre {margin: 0.2em;color: black;border-radius: 0.25em;background-color: #f0f8ff;}#sk-container-id-13 input.sk-toggleable__control:checked~div.sk-toggleable__content {max-height: 200px;max-width: 100%;overflow: auto;}#sk-container-id-13 input.sk-toggleable__control:checked~label.sk-toggleable__label-arrow:before {content: \"▾\";}#sk-container-id-13 div.sk-estimator input.sk-toggleable__control:checked~label.sk-toggleable__label {background-color: #d4ebff;}#sk-container-id-13 div.sk-label input.sk-toggleable__control:checked~label.sk-toggleable__label {background-color: #d4ebff;}#sk-container-id-13 input.sk-hidden--visually {border: 0;clip: rect(1px 1px 1px 1px);clip: rect(1px, 1px, 1px, 1px);height: 1px;margin: -1px;overflow: hidden;padding: 0;position: absolute;width: 1px;}#sk-container-id-13 div.sk-estimator {font-family: monospace;background-color: #f0f8ff;border: 1px dotted black;border-radius: 0.25em;box-sizing: border-box;margin-bottom: 0.5em;}#sk-container-id-13 div.sk-estimator:hover {background-color: #d4ebff;}#sk-container-id-13 div.sk-parallel-item::after {content: \"\";width: 100%;border-bottom: 1px solid gray;flex-grow: 1;}#sk-container-id-13 div.sk-label:hover label.sk-toggleable__label {background-color: #d4ebff;}#sk-container-id-13 div.sk-serial::before {content: \"\";position: absolute;border-left: 1px solid gray;box-sizing: border-box;top: 0;bottom: 0;left: 50%;z-index: 0;}#sk-container-id-13 div.sk-serial {display: flex;flex-direction: column;align-items: center;background-color: white;padding-right: 0.2em;padding-left: 0.2em;position: relative;}#sk-container-id-13 div.sk-item {position: relative;z-index: 1;}#sk-container-id-13 div.sk-parallel {display: flex;align-items: stretch;justify-content: center;background-color: white;position: relative;}#sk-container-id-13 div.sk-item::before, #sk-container-id-13 div.sk-parallel-item::before {content: \"\";position: absolute;border-left: 1px solid gray;box-sizing: border-box;top: 0;bottom: 0;left: 50%;z-index: -1;}#sk-container-id-13 div.sk-parallel-item {display: flex;flex-direction: column;z-index: 1;position: relative;background-color: white;}#sk-container-id-13 div.sk-parallel-item:first-child::after {align-self: flex-end;width: 50%;}#sk-container-id-13 div.sk-parallel-item:last-child::after {align-self: flex-start;width: 50%;}#sk-container-id-13 div.sk-parallel-item:only-child::after {width: 0;}#sk-container-id-13 div.sk-dashed-wrapped {border: 1px dashed gray;margin: 0 0.4em 0.5em 0.4em;box-sizing: border-box;padding-bottom: 0.4em;background-color: white;}#sk-container-id-13 div.sk-label label {font-family: monospace;font-weight: bold;display: inline-block;line-height: 1.2em;}#sk-container-id-13 div.sk-label-container {text-align: center;}#sk-container-id-13 div.sk-container {/* jupyter's `normalize.less` sets `[hidden] { display: none; }` but bootstrap.min.css set `[hidden] { display: none !important; }` so we also need the `!important` here to be able to override the default hidden behavior on the sphinx rendered scikit-learn.org. See: https://github.com/scikit-learn/scikit-learn/issues/21755 */display: inline-block !important;position: relative;}#sk-container-id-13 div.sk-text-repr-fallback {display: none;}</style><div id=\"sk-container-id-13\" class=\"sk-top-container\"><div class=\"sk-text-repr-fallback\"><pre>Ridge(alpha=0.001)</pre><b>In a Jupyter environment, please rerun this cell to show the HTML representation or trust the notebook. <br />On GitHub, the HTML representation is unable to render, please try loading this page with nbviewer.org.</b></div><div class=\"sk-container\" hidden><div class=\"sk-item\"><div class=\"sk-estimator sk-toggleable\"><input class=\"sk-toggleable__control sk-hidden--visually\" id=\"sk-estimator-id-13\" type=\"checkbox\" checked><label for=\"sk-estimator-id-13\" class=\"sk-toggleable__label sk-toggleable__label-arrow\">Ridge</label><div class=\"sk-toggleable__content\"><pre>Ridge(alpha=0.001)</pre></div></div></div></div></div>"
      ],
      "text/plain": [
       "Ridge(alpha=0.001)"
      ]
     },
     "execution_count": 98,
     "metadata": {},
     "output_type": "execute_result"
    }
   ],
   "source": [
    "# Fit a Ridge regression model to the polynomial features\n",
    "alpha = 10**-3  # Regularization strength; you can adjust this value\n",
    "poly_ridge_model = Ridge(alpha=alpha)\n",
    "poly_ridge_model.fit(X_poly__train, Y_train)"
   ]
  },
  {
   "cell_type": "markdown",
   "id": "3920f4a2",
   "metadata": {},
   "source": [
    "Generate Predictions"
   ]
  },
  {
   "cell_type": "markdown",
   "id": "417e5548",
   "metadata": {},
   "source": [
    "#### Training"
   ]
  },
  {
   "cell_type": "code",
   "execution_count": 99,
   "id": "ca71e825",
   "metadata": {},
   "outputs": [
    {
     "data": {
      "text/plain": [
       "array([54.9962005 , 54.99258406, 55.08801522, 55.3144177 , 55.24102474,\n",
       "       55.23874598, 55.23418484, 55.34565037, 55.54222641, 55.44561156,\n",
       "       55.75043917, 55.76658671, 55.68523247, 55.53266293, 55.53691547,\n",
       "       55.2261938 , 54.85538877, 54.90487866, 54.4453201 , 54.30849989,\n",
       "       54.37256775, 54.4207382 , 53.30665166, 52.57769973, 53.72206102,\n",
       "       53.14033256, 52.31302651, 52.56220804, 53.67128694, 53.92483229,\n",
       "       54.36426051, 55.08329384, 55.01663794, 54.94651481, 54.85040995,\n",
       "       55.0250266 , 55.37003177, 55.73727321, 55.67803939, 55.65018369,\n",
       "       55.3144177 , 55.44778293, 55.51347156, 55.49741102, 55.31777484,\n",
       "       55.52627538, 55.83851945, 56.00761799, 55.83752905, 55.68317831,\n",
       "       55.70469274, 55.63982181, 55.34787307, 55.3412032 , 54.87525202,\n",
       "       54.56497709, 54.01504855, 55.05722965, 54.49678819, 54.23928506,\n",
       "       54.4207382 , 54.2676569 , 54.50351849, 54.91716585, 55.06079291,\n",
       "       54.50217404, 54.72150894, 55.1138958 , 55.01783836, 55.21704174,\n",
       "       55.28408283, 55.4052501 , 55.6625872 , 55.62110452, 55.06079291,\n",
       "       54.12991585, 54.05954784, 53.70783123, 53.81903647, 53.90659261,\n",
       "       53.60872805, 54.06249855, 54.59803565, 55.486672  , 55.52094457,\n",
       "       56.20444352, 56.32434549, 56.4029469 , 56.5164473 , 56.74144169,\n",
       "       56.62083179, 56.58372075, 56.4370018 , 56.58625889, 56.48464342,\n",
       "       56.42567531, 56.53953535, 56.49928011, 56.60146443, 56.58372075,\n",
       "       56.61999158, 56.56252249, 56.5284312 , 56.47428569, 56.75788717,\n",
       "       56.88712279, 57.00526594, 57.0581521 , 57.01713729, 56.87665069,\n",
       "       56.83865506, 56.92324903, 56.79554339, 56.80370037, 56.64180776,\n",
       "       56.63342753, 56.37130409, 56.44222048, 56.35098156, 56.30293045,\n",
       "       56.05031839, 56.25890929, 56.23447842, 56.35452143, 56.31989168,\n",
       "       56.50099844, 56.21265362, 56.3456649 , 56.56846698, 56.78574211,\n",
       "       56.76691291, 56.56082398, 56.82242052, 56.84675788, 56.81266051,\n",
       "       56.85646721, 56.77101014, 56.89114637, 56.85565905, 56.86939189,\n",
       "       56.9806758 , 57.12398976, 57.07622962, 56.81835523, 56.73072971,\n",
       "       56.7619904 , 57.63485309, 58.07934771, 58.12490486, 58.20717604,\n",
       "       58.05811987, 58.0687314 , 58.19267477, 58.08996897, 58.19191116,\n",
       "       58.25917985, 58.29676364, 58.53551228, 58.87482543, 58.70446768,\n",
       "       58.67108169, 58.67187602, 58.70685665, 58.76036976, 58.90407737,\n",
       "       59.04853737, 59.32470395, 59.50230142, 59.73350042, 59.7996606 ,\n",
       "       59.66520842, 59.33499115, 59.18207456, 58.93587817, 59.39958601,\n",
       "       59.16274399, 59.6241629 , 59.39872041, 58.89919545, 58.92852943,\n",
       "       58.93914588, 59.07590225, 58.88131757, 59.13927155, 59.25731709,\n",
       "       59.1083597 , 59.49529476, 59.56476131, 59.70017806, 59.88384152,\n",
       "       60.14472315, 59.7660579 , 59.43772871, 59.39267045, 59.66520842,\n",
       "       58.77640314, 58.62437505, 59.25052459, 58.85699695, 59.25391947,\n",
       "       59.17282352, 58.74916273, 59.01631288, 59.1275613 , 59.30331693,\n",
       "       58.67505032, 59.05682068, 58.77159032, 58.45125657, 58.53394585,\n",
       "       58.97928403, 59.25986561, 58.08617484, 57.64164392, 57.80594638,\n",
       "       58.27450822, 58.16294726, 57.85869372, 57.07308796, 56.9192439 ,\n",
       "       56.46823527, 56.85323276, 57.02267017, 56.3862715 , 55.53053427,\n",
       "       55.50919399, 54.99981395, 55.27166256, 55.22847922, 55.93261831,\n",
       "       55.79570419, 55.69753374, 56.29398034, 55.49955624, 55.28295583,\n",
       "       54.5169497 , 54.66344148, 54.53568662, 54.59803565, 54.83543606,\n",
       "       54.09485746, 53.86377277, 54.18059285, 53.37281775, 52.64310618,\n",
       "       51.35680316, 50.39591775, 52.70782054, 52.51159043, 52.52720877,\n",
       "       52.81478331, 52.84816544, 49.09036064, 50.76188615, 50.67887163,\n",
       "       51.36143618, 51.93099727, 52.0348983 , 51.70952445, 51.18573504,\n",
       "       51.87952399, 52.27053319, 52.45464737, 52.64119341, 51.92886136,\n",
       "       52.06009961, 51.79940075, 52.81849982, 52.54084387, 52.2175291 ,\n",
       "       54.06102342, 54.23359129, 54.24497423, 54.87277351, 55.22161933,\n",
       "       55.22847922, 54.83418675, 54.76742936, 54.6413073 , 54.82793108,\n",
       "       54.73814426, 54.81664979, 54.76869753, 54.83293517, 54.96839716,\n",
       "       54.84916295, 55.08093033, 55.22733579, 55.23874598, 55.29983848,\n",
       "       55.10215039, 55.31105793, 55.40853679, 55.37334562, 55.26034125,\n",
       "       55.0250266 , 55.07383386, 55.73016668, 55.92970823, 56.00666496,\n",
       "       56.19530325, 56.40907567, 56.57270887, 56.4448278 , 56.58456779,\n",
       "       57.14504797, 56.82404617, 56.63342753, 56.4673694 , 56.61073574,\n",
       "       56.63174947, 56.73402744, 56.83946653, 57.06129933, 57.16528335,\n",
       "       57.19168047, 57.29277659, 57.52904096, 57.48356165, 57.56838537,\n",
       "       57.44178329, 57.43569843, 57.46306356, 57.46458298, 57.75773089,\n",
       "       57.81272679, 57.86321604, 58.08617484, 58.06190941, 57.91977445,\n",
       "       57.84588143, 57.8692466 , 57.5721658 , 58.31828378, 58.21328447,\n",
       "       58.41323051, 58.16218492, 57.73738828, 57.74040159, 57.57594574,\n",
       "       57.30659818, 56.37394861, 56.62671358, 56.813474  , 56.74473485,\n",
       "       56.65519192, 56.13637778, 56.45090725, 56.10756165, 55.80669746,\n",
       "       55.73727321, 55.66155403, 55.57289951, 55.66877475, 55.32224809,\n",
       "       55.11975659, 55.80470034, 56.08512564, 56.32968412, 56.75049169,\n",
       "       56.94723177, 57.1232081 , 57.07465893, 57.07151669, 56.95999047,\n",
       "       57.05106826, 57.40371798, 57.35944703, 57.48052679, 57.42885086,\n",
       "       57.41362372, 57.18237212, 57.50631301, 57.50176491, 57.36326895,\n",
       "       57.63862629, 57.72759258, 57.85417165, 57.84060568, 57.52298227,\n",
       "       57.61522846, 57.76526395, 57.65371475, 57.77053804, 57.91449376,\n",
       "       57.86095485, 57.77430507, 57.94845572, 57.7170429 , 58.06645719,\n",
       "       58.18962283, 58.17666094, 58.05130088, 58.10591106, 58.25381795,\n",
       "       58.18504709, 58.51360618, 58.15837717, 57.82478226, 57.00764141,\n",
       "       57.29277659, 57.44862584, 57.78033091, 57.59634849, 57.55779818,\n",
       "       58.19954188, 57.72909992, 57.65296085, 58.01193544, 58.30521414,\n",
       "       58.3059822 , 58.48238869, 58.46836921, 57.72081101, 58.01117939,\n",
       "       57.83533135, 57.93864126, 58.20259443, 58.18199765, 57.95147543,\n",
       "       58.2163407 , 58.53237964, 58.53081365, 58.6022849 , 58.80372432,\n",
       "       59.3771323 , 59.33413261, 58.97025702, 59.065111  , 59.13174188,\n",
       "       59.30673571, 59.15351499, 58.88700135, 58.96779689, 58.88294042,\n",
       "       59.15938608, 59.06428198, 58.97600094, 59.4099701 , 59.4638428 ,\n",
       "       58.9874992 , 59.14178426, 59.67774361, 59.68222563, 59.44729374,\n",
       "       59.67953638, 59.9587068 , 60.5478596 , 60.51401354, 60.45954718,\n",
       "       60.36628184, 60.4555986 , 60.56783031, 60.987466  , 60.93003719,\n",
       "       61.27128117, 61.31451706, 61.64468635, 61.92426599, 61.28315228,\n",
       "       61.27991345, 61.89108218, 62.72508393, 62.93127166, 62.88561814,\n",
       "       62.89917494, 63.17158956, 63.26089923, 63.52265345, 63.49195743,\n",
       "       63.8154383 , 63.57905736, 63.98374725, 64.15997655, 64.05328317,\n",
       "       63.6497985 , 63.49835   , 63.46897207, 64.06379653, 63.7920628 ,\n",
       "       64.25788276, 64.17978876, 63.77519597, 63.17410117, 63.46386685,\n",
       "       63.96017873, 64.64130368, 64.13622437, 64.34288656, 64.64937866,\n",
       "       64.74241069, 65.24471557, 65.89557203, 65.97213555, 65.87888179,\n",
       "       65.91783461, 65.83717779, 66.47393451, 66.51178866, 67.30421502,\n",
       "       67.28875067, 67.5304197 , 67.82918469, 68.76097738, 68.3568229 ,\n",
       "       68.6851353 , 68.49009105, 69.15009187, 70.01288073, 70.10467694,\n",
       "       70.95029356, 70.40954838, 70.23634855, 70.73538021, 71.16785017,\n",
       "       70.90186075, 71.04170816, 71.22861421, 71.11656782, 69.92329637,\n",
       "       71.04047599, 71.83080756, 71.77692018, 69.99710114, 69.88497019,\n",
       "       71.1824613 , 71.49455267, 71.92971131, 71.32518075, 71.5063768 ,\n",
       "       71.27458224, 72.15170912, 71.89119106, 71.90027195, 71.20070009,\n",
       "       71.74812809, 71.35758647, 70.45706049, 68.46096677, 67.04693584,\n",
       "       67.68901224, 65.02188532, 65.00008953, 68.54827733, 67.22127611,\n",
       "       69.08873522, 67.72687956, 67.18050375, 64.03752047, 66.66192466,\n",
       "       65.28313149, 61.83068259, 65.63329527, 61.16721176, 62.36887799,\n",
       "       61.65475116, 61.44533636, 59.88016335, 59.44468406, 61.67827349,\n",
       "       61.52684005, 63.04786623, 61.775125  , 62.60250895, 62.53981436,\n",
       "       61.02945618, 61.46180546, 61.08220547, 63.55724312, 63.17158956,\n",
       "       64.02439216, 64.27777752, 64.98511562, 66.90214352, 66.53422806,\n",
       "       66.85155151, 66.30585472, 65.489572  , 64.32825366, 65.37521316,\n",
       "       65.22826424, 66.32964939, 66.35765073, 65.71779791, 66.99773338,\n",
       "       67.85019289, 67.18612867, 67.76052481, 68.37489033, 68.79953042,\n",
       "       69.2249129 , 70.07849561, 70.70639335, 70.24544003, 69.75095189,\n",
       "       70.00104721, 69.75893594, 70.70008136, 70.46860022, 71.22861421,\n",
       "       70.93665216, 71.18732895, 70.92175321, 71.09207115, 71.10922467,\n",
       "       71.07121423, 71.54177934, 71.7157759 , 71.91953161, 71.5969948 ,\n",
       "       72.61017228, 72.80896484, 73.75701283, 74.38271447, 73.04705209,\n",
       "       73.31593557, 73.67615161, 74.33547909, 74.30436728, 74.31331004,\n",
       "       74.18091747, 74.71297306, 75.01716908, 74.76872356, 74.9611729 ,\n",
       "       74.43049311, 74.84378155, 74.95977121, 74.9350426 , 74.9350426 ,\n",
       "       75.18809991, 75.16866112, 75.24722577, 75.24538412, 75.24319067,\n",
       "       75.24717846, 75.20718531, 75.16998098, 75.22859935, 75.23445116,\n",
       "       75.1247581 , 75.20985529, 75.1964374 , 75.14328276, 75.12326874,\n",
       "       75.24194522, 75.17430703, 75.24530617, 75.23793272, 74.20194366,\n",
       "       74.07197293, 74.09147393, 74.11499458])"
      ]
     },
     "execution_count": 99,
     "metadata": {},
     "output_type": "execute_result"
    }
   ],
   "source": [
    "# Generate Prediction\n",
    "poly__Yhat_train = poly_ridge_model.predict(X_poly__train)\n",
    "# Convert to \"vector shape\"\n",
    "poly__Yhat_train = poly__Yhat_train.reshape([-1,])\n",
    "# Visualize to make sure things look okay!\n",
    "poly__Yhat_train"
   ]
  },
  {
   "cell_type": "markdown",
   "id": "ce55a98c",
   "metadata": {},
   "source": [
    "#### Testing"
   ]
  },
  {
   "cell_type": "code",
   "execution_count": 114,
   "id": "b9378f34",
   "metadata": {},
   "outputs": [
    {
     "data": {
      "text/plain": [
       "(100,)"
      ]
     },
     "execution_count": 114,
     "metadata": {},
     "output_type": "execute_result"
    }
   ],
   "source": [
    "# Generate Prediction\n",
    "poly__Yhat_test = poly_ridge_model.predict(X_poly__test)\n",
    "# Convert to \"vector shape\"\n",
    "poly__Yhat_test = poly__Yhat_test.reshape([-1,])\n",
    "# Visualize to make sure things look okay!\n",
    "np.shape(poly__Yhat_test)"
   ]
  },
  {
   "cell_type": "markdown",
   "id": "e91f2168",
   "metadata": {},
   "source": [
    "### Let's check how we did! (Again)"
   ]
  },
  {
   "cell_type": "code",
   "execution_count": 96,
   "id": "6d632a08",
   "metadata": {},
   "outputs": [
    {
     "data": {
      "text/html": [
       "<div>\n",
       "<style scoped>\n",
       "    .dataframe tbody tr th:only-of-type {\n",
       "        vertical-align: middle;\n",
       "    }\n",
       "\n",
       "    .dataframe tbody tr th {\n",
       "        vertical-align: top;\n",
       "    }\n",
       "\n",
       "    .dataframe thead th {\n",
       "        text-align: right;\n",
       "    }\n",
       "</style>\n",
       "<table border=\"1\" class=\"dataframe\">\n",
       "  <thead>\n",
       "    <tr style=\"text-align: right;\">\n",
       "      <th></th>\n",
       "      <th>Targets_Test</th>\n",
       "      <th>Predictions_Test</th>\n",
       "      <th>Poly_Predictions_Test</th>\n",
       "    </tr>\n",
       "    <tr>\n",
       "      <th>Date</th>\n",
       "      <th></th>\n",
       "      <th></th>\n",
       "      <th></th>\n",
       "    </tr>\n",
       "  </thead>\n",
       "  <tbody>\n",
       "    <tr>\n",
       "      <th>2018-01-03</th>\n",
       "      <td>54.124001</td>\n",
       "      <td>54.717620</td>\n",
       "      <td>54.997519</td>\n",
       "    </tr>\n",
       "    <tr>\n",
       "      <th>2018-01-04</th>\n",
       "      <td>54.320000</td>\n",
       "      <td>54.714547</td>\n",
       "      <td>54.993899</td>\n",
       "    </tr>\n",
       "    <tr>\n",
       "      <th>2018-01-05</th>\n",
       "      <td>55.111500</td>\n",
       "      <td>54.796504</td>\n",
       "      <td>55.089426</td>\n",
       "    </tr>\n",
       "    <tr>\n",
       "      <th>2018-01-08</th>\n",
       "      <td>55.347000</td>\n",
       "      <td>54.998323</td>\n",
       "      <td>55.316021</td>\n",
       "    </tr>\n",
       "    <tr>\n",
       "      <th>2018-01-09</th>\n",
       "      <td>55.313000</td>\n",
       "      <td>54.931734</td>\n",
       "      <td>55.242572</td>\n",
       "    </tr>\n",
       "    <tr>\n",
       "      <th>...</th>\n",
       "      <td>...</td>\n",
       "      <td>...</td>\n",
       "      <td>...</td>\n",
       "    </tr>\n",
       "    <tr>\n",
       "      <th>2018-05-21</th>\n",
       "      <td>53.979000</td>\n",
       "      <td>56.156990</td>\n",
       "      <td>56.427422</td>\n",
       "    </tr>\n",
       "    <tr>\n",
       "      <th>2018-05-22</th>\n",
       "      <td>53.486500</td>\n",
       "      <td>56.292220</td>\n",
       "      <td>56.541216</td>\n",
       "    </tr>\n",
       "    <tr>\n",
       "      <th>2018-05-23</th>\n",
       "      <td>53.984501</td>\n",
       "      <td>56.244070</td>\n",
       "      <td>56.500986</td>\n",
       "    </tr>\n",
       "    <tr>\n",
       "      <th>2018-05-24</th>\n",
       "      <td>53.962002</td>\n",
       "      <td>56.367005</td>\n",
       "      <td>56.603103</td>\n",
       "    </tr>\n",
       "    <tr>\n",
       "      <th>2018-05-25</th>\n",
       "      <td>53.783001</td>\n",
       "      <td>56.345490</td>\n",
       "      <td>56.585372</td>\n",
       "    </tr>\n",
       "  </tbody>\n",
       "</table>\n",
       "<p>100 rows × 3 columns</p>\n",
       "</div>"
      ],
      "text/plain": [
       "            Targets_Test  Predictions_Test  Poly_Predictions_Test\n",
       "Date                                                             \n",
       "2018-01-03     54.124001         54.717620              54.997519\n",
       "2018-01-04     54.320000         54.714547              54.993899\n",
       "2018-01-05     55.111500         54.796504              55.089426\n",
       "2018-01-08     55.347000         54.998323              55.316021\n",
       "2018-01-09     55.313000         54.931734              55.242572\n",
       "...                  ...               ...                    ...\n",
       "2018-05-21     53.979000         56.156990              56.427422\n",
       "2018-05-22     53.486500         56.292220              56.541216\n",
       "2018-05-23     53.984501         56.244070              56.500986\n",
       "2018-05-24     53.962002         56.367005              56.603103\n",
       "2018-05-25     53.783001         56.345490              56.585372\n",
       "\n",
       "[100 rows x 3 columns]"
      ]
     },
     "execution_count": 96,
     "metadata": {},
     "output_type": "execute_result"
    }
   ],
   "source": [
    "# Append Predictions to Dataframe\n",
    "time_series_comparison['Poly_Predictions_Test'] = poly__Yhat_test\n",
    "\n",
    "# Check nothing went wrong (Safefy First!)\n",
    "time_series_comparison"
   ]
  },
  {
   "cell_type": "code",
   "execution_count": 115,
   "id": "f79a6767",
   "metadata": {},
   "outputs": [
    {
     "data": {
      "image/png": "[encoded data removed]",
      "text/plain": [
       "<Figure size 640x480 with 1 Axes>"
      ]
     },
     "metadata": {},
     "output_type": "display_data"
    }
   ],
   "source": [
    "# Activate Seaborn (<- this makes plots pretty :3)\n",
    "sns.set()\n",
    "\n",
    "# Plot!\n",
    "plt.plot(time_series_comparison)\n",
    "\n",
    "# Now we'll need a legend also\n",
    "plt.legend(time_series_comparison.columns);"
   ]
  },
  {
   "cell_type": "markdown",
   "id": "99acbed1",
   "metadata": {},
   "source": [
    "We did **marginally better**!"
   ]
  },
  {
   "cell_type": "markdown",
   "id": "59a6c3d2",
   "metadata": {},
   "source": [
    "## Let's try other feature maps!"
   ]
  },
  {
   "cell_type": "markdown",
   "id": "a5582925",
   "metadata": {},
   "source": [
    "What about sinusoidal features?\n",
    "$$\n",
    "x\\mapsto (\\sin(i\\,x))_{i=0}^p\n",
    "$$"
   ]
  },
  {
   "cell_type": "markdown",
   "id": "c03fa37d",
   "metadata": {},
   "source": [
    "Let's write up our feature map (default 10 frequencies)."
   ]
  },
  {
   "cell_type": "markdown",
   "id": "8e18e1cd",
   "metadata": {},
   "source": [
    "Let's set the dimension of our feature space!"
   ]
  },
  {
   "cell_type": "code",
   "execution_count": 217,
   "id": "b3feeb5f",
   "metadata": {},
   "outputs": [],
   "source": [
    "# Max osculations size\n",
    "frequencies_max=100\n",
    "# Create polynomial features\n",
    "degree = 1000  # Change this to the degree of the polynomial you want"
   ]
  },
  {
   "cell_type": "markdown",
   "id": "5fdb04f1",
   "metadata": {},
   "source": [
    "Let's build the feature map !"
   ]
  },
  {
   "cell_type": "code",
   "execution_count": 218,
   "id": "730956a4",
   "metadata": {},
   "outputs": [],
   "source": [
    "def sine_feature_map(X, frequency_max = frequencies_max, feature_space_dim = degree):\n",
    "    # Generate Frequencies\n",
    "    frequencies = np.linspace(-frequency_max,frequency_max,degree)\n",
    "    \"\"\"\n",
    "    Apply a sine feature map to the input data.\n",
    "\n",
    "    Parameters:\n",
    "    - X: ndarray, input data of shape (n_samples, n_features).\n",
    "    - frequencies: list of floats, the frequencies to use for the sine transformation.\n",
    "\n",
    "    Returns:\n",
    "    - mapped_X: ndarray, transformed data with sine features of shape (n_samples, n_features * len(frequencies)).\n",
    "    \"\"\"\n",
    "    mapped_X = np.concatenate([np.sin(f * X) for f in frequencies], axis=1)\n",
    "    \n",
    "    # We add back in the identity\n",
    "    mapped_X = np.concatenate([X,mapped_X],axis=1)\n",
    "    \n",
    "    # Let's add ones\n",
    "    mapped_X = np.concatenate([np.ones(np.shape(X)),mapped_X],axis=1)\n",
    "    \n",
    "    return mapped_X"
   ]
  },
  {
   "cell_type": "markdown",
   "id": "c4989afa",
   "metadata": {},
   "source": [
    "Let's trasform our data."
   ]
  },
  {
   "cell_type": "code",
   "execution_count": 219,
   "id": "7925131a",
   "metadata": {},
   "outputs": [],
   "source": [
    "# Training Set\n",
    "X_sin__train = sine_feature_map(X_train)\n",
    "\n",
    "# Test Set\n",
    "X_sin__test = sine_feature_map(X_test)"
   ]
  },
  {
   "cell_type": "markdown",
   "id": "3bd6395a",
   "metadata": {},
   "source": [
    "Let's evaluate our previous pipeline with the sinusoidal feature map and see how we compare!"
   ]
  },
  {
   "cell_type": "code",
   "execution_count": 220,
   "id": "47030da7",
   "metadata": {},
   "outputs": [
    {
     "data": {
      "image/png": "[encoded data removed]",
      "text/plain": [
       "<Figure size 640x480 with 1 Axes>"
      ]
     },
     "metadata": {},
     "output_type": "display_data"
    }
   ],
   "source": [
    "# Fit a Ridge regression model to the sinusoidal features\n",
    "alpha = 10**-2  # Regularization strength; you can adjust this value\n",
    "sin_ridge_model = Ridge(alpha=alpha)\n",
    "sin_ridge_model.fit(X_sin__train, Y_train)\n",
    "\n",
    "# Generate Prediction\n",
    "sin__Yhat_train = sin_ridge_model.predict(X_sin__train)\n",
    "# Convert to \"vector shape\"\n",
    "sin__Yhat_train = sin__Yhat_train.reshape([-1,])\n",
    "# Visualize to make sure things look okay!\n",
    "sin__Yhat_train\n",
    "\n",
    "# Generate Prediction\n",
    "sin__Yhat_test = sin_ridge_model.predict(X_sin__test)\n",
    "# Convert to \"vector shape\"\n",
    "sin__Yhat_test = sin__Yhat_test.reshape([-1,])\n",
    "# Visualize to make sure things look okay!\n",
    "np.shape(sin__Yhat_test)\n",
    "\n",
    "# Append Predictions to Dataframe\n",
    "time_series_comparison['Sin_Predictions_Test'] = sin__Yhat_test\n",
    "\n",
    "# Check nothing went wrong (Safefy First!)\n",
    "time_series_comparison\n",
    "\n",
    "# Activate Seaborn (<- this makes plots pretty :3)\n",
    "sns.set()\n",
    "\n",
    "# Plot!\n",
    "plt.plot(time_series_comparison)\n",
    "\n",
    "# Now we'll need a legend also\n",
    "plt.legend(time_series_comparison.columns);"
   ]
  },
  {
   "cell_type": "markdown",
   "id": "1e8c2343",
   "metadata": {},
   "source": [
    "Let's Evaluate"
   ]
  },
  {
   "cell_type": "code",
   "execution_count": 221,
   "id": "cc8c9fdb",
   "metadata": {},
   "outputs": [
    {
     "data": {
      "text/plain": [
       "1.9926571939370847"
      ]
     },
     "execution_count": 221,
     "metadata": {},
     "output_type": "execute_result"
    }
   ],
   "source": [
    "np.mean(np.abs(Yhat_test-Y_test['Targets_Test']))"
   ]
  },
  {
   "cell_type": "code",
   "execution_count": 222,
   "id": "33c700d9",
   "metadata": {},
   "outputs": [
    {
     "data": {
      "text/plain": [
       "2.013758020260777"
      ]
     },
     "execution_count": 222,
     "metadata": {},
     "output_type": "execute_result"
    }
   ],
   "source": [
    "np.mean(np.abs(poly__Yhat_test-Y_test['Targets_Test']))"
   ]
  },
  {
   "cell_type": "code",
   "execution_count": 223,
   "id": "65e76cca",
   "metadata": {},
   "outputs": [
    {
     "data": {
      "text/plain": [
       "1.2426212501845302"
      ]
     },
     "execution_count": 223,
     "metadata": {},
     "output_type": "execute_result"
    }
   ],
   "source": [
    "np.mean(np.abs(sin__Yhat_test-Y_test['Targets_Test']))"
   ]
  },
  {
   "cell_type": "markdown",
   "id": "59ff0e8a",
   "metadata": {},
   "source": [
    "---"
   ]
  }
 ],
 "metadata": {
  "kernelspec": {
   "display_name": "Python 3 (ipykernel)",
   "language": "python",
   "name": "python3"
  },
  "language_info": {
   "codemirror_mode": {
    "name": "ipython",
    "version": 3
   },
   "file_extension": ".py",
   "mimetype": "text/x-python",
   "name": "python",
   "nbconvert_exporter": "python",
   "pygments_lexer": "ipython3",
   "version": "3.9.12"
  }
 },
 "nbformat": 4,
 "nbformat_minor": 5
}
