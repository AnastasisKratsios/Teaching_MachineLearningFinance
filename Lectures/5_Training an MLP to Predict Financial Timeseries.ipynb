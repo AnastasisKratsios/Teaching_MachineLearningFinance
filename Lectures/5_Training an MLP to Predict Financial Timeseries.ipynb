{
 "cells": [
  {
   "cell_type": "markdown",
   "id": "f04e96e1",
   "metadata": {},
   "source": [
    "## Training an MLP on Financial Data"
   ]
  },
  {
   "cell_type": "markdown",
   "id": "83d25bba",
   "metadata": {},
   "source": [
    "## 1. Importing Libraries\n"
   ]
  },
  {
   "cell_type": "code",
   "execution_count": 1,
   "id": "4ff67161",
   "metadata": {},
   "outputs": [],
   "source": [
    "# Types\n",
    "import numpy as np\n",
    "import pandas as pd\n",
    "\n",
    "# Preprocessing and Data\n",
    "import yfinance as yf\n",
    "from sklearn.model_selection import train_test_split\n",
    "\n",
    "\n",
    "# Plotting\n",
    "import matplotlib.pyplot as plt\n",
    "import seaborn as sns\n",
    "\n",
    "# Apply the default theme\n",
    "custom_params = {\"axes.spines.right\": False, \"axes.spines.top\": False}\n",
    "sns.set_theme(style=\"ticks\", rc=custom_params)\n",
    "\n",
    "# General ML\n",
    "from sklearn.metrics import mean_squared_error, mean_absolute_error, max_error\n",
    "\n",
    "# Deep Learning (Torch)\n",
    "import torch\n",
    "import torch.nn as nn\n",
    "import torch.optim as optim"
   ]
  },
  {
   "cell_type": "markdown",
   "id": "358fdea0",
   "metadata": {},
   "source": [
    "## HyperParameters"
   ]
  },
  {
   "cell_type": "code",
   "execution_count": 2,
   "id": "d63e6780",
   "metadata": {},
   "outputs": [],
   "source": [
    "# MLP Width (Hidden Layers only ofc)\n",
    "Width = 10**4\n",
    "# How many previous time-series steps does it use as input features? \n",
    "memory_MLP = 15\n",
    "\n",
    "# N SGD Epochs\n",
    "N_epochs = 2*(10**1)\n",
    "Learning_Rate = 10**-3\n",
    "\n",
    "# Regularization Penality\n",
    "lambda_value = 10**-6"
   ]
  },
  {
   "cell_type": "markdown",
   "id": "69065f2c",
   "metadata": {},
   "source": [
    "# 2. Load data"
   ]
  },
  {
   "cell_type": "code",
   "execution_count": 3,
   "id": "dd28b856",
   "metadata": {},
   "outputs": [
    {
     "name": "stdout",
     "output_type": "stream",
     "text": [
      "[*********************100%***********************]  1 of 1 completed\n",
      "[*********************100%***********************]  1 of 1 completed\n"
     ]
    }
   ],
   "source": [
    "# Load historical stock data from Yahoo Finance\n",
    "# google_data = yf.download('GOOGL', start='2022-01-01', end='2023-01-01')\n",
    "# apple_data = yf.download('AAPL', start='2022-01-01', end='2023-01-01')\n",
    "\n",
    "# Longer Example\n",
    "google_data = yf.download('GOOGL', start='2010-01-01', end='2023-01-01')\n",
    "apple_data = yf.download('AAPL', start='2010-01-02', end='2023-01-02')\n",
    "\n",
    "# Extract the closing prices\n",
    "google_closing_prices = google_data['Close'].values\n",
    "apple_closing_prices = apple_data['Close'].values"
   ]
  },
  {
   "cell_type": "markdown",
   "id": "8d51fac6",
   "metadata": {},
   "source": [
    "# 3. Preprocessing"
   ]
  },
  {
   "cell_type": "code",
   "execution_count": 4,
   "id": "99b3b254",
   "metadata": {},
   "outputs": [],
   "source": [
    "# Combine Google and Apple closing prices into a single DataFrame\n",
    "df = pd.DataFrame({'Google_Close': google_closing_prices, 'Apple_Close': np.roll(apple_closing_prices, -1)})\n",
    "\n",
    "# Create a new column for each of the last 15 days' closing prices\n",
    "for i in range(1, (1+memory_MLP)):\n",
    "    df[f'Google_Close_{i}'] = df['Google_Close'].shift(i)\n",
    "\n",
    "# Drop rows with NaN values resulting from the shift\n",
    "df = df.dropna()\n",
    "\n",
    "# Normalize the data\n",
    "df = (df - df.min()) / (df.max() - df.min())\n",
    "\n",
    "# Split the data into input (X) and output (y)\n",
    "X_columns = [f'Google_Close_{i}' for i in range(1, (1+memory_MLP))]\n",
    "y_column = 'Apple_Close'\n",
    "\n",
    "X = df[X_columns].values\n",
    "y = df[y_column].values\n",
    "\n",
    "# Reshape the data for training\n",
    "X = X.reshape(-1, memory_MLP, 1)\n",
    "y = y.reshape(-1, 1)\n",
    "\n",
    "# Convert data to PyTorch tensors\n",
    "X_tensor = torch.FloatTensor(X)\n",
    "y_tensor = torch.FloatTensor(y)\n",
    "\n",
    "# Split the data into training and testing sets\n",
    "X_train, X_test, y_train, y_test = train_test_split(X_tensor, y_tensor, test_size=0.2, random_state=42)"
   ]
  },
  {
   "cell_type": "markdown",
   "id": "6ebbfb34",
   "metadata": {},
   "source": [
    "# Build Deep Learning Model\n",
    "We trian a two-hidden layer MLP with ReLU activation function."
   ]
  },
  {
   "cell_type": "code",
   "execution_count": 5,
   "id": "4d502f78",
   "metadata": {},
   "outputs": [],
   "source": [
    "input_size = memory_MLP\n",
    "\n",
    "# Define the neural network architecture for the larger feature vector\n",
    "class StockPredictor(nn.Module):\n",
    "    def __init__(self, input_size):\n",
    "        super(StockPredictor, self).__init__()\n",
    "        self.input_size = input_size\n",
    "        self.fc1 = nn.Linear(self.input_size, Width)\n",
    "        self.relu1 = nn.ReLU()\n",
    "        self.fc2 = nn.Linear(Width, Width)\n",
    "        self.relu2 = nn.ReLU()\n",
    "        self.fc3 = nn.Linear(Width, 1)\n",
    "\n",
    "    def forward(self, x):\n",
    "        x = x.view(-1, self.input_size)  # Flatten the input sequence\n",
    "        x = self.fc1(x)\n",
    "        x = self.relu1(x)\n",
    "        x = self.fc2(x)\n",
    "        x = self.relu2(x)\n",
    "        x = self.fc3(x)\n",
    "        return x\n",
    "\n",
    "# Create an instance of the model with the input size of 15\n",
    "input_size = memory_MLP\n",
    "model = StockPredictor(input_size)"
   ]
  },
  {
   "cell_type": "markdown",
   "id": "8f50e4d0",
   "metadata": {},
   "source": [
    "# Train Deep Learning Model - $\\ell^2$ Penality"
   ]
  },
  {
   "cell_type": "code",
   "execution_count": 6,
   "id": "ae37ba30",
   "metadata": {},
   "outputs": [],
   "source": [
    "# Define loss function and optimizer\n",
    "criterion = nn.MSELoss()\n",
    "optimizer = optim.Adam(model.parameters(), lr=Learning_Rate)"
   ]
  },
  {
   "cell_type": "markdown",
   "id": "0ab63d20",
   "metadata": {},
   "source": [
    "We first define the custom loss function, which is just ``MSE`` minimization with an $\\ell^2$ regularization penality on the MLP's weights.  This way, we obtain regular models."
   ]
  },
  {
   "cell_type": "code",
   "execution_count": 7,
   "id": "5938e58c",
   "metadata": {},
   "outputs": [],
   "source": [
    "# Define L2 regularization function\n",
    "def l2_regularization(model):\n",
    "    l2_penalty =  sum([(p**2).sum() for p in model.parameters()])\n",
    "    return l2_penalty"
   ]
  },
  {
   "cell_type": "code",
   "execution_count": 8,
   "id": "d34e9ec2",
   "metadata": {},
   "outputs": [
    {
     "name": "stdout",
     "output_type": "stream",
     "text": [
      "Epoch [10/20], Train Loss: 0.0868, Test Loss: 0.0273\n",
      "Epoch [20/20], Train Loss: 0.0216, Test Loss: 0.0112\n"
     ]
    }
   ],
   "source": [
    "#+ l2_regularization(model, lambda_value)\n",
    "# Lists to store training and test losses, y_true, and y_pred\n",
    "train_losses = []\n",
    "test_losses = []\n",
    "y_true_train = []\n",
    "y_pred_train = []\n",
    "y_true_test = []\n",
    "y_pred_test = []\n",
    "\n",
    "# Training loop\n",
    "for epoch in range(N_epochs):\n",
    "    # Forward pass\n",
    "    outputs = model(X_train)\n",
    "    loss = criterion(outputs, y_train) #+ lambda_value*l2_regularization(model)\n",
    "    \n",
    "    # Backward pass and optimization\n",
    "    optimizer.zero_grad()\n",
    "    loss.backward()\n",
    "    optimizer.step()\n",
    "\n",
    "    # Store training loss\n",
    "    train_losses.append(loss.item())\n",
    "\n",
    "    # Store ground truth and predicted values for training set\n",
    "    with torch.no_grad():\n",
    "        model.eval()\n",
    "        y_true_train.extend(y_train.numpy().flatten())\n",
    "        y_pred_train.extend(outputs.numpy().flatten())\n",
    "        model.train()\n",
    "\n",
    "    # Validation (evaluate the model on the test set)\n",
    "    with torch.no_grad():\n",
    "        model.eval()\n",
    "        test_outputs = model(X_test)\n",
    "        test_loss = criterion(test_outputs, y_test)\n",
    "        test_losses.append(test_loss.item())\n",
    "        y_true_test.extend(y_test.numpy().flatten())\n",
    "        y_pred_test.extend(test_outputs.numpy().flatten())\n",
    "        model.train()\n",
    "\n",
    "    # Print progress\n",
    "    if (epoch + 1) % 10 == 0:\n",
    "        print(f'Epoch [{epoch+1}/{N_epochs}], Train Loss: {loss.item():.4f}, Test Loss: {test_loss.item():.4f}')"
   ]
  },
  {
   "cell_type": "markdown",
   "id": "e20b9e82",
   "metadata": {},
   "source": [
    "### Compute Errors"
   ]
  },
  {
   "cell_type": "code",
   "execution_count": 9,
   "id": "d1f7a0ae",
   "metadata": {},
   "outputs": [],
   "source": [
    "# Calculate and report metrics after training\n",
    "mse_train = mean_squared_error(y_true_train, y_pred_train)\n",
    "mae_train = mean_absolute_error(y_true_train, y_pred_train)\n",
    "max_err_train = max_error(y_true_train, y_pred_train)\n",
    "min_err_train = np.abs(np.array(y_true_train) - np.array(y_pred_train)).min()\n",
    "std_dev_train = np.std(np.array(y_true_train) - np.array(y_pred_train))\n",
    "\n",
    "mse_test = mean_squared_error(y_true_test, y_pred_test)\n",
    "mae_test = mean_absolute_error(y_true_test, y_pred_test)\n",
    "max_err_test = max_error(y_true_test, y_pred_test)\n",
    "min_err_test = np.abs(np.array(y_true_test) - np.array(y_pred_test)).min()\n",
    "std_dev_test = np.std(np.array(y_true_test) - np.array(y_pred_test))"
   ]
  },
  {
   "cell_type": "markdown",
   "id": "7b8e8140",
   "metadata": {},
   "source": [
    "### Compute Test and Training Errors"
   ]
  },
  {
   "cell_type": "code",
   "execution_count": 10,
   "id": "a60c55cc",
   "metadata": {},
   "outputs": [],
   "source": [
    "# Initialize lists to store training and test errors\n",
    "train_errors = []\n",
    "test_errors = []\n",
    "\n",
    "# Calculate metrics after training\n",
    "train_errors.append({\n",
    "    'MSE': mse_train,\n",
    "    'MAE': mae_train,\n",
    "    'Max Error': max_err_train,\n",
    "    'Min Error': min_err_train,\n",
    "    'Std Dev': std_dev_train\n",
    "})\n",
    "\n",
    "test_errors.append({\n",
    "    'MSE': mse_test,\n",
    "    'MAE': mae_test,\n",
    "    'Max Error': max_err_test,\n",
    "    'Min Error': min_err_test,\n",
    "    'Std Dev': std_dev_test\n",
    "})\n",
    "\n",
    "# # Create Pandas DataFrames\n",
    "train_errors_df = pd.DataFrame(train_errors, index=[0])\n",
    "test_errors_df = pd.DataFrame(test_errors, index=[0])"
   ]
  },
  {
   "cell_type": "markdown",
   "id": "c9b21361",
   "metadata": {},
   "source": [
    "## Evaluate the model on the test set"
   ]
  },
  {
   "cell_type": "code",
   "execution_count": 11,
   "id": "dec77208",
   "metadata": {},
   "outputs": [
    {
     "name": "stdout",
     "output_type": "stream",
     "text": [
      "Mean Squared Error on Test Set: 0.0112\n"
     ]
    }
   ],
   "source": [
    "with torch.no_grad():\n",
    "    test_outputs = model(X_test)\n",
    "    test_loss = criterion(test_outputs, y_test)\n",
    "\n",
    "print(f'Mean Squared Error on Test Set: {test_loss.item():.4f}')"
   ]
  },
  {
   "cell_type": "markdown",
   "id": "52aeabcc",
   "metadata": {},
   "source": [
    "## Make predictions on the entire dataset"
   ]
  },
  {
   "cell_type": "code",
   "execution_count": 12,
   "id": "327cc3b6",
   "metadata": {},
   "outputs": [],
   "source": [
    "with torch.no_grad():\n",
    "    all_predictions = model(X_tensor)"
   ]
  },
  {
   "cell_type": "markdown",
   "id": "7daacf2a",
   "metadata": {},
   "source": [
    "# Plot the actual vs. predicted closing prices"
   ]
  },
  {
   "cell_type": "code",
   "execution_count": 13,
   "id": "7bc3f9ee",
   "metadata": {},
   "outputs": [
    {
     "data": {
      "image/png": "[encoded data removed]",
      "text/plain": [
       "<Figure size 1000x600 with 1 Axes>"
      ]
     },
     "metadata": {},
     "output_type": "display_data"
    }
   ],
   "source": [
    "# Plot the actual vs. predicted closing prices\n",
    "plt.figure(figsize=(10, 6))\n",
    "plt.plot(y.flatten(), label='Actual Apple Closing Prices')\n",
    "plt.plot(all_predictions.numpy().flatten(), label='Predicted Apple Closing Prices')\n",
    "plt.xlabel('Date')\n",
    "plt.ylabel('Normalized Closing Prices')\n",
    "plt.title('Apple Closing Price Prediction using Google Closing Prices')\n",
    "plt.legend()\n",
    "plt.show()"
   ]
  },
  {
   "cell_type": "markdown",
   "id": "6d13df3a",
   "metadata": {},
   "source": [
    "## Error Visualization:\n",
    "Let's Visulatize the Training and Test-set Errors"
   ]
  },
  {
   "cell_type": "code",
   "execution_count": 14,
   "id": "ecf65c9e",
   "metadata": {},
   "outputs": [
    {
     "data": {
      "image/png": "[encoded data removed]",
      "text/plain": [
       "<Figure size 1000x600 with 1 Axes>"
      ]
     },
     "metadata": {},
     "output_type": "display_data"
    }
   ],
   "source": [
    "# Plotting the distribution of training and test set losses\n",
    "plt.figure(figsize=(10, 6))\n",
    "sns.histplot(data={'Training': train_losses, 'Test': test_losses}, \n",
    "             kde=True, \n",
    "             element='step', \n",
    "             common_norm=False)\n",
    "plt.title('Distribution of Training and Test Set Losses')\n",
    "plt.xlabel('Loss')\n",
    "plt.ylabel('Density')\n",
    "plt.show()"
   ]
  },
  {
   "cell_type": "markdown",
   "id": "4bd1e7f9",
   "metadata": {},
   "source": [
    "## Report (Quantitative) Errors"
   ]
  },
  {
   "cell_type": "markdown",
   "id": "a34c755c",
   "metadata": {},
   "source": [
    "### Train"
   ]
  },
  {
   "cell_type": "code",
   "execution_count": 15,
   "id": "f03549e9",
   "metadata": {},
   "outputs": [
    {
     "data": {
      "text/html": [
       "<div>\n",
       "<style scoped>\n",
       "    .dataframe tbody tr th:only-of-type {\n",
       "        vertical-align: middle;\n",
       "    }\n",
       "\n",
       "    .dataframe tbody tr th {\n",
       "        vertical-align: top;\n",
       "    }\n",
       "\n",
       "    .dataframe thead th {\n",
       "        text-align: right;\n",
       "    }\n",
       "</style>\n",
       "<table border=\"1\" class=\"dataframe\">\n",
       "  <thead>\n",
       "    <tr style=\"text-align: right;\">\n",
       "      <th></th>\n",
       "      <th>MSE</th>\n",
       "      <th>MAE</th>\n",
       "      <th>Max Error</th>\n",
       "      <th>Min Error</th>\n",
       "      <th>Std Dev</th>\n",
       "    </tr>\n",
       "  </thead>\n",
       "  <tbody>\n",
       "    <tr>\n",
       "      <th>0</th>\n",
       "      <td>27.393026</td>\n",
       "      <td>1.500482</td>\n",
       "      <td>48.878597</td>\n",
       "      <td>9.723008e-07</td>\n",
       "      <td>5.097441</td>\n",
       "    </tr>\n",
       "  </tbody>\n",
       "</table>\n",
       "</div>"
      ],
      "text/plain": [
       "         MSE       MAE  Max Error     Min Error   Std Dev\n",
       "0  27.393026  1.500482  48.878597  9.723008e-07  5.097441"
      ]
     },
     "execution_count": 15,
     "metadata": {},
     "output_type": "execute_result"
    }
   ],
   "source": [
    "train_errors_df"
   ]
  },
  {
   "cell_type": "markdown",
   "id": "a7d167b7",
   "metadata": {},
   "source": [
    "### Test"
   ]
  },
  {
   "cell_type": "code",
   "execution_count": 16,
   "id": "b6de253f",
   "metadata": {},
   "outputs": [
    {
     "data": {
      "text/html": [
       "<div>\n",
       "<style scoped>\n",
       "    .dataframe tbody tr th:only-of-type {\n",
       "        vertical-align: middle;\n",
       "    }\n",
       "\n",
       "    .dataframe tbody tr th {\n",
       "        vertical-align: top;\n",
       "    }\n",
       "\n",
       "    .dataframe thead th {\n",
       "        text-align: right;\n",
       "    }\n",
       "</style>\n",
       "<table border=\"1\" class=\"dataframe\">\n",
       "  <thead>\n",
       "    <tr style=\"text-align: right;\">\n",
       "      <th></th>\n",
       "      <th>MSE</th>\n",
       "      <th>MAE</th>\n",
       "      <th>Max Error</th>\n",
       "      <th>Min Error</th>\n",
       "      <th>Std Dev</th>\n",
       "    </tr>\n",
       "  </thead>\n",
       "  <tbody>\n",
       "    <tr>\n",
       "      <th>0</th>\n",
       "      <td>27.417706</td>\n",
       "      <td>1.473719</td>\n",
       "      <td>48.779846</td>\n",
       "      <td>0.000009</td>\n",
       "      <td>5.097834</td>\n",
       "    </tr>\n",
       "  </tbody>\n",
       "</table>\n",
       "</div>"
      ],
      "text/plain": [
       "         MSE       MAE  Max Error  Min Error   Std Dev\n",
       "0  27.417706  1.473719  48.779846   0.000009  5.097834"
      ]
     },
     "execution_count": 16,
     "metadata": {},
     "output_type": "execute_result"
    }
   ],
   "source": [
    "test_errors_df"
   ]
  },
  {
   "cell_type": "markdown",
   "id": "81b01e16",
   "metadata": {},
   "source": [
    "---\n",
    "# Fin\n",
    "---"
   ]
  },
  {
   "cell_type": "markdown",
   "id": "55fe8452",
   "metadata": {},
   "source": [
    "---"
   ]
  },
  {
   "cell_type": "markdown",
   "id": "59bc30b3",
   "metadata": {},
   "source": [
    "---"
   ]
  }
 ],
 "metadata": {
  "kernelspec": {
   "display_name": "Python 3 (ipykernel)",
   "language": "python",
   "name": "python3"
  },
  "language_info": {
   "codemirror_mode": {
    "name": "ipython",
    "version": 3
   },
   "file_extension": ".py",
   "mimetype": "text/x-python",
   "name": "python",
   "nbconvert_exporter": "python",
   "pygments_lexer": "ipython3",
   "version": "3.9.12"
  }
 },
 "nbformat": 4,
 "nbformat_minor": 5
}
