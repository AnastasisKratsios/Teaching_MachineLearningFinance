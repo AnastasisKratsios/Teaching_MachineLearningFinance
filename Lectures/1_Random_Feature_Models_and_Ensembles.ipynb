{
 "cells": [
  {
   "cell_type": "markdown",
   "id": "d868746a",
   "metadata": {},
   "source": [
    "# Introduction to Regression II: Random Feature Models"
   ]
  },
  {
   "cell_type": "markdown",
   "id": "321ec7f8",
   "metadata": {},
   "source": [
    "We'll do two experiments.\n",
    "\n",
    "- Experiment A: Try to predict Google's stock using a historical rolling window.\n",
    "\n",
    "- Experiment B: Try to predict Google's stock using Apple's stock."
   ]
  },
  {
   "cell_type": "code",
   "execution_count": 1,
   "id": "673f1d67",
   "metadata": {},
   "outputs": [],
   "source": [
    "# Set True for Experiment A and False for Experiment B!\n",
    "Experiment_A = False"
   ]
  },
  {
   "cell_type": "markdown",
   "id": "44dd1f74",
   "metadata": {},
   "source": [
    "## Getting Started\n",
    "Let's start with the basics and some artificial data!"
   ]
  },
  {
   "cell_type": "markdown",
   "id": "9c82a17e",
   "metadata": {},
   "source": [
    "### Initializations"
   ]
  },
  {
   "cell_type": "markdown",
   "id": "17c1d1e2",
   "metadata": {},
   "source": [
    "Initialize/Import some basic packages\n",
    "\n",
    "*Make sure to comment your code so you can remember what it does in 2+ days :P*"
   ]
  },
  {
   "cell_type": "code",
   "execution_count": 2,
   "id": "9c54e59f",
   "metadata": {},
   "outputs": [],
   "source": [
    "import numpy as np\n",
    "import matplotlib.pyplot as plt\n",
    "import seaborn as sns\n",
    "import pandas as pd\n",
    "import math\n",
    "\n",
    "# Let's ignore warnings (they're annoying and we know what's up)\n",
    "import warnings\n",
    "warnings.filterwarnings(\"ignore\")"
   ]
  },
  {
   "cell_type": "markdown",
   "id": "9e24fe17",
   "metadata": {},
   "source": [
    "ML Models"
   ]
  },
  {
   "cell_type": "code",
   "execution_count": 3,
   "id": "3d7568ab",
   "metadata": {},
   "outputs": [],
   "source": [
    "from sklearn.linear_model import LinearRegression"
   ]
  },
  {
   "cell_type": "markdown",
   "id": "e4457cf3",
   "metadata": {},
   "source": [
    "Let's load our real data again."
   ]
  },
  {
   "cell_type": "code",
   "execution_count": 4,
   "id": "8b4186b8",
   "metadata": {},
   "outputs": [],
   "source": [
    "# This package pulls, data from finance\n",
    "import yfinance as yf"
   ]
  },
  {
   "cell_type": "markdown",
   "id": "3eaabfe4",
   "metadata": {},
   "source": [
    "---"
   ]
  },
  {
   "cell_type": "markdown",
   "id": "aa5e65fd",
   "metadata": {},
   "source": [
    "Since we'll be randomizing things; we want our experiments to be reproducible...\n",
    "So let's set a seed!"
   ]
  },
  {
   "cell_type": "code",
   "execution_count": 5,
   "id": "8dfe5b55",
   "metadata": {},
   "outputs": [],
   "source": [
    "import random\n",
    "np.random.seed(2022) # Numpy uses a different (random) seed :/\n",
    "random.seed(2022)"
   ]
  },
  {
   "cell_type": "markdown",
   "id": "6734c8e2",
   "metadata": {},
   "source": [
    "### Let's gather our hyperparameters here"
   ]
  },
  {
   "cell_type": "markdown",
   "id": "94d56232",
   "metadata": {},
   "source": [
    "#### Size of Test Set"
   ]
  },
  {
   "cell_type": "code",
   "execution_count": 6,
   "id": "745b0030",
   "metadata": {},
   "outputs": [],
   "source": [
    "# Number of testin points\n",
    "N_test = 300"
   ]
  },
  {
   "cell_type": "markdown",
   "id": "c3ab2fee",
   "metadata": {},
   "source": [
    "Shortly, we'll want to pick a large feature space dimension \"$F$\"."
   ]
  },
  {
   "cell_type": "markdown",
   "id": "8e1cefc6",
   "metadata": {},
   "source": [
    "#### Parameters for Random Feature Maps"
   ]
  },
  {
   "cell_type": "code",
   "execution_count": 7,
   "id": "d06bbce8",
   "metadata": {},
   "outputs": [],
   "source": [
    "# Feature Space's Dimension\n",
    "dim_feature = 10**4\n",
    "# Radius for sampling random weights\n",
    "radius_weights = 0.25 # <- Should be positive\n",
    "# Radius for sampling random biases\n",
    "radius_bias = 1.1 # <- Should be bigger than 1"
   ]
  },
  {
   "cell_type": "markdown",
   "id": "04a1166a",
   "metadata": {},
   "source": [
    "#### Building and Training our Regression Model"
   ]
  },
  {
   "cell_type": "code",
   "execution_count": 8,
   "id": "ef471371",
   "metadata": {},
   "outputs": [],
   "source": [
    "model_linReg = LinearRegression()"
   ]
  },
  {
   "cell_type": "markdown",
   "id": "bcf9db9b",
   "metadata": {},
   "source": [
    "As last week: \n",
    "We will pull, google stock's daily closing prices from Yahoo finance as covariates.\n",
    "The targets will be Google's next day price :)\n",
    "\n",
    "We'll train on a daily 5 year period!"
   ]
  },
  {
   "cell_type": "code",
   "execution_count": 9,
   "id": "85401e66",
   "metadata": {},
   "outputs": [
    {
     "name": "stdout",
     "output_type": "stream",
     "text": [
      "[*********************100%***********************]  1 of 1 completed\n",
      "Tail\n",
      "                 Open       High        Low      Close  Adj Close    Volume\n",
      "Date                                                                       \n",
      "2020-12-23  86.405502  87.399498  86.251999  86.619003  86.619003  20676000\n",
      "2020-12-24  86.750000  87.300003  86.455498  86.942497  86.942497   6936000\n",
      "2020-12-28  87.581749  89.536400  87.316750  88.804497  88.804497  27860000\n",
      "2020-12-29  89.389503  89.622002  87.804497  87.935997  87.935997  25988000\n",
      "2020-12-30  88.100502  88.254753  86.279999  86.975998  86.975998  26122000\n",
      "Head\n",
      "                 Open       High        Low      Close  Adj Close     Volume\n",
      "Date                                                                        \n",
      "2008-01-02  17.257067  17.369146  16.879980  17.065783  17.065783  172921733\n",
      "2008-01-03  17.067528  17.107128  16.849842  17.069269  17.069269  130587647\n",
      "2008-01-04  16.928797  16.960428  16.313852  16.363665  16.363665  215195594\n",
      "2008-01-07  16.287451  16.495173  15.874249  16.170637  16.170637  257096061\n",
      "2008-01-08  16.264038  16.437389  15.716092  15.733029  15.733029  214364490\n"
     ]
    }
   ],
   "source": [
    "# Pull\n",
    "data_raw = yf.download('GOOG','2008-01-01','2020-12-31')\n",
    "# check\n",
    "print('Tail')\n",
    "print(data_raw.tail())\n",
    "print('Head')\n",
    "print(data_raw.head())"
   ]
  },
  {
   "cell_type": "code",
   "execution_count": 10,
   "id": "bb5fbab7",
   "metadata": {},
   "outputs": [],
   "source": [
    "# 1) Keep only the Closing Prices as covariates\n",
    "# 2) Convert to Dataframe type (Manipulation of data is easier for this object class; as opposed to numpy arrays)\n",
    "data_close = pd.DataFrame(data_raw.Close)"
   ]
  },
  {
   "cell_type": "markdown",
   "id": "3dd18d6c",
   "metadata": {},
   "source": [
    "Let's visualize things"
   ]
  },
  {
   "cell_type": "code",
   "execution_count": 11,
   "id": "9972d0c1",
   "metadata": {},
   "outputs": [
    {
     "data": {
      "text/plain": [
       "[<matplotlib.lines.Line2D at 0x174f35f10>]"
      ]
     },
     "execution_count": 11,
     "metadata": {},
     "output_type": "execute_result"
    },
    {
     "data": {
      "image/png": "[encoded data removed]",
      "text/plain": [
       "<Figure size 640x480 with 1 Axes>"
      ]
     },
     "metadata": {},
     "output_type": "display_data"
    }
   ],
   "source": [
    "# Activate Seaborn (<- this makes plots pretty :3)\n",
    "sns.set()\n",
    "\n",
    "# Plot!\n",
    "plt.plot(data_close)"
   ]
  },
  {
   "cell_type": "code",
   "execution_count": 14,
   "id": "e4b3c70b",
   "metadata": {},
   "outputs": [
    {
     "name": "stdout",
     "output_type": "stream",
     "text": [
      "[*********************100%***********************]  1 of 1 completed\n",
      "Tail\n",
      "                 Open       High        Low      Close  Adj Close    Volume\n",
      "Date                                                                       \n",
      "2020-12-22  86.721497  86.870247  85.628754  86.175003  86.175003  18734000\n",
      "2020-12-23  86.405502  87.399498  86.251999  86.619003  86.619003  20676000\n",
      "2020-12-24  86.750000  87.300003  86.455498  86.942497  86.942497   6936000\n",
      "2020-12-28  87.581749  89.536400  87.316750  88.804497  88.804497  27860000\n",
      "2020-12-29  89.389503  89.622002  87.804497  87.935997  87.935997  25988000\n",
      "Head\n",
      "                 Open       High        Low      Close  Adj Close    Volume\n",
      "Date                                                                       \n",
      "2018-01-03  53.215500  54.314499  53.160500  54.124001  54.124001  28604000\n",
      "2018-01-04  54.400002  54.678501  54.200100  54.320000  54.320000  20092000\n",
      "2018-01-05  54.700001  55.212502  54.599998  55.111500  55.111500  25582000\n",
      "2018-01-08  55.111500  55.563499  55.081001  55.347000  55.347000  20952000\n",
      "2018-01-09  55.470001  55.528500  55.061550  55.313000  55.313000  18050000\n",
      "[*********************100%***********************]  1 of 1 completed\n",
      "Tail\n",
      "                  Open        High         Low       Close   Adj Close  \\\n",
      "Date                                                                     \n",
      "2020-12-21  125.019997  128.309998  123.449997  128.229996  126.919136   \n",
      "2020-12-22  131.610001  134.410004  129.649994  131.880005  130.531830   \n",
      "2020-12-23  132.160004  132.429993  130.779999  130.960007  129.621231   \n",
      "2020-12-24  131.320007  133.460007  131.100006  131.970001  130.620911   \n",
      "2020-12-28  133.990005  137.339996  133.509995  136.690002  135.292664   \n",
      "\n",
      "               Volume  \n",
      "Date                   \n",
      "2020-12-21  121251600  \n",
      "2020-12-22  168904800  \n",
      "2020-12-23   88223700  \n",
      "2020-12-24   54930100  \n",
      "2020-12-28  124486200  \n",
      "Head\n",
      "                 Open       High        Low      Close  Adj Close     Volume\n",
      "Date                                                                        \n",
      "2018-01-02  42.540001  43.075001  42.314999  43.064999  41.018429  102223600\n",
      "2018-01-03  43.132500  43.637501  42.990002  43.057499  41.011284  118071600\n",
      "2018-01-04  43.134998  43.367500  43.020000  43.257500  41.201782   89738400\n",
      "2018-01-05  43.360001  43.842499  43.262501  43.750000  41.670876   94640000\n",
      "2018-01-08  43.587502  43.902500  43.482498  43.587502  41.516094   82271200\n",
      "(753, 1)\n",
      "(753, 1)\n"
     ]
    }
   ],
   "source": [
    "if Experiment_A == True:\n",
    "    # The covariates \n",
    "    # The inputs will be the rolling average of the last 3 days\n",
    "    data = data_close\n",
    "    data['Rolling_Mean_Historical'] = data_close.shift(1).rolling(window=3).mean() \n",
    "    data = data.dropna()\n",
    "\n",
    "    # Lets divide things up into targets and covariates\n",
    "    Y = pd.DataFrame(data['Close'])\n",
    "    X = pd.DataFrame(data['Rolling_Mean_Historical'])\n",
    "else:\n",
    "    # Pull\n",
    "    Y_data_raw = yf.download('GOOG','2018-01-03','2020-12-30')\n",
    "    # check\n",
    "    print('Tail')\n",
    "    print(Y_data_raw.tail())\n",
    "    print('Head')\n",
    "    print(Y_data_raw.head())\n",
    "\n",
    "    # Pull Covariates\n",
    "    X_data_raw = yf.download('AAPL','2018-01-02','2020-12-29')\n",
    "    # check\n",
    "    print('Tail')\n",
    "    print(X_data_raw.tail())\n",
    "    print('Head')\n",
    "    print(X_data_raw.head())\n",
    "        \n",
    "        \n",
    "    #NB: This is the same as in lecture 0\n",
    "    \n",
    "    # 1) Keep only the Closing Prices as covariates\n",
    "    # 2) Convert to Dataframe type (Manipulation of data is easier for this object class; as opposed to numpy arrays)\n",
    "    Y = pd.DataFrame(Y_data_raw.Close)\n",
    "    X = pd.DataFrame(X_data_raw.Close)\n",
    "\n",
    "    # Just double-check arrays are of the same size (note Jan. 1rst is a holiday)\n",
    "    print(X.shape)\n",
    "    print(Y.shape)"
   ]
  },
  {
   "cell_type": "markdown",
   "id": "ff0c7d70",
   "metadata": {},
   "source": [
    "Let's make the last 20 days \"invisible\" and use them as our testing set (we'll pretend those are the too be predicted prices!)."
   ]
  },
  {
   "cell_type": "code",
   "execution_count": 15,
   "id": "c283c343",
   "metadata": {},
   "outputs": [
    {
     "name": "stdout",
     "output_type": "stream",
     "text": [
      "Check Train\n",
      "(453, 1)\n",
      "                Close\n",
      "Date                 \n",
      "2018-01-02  43.064999\n",
      "2018-01-03  43.057499\n",
      "2018-01-04  43.257500\n",
      "2018-01-05  43.750000\n",
      "2018-01-08  43.587502\n",
      "Check Test\n",
      "(300, 1)\n"
     ]
    },
    {
     "data": {
      "text/html": [
       "<div>\n",
       "<style scoped>\n",
       "    .dataframe tbody tr th:only-of-type {\n",
       "        vertical-align: middle;\n",
       "    }\n",
       "\n",
       "    .dataframe tbody tr th {\n",
       "        vertical-align: top;\n",
       "    }\n",
       "\n",
       "    .dataframe thead th {\n",
       "        text-align: right;\n",
       "    }\n",
       "</style>\n",
       "<table border=\"1\" class=\"dataframe\">\n",
       "  <thead>\n",
       "    <tr style=\"text-align: right;\">\n",
       "      <th></th>\n",
       "      <th>Close</th>\n",
       "    </tr>\n",
       "    <tr>\n",
       "      <th>Date</th>\n",
       "      <th></th>\n",
       "    </tr>\n",
       "  </thead>\n",
       "  <tbody>\n",
       "    <tr>\n",
       "      <th>2018-01-02</th>\n",
       "      <td>43.064999</td>\n",
       "    </tr>\n",
       "    <tr>\n",
       "      <th>2018-01-03</th>\n",
       "      <td>43.057499</td>\n",
       "    </tr>\n",
       "    <tr>\n",
       "      <th>2018-01-04</th>\n",
       "      <td>43.257500</td>\n",
       "    </tr>\n",
       "    <tr>\n",
       "      <th>2018-01-05</th>\n",
       "      <td>43.750000</td>\n",
       "    </tr>\n",
       "    <tr>\n",
       "      <th>2018-01-08</th>\n",
       "      <td>43.587502</td>\n",
       "    </tr>\n",
       "  </tbody>\n",
       "</table>\n",
       "</div>"
      ],
      "text/plain": [
       "                Close\n",
       "Date                 \n",
       "2018-01-02  43.064999\n",
       "2018-01-03  43.057499\n",
       "2018-01-04  43.257500\n",
       "2018-01-05  43.750000\n",
       "2018-01-08  43.587502"
      ]
     },
     "execution_count": 15,
     "metadata": {},
     "output_type": "execute_result"
    }
   ],
   "source": [
    "# Build Train\n",
    "Y_train = Y[:-N_test]\n",
    "X_train = X[:-N_test]\n",
    "\n",
    "# Build Test\n",
    "Y_test = Y[:N_test]\n",
    "X_test = X[:N_test]\n",
    "\n",
    "\n",
    "# Visualize Dataframe Dimensions (make sure things are running reasonably!)\n",
    "print('Check Train')\n",
    "print(X_train.shape)\n",
    "print(X_train.head())\n",
    "print('Check Test')\n",
    "print(X_test.shape)\n",
    "X_test.head()"
   ]
  },
  {
   "cell_type": "markdown",
   "id": "8869f377",
   "metadata": {},
   "source": [
    "---\n",
    "## We'll Initialize our Benchmark model\n",
    "\n",
    "This simple/basic/vanilla model will serve as our target to beat; if we don't then we're doing something wrong :S"
   ]
  },
  {
   "cell_type": "markdown",
   "id": "6e8b2a75",
   "metadata": {},
   "source": [
    "#### Building and Training our Regression Model"
   ]
  },
  {
   "cell_type": "code",
   "execution_count": 16,
   "id": "309b4373",
   "metadata": {},
   "outputs": [],
   "source": [
    "model_linReg = LinearRegression()"
   ]
  },
  {
   "cell_type": "markdown",
   "id": "12d0d7c9",
   "metadata": {},
   "source": [
    "First we train our model, with the \"training\" (a.k.a. in-sample) data."
   ]
  },
  {
   "cell_type": "code",
   "execution_count": 17,
   "id": "1f3650d0",
   "metadata": {},
   "outputs": [
    {
     "data": {
      "text/html": [
       "<style>#sk-container-id-1 {color: black;background-color: white;}#sk-container-id-1 pre{padding: 0;}#sk-container-id-1 div.sk-toggleable {background-color: white;}#sk-container-id-1 label.sk-toggleable__label {cursor: pointer;display: block;width: 100%;margin-bottom: 0;padding: 0.3em;box-sizing: border-box;text-align: center;}#sk-container-id-1 label.sk-toggleable__label-arrow:before {content: \"▸\";float: left;margin-right: 0.25em;color: #696969;}#sk-container-id-1 label.sk-toggleable__label-arrow:hover:before {color: black;}#sk-container-id-1 div.sk-estimator:hover label.sk-toggleable__label-arrow:before {color: black;}#sk-container-id-1 div.sk-toggleable__content {max-height: 0;max-width: 0;overflow: hidden;text-align: left;background-color: #f0f8ff;}#sk-container-id-1 div.sk-toggleable__content pre {margin: 0.2em;color: black;border-radius: 0.25em;background-color: #f0f8ff;}#sk-container-id-1 input.sk-toggleable__control:checked~div.sk-toggleable__content {max-height: 200px;max-width: 100%;overflow: auto;}#sk-container-id-1 input.sk-toggleable__control:checked~label.sk-toggleable__label-arrow:before {content: \"▾\";}#sk-container-id-1 div.sk-estimator input.sk-toggleable__control:checked~label.sk-toggleable__label {background-color: #d4ebff;}#sk-container-id-1 div.sk-label input.sk-toggleable__control:checked~label.sk-toggleable__label {background-color: #d4ebff;}#sk-container-id-1 input.sk-hidden--visually {border: 0;clip: rect(1px 1px 1px 1px);clip: rect(1px, 1px, 1px, 1px);height: 1px;margin: -1px;overflow: hidden;padding: 0;position: absolute;width: 1px;}#sk-container-id-1 div.sk-estimator {font-family: monospace;background-color: #f0f8ff;border: 1px dotted black;border-radius: 0.25em;box-sizing: border-box;margin-bottom: 0.5em;}#sk-container-id-1 div.sk-estimator:hover {background-color: #d4ebff;}#sk-container-id-1 div.sk-parallel-item::after {content: \"\";width: 100%;border-bottom: 1px solid gray;flex-grow: 1;}#sk-container-id-1 div.sk-label:hover label.sk-toggleable__label {background-color: #d4ebff;}#sk-container-id-1 div.sk-serial::before {content: \"\";position: absolute;border-left: 1px solid gray;box-sizing: border-box;top: 0;bottom: 0;left: 50%;z-index: 0;}#sk-container-id-1 div.sk-serial {display: flex;flex-direction: column;align-items: center;background-color: white;padding-right: 0.2em;padding-left: 0.2em;position: relative;}#sk-container-id-1 div.sk-item {position: relative;z-index: 1;}#sk-container-id-1 div.sk-parallel {display: flex;align-items: stretch;justify-content: center;background-color: white;position: relative;}#sk-container-id-1 div.sk-item::before, #sk-container-id-1 div.sk-parallel-item::before {content: \"\";position: absolute;border-left: 1px solid gray;box-sizing: border-box;top: 0;bottom: 0;left: 50%;z-index: -1;}#sk-container-id-1 div.sk-parallel-item {display: flex;flex-direction: column;z-index: 1;position: relative;background-color: white;}#sk-container-id-1 div.sk-parallel-item:first-child::after {align-self: flex-end;width: 50%;}#sk-container-id-1 div.sk-parallel-item:last-child::after {align-self: flex-start;width: 50%;}#sk-container-id-1 div.sk-parallel-item:only-child::after {width: 0;}#sk-container-id-1 div.sk-dashed-wrapped {border: 1px dashed gray;margin: 0 0.4em 0.5em 0.4em;box-sizing: border-box;padding-bottom: 0.4em;background-color: white;}#sk-container-id-1 div.sk-label label {font-family: monospace;font-weight: bold;display: inline-block;line-height: 1.2em;}#sk-container-id-1 div.sk-label-container {text-align: center;}#sk-container-id-1 div.sk-container {/* jupyter's `normalize.less` sets `[hidden] { display: none; }` but bootstrap.min.css set `[hidden] { display: none !important; }` so we also need the `!important` here to be able to override the default hidden behavior on the sphinx rendered scikit-learn.org. See: https://github.com/scikit-learn/scikit-learn/issues/21755 */display: inline-block !important;position: relative;}#sk-container-id-1 div.sk-text-repr-fallback {display: none;}</style><div id=\"sk-container-id-1\" class=\"sk-top-container\"><div class=\"sk-text-repr-fallback\"><pre>LinearRegression()</pre><b>In a Jupyter environment, please rerun this cell to show the HTML representation or trust the notebook. <br />On GitHub, the HTML representation is unable to render, please try loading this page with nbviewer.org.</b></div><div class=\"sk-container\" hidden><div class=\"sk-item\"><div class=\"sk-estimator sk-toggleable\"><input class=\"sk-toggleable__control sk-hidden--visually\" id=\"sk-estimator-id-1\" type=\"checkbox\" checked><label for=\"sk-estimator-id-1\" class=\"sk-toggleable__label sk-toggleable__label-arrow\">LinearRegression</label><div class=\"sk-toggleable__content\"><pre>LinearRegression()</pre></div></div></div></div></div>"
      ],
      "text/plain": [
       "LinearRegression()"
      ]
     },
     "execution_count": 17,
     "metadata": {},
     "output_type": "execute_result"
    }
   ],
   "source": [
    "model_linReg.fit(X_train, Y_train)"
   ]
  },
  {
   "cell_type": "markdown",
   "id": "64e058f2",
   "metadata": {},
   "source": [
    "Now we'll predict the test data given our input train data!"
   ]
  },
  {
   "cell_type": "code",
   "execution_count": 18,
   "id": "590d6de8",
   "metadata": {},
   "outputs": [
    {
     "data": {
      "text/plain": [
       "array([54.74712787, 54.74409543, 54.8249643 , 55.02410328, 54.95839818,\n",
       "       54.95637604, 54.95233174, 55.05240715, 55.23537204, 55.14439552,\n",
       "       55.43855531, 55.45472785, 55.37386052, 55.2262747 , 55.23031745,\n",
       "       54.94525655, 54.63087992, 54.67131359, 54.31246055, 54.21238514,\n",
       "       54.2588837 , 54.29426432, 53.55836047, 53.15300732, 53.81410719,\n",
       "       53.46131751, 53.0175513 , 53.14492028, 53.78176057, 53.94652923,\n",
       "       54.25281881, 54.82092155, 54.76431226, 54.7056839 , 54.62683717,\n",
       "       54.771389  , 55.07464613, 55.42541367, 55.36678378, 55.3394902 ,\n",
       "       55.02410328, 55.14641767, 55.20808001, 55.19291623, 55.02713572,\n",
       "       55.2202098 , 55.52750969, 55.70339938, 55.52649938, 55.37183837,\n",
       "       55.3930655 , 55.32938256, 55.0544293 , 55.0483644 , 54.64705401,\n",
       "       54.40242677, 54.00718127, 54.79868257, 54.35087207, 54.16285259,\n",
       "       54.29426432, 54.18306942, 54.35592667, 54.68142278, 54.80171502,\n",
       "       54.35491636, 54.52372932, 54.84720328, 54.7653241 , 54.9371695 ,\n",
       "       54.9968097 , 55.1069943 , 55.35162154, 55.31118633, 54.80171502,\n",
       "       54.086028  , 54.03750729, 53.80500985, 53.87677984, 53.93439944,\n",
       "       53.7423372 , 54.0395279 , 54.4276982 , 55.18280858, 55.21515521,\n",
       "       55.91669029, 56.05113447, 56.14110069, 56.27352273, 56.54443169,\n",
       "       56.39785772, 56.35337976, 56.18052406, 56.35641221, 56.23612151,\n",
       "       56.16738242, 56.3008163 , 56.25330589, 56.37460844, 56.35337976,\n",
       "       56.39684742, 56.32810833, 56.28767466, 56.22399017, 56.56465007,\n",
       "       56.72537598, 56.8749824 , 56.94270964, 56.89014618, 56.71223434,\n",
       "       56.66472393, 56.77086424, 56.61114863, 56.62125782, 56.42312915,\n",
       "       56.4130215 , 56.10470977, 56.18658895, 56.08146049, 56.02687334,\n",
       "       55.74888764, 55.97734079, 55.95004876, 56.08550324, 56.04607988,\n",
       "       56.2553265 , 55.92578763, 56.07539405, 56.33518507, 56.59901884,\n",
       "       56.57576956, 56.32608773, 56.6445071 , 56.67483312, 56.63237731,\n",
       "       56.68696291, 56.58082261, 56.73043057, 56.68595261, 56.703137  ,\n",
       "       56.84364607, 57.02762281, 56.96596046, 56.63945251, 56.5312916 ,\n",
       "       56.56970312, 57.70287462, 58.29826939, 58.35892144, 58.46809419,\n",
       "       58.26996552, 58.28411746, 58.44888766, 58.31242133, 58.44787581,\n",
       "       58.53683173, 58.58636429, 58.89770846, 59.32833304, 59.11403182,\n",
       "       59.07157447, 59.07258631, 59.11706427, 59.18479151, 59.36472395,\n",
       "       59.54263425, 59.87419526, 60.08142127, 60.34424474, 60.41803688,\n",
       "       60.26741861, 59.88632659, 59.704372  , 59.40414732, 59.96214088,\n",
       "       59.68112272, 60.22092005, 59.96112903, 59.35865906, 59.39504998,\n",
       "       59.40819007, 59.57599272, 59.33642008, 59.6528173 , 59.79433823,\n",
       "       59.61541609, 60.07333423, 60.15319281, 60.30684198, 60.51103555,\n",
       "       60.79306554, 60.38063566, 60.00661729, 59.95405383, 60.26741861,\n",
       "       59.20500835, 59.01193427, 59.78625118, 59.30609406, 59.79029393,\n",
       "       59.69325251, 59.17063957, 59.50321088, 59.63866537, 59.84892383,\n",
       "       59.07662906, 59.55274344, 59.19894345, 58.78853571, 58.89568632,\n",
       "       59.45772262, 59.79737067, 58.30736674, 57.71197196, 57.93233961,\n",
       "       58.55704857, 58.40946429, 58.0030993 , 56.96191617, 56.76580965,\n",
       "       56.21691497, 56.68292016, 56.89722138, 56.12189416, 55.22425255,\n",
       "       55.20403572, 54.75016032, 54.98569021, 54.94727869, 55.62455265,\n",
       "       55.48404357, 55.38599031, 56.0167657 , 55.19493837, 54.9957994 ,\n",
       "       54.36603585, 54.47824105, 54.38018779, 54.4276982 , 54.61470584,\n",
       "       54.06176688, 53.90609556, 54.12140862, 53.59778383, 53.18737609,\n",
       "       52.57075264, 52.17651898, 53.22174486, 53.11863701, 53.12672405,\n",
       "       53.27936446, 53.29755915, 51.70748135, 52.32107081, 52.28771234,\n",
       "       52.57277478, 52.83155396, 52.88108651, 52.7284461 , 52.4969605 ,\n",
       "       52.80729437, 52.99632416, 53.08932283, 53.18636579, 52.83054366,\n",
       "       52.8932163 , 52.76989161, 53.28138506, 53.13380079, 52.97004089,\n",
       "       54.03851759, 54.15880984, 54.16689688, 54.64503186, 54.94121225,\n",
       "       54.94727869, 54.61369554, 54.56012023, 54.46105513, 54.60864094,\n",
       "       54.53686941, 54.5995436 , 54.56113054, 54.61268369, 54.72387859,\n",
       "       54.62582533, 54.81889941, 54.94626685, 54.95637604, 55.01096164,\n",
       "       54.83709409, 55.02107083, 55.11002675, 55.07767858, 54.97558257,\n",
       "       54.771389  , 54.81283451, 55.41833693, 55.6215202 , 55.70238908])"
      ]
     },
     "execution_count": 18,
     "metadata": {},
     "output_type": "execute_result"
    }
   ],
   "source": [
    "# Generate Prediction\n",
    "Yhat_test_linReg = model_linReg.predict(X_test)\n",
    "# Convert to \"vector shape\"\n",
    "Yhat_test_linReg = Yhat_test_linReg.reshape([-1,])\n",
    "# Visualize to make sure things look okay!\n",
    "Yhat_test_linReg"
   ]
  },
  {
   "cell_type": "markdown",
   "id": "3b0dbe70",
   "metadata": {},
   "source": [
    "We'll record our training performance while we're at it also."
   ]
  },
  {
   "cell_type": "code",
   "execution_count": 19,
   "id": "1fc72a47",
   "metadata": {},
   "outputs": [
    {
     "data": {
      "text/plain": [
       "array([54.74712787, 54.74409543, 54.8249643 , 55.02410328, 54.95839818,\n",
       "       54.95637604, 54.95233174, 55.05240715, 55.23537204, 55.14439552,\n",
       "       55.43855531, 55.45472785, 55.37386052, 55.2262747 , 55.23031745,\n",
       "       54.94525655, 54.63087992, 54.67131359, 54.31246055, 54.21238514,\n",
       "       54.2588837 , 54.29426432, 53.55836047, 53.15300732, 53.81410719,\n",
       "       53.46131751, 53.0175513 , 53.14492028, 53.78176057, 53.94652923,\n",
       "       54.25281881, 54.82092155, 54.76431226, 54.7056839 , 54.62683717,\n",
       "       54.771389  , 55.07464613, 55.42541367, 55.36678378, 55.3394902 ,\n",
       "       55.02410328, 55.14641767, 55.20808001, 55.19291623, 55.02713572,\n",
       "       55.2202098 , 55.52750969, 55.70339938, 55.52649938, 55.37183837,\n",
       "       55.3930655 , 55.32938256, 55.0544293 , 55.0483644 , 54.64705401,\n",
       "       54.40242677, 54.00718127, 54.79868257, 54.35087207, 54.16285259,\n",
       "       54.29426432, 54.18306942, 54.35592667, 54.68142278, 54.80171502,\n",
       "       54.35491636, 54.52372932, 54.84720328, 54.7653241 , 54.9371695 ,\n",
       "       54.9968097 , 55.1069943 , 55.35162154, 55.31118633, 54.80171502,\n",
       "       54.086028  , 54.03750729, 53.80500985, 53.87677984, 53.93439944,\n",
       "       53.7423372 , 54.0395279 , 54.4276982 , 55.18280858, 55.21515521,\n",
       "       55.91669029, 56.05113447, 56.14110069, 56.27352273, 56.54443169,\n",
       "       56.39785772, 56.35337976, 56.18052406, 56.35641221, 56.23612151,\n",
       "       56.16738242, 56.3008163 , 56.25330589, 56.37460844, 56.35337976,\n",
       "       56.39684742, 56.32810833, 56.28767466, 56.22399017, 56.56465007,\n",
       "       56.72537598, 56.8749824 , 56.94270964, 56.89014618, 56.71223434,\n",
       "       56.66472393, 56.77086424, 56.61114863, 56.62125782, 56.42312915,\n",
       "       56.4130215 , 56.10470977, 56.18658895, 56.08146049, 56.02687334,\n",
       "       55.74888764, 55.97734079, 55.95004876, 56.08550324, 56.04607988,\n",
       "       56.2553265 , 55.92578763, 56.07539405, 56.33518507, 56.59901884,\n",
       "       56.57576956, 56.32608773, 56.6445071 , 56.67483312, 56.63237731,\n",
       "       56.68696291, 56.58082261, 56.73043057, 56.68595261, 56.703137  ,\n",
       "       56.84364607, 57.02762281, 56.96596046, 56.63945251, 56.5312916 ,\n",
       "       56.56970312, 57.70287462, 58.29826939, 58.35892144, 58.46809419,\n",
       "       58.26996552, 58.28411746, 58.44888766, 58.31242133, 58.44787581,\n",
       "       58.53683173, 58.58636429, 58.89770846, 59.32833304, 59.11403182,\n",
       "       59.07157447, 59.07258631, 59.11706427, 59.18479151, 59.36472395,\n",
       "       59.54263425, 59.87419526, 60.08142127, 60.34424474, 60.41803688,\n",
       "       60.26741861, 59.88632659, 59.704372  , 59.40414732, 59.96214088,\n",
       "       59.68112272, 60.22092005, 59.96112903, 59.35865906, 59.39504998,\n",
       "       59.40819007, 59.57599272, 59.33642008, 59.6528173 , 59.79433823,\n",
       "       59.61541609, 60.07333423, 60.15319281, 60.30684198, 60.51103555,\n",
       "       60.79306554, 60.38063566, 60.00661729, 59.95405383, 60.26741861,\n",
       "       59.20500835, 59.01193427, 59.78625118, 59.30609406, 59.79029393,\n",
       "       59.69325251, 59.17063957, 59.50321088, 59.63866537, 59.84892383,\n",
       "       59.07662906, 59.55274344, 59.19894345, 58.78853571, 58.89568632,\n",
       "       59.45772262, 59.79737067, 58.30736674, 57.71197196, 57.93233961,\n",
       "       58.55704857, 58.40946429, 58.0030993 , 56.96191617, 56.76580965,\n",
       "       56.21691497, 56.68292016, 56.89722138, 56.12189416, 55.22425255,\n",
       "       55.20403572, 54.75016032, 54.98569021, 54.94727869, 55.62455265,\n",
       "       55.48404357, 55.38599031, 56.0167657 , 55.19493837, 54.9957994 ,\n",
       "       54.36603585, 54.47824105, 54.38018779, 54.4276982 , 54.61470584,\n",
       "       54.06176688, 53.90609556, 54.12140862, 53.59778383, 53.18737609,\n",
       "       52.57075264, 52.17651898, 53.22174486, 53.11863701, 53.12672405,\n",
       "       53.27936446, 53.29755915, 51.70748135, 52.32107081, 52.28771234,\n",
       "       52.57277478, 52.83155396, 52.88108651, 52.7284461 , 52.4969605 ,\n",
       "       52.80729437, 52.99632416, 53.08932283, 53.18636579, 52.83054366,\n",
       "       52.8932163 , 52.76989161, 53.28138506, 53.13380079, 52.97004089,\n",
       "       54.03851759, 54.15880984, 54.16689688, 54.64503186, 54.94121225,\n",
       "       54.94727869, 54.61369554, 54.56012023, 54.46105513, 54.60864094,\n",
       "       54.53686941, 54.5995436 , 54.56113054, 54.61268369, 54.72387859,\n",
       "       54.62582533, 54.81889941, 54.94626685, 54.95637604, 55.01096164,\n",
       "       54.83709409, 55.02107083, 55.11002675, 55.07767858, 54.97558257,\n",
       "       54.771389  , 54.81283451, 55.41833693, 55.6215202 , 55.70238908,\n",
       "       55.9065811 , 56.14817589, 56.34023967, 56.1896214 , 56.3543916 ,\n",
       "       57.05491484, 56.64652925, 56.4130215 , 56.21590313, 56.38572793,\n",
       "       56.41099935, 56.53533435, 56.66573578, 56.94675393, 57.08119811,\n",
       "       57.11556688, 57.24798892, 57.56135524, 57.5007032 , 57.6139187 ,\n",
       "       57.44510575, 57.4370187 , 57.47340962, 57.47543177, 57.86764482,\n",
       "       57.94143696, 58.0091642 , 58.30736674, 58.27502011, 58.08497848,\n",
       "       57.98591492, 58.01725124, 57.61897329, 58.61466816, 58.47617969,\n",
       "       58.73900316, 58.40845245, 57.84035125, 57.844394  , 57.62402789,\n",
       "       57.26618361, 56.10774222, 56.40493446, 56.63338761, 56.54847598,\n",
       "       56.43930323, 55.84188631, 56.19669814, 55.81054998, 55.49516306,\n",
       "       55.42541367, 55.35060969, 55.26468776, 55.35768643, 55.03118002,\n",
       "       54.85225788, 55.49314091, 55.78628886, 56.05719937, 56.55555118,\n",
       "       56.80119026, 57.02661096, 56.96393832, 56.95989403, 56.81736434,\n",
       "       56.9336123 , 57.39456289, 57.33593299, 57.49666045, 57.42792136,\n",
       "       57.40770453, 57.10343709, 57.53102922, 57.52496432, 57.34098759,\n",
       "       57.70792921, 57.82720961, 57.99703441, 57.97883818, 57.5532682 ,\n",
       "       57.67659289, 57.87775247, 57.72814605, 57.88482921, 58.07790328,\n",
       "       58.00613175, 57.8898838 , 58.12339155, 57.81305767, 58.28108501,\n",
       "       58.44484337, 58.42765898, 58.26086817, 58.33365001, 58.52975499,\n",
       "       58.43877847, 58.86940304, 58.40339785, 57.95761104, 56.87801485,\n",
       "       57.24798892, 57.45420309, 57.8979693 , 57.65132146, 57.59976676,\n",
       "       58.457985  , 57.82923176, 57.72713574, 58.20830317, 58.59748378,\n",
       "       58.59849408, 58.82896938, 58.81077469, 57.81811227, 58.20729287,\n",
       "       57.97176298, 58.11024991, 58.46202775, 58.43473572, 58.1274343 ,\n",
       "       58.48022398, 58.89366417, 58.89164202, 58.98363039, 59.23937712,\n",
       "       59.9358576 , 59.88531475, 59.44660313, 59.56285108, 59.64371996,\n",
       "       59.85296812, 59.67000323, 59.34349528, 59.44357068, 59.33844068,\n",
       "       59.67707843, 59.56184078, 59.45367987, 59.97427067, 60.03694331,\n",
       "       59.46783181, 59.65585129, 60.28157055, 60.28662514, 60.01773678,\n",
       "       60.2835927 , 60.59291473, 61.21156033, 61.17719001, 61.1215941 ,\n",
       "       61.02556144, 61.11754981, 61.23177716])"
      ]
     },
     "execution_count": 19,
     "metadata": {},
     "output_type": "execute_result"
    }
   ],
   "source": [
    "# Generate Prediction\n",
    "Yhat_train_linReg = model_linReg.predict(X_train)\n",
    "# Convert to \"vector shape\"\n",
    "Yhat_train_linReg = Yhat_train_linReg.reshape([-1,])\n",
    "# Visualize to make sure things look okay!\n",
    "Yhat_train_linReg"
   ]
  },
  {
   "cell_type": "markdown",
   "id": "fccfa469",
   "metadata": {},
   "source": [
    "### Let's check how we did!"
   ]
  },
  {
   "cell_type": "markdown",
   "id": "86f64523",
   "metadata": {},
   "source": [
    "Build dataframe\n",
    "\n",
    "*This is not the most efficient coding; but the point is rather to show you how to name and join columns to dataframes :)*"
   ]
  },
  {
   "cell_type": "code",
   "execution_count": 20,
   "id": "c9311352",
   "metadata": {},
   "outputs": [
    {
     "data": {
      "text/html": [
       "<div>\n",
       "<style scoped>\n",
       "    .dataframe tbody tr th:only-of-type {\n",
       "        vertical-align: middle;\n",
       "    }\n",
       "\n",
       "    .dataframe tbody tr th {\n",
       "        vertical-align: top;\n",
       "    }\n",
       "\n",
       "    .dataframe thead th {\n",
       "        text-align: right;\n",
       "    }\n",
       "</style>\n",
       "<table border=\"1\" class=\"dataframe\">\n",
       "  <thead>\n",
       "    <tr style=\"text-align: right;\">\n",
       "      <th></th>\n",
       "      <th>Targets_Test</th>\n",
       "      <th>Predictions_Test</th>\n",
       "    </tr>\n",
       "    <tr>\n",
       "      <th>Date</th>\n",
       "      <th></th>\n",
       "      <th></th>\n",
       "    </tr>\n",
       "  </thead>\n",
       "  <tbody>\n",
       "    <tr>\n",
       "      <th>2018-01-03</th>\n",
       "      <td>54.124001</td>\n",
       "      <td>54.747128</td>\n",
       "    </tr>\n",
       "    <tr>\n",
       "      <th>2018-01-04</th>\n",
       "      <td>54.320000</td>\n",
       "      <td>54.744095</td>\n",
       "    </tr>\n",
       "    <tr>\n",
       "      <th>2018-01-05</th>\n",
       "      <td>55.111500</td>\n",
       "      <td>54.824964</td>\n",
       "    </tr>\n",
       "    <tr>\n",
       "      <th>2018-01-08</th>\n",
       "      <td>55.347000</td>\n",
       "      <td>55.024103</td>\n",
       "    </tr>\n",
       "    <tr>\n",
       "      <th>2018-01-09</th>\n",
       "      <td>55.313000</td>\n",
       "      <td>54.958398</td>\n",
       "    </tr>\n",
       "    <tr>\n",
       "      <th>...</th>\n",
       "      <td>...</td>\n",
       "      <td>...</td>\n",
       "    </tr>\n",
       "    <tr>\n",
       "      <th>2019-03-08</th>\n",
       "      <td>57.116001</td>\n",
       "      <td>54.771389</td>\n",
       "    </tr>\n",
       "    <tr>\n",
       "      <th>2019-03-11</th>\n",
       "      <td>58.787998</td>\n",
       "      <td>54.812835</td>\n",
       "    </tr>\n",
       "    <tr>\n",
       "      <th>2019-03-12</th>\n",
       "      <td>59.660000</td>\n",
       "      <td>55.418337</td>\n",
       "    </tr>\n",
       "    <tr>\n",
       "      <th>2019-03-13</th>\n",
       "      <td>59.666000</td>\n",
       "      <td>55.621520</td>\n",
       "    </tr>\n",
       "    <tr>\n",
       "      <th>2019-03-14</th>\n",
       "      <td>59.277500</td>\n",
       "      <td>55.702389</td>\n",
       "    </tr>\n",
       "  </tbody>\n",
       "</table>\n",
       "<p>300 rows × 2 columns</p>\n",
       "</div>"
      ],
      "text/plain": [
       "            Targets_Test  Predictions_Test\n",
       "Date                                      \n",
       "2018-01-03     54.124001         54.747128\n",
       "2018-01-04     54.320000         54.744095\n",
       "2018-01-05     55.111500         54.824964\n",
       "2018-01-08     55.347000         55.024103\n",
       "2018-01-09     55.313000         54.958398\n",
       "...                  ...               ...\n",
       "2019-03-08     57.116001         54.771389\n",
       "2019-03-11     58.787998         54.812835\n",
       "2019-03-12     59.660000         55.418337\n",
       "2019-03-13     59.666000         55.621520\n",
       "2019-03-14     59.277500         55.702389\n",
       "\n",
       "[300 rows x 2 columns]"
      ]
     },
     "execution_count": 20,
     "metadata": {},
     "output_type": "execute_result"
    }
   ],
   "source": [
    "# Let's build a dataframe with the target and our predictions as columns\n",
    "time_series_comparison = pd.DataFrame(Y_test)\n",
    "time_series_comparison.columns = ['Targets_Test'] # <- Rename columns\n",
    "\n",
    "# Append Predictions to Dataframe\n",
    "time_series_comparison['Predictions_Test'] = Yhat_test_linReg\n",
    "\n",
    "# Check nothing went wrong (Safefy First!)\n",
    "time_series_comparison"
   ]
  },
  {
   "cell_type": "markdown",
   "id": "577bf7ed",
   "metadata": {},
   "source": [
    "# Like Last week We Visualize how things are panning our so far!"
   ]
  },
  {
   "cell_type": "code",
   "execution_count": 21,
   "id": "03c6b1b4",
   "metadata": {},
   "outputs": [
    {
     "data": {
      "image/png": "[encoded data removed]",
      "text/plain": [
       "<Figure size 640x480 with 1 Axes>"
      ]
     },
     "metadata": {},
     "output_type": "display_data"
    }
   ],
   "source": [
    "# Activate Seaborn (<- this makes plots pretty :3)\n",
    "sns.set()\n",
    "\n",
    "# Plot!\n",
    "plt.plot(time_series_comparison)\n",
    "\n",
    "# Now we'll need a legend also\n",
    "plt.legend(time_series_comparison.columns);"
   ]
  },
  {
   "cell_type": "markdown",
   "id": "938755fe",
   "metadata": {},
   "source": [
    "---"
   ]
  },
  {
   "cell_type": "markdown",
   "id": "61824e9a",
   "metadata": {},
   "source": [
    "## Time to try our Random Feature model"
   ]
  },
  {
   "cell_type": "markdown",
   "id": "b0c7bde9",
   "metadata": {},
   "source": [
    "#### Let's initialize our hyperparameters + latent parameters\n",
    "These will be used in generating our (random) feature map"
   ]
  },
  {
   "cell_type": "code",
   "execution_count": 22,
   "id": "abd33ea6",
   "metadata": {},
   "outputs": [],
   "source": [
    "dim_data = X_train.shape[1] # <- Number of covariates"
   ]
  },
  {
   "cell_type": "markdown",
   "id": "d150857e",
   "metadata": {},
   "source": [
    "### Helper Functions"
   ]
  },
  {
   "cell_type": "markdown",
   "id": "48112a09",
   "metadata": {},
   "source": [
    "Well get our first \"helper function\".  These are intended to be used often (like lemata) to help with small individual tasks, which we frequently perform.  "
   ]
  },
  {
   "cell_type": "markdown",
   "id": "6681d6db",
   "metadata": {},
   "source": [
    "#### Uniform Sampler "
   ]
  },
  {
   "cell_type": "code",
   "execution_count": 23,
   "id": "757a95ac",
   "metadata": {},
   "outputs": [],
   "source": [
    "def random_ball(num_points = dim_feature, dimension=dim_data, radius=1):\n",
    "    from numpy import random, linalg\n",
    "    # First generate random directions by normalizing the length of a\n",
    "    # vector of random-normal values (these distribute evenly on ball).\n",
    "    random_directions = random.normal(size=(dimension,num_points))\n",
    "    random_directions /= linalg.norm(random_directions, axis=0)\n",
    "    # Second generate a random radius with probability proportional to\n",
    "    # the surface area of a ball with a given radius.\n",
    "    random_radii = random.random(num_points) ** (1/dimension)\n",
    "    # Return the list of random (direction & length) points.\n",
    "    return radius * (random_directions * random_radii).T"
   ]
  },
  {
   "cell_type": "markdown",
   "id": "b681214a",
   "metadata": {},
   "source": [
    "## Next let's write a little function to generate random features"
   ]
  },
  {
   "cell_type": "markdown",
   "id": "c7a5b2fc",
   "metadata": {},
   "source": [
    "Since we have set the correct default parameters for the theorem...let's just run it with an empty argument."
   ]
  },
  {
   "cell_type": "code",
   "execution_count": 24,
   "id": "e49e68d4",
   "metadata": {},
   "outputs": [],
   "source": [
    "# Generate the random parameters determining our feature map\n",
    "rand_weights = random_ball(radius=radius_weights)\n",
    "rand_biases = random_ball(dimension = 1,radius=radius_bias)"
   ]
  },
  {
   "cell_type": "markdown",
   "id": "8ae23e22",
   "metadata": {},
   "source": [
    "**Note**: It's crucial to initialize the random matrix and random vectors externally to the random feature map.  Otherwise, everytime you run the code you'll be multiplying by a different matrix + adding a different vector.\n",
    "\n",
    "*I.e.: You'll turn your features into pure noise :0*"
   ]
  },
  {
   "cell_type": "code",
   "execution_count": 25,
   "id": "24966db2",
   "metadata": {},
   "outputs": [],
   "source": [
    "def rand_feature_map(x_input):\n",
    "    x_int = np.array(x_input).transpose()\n",
    "    #Apply Random Weights\n",
    "    x_int = rand_weights.dot(x_int).transpose()\n",
    "    #Apply Random Bias\n",
    "    x_int = x_int + rand_biases.transpose()\n",
    "    #Apply ReLU activation function\n",
    "    x_int = np.maximum(x_int,0)\n",
    "    #Return Random Features\n",
    "    return x_int"
   ]
  },
  {
   "cell_type": "markdown",
   "id": "f85c1da2",
   "metadata": {},
   "source": [
    "Next we apply our random feature map to each of our data points in X\n",
    "\n",
    "This gives us our random features."
   ]
  },
  {
   "cell_type": "code",
   "execution_count": 26,
   "id": "082c627f",
   "metadata": {},
   "outputs": [
    {
     "name": "stdout",
     "output_type": "stream",
     "text": [
      "Train Shape\n",
      "(453, 10000)\n",
      "   0     1     2         3         4         5          6         7     \\\n",
      "0   0.0   0.0   0.0  0.550362  7.864804  0.951164  11.392673  1.824906   \n",
      "1   0.0   0.0   0.0  0.550301  7.863255  0.950970  11.390841  1.824536   \n",
      "2   0.0   0.0   0.0  0.551919  7.904565  0.956145  11.439685  1.834402   \n",
      "3   0.0   0.0   0.0  0.555905  8.006293  0.968889  11.559964  1.858697   \n",
      "4   0.0   0.0   0.0  0.554590  7.972728  0.964684  11.520279  1.850681   \n",
      "\n",
      "       8     9     ...  9990      9991  9992  9993      9994      9995  9996  \\\n",
      "0  9.237244   0.0  ...   0.0  0.909576   0.0   0.0  5.635691  4.311732   0.0   \n",
      "1  9.235714   0.0  ...   0.0  0.909532   0.0   0.0  5.634734  4.311024   0.0   \n",
      "2  9.276504   0.0  ...   0.0  0.910714   0.0   0.0  5.660268  4.329898   0.0   \n",
      "3  9.376948   0.0  ...   0.0  0.913624   0.0   0.0  5.723146  4.376373   0.0   \n",
      "4  9.343807   0.0  ...   0.0  0.912664   0.0   0.0  5.702399  4.361039   0.0   \n",
      "\n",
      "       9997       9998  9999  \n",
      "0  1.252023  11.095635   0.0  \n",
      "1  1.251783  11.093874   0.0  \n",
      "2  1.258177  11.140835   0.0  \n",
      "3  1.273923  11.256476   0.0  \n",
      "4  1.268728  11.218321   0.0  \n",
      "\n",
      "[5 rows x 10000 columns]\n",
      "Test Shape\n",
      "(300, 10000)\n",
      "Test Features\n"
     ]
    },
    {
     "data": {
      "text/html": [
       "<div>\n",
       "<style scoped>\n",
       "    .dataframe tbody tr th:only-of-type {\n",
       "        vertical-align: middle;\n",
       "    }\n",
       "\n",
       "    .dataframe tbody tr th {\n",
       "        vertical-align: top;\n",
       "    }\n",
       "\n",
       "    .dataframe thead th {\n",
       "        text-align: right;\n",
       "    }\n",
       "</style>\n",
       "<table border=\"1\" class=\"dataframe\">\n",
       "  <thead>\n",
       "    <tr style=\"text-align: right;\">\n",
       "      <th></th>\n",
       "      <th>0</th>\n",
       "      <th>1</th>\n",
       "      <th>2</th>\n",
       "      <th>3</th>\n",
       "      <th>4</th>\n",
       "      <th>5</th>\n",
       "      <th>6</th>\n",
       "      <th>7</th>\n",
       "      <th>8</th>\n",
       "      <th>9</th>\n",
       "      <th>...</th>\n",
       "      <th>9990</th>\n",
       "      <th>9991</th>\n",
       "      <th>9992</th>\n",
       "      <th>9993</th>\n",
       "      <th>9994</th>\n",
       "      <th>9995</th>\n",
       "      <th>9996</th>\n",
       "      <th>9997</th>\n",
       "      <th>9998</th>\n",
       "      <th>9999</th>\n",
       "    </tr>\n",
       "  </thead>\n",
       "  <tbody>\n",
       "    <tr>\n",
       "      <th>0</th>\n",
       "      <td>0.0</td>\n",
       "      <td>0.0</td>\n",
       "      <td>0.0</td>\n",
       "      <td>0.550362</td>\n",
       "      <td>7.864804</td>\n",
       "      <td>0.951164</td>\n",
       "      <td>11.392673</td>\n",
       "      <td>1.824906</td>\n",
       "      <td>9.237244</td>\n",
       "      <td>0.0</td>\n",
       "      <td>...</td>\n",
       "      <td>0.0</td>\n",
       "      <td>0.909576</td>\n",
       "      <td>0.0</td>\n",
       "      <td>0.0</td>\n",
       "      <td>5.635691</td>\n",
       "      <td>4.311732</td>\n",
       "      <td>0.0</td>\n",
       "      <td>1.252023</td>\n",
       "      <td>11.095635</td>\n",
       "      <td>0.0</td>\n",
       "    </tr>\n",
       "    <tr>\n",
       "      <th>1</th>\n",
       "      <td>0.0</td>\n",
       "      <td>0.0</td>\n",
       "      <td>0.0</td>\n",
       "      <td>0.550301</td>\n",
       "      <td>7.863255</td>\n",
       "      <td>0.950970</td>\n",
       "      <td>11.390841</td>\n",
       "      <td>1.824536</td>\n",
       "      <td>9.235714</td>\n",
       "      <td>0.0</td>\n",
       "      <td>...</td>\n",
       "      <td>0.0</td>\n",
       "      <td>0.909532</td>\n",
       "      <td>0.0</td>\n",
       "      <td>0.0</td>\n",
       "      <td>5.634734</td>\n",
       "      <td>4.311024</td>\n",
       "      <td>0.0</td>\n",
       "      <td>1.251783</td>\n",
       "      <td>11.093874</td>\n",
       "      <td>0.0</td>\n",
       "    </tr>\n",
       "    <tr>\n",
       "      <th>2</th>\n",
       "      <td>0.0</td>\n",
       "      <td>0.0</td>\n",
       "      <td>0.0</td>\n",
       "      <td>0.551919</td>\n",
       "      <td>7.904565</td>\n",
       "      <td>0.956145</td>\n",
       "      <td>11.439685</td>\n",
       "      <td>1.834402</td>\n",
       "      <td>9.276504</td>\n",
       "      <td>0.0</td>\n",
       "      <td>...</td>\n",
       "      <td>0.0</td>\n",
       "      <td>0.910714</td>\n",
       "      <td>0.0</td>\n",
       "      <td>0.0</td>\n",
       "      <td>5.660268</td>\n",
       "      <td>4.329898</td>\n",
       "      <td>0.0</td>\n",
       "      <td>1.258177</td>\n",
       "      <td>11.140835</td>\n",
       "      <td>0.0</td>\n",
       "    </tr>\n",
       "    <tr>\n",
       "      <th>3</th>\n",
       "      <td>0.0</td>\n",
       "      <td>0.0</td>\n",
       "      <td>0.0</td>\n",
       "      <td>0.555905</td>\n",
       "      <td>8.006293</td>\n",
       "      <td>0.968889</td>\n",
       "      <td>11.559964</td>\n",
       "      <td>1.858697</td>\n",
       "      <td>9.376948</td>\n",
       "      <td>0.0</td>\n",
       "      <td>...</td>\n",
       "      <td>0.0</td>\n",
       "      <td>0.913624</td>\n",
       "      <td>0.0</td>\n",
       "      <td>0.0</td>\n",
       "      <td>5.723146</td>\n",
       "      <td>4.376373</td>\n",
       "      <td>0.0</td>\n",
       "      <td>1.273923</td>\n",
       "      <td>11.256476</td>\n",
       "      <td>0.0</td>\n",
       "    </tr>\n",
       "    <tr>\n",
       "      <th>4</th>\n",
       "      <td>0.0</td>\n",
       "      <td>0.0</td>\n",
       "      <td>0.0</td>\n",
       "      <td>0.554590</td>\n",
       "      <td>7.972728</td>\n",
       "      <td>0.964684</td>\n",
       "      <td>11.520279</td>\n",
       "      <td>1.850681</td>\n",
       "      <td>9.343807</td>\n",
       "      <td>0.0</td>\n",
       "      <td>...</td>\n",
       "      <td>0.0</td>\n",
       "      <td>0.912664</td>\n",
       "      <td>0.0</td>\n",
       "      <td>0.0</td>\n",
       "      <td>5.702399</td>\n",
       "      <td>4.361039</td>\n",
       "      <td>0.0</td>\n",
       "      <td>1.268728</td>\n",
       "      <td>11.218321</td>\n",
       "      <td>0.0</td>\n",
       "    </tr>\n",
       "  </tbody>\n",
       "</table>\n",
       "<p>5 rows × 10000 columns</p>\n",
       "</div>"
      ],
      "text/plain": [
       "   0     1     2         3         4         5          6         7     \\\n",
       "0   0.0   0.0   0.0  0.550362  7.864804  0.951164  11.392673  1.824906   \n",
       "1   0.0   0.0   0.0  0.550301  7.863255  0.950970  11.390841  1.824536   \n",
       "2   0.0   0.0   0.0  0.551919  7.904565  0.956145  11.439685  1.834402   \n",
       "3   0.0   0.0   0.0  0.555905  8.006293  0.968889  11.559964  1.858697   \n",
       "4   0.0   0.0   0.0  0.554590  7.972728  0.964684  11.520279  1.850681   \n",
       "\n",
       "       8     9     ...  9990      9991  9992  9993      9994      9995  9996  \\\n",
       "0  9.237244   0.0  ...   0.0  0.909576   0.0   0.0  5.635691  4.311732   0.0   \n",
       "1  9.235714   0.0  ...   0.0  0.909532   0.0   0.0  5.634734  4.311024   0.0   \n",
       "2  9.276504   0.0  ...   0.0  0.910714   0.0   0.0  5.660268  4.329898   0.0   \n",
       "3  9.376948   0.0  ...   0.0  0.913624   0.0   0.0  5.723146  4.376373   0.0   \n",
       "4  9.343807   0.0  ...   0.0  0.912664   0.0   0.0  5.702399  4.361039   0.0   \n",
       "\n",
       "       9997       9998  9999  \n",
       "0  1.252023  11.095635   0.0  \n",
       "1  1.251783  11.093874   0.0  \n",
       "2  1.258177  11.140835   0.0  \n",
       "3  1.273923  11.256476   0.0  \n",
       "4  1.268728  11.218321   0.0  \n",
       "\n",
       "[5 rows x 10000 columns]"
      ]
     },
     "execution_count": 26,
     "metadata": {},
     "output_type": "execute_result"
    }
   ],
   "source": [
    "#Apply to each data\n",
    "## first to the training dataset\n",
    "X_Rand_Features_train = rand_feature_map(X_train)\n",
    "X_Rand_Features_train = pd.DataFrame(X_Rand_Features_train)\n",
    "## then to the testing dataset\n",
    "X_Rand_Features_test = rand_feature_map(X_test)\n",
    "X_Rand_Features_test = pd.DataFrame(X_Rand_Features_test)\n",
    "\n",
    "# Vislualize things to make sure all is working\n",
    "print('Train Shape')\n",
    "print(X_Rand_Features_train.shape)\n",
    "print(X_Rand_Features_train.head())\n",
    "print('Test Shape')\n",
    "print(X_Rand_Features_test.shape)\n",
    "print('Test Features')\n",
    "X_Rand_Features_test.head()"
   ]
  },
  {
   "cell_type": "markdown",
   "id": "d88e851e",
   "metadata": {},
   "source": [
    "We'll also include the original (untransformed features)"
   ]
  },
  {
   "cell_type": "code",
   "execution_count": 27,
   "id": "28597287",
   "metadata": {},
   "outputs": [
    {
     "name": "stdout",
     "output_type": "stream",
     "text": [
      "     0    1    2         3         4         5          6         7         8  \\\n",
      "0  0.0  0.0  0.0  0.550362  7.864804  0.951164  11.392673  1.824906  9.237244   \n",
      "1  0.0  0.0  0.0  0.550301  7.863255  0.950970  11.390841  1.824536  9.235714   \n",
      "2  0.0  0.0  0.0  0.551919  7.904565  0.956145  11.439685  1.834402  9.276504   \n",
      "3  0.0  0.0  0.0  0.555905  8.006293  0.968889  11.559964  1.858697  9.376948   \n",
      "4  0.0  0.0  0.0  0.554590  7.972728  0.964684  11.520279  1.850681  9.343807   \n",
      "\n",
      "     9  ...      9991  9992  9993      9994      9995  9996      9997  \\\n",
      "0  0.0  ...  0.909576   0.0   0.0  5.635691  4.311732   0.0  1.252023   \n",
      "1  0.0  ...  0.909532   0.0   0.0  5.634734  4.311024   0.0  1.251783   \n",
      "2  0.0  ...  0.910714   0.0   0.0  5.660268  4.329898   0.0  1.258177   \n",
      "3  0.0  ...  0.913624   0.0   0.0  5.723146  4.376373   0.0  1.273923   \n",
      "4  0.0  ...  0.912664   0.0   0.0  5.702399  4.361039   0.0  1.268728   \n",
      "\n",
      "        9998  9999  Original_Features  \n",
      "0  11.095635   0.0          43.064999  \n",
      "1  11.093874   0.0          43.057499  \n",
      "2  11.140835   0.0          43.257500  \n",
      "3  11.256476   0.0          43.750000  \n",
      "4  11.218321   0.0          43.587502  \n",
      "\n",
      "[5 rows x 10001 columns]\n"
     ]
    },
    {
     "data": {
      "text/html": [
       "<div>\n",
       "<style scoped>\n",
       "    .dataframe tbody tr th:only-of-type {\n",
       "        vertical-align: middle;\n",
       "    }\n",
       "\n",
       "    .dataframe tbody tr th {\n",
       "        vertical-align: top;\n",
       "    }\n",
       "\n",
       "    .dataframe thead th {\n",
       "        text-align: right;\n",
       "    }\n",
       "</style>\n",
       "<table border=\"1\" class=\"dataframe\">\n",
       "  <thead>\n",
       "    <tr style=\"text-align: right;\">\n",
       "      <th></th>\n",
       "      <th>0</th>\n",
       "      <th>1</th>\n",
       "      <th>2</th>\n",
       "      <th>3</th>\n",
       "      <th>4</th>\n",
       "      <th>5</th>\n",
       "      <th>6</th>\n",
       "      <th>7</th>\n",
       "      <th>8</th>\n",
       "      <th>9</th>\n",
       "      <th>...</th>\n",
       "      <th>9991</th>\n",
       "      <th>9992</th>\n",
       "      <th>9993</th>\n",
       "      <th>9994</th>\n",
       "      <th>9995</th>\n",
       "      <th>9996</th>\n",
       "      <th>9997</th>\n",
       "      <th>9998</th>\n",
       "      <th>9999</th>\n",
       "      <th>Original_Features</th>\n",
       "    </tr>\n",
       "  </thead>\n",
       "  <tbody>\n",
       "    <tr>\n",
       "      <th>0</th>\n",
       "      <td>0.0</td>\n",
       "      <td>0.0</td>\n",
       "      <td>0.0</td>\n",
       "      <td>0.550362</td>\n",
       "      <td>7.864804</td>\n",
       "      <td>0.951164</td>\n",
       "      <td>11.392673</td>\n",
       "      <td>1.824906</td>\n",
       "      <td>9.237244</td>\n",
       "      <td>0.0</td>\n",
       "      <td>...</td>\n",
       "      <td>0.909576</td>\n",
       "      <td>0.0</td>\n",
       "      <td>0.0</td>\n",
       "      <td>5.635691</td>\n",
       "      <td>4.311732</td>\n",
       "      <td>0.0</td>\n",
       "      <td>1.252023</td>\n",
       "      <td>11.095635</td>\n",
       "      <td>0.0</td>\n",
       "      <td>43.064999</td>\n",
       "    </tr>\n",
       "    <tr>\n",
       "      <th>1</th>\n",
       "      <td>0.0</td>\n",
       "      <td>0.0</td>\n",
       "      <td>0.0</td>\n",
       "      <td>0.550301</td>\n",
       "      <td>7.863255</td>\n",
       "      <td>0.950970</td>\n",
       "      <td>11.390841</td>\n",
       "      <td>1.824536</td>\n",
       "      <td>9.235714</td>\n",
       "      <td>0.0</td>\n",
       "      <td>...</td>\n",
       "      <td>0.909532</td>\n",
       "      <td>0.0</td>\n",
       "      <td>0.0</td>\n",
       "      <td>5.634734</td>\n",
       "      <td>4.311024</td>\n",
       "      <td>0.0</td>\n",
       "      <td>1.251783</td>\n",
       "      <td>11.093874</td>\n",
       "      <td>0.0</td>\n",
       "      <td>43.057499</td>\n",
       "    </tr>\n",
       "    <tr>\n",
       "      <th>2</th>\n",
       "      <td>0.0</td>\n",
       "      <td>0.0</td>\n",
       "      <td>0.0</td>\n",
       "      <td>0.551919</td>\n",
       "      <td>7.904565</td>\n",
       "      <td>0.956145</td>\n",
       "      <td>11.439685</td>\n",
       "      <td>1.834402</td>\n",
       "      <td>9.276504</td>\n",
       "      <td>0.0</td>\n",
       "      <td>...</td>\n",
       "      <td>0.910714</td>\n",
       "      <td>0.0</td>\n",
       "      <td>0.0</td>\n",
       "      <td>5.660268</td>\n",
       "      <td>4.329898</td>\n",
       "      <td>0.0</td>\n",
       "      <td>1.258177</td>\n",
       "      <td>11.140835</td>\n",
       "      <td>0.0</td>\n",
       "      <td>43.257500</td>\n",
       "    </tr>\n",
       "    <tr>\n",
       "      <th>3</th>\n",
       "      <td>0.0</td>\n",
       "      <td>0.0</td>\n",
       "      <td>0.0</td>\n",
       "      <td>0.555905</td>\n",
       "      <td>8.006293</td>\n",
       "      <td>0.968889</td>\n",
       "      <td>11.559964</td>\n",
       "      <td>1.858697</td>\n",
       "      <td>9.376948</td>\n",
       "      <td>0.0</td>\n",
       "      <td>...</td>\n",
       "      <td>0.913624</td>\n",
       "      <td>0.0</td>\n",
       "      <td>0.0</td>\n",
       "      <td>5.723146</td>\n",
       "      <td>4.376373</td>\n",
       "      <td>0.0</td>\n",
       "      <td>1.273923</td>\n",
       "      <td>11.256476</td>\n",
       "      <td>0.0</td>\n",
       "      <td>43.750000</td>\n",
       "    </tr>\n",
       "    <tr>\n",
       "      <th>4</th>\n",
       "      <td>0.0</td>\n",
       "      <td>0.0</td>\n",
       "      <td>0.0</td>\n",
       "      <td>0.554590</td>\n",
       "      <td>7.972728</td>\n",
       "      <td>0.964684</td>\n",
       "      <td>11.520279</td>\n",
       "      <td>1.850681</td>\n",
       "      <td>9.343807</td>\n",
       "      <td>0.0</td>\n",
       "      <td>...</td>\n",
       "      <td>0.912664</td>\n",
       "      <td>0.0</td>\n",
       "      <td>0.0</td>\n",
       "      <td>5.702399</td>\n",
       "      <td>4.361039</td>\n",
       "      <td>0.0</td>\n",
       "      <td>1.268728</td>\n",
       "      <td>11.218321</td>\n",
       "      <td>0.0</td>\n",
       "      <td>43.587502</td>\n",
       "    </tr>\n",
       "  </tbody>\n",
       "</table>\n",
       "<p>5 rows × 10001 columns</p>\n",
       "</div>"
      ],
      "text/plain": [
       "     0    1    2         3         4         5          6         7         8  \\\n",
       "0  0.0  0.0  0.0  0.550362  7.864804  0.951164  11.392673  1.824906  9.237244   \n",
       "1  0.0  0.0  0.0  0.550301  7.863255  0.950970  11.390841  1.824536  9.235714   \n",
       "2  0.0  0.0  0.0  0.551919  7.904565  0.956145  11.439685  1.834402  9.276504   \n",
       "3  0.0  0.0  0.0  0.555905  8.006293  0.968889  11.559964  1.858697  9.376948   \n",
       "4  0.0  0.0  0.0  0.554590  7.972728  0.964684  11.520279  1.850681  9.343807   \n",
       "\n",
       "     9  ...      9991  9992  9993      9994      9995  9996      9997  \\\n",
       "0  0.0  ...  0.909576   0.0   0.0  5.635691  4.311732   0.0  1.252023   \n",
       "1  0.0  ...  0.909532   0.0   0.0  5.634734  4.311024   0.0  1.251783   \n",
       "2  0.0  ...  0.910714   0.0   0.0  5.660268  4.329898   0.0  1.258177   \n",
       "3  0.0  ...  0.913624   0.0   0.0  5.723146  4.376373   0.0  1.273923   \n",
       "4  0.0  ...  0.912664   0.0   0.0  5.702399  4.361039   0.0  1.268728   \n",
       "\n",
       "        9998  9999  Original_Features  \n",
       "0  11.095635   0.0          43.064999  \n",
       "1  11.093874   0.0          43.057499  \n",
       "2  11.140835   0.0          43.257500  \n",
       "3  11.256476   0.0          43.750000  \n",
       "4  11.218321   0.0          43.587502  \n",
       "\n",
       "[5 rows x 10001 columns]"
      ]
     },
     "execution_count": 27,
     "metadata": {},
     "output_type": "execute_result"
    }
   ],
   "source": [
    "X_Rand_Features_train['Original_Features'] = np.array(X_train)\n",
    "X_Rand_Features_test['Original_Features'] = np.array(X_test)\n",
    "\n",
    "# Let's check all is working well\n",
    "print(X_Rand_Features_train.head())\n",
    "X_Rand_Features_test.head()"
   ]
  },
  {
   "cell_type": "markdown",
   "id": "47c88e11",
   "metadata": {},
   "source": [
    "As before...\n",
    "\n",
    "#### Building and Training our Regression Model"
   ]
  },
  {
   "cell_type": "code",
   "execution_count": 28,
   "id": "de2df1d7",
   "metadata": {},
   "outputs": [],
   "source": [
    "model_linReg_randfeatures = LinearRegression()"
   ]
  },
  {
   "cell_type": "markdown",
   "id": "75b2fe6d",
   "metadata": {},
   "source": [
    "First we train our model, with the \"training\" (a.k.a. in-sample) data."
   ]
  },
  {
   "cell_type": "code",
   "execution_count": 29,
   "id": "0efbc6d3",
   "metadata": {
    "scrolled": true
   },
   "outputs": [
    {
     "data": {
      "text/html": [
       "<style>#sk-container-id-2 {color: black;background-color: white;}#sk-container-id-2 pre{padding: 0;}#sk-container-id-2 div.sk-toggleable {background-color: white;}#sk-container-id-2 label.sk-toggleable__label {cursor: pointer;display: block;width: 100%;margin-bottom: 0;padding: 0.3em;box-sizing: border-box;text-align: center;}#sk-container-id-2 label.sk-toggleable__label-arrow:before {content: \"▸\";float: left;margin-right: 0.25em;color: #696969;}#sk-container-id-2 label.sk-toggleable__label-arrow:hover:before {color: black;}#sk-container-id-2 div.sk-estimator:hover label.sk-toggleable__label-arrow:before {color: black;}#sk-container-id-2 div.sk-toggleable__content {max-height: 0;max-width: 0;overflow: hidden;text-align: left;background-color: #f0f8ff;}#sk-container-id-2 div.sk-toggleable__content pre {margin: 0.2em;color: black;border-radius: 0.25em;background-color: #f0f8ff;}#sk-container-id-2 input.sk-toggleable__control:checked~div.sk-toggleable__content {max-height: 200px;max-width: 100%;overflow: auto;}#sk-container-id-2 input.sk-toggleable__control:checked~label.sk-toggleable__label-arrow:before {content: \"▾\";}#sk-container-id-2 div.sk-estimator input.sk-toggleable__control:checked~label.sk-toggleable__label {background-color: #d4ebff;}#sk-container-id-2 div.sk-label input.sk-toggleable__control:checked~label.sk-toggleable__label {background-color: #d4ebff;}#sk-container-id-2 input.sk-hidden--visually {border: 0;clip: rect(1px 1px 1px 1px);clip: rect(1px, 1px, 1px, 1px);height: 1px;margin: -1px;overflow: hidden;padding: 0;position: absolute;width: 1px;}#sk-container-id-2 div.sk-estimator {font-family: monospace;background-color: #f0f8ff;border: 1px dotted black;border-radius: 0.25em;box-sizing: border-box;margin-bottom: 0.5em;}#sk-container-id-2 div.sk-estimator:hover {background-color: #d4ebff;}#sk-container-id-2 div.sk-parallel-item::after {content: \"\";width: 100%;border-bottom: 1px solid gray;flex-grow: 1;}#sk-container-id-2 div.sk-label:hover label.sk-toggleable__label {background-color: #d4ebff;}#sk-container-id-2 div.sk-serial::before {content: \"\";position: absolute;border-left: 1px solid gray;box-sizing: border-box;top: 0;bottom: 0;left: 50%;z-index: 0;}#sk-container-id-2 div.sk-serial {display: flex;flex-direction: column;align-items: center;background-color: white;padding-right: 0.2em;padding-left: 0.2em;position: relative;}#sk-container-id-2 div.sk-item {position: relative;z-index: 1;}#sk-container-id-2 div.sk-parallel {display: flex;align-items: stretch;justify-content: center;background-color: white;position: relative;}#sk-container-id-2 div.sk-item::before, #sk-container-id-2 div.sk-parallel-item::before {content: \"\";position: absolute;border-left: 1px solid gray;box-sizing: border-box;top: 0;bottom: 0;left: 50%;z-index: -1;}#sk-container-id-2 div.sk-parallel-item {display: flex;flex-direction: column;z-index: 1;position: relative;background-color: white;}#sk-container-id-2 div.sk-parallel-item:first-child::after {align-self: flex-end;width: 50%;}#sk-container-id-2 div.sk-parallel-item:last-child::after {align-self: flex-start;width: 50%;}#sk-container-id-2 div.sk-parallel-item:only-child::after {width: 0;}#sk-container-id-2 div.sk-dashed-wrapped {border: 1px dashed gray;margin: 0 0.4em 0.5em 0.4em;box-sizing: border-box;padding-bottom: 0.4em;background-color: white;}#sk-container-id-2 div.sk-label label {font-family: monospace;font-weight: bold;display: inline-block;line-height: 1.2em;}#sk-container-id-2 div.sk-label-container {text-align: center;}#sk-container-id-2 div.sk-container {/* jupyter's `normalize.less` sets `[hidden] { display: none; }` but bootstrap.min.css set `[hidden] { display: none !important; }` so we also need the `!important` here to be able to override the default hidden behavior on the sphinx rendered scikit-learn.org. See: https://github.com/scikit-learn/scikit-learn/issues/21755 */display: inline-block !important;position: relative;}#sk-container-id-2 div.sk-text-repr-fallback {display: none;}</style><div id=\"sk-container-id-2\" class=\"sk-top-container\"><div class=\"sk-text-repr-fallback\"><pre>LinearRegression()</pre><b>In a Jupyter environment, please rerun this cell to show the HTML representation or trust the notebook. <br />On GitHub, the HTML representation is unable to render, please try loading this page with nbviewer.org.</b></div><div class=\"sk-container\" hidden><div class=\"sk-item\"><div class=\"sk-estimator sk-toggleable\"><input class=\"sk-toggleable__control sk-hidden--visually\" id=\"sk-estimator-id-2\" type=\"checkbox\" checked><label for=\"sk-estimator-id-2\" class=\"sk-toggleable__label sk-toggleable__label-arrow\">LinearRegression</label><div class=\"sk-toggleable__content\"><pre>LinearRegression()</pre></div></div></div></div></div>"
      ],
      "text/plain": [
       "LinearRegression()"
      ]
     },
     "execution_count": 29,
     "metadata": {},
     "output_type": "execute_result"
    }
   ],
   "source": [
    "model_linReg_randfeatures.fit(X_Rand_Features_train, Y_train)"
   ]
  },
  {
   "cell_type": "markdown",
   "id": "4b592f30",
   "metadata": {},
   "source": [
    "It remains to train our random neural network (or random feature model)"
   ]
  },
  {
   "cell_type": "code",
   "execution_count": 30,
   "id": "e6a3952e",
   "metadata": {},
   "outputs": [
    {
     "data": {
      "text/html": [
       "<style>#sk-container-id-3 {color: black;background-color: white;}#sk-container-id-3 pre{padding: 0;}#sk-container-id-3 div.sk-toggleable {background-color: white;}#sk-container-id-3 label.sk-toggleable__label {cursor: pointer;display: block;width: 100%;margin-bottom: 0;padding: 0.3em;box-sizing: border-box;text-align: center;}#sk-container-id-3 label.sk-toggleable__label-arrow:before {content: \"▸\";float: left;margin-right: 0.25em;color: #696969;}#sk-container-id-3 label.sk-toggleable__label-arrow:hover:before {color: black;}#sk-container-id-3 div.sk-estimator:hover label.sk-toggleable__label-arrow:before {color: black;}#sk-container-id-3 div.sk-toggleable__content {max-height: 0;max-width: 0;overflow: hidden;text-align: left;background-color: #f0f8ff;}#sk-container-id-3 div.sk-toggleable__content pre {margin: 0.2em;color: black;border-radius: 0.25em;background-color: #f0f8ff;}#sk-container-id-3 input.sk-toggleable__control:checked~div.sk-toggleable__content {max-height: 200px;max-width: 100%;overflow: auto;}#sk-container-id-3 input.sk-toggleable__control:checked~label.sk-toggleable__label-arrow:before {content: \"▾\";}#sk-container-id-3 div.sk-estimator input.sk-toggleable__control:checked~label.sk-toggleable__label {background-color: #d4ebff;}#sk-container-id-3 div.sk-label input.sk-toggleable__control:checked~label.sk-toggleable__label {background-color: #d4ebff;}#sk-container-id-3 input.sk-hidden--visually {border: 0;clip: rect(1px 1px 1px 1px);clip: rect(1px, 1px, 1px, 1px);height: 1px;margin: -1px;overflow: hidden;padding: 0;position: absolute;width: 1px;}#sk-container-id-3 div.sk-estimator {font-family: monospace;background-color: #f0f8ff;border: 1px dotted black;border-radius: 0.25em;box-sizing: border-box;margin-bottom: 0.5em;}#sk-container-id-3 div.sk-estimator:hover {background-color: #d4ebff;}#sk-container-id-3 div.sk-parallel-item::after {content: \"\";width: 100%;border-bottom: 1px solid gray;flex-grow: 1;}#sk-container-id-3 div.sk-label:hover label.sk-toggleable__label {background-color: #d4ebff;}#sk-container-id-3 div.sk-serial::before {content: \"\";position: absolute;border-left: 1px solid gray;box-sizing: border-box;top: 0;bottom: 0;left: 50%;z-index: 0;}#sk-container-id-3 div.sk-serial {display: flex;flex-direction: column;align-items: center;background-color: white;padding-right: 0.2em;padding-left: 0.2em;position: relative;}#sk-container-id-3 div.sk-item {position: relative;z-index: 1;}#sk-container-id-3 div.sk-parallel {display: flex;align-items: stretch;justify-content: center;background-color: white;position: relative;}#sk-container-id-3 div.sk-item::before, #sk-container-id-3 div.sk-parallel-item::before {content: \"\";position: absolute;border-left: 1px solid gray;box-sizing: border-box;top: 0;bottom: 0;left: 50%;z-index: -1;}#sk-container-id-3 div.sk-parallel-item {display: flex;flex-direction: column;z-index: 1;position: relative;background-color: white;}#sk-container-id-3 div.sk-parallel-item:first-child::after {align-self: flex-end;width: 50%;}#sk-container-id-3 div.sk-parallel-item:last-child::after {align-self: flex-start;width: 50%;}#sk-container-id-3 div.sk-parallel-item:only-child::after {width: 0;}#sk-container-id-3 div.sk-dashed-wrapped {border: 1px dashed gray;margin: 0 0.4em 0.5em 0.4em;box-sizing: border-box;padding-bottom: 0.4em;background-color: white;}#sk-container-id-3 div.sk-label label {font-family: monospace;font-weight: bold;display: inline-block;line-height: 1.2em;}#sk-container-id-3 div.sk-label-container {text-align: center;}#sk-container-id-3 div.sk-container {/* jupyter's `normalize.less` sets `[hidden] { display: none; }` but bootstrap.min.css set `[hidden] { display: none !important; }` so we also need the `!important` here to be able to override the default hidden behavior on the sphinx rendered scikit-learn.org. See: https://github.com/scikit-learn/scikit-learn/issues/21755 */display: inline-block !important;position: relative;}#sk-container-id-3 div.sk-text-repr-fallback {display: none;}</style><div id=\"sk-container-id-3\" class=\"sk-top-container\"><div class=\"sk-text-repr-fallback\"><pre>LinearRegression()</pre><b>In a Jupyter environment, please rerun this cell to show the HTML representation or trust the notebook. <br />On GitHub, the HTML representation is unable to render, please try loading this page with nbviewer.org.</b></div><div class=\"sk-container\" hidden><div class=\"sk-item\"><div class=\"sk-estimator sk-toggleable\"><input class=\"sk-toggleable__control sk-hidden--visually\" id=\"sk-estimator-id-3\" type=\"checkbox\" checked><label for=\"sk-estimator-id-3\" class=\"sk-toggleable__label sk-toggleable__label-arrow\">LinearRegression</label><div class=\"sk-toggleable__content\"><pre>LinearRegression()</pre></div></div></div></div></div>"
      ],
      "text/plain": [
       "LinearRegression()"
      ]
     },
     "execution_count": 30,
     "metadata": {},
     "output_type": "execute_result"
    }
   ],
   "source": [
    "# Instantiate Model\n",
    "model_linReg_randfeatures = LinearRegression()\n",
    "# Train Model\n",
    "# fit model\n",
    "model_linReg_randfeatures.fit(X_Rand_Features_train, Y_train)"
   ]
  },
  {
   "cell_type": "markdown",
   "id": "193ce131",
   "metadata": {},
   "source": [
    "Now we'll predict the test data given our input train data!"
   ]
  },
  {
   "cell_type": "code",
   "execution_count": 31,
   "id": "7bfe2b4a",
   "metadata": {},
   "outputs": [],
   "source": [
    "# Generate Prediction\n",
    "Yhat_train_linReg_RF = model_linReg_randfeatures.predict(X_Rand_Features_train)\n",
    "Yhat_train_linReg_RF = Yhat_train_linReg_RF.reshape([-1,])"
   ]
  },
  {
   "cell_type": "markdown",
   "id": "e3ae2d40",
   "metadata": {},
   "source": [
    "We'll record our training performance while we're at it also."
   ]
  },
  {
   "cell_type": "code",
   "execution_count": 32,
   "id": "00009b7f",
   "metadata": {},
   "outputs": [],
   "source": [
    "Yhat_test_linReg_RF = model_linReg_randfeatures.predict(X_Rand_Features_test)\n",
    "# Yhat_test_linReg = pd.DataFrame(Yhat_test_linReg)\n",
    "Yhat_test_linReg_RF = Yhat_test_linReg_RF.reshape([-1,])"
   ]
  },
  {
   "cell_type": "markdown",
   "id": "cc5ae46e",
   "metadata": {},
   "source": [
    "---"
   ]
  },
  {
   "cell_type": "markdown",
   "id": "194238bc",
   "metadata": {},
   "source": [
    "# Let's see how our new random feature model measures up"
   ]
  },
  {
   "cell_type": "code",
   "execution_count": 33,
   "id": "ed00f50f",
   "metadata": {},
   "outputs": [
    {
     "data": {
      "text/plain": [
       "array([54.74712787, 54.74409543, 54.8249643 , 55.02410328, 54.95839818,\n",
       "       54.95637604, 54.95233174, 55.05240715, 55.23537204, 55.14439552,\n",
       "       55.43855531, 55.45472785, 55.37386052, 55.2262747 , 55.23031745,\n",
       "       54.94525655, 54.63087992, 54.67131359, 54.31246055, 54.21238514,\n",
       "       54.2588837 , 54.29426432, 53.55836047, 53.15300732, 53.81410719,\n",
       "       53.46131751, 53.0175513 , 53.14492028, 53.78176057, 53.94652923,\n",
       "       54.25281881, 54.82092155, 54.76431226, 54.7056839 , 54.62683717,\n",
       "       54.771389  , 55.07464613, 55.42541367, 55.36678378, 55.3394902 ,\n",
       "       55.02410328, 55.14641767, 55.20808001, 55.19291623, 55.02713572,\n",
       "       55.2202098 , 55.52750969, 55.70339938, 55.52649938, 55.37183837,\n",
       "       55.3930655 , 55.32938256, 55.0544293 , 55.0483644 , 54.64705401,\n",
       "       54.40242677, 54.00718127, 54.79868257, 54.35087207, 54.16285259,\n",
       "       54.29426432, 54.18306942, 54.35592667, 54.68142278, 54.80171502,\n",
       "       54.35491636, 54.52372932, 54.84720328, 54.7653241 , 54.9371695 ,\n",
       "       54.9968097 , 55.1069943 , 55.35162154, 55.31118633, 54.80171502,\n",
       "       54.086028  , 54.03750729, 53.80500985, 53.87677984, 53.93439944,\n",
       "       53.7423372 , 54.0395279 , 54.4276982 , 55.18280858, 55.21515521,\n",
       "       55.91669029, 56.05113447, 56.14110069, 56.27352273, 56.54443169,\n",
       "       56.39785772, 56.35337976, 56.18052406, 56.35641221, 56.23612151,\n",
       "       56.16738242, 56.3008163 , 56.25330589, 56.37460844, 56.35337976,\n",
       "       56.39684742, 56.32810833, 56.28767466, 56.22399017, 56.56465007,\n",
       "       56.72537598, 56.8749824 , 56.94270964, 56.89014618, 56.71223434,\n",
       "       56.66472393, 56.77086424, 56.61114863, 56.62125782, 56.42312915,\n",
       "       56.4130215 , 56.10470977, 56.18658895, 56.08146049, 56.02687334,\n",
       "       55.74888764, 55.97734079, 55.95004876, 56.08550324, 56.04607988,\n",
       "       56.2553265 , 55.92578763, 56.07539405, 56.33518507, 56.59901884,\n",
       "       56.57576956, 56.32608773, 56.6445071 , 56.67483312, 56.63237731,\n",
       "       56.68696291, 56.58082261, 56.73043057, 56.68595261, 56.703137  ,\n",
       "       56.84364607, 57.02762281, 56.96596046, 56.63945251, 56.5312916 ,\n",
       "       56.56970312, 57.70287462, 58.29826939, 58.35892144, 58.46809419,\n",
       "       58.26996552, 58.28411746, 58.44888766, 58.31242133, 58.44787581,\n",
       "       58.53683173, 58.58636429, 58.89770846, 59.32833304, 59.11403182,\n",
       "       59.07157447, 59.07258631, 59.11706427, 59.18479151, 59.36472395,\n",
       "       59.54263425, 59.87419526, 60.08142127, 60.34424474, 60.41803688,\n",
       "       60.26741861, 59.88632659, 59.704372  , 59.40414732, 59.96214088,\n",
       "       59.68112272, 60.22092005, 59.96112903, 59.35865906, 59.39504998,\n",
       "       59.40819007, 59.57599272, 59.33642008, 59.6528173 , 59.79433823,\n",
       "       59.61541609, 60.07333423, 60.15319281, 60.30684198, 60.51103555,\n",
       "       60.79306554, 60.38063566, 60.00661729, 59.95405383, 60.26741861,\n",
       "       59.20500835, 59.01193427, 59.78625118, 59.30609406, 59.79029393,\n",
       "       59.69325251, 59.17063957, 59.50321088, 59.63866537, 59.84892383,\n",
       "       59.07662906, 59.55274344, 59.19894345, 58.78853571, 58.89568632,\n",
       "       59.45772262, 59.79737067, 58.30736674, 57.71197196, 57.93233961,\n",
       "       58.55704857, 58.40946429, 58.0030993 , 56.96191617, 56.76580965,\n",
       "       56.21691497, 56.68292016, 56.89722138, 56.12189416, 55.22425255,\n",
       "       55.20403572, 54.75016032, 54.98569021, 54.94727869, 55.62455265,\n",
       "       55.48404357, 55.38599031, 56.0167657 , 55.19493837, 54.9957994 ,\n",
       "       54.36603585, 54.47824105, 54.38018779, 54.4276982 , 54.61470584,\n",
       "       54.06176688, 53.90609556, 54.12140862, 53.59778383, 53.18737609,\n",
       "       52.57075264, 52.17651898, 53.22174486, 53.11863701, 53.12672405,\n",
       "       53.27936446, 53.29755915, 51.70748135, 52.32107081, 52.28771234,\n",
       "       52.57277478, 52.83155396, 52.88108651, 52.7284461 , 52.4969605 ,\n",
       "       52.80729437, 52.99632416, 53.08932283, 53.18636579, 52.83054366,\n",
       "       52.8932163 , 52.76989161, 53.28138506, 53.13380079, 52.97004089,\n",
       "       54.03851759, 54.15880984, 54.16689688, 54.64503186, 54.94121225,\n",
       "       54.94727869, 54.61369554, 54.56012023, 54.46105513, 54.60864094,\n",
       "       54.53686941, 54.5995436 , 54.56113054, 54.61268369, 54.72387859,\n",
       "       54.62582533, 54.81889941, 54.94626685, 54.95637604, 55.01096164,\n",
       "       54.83709409, 55.02107083, 55.11002675, 55.07767858, 54.97558257,\n",
       "       54.771389  , 54.81283451, 55.41833693, 55.6215202 , 55.70238908])"
      ]
     },
     "execution_count": 33,
     "metadata": {},
     "output_type": "execute_result"
    }
   ],
   "source": [
    "# Append Predictions to Dataframe\n",
    "time_series_comparison['Predictions_Test_RF'] = Yhat_test_linReg_RF\n",
    "\n",
    "# Check nothing went wrong (Safefy First!)\n",
    "Yhat_test_linReg"
   ]
  },
  {
   "cell_type": "markdown",
   "id": "9557c525",
   "metadata": {},
   "source": [
    "## Let's Visualize How we did with our random Features!"
   ]
  },
  {
   "cell_type": "code",
   "execution_count": 34,
   "id": "42029173",
   "metadata": {},
   "outputs": [
    {
     "data": {
      "image/png": "[encoded data removed]",
      "text/plain": [
       "<Figure size 640x480 with 1 Axes>"
      ]
     },
     "metadata": {},
     "output_type": "display_data"
    }
   ],
   "source": [
    "# Activate Seaborn (<- this makes plots pretty :3)\n",
    "sns.set()\n",
    "\n",
    "# Plot!\n",
    "plt.plot(time_series_comparison)\n",
    "\n",
    "# Now we'll need a legend also\n",
    "plt.legend(time_series_comparison.columns);"
   ]
  },
  {
   "cell_type": "markdown",
   "id": "c77e700e",
   "metadata": {},
   "source": [
    "To get a better look, let's plot the time-series of squared prediction errors!"
   ]
  },
  {
   "cell_type": "code",
   "execution_count": 35,
   "id": "aaaab109",
   "metadata": {},
   "outputs": [],
   "source": [
    "# Get timeseries of Squred prediction errors, for vanilla regression model!\n",
    "SSE_LinReg = np.abs(time_series_comparison['Targets_Test'] - time_series_comparison['Predictions_Test'])**2\n",
    "\n",
    "# Get timeseries of Squred prediction errors, for random feature model!\n",
    "SSE_LinReg_RF = np.abs(time_series_comparison['Targets_Test'] - time_series_comparison['Predictions_Test_RF'])**2"
   ]
  },
  {
   "cell_type": "markdown",
   "id": "c1575a53",
   "metadata": {},
   "source": [
    "We'll make a pandas dataframe!"
   ]
  },
  {
   "cell_type": "code",
   "execution_count": 36,
   "id": "779de7e2",
   "metadata": {},
   "outputs": [
    {
     "data": {
      "text/html": [
       "<div>\n",
       "<style scoped>\n",
       "    .dataframe tbody tr th:only-of-type {\n",
       "        vertical-align: middle;\n",
       "    }\n",
       "\n",
       "    .dataframe tbody tr th {\n",
       "        vertical-align: top;\n",
       "    }\n",
       "\n",
       "    .dataframe thead th {\n",
       "        text-align: right;\n",
       "    }\n",
       "</style>\n",
       "<table border=\"1\" class=\"dataframe\">\n",
       "  <thead>\n",
       "    <tr style=\"text-align: right;\">\n",
       "      <th></th>\n",
       "      <th>Lin. Reg.</th>\n",
       "      <th>Lin. Reg. + RF</th>\n",
       "    </tr>\n",
       "    <tr>\n",
       "      <th>Date</th>\n",
       "      <th></th>\n",
       "      <th></th>\n",
       "    </tr>\n",
       "  </thead>\n",
       "  <tbody>\n",
       "    <tr>\n",
       "      <th>2018-01-03</th>\n",
       "      <td>0.388288</td>\n",
       "      <td>0.394497</td>\n",
       "    </tr>\n",
       "    <tr>\n",
       "      <th>2018-01-04</th>\n",
       "      <td>0.179857</td>\n",
       "      <td>0.063024</td>\n",
       "    </tr>\n",
       "    <tr>\n",
       "      <th>2018-01-05</th>\n",
       "      <td>0.082103</td>\n",
       "      <td>0.010499</td>\n",
       "    </tr>\n",
       "    <tr>\n",
       "      <th>2018-01-08</th>\n",
       "      <td>0.104262</td>\n",
       "      <td>0.039597</td>\n",
       "    </tr>\n",
       "    <tr>\n",
       "      <th>2018-01-09</th>\n",
       "      <td>0.125742</td>\n",
       "      <td>0.208219</td>\n",
       "    </tr>\n",
       "  </tbody>\n",
       "</table>\n",
       "</div>"
      ],
      "text/plain": [
       "            Lin. Reg.  Lin. Reg. + RF\n",
       "Date                                 \n",
       "2018-01-03   0.388288        0.394497\n",
       "2018-01-04   0.179857        0.063024\n",
       "2018-01-05   0.082103        0.010499\n",
       "2018-01-08   0.104262        0.039597\n",
       "2018-01-09   0.125742        0.208219"
      ]
     },
     "execution_count": 36,
     "metadata": {},
     "output_type": "execute_result"
    }
   ],
   "source": [
    "# Append Predictions to Dataframe\n",
    "time_series_comparison_errors = pd.DataFrame({'Lin. Reg.':SSE_LinReg,'Lin. Reg. + RF':SSE_LinReg_RF})\n",
    "\n",
    "# Check nothing went wrong (Safefy First!)\n",
    "time_series_comparison_errors.head()"
   ]
  },
  {
   "cell_type": "code",
   "execution_count": 37,
   "id": "c93061ed",
   "metadata": {},
   "outputs": [
    {
     "data": {
      "image/png": "[encoded data removed]",
      "text/plain": [
       "<Figure size 640x480 with 1 Axes>"
      ]
     },
     "metadata": {},
     "output_type": "display_data"
    }
   ],
   "source": [
    "# Activate Seaborn (<- this makes plots pretty :3)\n",
    "sns.set()\n",
    "\n",
    "# Plot!\n",
    "plt.plot(time_series_comparison_errors)\n",
    "\n",
    "# Now we'll need a legend also\n",
    "plt.legend(time_series_comparison_errors.columns);"
   ]
  },
  {
   "cell_type": "markdown",
   "id": "a782a687",
   "metadata": {},
   "source": [
    "Let's look at some statistics to see when and if we ever do better with the random feature?\n",
    "\n",
    "Typically, is:\n",
    "\n",
    "time_series_comparison_errors['Lin. Reg.'] > time_series_comparison_errors['Lin. Reg. + RF']?\n",
    "\n",
    "I.e. is this quantity positive?"
   ]
  },
  {
   "cell_type": "code",
   "execution_count": 38,
   "id": "e565050c",
   "metadata": {},
   "outputs": [
    {
     "name": "stdout",
     "output_type": "stream",
     "text": [
      "Average gain by random features\n"
     ]
    },
    {
     "data": {
      "text/plain": [
       "2.151253079231709"
      ]
     },
     "execution_count": 38,
     "metadata": {},
     "output_type": "execute_result"
    }
   ],
   "source": [
    "print('Average gain by random features') \n",
    "np.mean(time_series_comparison_errors['Lin. Reg.']-time_series_comparison_errors['Lin. Reg. + RF'])"
   ]
  },
  {
   "cell_type": "markdown",
   "id": "d19a878c",
   "metadata": {},
   "source": [
    "What about the variance in the two model's errors?"
   ]
  },
  {
   "cell_type": "code",
   "execution_count": 39,
   "id": "3c6e974a",
   "metadata": {},
   "outputs": [
    {
     "name": "stdout",
     "output_type": "stream",
     "text": [
      "Variance\n"
     ]
    },
    {
     "data": {
      "text/plain": [
       "44.43945758761643"
      ]
     },
     "execution_count": 39,
     "metadata": {},
     "output_type": "execute_result"
    }
   ],
   "source": [
    "print('Variance')\n",
    "np.var(time_series_comparison_errors['Lin. Reg.']-time_series_comparison_errors['Lin. Reg. + RF'])"
   ]
  },
  {
   "cell_type": "markdown",
   "id": "6b77256f",
   "metadata": {},
   "source": [
    "How often are the random features paying off?"
   ]
  },
  {
   "cell_type": "code",
   "execution_count": 40,
   "id": "a97f456c",
   "metadata": {},
   "outputs": [
    {
     "name": "stdout",
     "output_type": "stream",
     "text": [
      "Linear Regression has a larger error\n",
      "0.6266666666666667\n",
      "percent of the time!\n"
     ]
    }
   ],
   "source": [
    "print('Linear Regression has a larger error')\n",
    "print(np.mean(time_series_comparison_errors['Lin. Reg.']>time_series_comparison_errors['Lin. Reg. + RF']))\n",
    "print('percent of the time!')"
   ]
  },
  {
   "cell_type": "markdown",
   "id": "46eb31b9",
   "metadata": {},
   "source": [
    "---"
   ]
  },
  {
   "cell_type": "markdown",
   "id": "b5a3f86c",
   "metadata": {},
   "source": [
    "# What conclusion do you draw?"
   ]
  }
 ],
 "metadata": {
  "kernelspec": {
   "display_name": "Python 3 (ipykernel)",
   "language": "python",
   "name": "python3"
  },
  "language_info": {
   "codemirror_mode": {
    "name": "ipython",
    "version": 3
   },
   "file_extension": ".py",
   "mimetype": "text/x-python",
   "name": "python",
   "nbconvert_exporter": "python",
   "pygments_lexer": "ipython3",
   "version": "3.9.12"
  }
 },
 "nbformat": 4,
 "nbformat_minor": 5
}
