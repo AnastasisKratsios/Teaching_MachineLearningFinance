{
 "cells": [
  {
   "cell_type": "markdown",
   "metadata": {},
   "source": [
    "# Introduction to Regression"
   ]
  },
  {
   "cell_type": "markdown",
   "metadata": {},
   "source": [
    "## Getting Started\n",
    "Let's start with the basics and some artificial data!"
   ]
  },
  {
   "cell_type": "markdown",
   "metadata": {},
   "source": [
    "### Initializations"
   ]
  },
  {
   "cell_type": "markdown",
   "metadata": {},
   "source": [
    "Initialize/Import some basic packages\n",
    "\n",
    "*Make sure to comment your code so you can remember what it does in 2+ days :P*"
   ]
  },
  {
   "cell_type": "code",
   "execution_count": 1,
   "metadata": {},
   "outputs": [],
   "source": [
    "import numpy as np\n",
    "import matplotlib.pyplot as plt\n",
    "import seaborn as sns\n",
    "import pandas as pd\n",
    "import math\n",
    "\n",
    "# Let's ignore warnings (they're annoying and we know what's up)\n",
    "import warnings\n",
    "warnings.filterwarnings(\"ignore\")"
   ]
  },
  {
   "cell_type": "markdown",
   "metadata": {},
   "source": [
    "ML Models"
   ]
  },
  {
   "cell_type": "code",
   "execution_count": 2,
   "metadata": {},
   "outputs": [],
   "source": [
    "from sklearn.linear_model import LinearRegression"
   ]
  },
  {
   "cell_type": "markdown",
   "metadata": {},
   "source": [
    "---\n",
    "\n",
    "Let's generate some fake data\n",
    "\n",
    "---"
   ]
  },
  {
   "cell_type": "markdown",
   "metadata": {},
   "source": [
    "Let's fix some parameters\n",
    "\n",
    "*Fixing things ahead of time will make it easy to modify our code on the fly!*"
   ]
  },
  {
   "cell_type": "code",
   "execution_count": 33,
   "metadata": {},
   "outputs": [],
   "source": [
    "# Number of training points\n",
    "N_train = 10\n",
    "N_test = 2\n",
    "# Dimension of Input Space\n",
    "d = 2"
   ]
  },
  {
   "cell_type": "markdown",
   "metadata": {},
   "source": [
    "#### Inputs"
   ]
  },
  {
   "cell_type": "code",
   "execution_count": 34,
   "metadata": {},
   "outputs": [
    {
     "name": "stdout",
     "output_type": "stream",
     "text": [
      "         x1        x2\n",
      "0 -0.460035  0.649084\n",
      "1  0.859329  0.798684\n",
      "2 -0.313424  1.671417\n",
      "3 -0.804363  0.586037\n",
      "4  1.334410 -0.154069\n",
      "5  0.128972  0.170232\n",
      "6 -1.310519  0.293022\n",
      "7  1.129819 -0.309892\n",
      "8 -1.138263 -0.329053\n",
      "9  0.164333  2.270720\n"
     ]
    },
    {
     "data": {
      "text/html": [
       "<div>\n",
       "<style scoped>\n",
       "    .dataframe tbody tr th:only-of-type {\n",
       "        vertical-align: middle;\n",
       "    }\n",
       "\n",
       "    .dataframe tbody tr th {\n",
       "        vertical-align: top;\n",
       "    }\n",
       "\n",
       "    .dataframe thead th {\n",
       "        text-align: right;\n",
       "    }\n",
       "</style>\n",
       "<table border=\"1\" class=\"dataframe\">\n",
       "  <thead>\n",
       "    <tr style=\"text-align: right;\">\n",
       "      <th></th>\n",
       "      <th>x1</th>\n",
       "      <th>x2</th>\n",
       "    </tr>\n",
       "  </thead>\n",
       "  <tbody>\n",
       "    <tr>\n",
       "      <th>0</th>\n",
       "      <td>-0.082258</td>\n",
       "      <td>1.044240</td>\n",
       "    </tr>\n",
       "    <tr>\n",
       "      <th>1</th>\n",
       "      <td>1.610022</td>\n",
       "      <td>1.365917</td>\n",
       "    </tr>\n",
       "  </tbody>\n",
       "</table>\n",
       "</div>"
      ],
      "text/plain": [
       "         x1        x2\n",
       "0 -0.082258  1.044240\n",
       "1  1.610022  1.365917"
      ]
     },
     "execution_count": 34,
     "metadata": {},
     "output_type": "execute_result"
    }
   ],
   "source": [
    "# Training Set\n",
    "\n",
    "## A Random set of N inputs in 2 dimensions\n",
    "X_train = np.random.normal(0,1,np.array([N_train,d]))\n",
    "## 1) We'll convert to pandas object type since it's easier to work with than numpy (in these cases)\n",
    "## 2) We'll name our columns\n",
    "X_train = pd.DataFrame(X_train,columns=['x1','x2'])\n",
    "## View our Dataframe (to make sure there arent' any coding erros)\n",
    "print(X_train)\n",
    "\n",
    "# Testing Set\n",
    "X_test = np.random.normal(0,1,np.array([N_test,d]))\n",
    "## 1) We'll convert to pandas object type since it's easier to work with than numpy (in these cases)\n",
    "## 2) We'll name our columns\n",
    "X_test = pd.DataFrame(X_test,columns=['x1','x2'])\n",
    "## View our Dataframe (to make sure there arent' any coding erros)\n",
    "X_test"
   ]
  },
  {
   "cell_type": "markdown",
   "metadata": {},
   "source": [
    "#### Outputs\n",
    "We'll consider the simple (noisless) linear target model\n",
    "$$\n",
    "y_n = 2\\,x_1 + x_2\n",
    "$$"
   ]
  },
  {
   "cell_type": "code",
   "execution_count": 35,
   "metadata": {},
   "outputs": [
    {
     "name": "stdout",
     "output_type": "stream",
     "text": [
      "          Y\n",
      "0 -0.270986\n",
      "1  2.517343\n",
      "2  1.044569\n",
      "3 -1.022689\n",
      "4  2.514751\n",
      "5  0.428176\n",
      "6 -2.328015\n",
      "7  1.949746\n",
      "8 -2.605579\n",
      "9  2.599385\n"
     ]
    },
    {
     "data": {
      "text/html": [
       "<div>\n",
       "<style scoped>\n",
       "    .dataframe tbody tr th:only-of-type {\n",
       "        vertical-align: middle;\n",
       "    }\n",
       "\n",
       "    .dataframe tbody tr th {\n",
       "        vertical-align: top;\n",
       "    }\n",
       "\n",
       "    .dataframe thead th {\n",
       "        text-align: right;\n",
       "    }\n",
       "</style>\n",
       "<table border=\"1\" class=\"dataframe\">\n",
       "  <thead>\n",
       "    <tr style=\"text-align: right;\">\n",
       "      <th></th>\n",
       "      <th>Y</th>\n",
       "    </tr>\n",
       "  </thead>\n",
       "  <tbody>\n",
       "    <tr>\n",
       "      <th>0</th>\n",
       "      <td>0.879725</td>\n",
       "    </tr>\n",
       "    <tr>\n",
       "      <th>1</th>\n",
       "      <td>4.585961</td>\n",
       "    </tr>\n",
       "  </tbody>\n",
       "</table>\n",
       "</div>"
      ],
      "text/plain": [
       "          Y\n",
       "0  0.879725\n",
       "1  4.585961"
      ]
     },
     "execution_count": 35,
     "metadata": {},
     "output_type": "execute_result"
    }
   ],
   "source": [
    "# Train\n",
    "\n",
    "## Initialize our target dataframe\n",
    "Y_train = X_train.copy()\n",
    "## We first multiply the first row of our Pandas Dataframe by 2 (note the above equation)\n",
    "Y_train['x1'] = Y_train['x1'].apply(lambda x: 2*x)\n",
    "## We'll sum across the rows of our dataframe\n",
    "Y_train = pd.DataFrame(Y_train.sum(axis = 1),columns=['Y'])\n",
    "## Visualize to check there are no coding errors!\n",
    "print(Y_train)\n",
    "\n",
    "# Test\n",
    "## Initialize our target dataframe\n",
    "Y_test = X_test.copy()\n",
    "## We first multiply the first row of our Pandas Dataframe by 2 (note the above equation)\n",
    "Y_test['x1'] = Y_test['x1'].apply(lambda x: 2*x)\n",
    "## We'll sum across the rows of our dataframe\n",
    "Y_test = pd.DataFrame(Y_test.sum(axis = 1),columns=['Y'])\n",
    "Y_test"
   ]
  },
  {
   "cell_type": "markdown",
   "metadata": {},
   "source": [
    "#### Building and Training our Regression Model"
   ]
  },
  {
   "cell_type": "code",
   "execution_count": 36,
   "metadata": {},
   "outputs": [],
   "source": [
    "model = LinearRegression()"
   ]
  },
  {
   "cell_type": "markdown",
   "metadata": {},
   "source": [
    "First we train our model, with the \"training\" (a.k.a. in-sample) data."
   ]
  },
  {
   "cell_type": "code",
   "execution_count": 37,
   "metadata": {},
   "outputs": [
    {
     "data": {
      "text/html": [
       "<style>#sk-container-id-3 {color: black;background-color: white;}#sk-container-id-3 pre{padding: 0;}#sk-container-id-3 div.sk-toggleable {background-color: white;}#sk-container-id-3 label.sk-toggleable__label {cursor: pointer;display: block;width: 100%;margin-bottom: 0;padding: 0.3em;box-sizing: border-box;text-align: center;}#sk-container-id-3 label.sk-toggleable__label-arrow:before {content: \"▸\";float: left;margin-right: 0.25em;color: #696969;}#sk-container-id-3 label.sk-toggleable__label-arrow:hover:before {color: black;}#sk-container-id-3 div.sk-estimator:hover label.sk-toggleable__label-arrow:before {color: black;}#sk-container-id-3 div.sk-toggleable__content {max-height: 0;max-width: 0;overflow: hidden;text-align: left;background-color: #f0f8ff;}#sk-container-id-3 div.sk-toggleable__content pre {margin: 0.2em;color: black;border-radius: 0.25em;background-color: #f0f8ff;}#sk-container-id-3 input.sk-toggleable__control:checked~div.sk-toggleable__content {max-height: 200px;max-width: 100%;overflow: auto;}#sk-container-id-3 input.sk-toggleable__control:checked~label.sk-toggleable__label-arrow:before {content: \"▾\";}#sk-container-id-3 div.sk-estimator input.sk-toggleable__control:checked~label.sk-toggleable__label {background-color: #d4ebff;}#sk-container-id-3 div.sk-label input.sk-toggleable__control:checked~label.sk-toggleable__label {background-color: #d4ebff;}#sk-container-id-3 input.sk-hidden--visually {border: 0;clip: rect(1px 1px 1px 1px);clip: rect(1px, 1px, 1px, 1px);height: 1px;margin: -1px;overflow: hidden;padding: 0;position: absolute;width: 1px;}#sk-container-id-3 div.sk-estimator {font-family: monospace;background-color: #f0f8ff;border: 1px dotted black;border-radius: 0.25em;box-sizing: border-box;margin-bottom: 0.5em;}#sk-container-id-3 div.sk-estimator:hover {background-color: #d4ebff;}#sk-container-id-3 div.sk-parallel-item::after {content: \"\";width: 100%;border-bottom: 1px solid gray;flex-grow: 1;}#sk-container-id-3 div.sk-label:hover label.sk-toggleable__label {background-color: #d4ebff;}#sk-container-id-3 div.sk-serial::before {content: \"\";position: absolute;border-left: 1px solid gray;box-sizing: border-box;top: 0;bottom: 0;left: 50%;z-index: 0;}#sk-container-id-3 div.sk-serial {display: flex;flex-direction: column;align-items: center;background-color: white;padding-right: 0.2em;padding-left: 0.2em;position: relative;}#sk-container-id-3 div.sk-item {position: relative;z-index: 1;}#sk-container-id-3 div.sk-parallel {display: flex;align-items: stretch;justify-content: center;background-color: white;position: relative;}#sk-container-id-3 div.sk-item::before, #sk-container-id-3 div.sk-parallel-item::before {content: \"\";position: absolute;border-left: 1px solid gray;box-sizing: border-box;top: 0;bottom: 0;left: 50%;z-index: -1;}#sk-container-id-3 div.sk-parallel-item {display: flex;flex-direction: column;z-index: 1;position: relative;background-color: white;}#sk-container-id-3 div.sk-parallel-item:first-child::after {align-self: flex-end;width: 50%;}#sk-container-id-3 div.sk-parallel-item:last-child::after {align-self: flex-start;width: 50%;}#sk-container-id-3 div.sk-parallel-item:only-child::after {width: 0;}#sk-container-id-3 div.sk-dashed-wrapped {border: 1px dashed gray;margin: 0 0.4em 0.5em 0.4em;box-sizing: border-box;padding-bottom: 0.4em;background-color: white;}#sk-container-id-3 div.sk-label label {font-family: monospace;font-weight: bold;display: inline-block;line-height: 1.2em;}#sk-container-id-3 div.sk-label-container {text-align: center;}#sk-container-id-3 div.sk-container {/* jupyter's `normalize.less` sets `[hidden] { display: none; }` but bootstrap.min.css set `[hidden] { display: none !important; }` so we also need the `!important` here to be able to override the default hidden behavior on the sphinx rendered scikit-learn.org. See: https://github.com/scikit-learn/scikit-learn/issues/21755 */display: inline-block !important;position: relative;}#sk-container-id-3 div.sk-text-repr-fallback {display: none;}</style><div id=\"sk-container-id-3\" class=\"sk-top-container\"><div class=\"sk-text-repr-fallback\"><pre>LinearRegression()</pre><b>In a Jupyter environment, please rerun this cell to show the HTML representation or trust the notebook. <br />On GitHub, the HTML representation is unable to render, please try loading this page with nbviewer.org.</b></div><div class=\"sk-container\" hidden><div class=\"sk-item\"><div class=\"sk-estimator sk-toggleable\"><input class=\"sk-toggleable__control sk-hidden--visually\" id=\"sk-estimator-id-3\" type=\"checkbox\" checked><label for=\"sk-estimator-id-3\" class=\"sk-toggleable__label sk-toggleable__label-arrow\">LinearRegression</label><div class=\"sk-toggleable__content\"><pre>LinearRegression()</pre></div></div></div></div></div>"
      ],
      "text/plain": [
       "LinearRegression()"
      ]
     },
     "execution_count": 37,
     "metadata": {},
     "output_type": "execute_result"
    }
   ],
   "source": [
    "model.fit(X_train, Y_train)"
   ]
  },
  {
   "cell_type": "markdown",
   "metadata": {},
   "source": [
    "Now we'll predict the test data given our input train data!"
   ]
  },
  {
   "cell_type": "code",
   "execution_count": 41,
   "metadata": {},
   "outputs": [
    {
     "data": {
      "text/plain": [
       "array([0.87972473, 4.58596111])"
      ]
     },
     "execution_count": 41,
     "metadata": {},
     "output_type": "execute_result"
    }
   ],
   "source": [
    "# Generate Prediction\n",
    "Yhat_test = model.predict(X_test)\n",
    "# Convert to \"vector shape\"\n",
    "Yhat_test = Yhat_test.reshape([-1,])\n",
    "# Visualize to make sure things look okay!\n",
    "Yhat_test"
   ]
  },
  {
   "cell_type": "markdown",
   "metadata": {},
   "source": [
    "We'll record our training performance while we're at it also."
   ]
  },
  {
   "cell_type": "code",
   "execution_count": 42,
   "metadata": {},
   "outputs": [
    {
     "data": {
      "text/plain": [
       "array([-0.27098587,  2.51734322,  1.04456906, -1.02268879,  2.51475066,\n",
       "        0.42817569, -2.32801519,  1.94974587, -2.60557871,  2.59938523])"
      ]
     },
     "execution_count": 42,
     "metadata": {},
     "output_type": "execute_result"
    }
   ],
   "source": [
    "# Generate Prediction\n",
    "Yhat_train = model.predict(X_train)\n",
    "# Convert to \"vector shape\"\n",
    "Yhat_train = Yhat_train.reshape([-1,])\n",
    "# Visualize to make sure things look okay!\n",
    "Yhat_train"
   ]
  },
  {
   "cell_type": "markdown",
   "metadata": {},
   "source": [
    "---"
   ]
  },
  {
   "cell_type": "markdown",
   "metadata": {},
   "source": [
    "### Let's do it with real data.\n",
    "\n",
    "Let's pull data from Yahoo finance."
   ]
  },
  {
   "cell_type": "code",
   "execution_count": 43,
   "metadata": {},
   "outputs": [],
   "source": [
    "# This package pulls, data from finance\n",
    "import yfinance as yf"
   ]
  },
  {
   "cell_type": "markdown",
   "metadata": {},
   "source": [
    "We will pull, google stock's daily closing prices from Yahoo finance as covariates.\n",
    "The targets will be Google's next day price using apple's closing price from the day before:)\n",
    "\n",
    "We'll train on a daily 3 year period!"
   ]
  },
  {
   "cell_type": "code",
   "execution_count": 45,
   "metadata": {},
   "outputs": [
    {
     "name": "stdout",
     "output_type": "stream",
     "text": [
      "[*********************100%***********************]  1 of 1 completed\n",
      "Tail\n",
      "                 Open       High        Low      Close  Adj Close    Volume\n",
      "Date                                                                       \n",
      "2020-12-22  86.721497  86.870247  85.628754  86.175003  86.175003  18734000\n",
      "2020-12-23  86.405502  87.399498  86.251999  86.619003  86.619003  20676000\n",
      "2020-12-24  86.750000  87.300003  86.455498  86.942497  86.942497   6936000\n",
      "2020-12-28  87.581749  89.536400  87.316750  88.804497  88.804497  27860000\n",
      "2020-12-29  89.389503  89.622002  87.804497  87.935997  87.935997  25988000\n",
      "Head\n",
      "                 Open       High        Low      Close  Adj Close    Volume\n",
      "Date                                                                       \n",
      "2018-01-03  53.215500  54.314499  53.160500  54.124001  54.124001  28604000\n",
      "2018-01-04  54.400002  54.678501  54.200100  54.320000  54.320000  20092000\n",
      "2018-01-05  54.700001  55.212502  54.599998  55.111500  55.111500  25582000\n",
      "2018-01-08  55.111500  55.563499  55.081001  55.347000  55.347000  20952000\n",
      "2018-01-09  55.470001  55.528500  55.061550  55.313000  55.313000  18050000\n",
      "[*********************100%***********************]  1 of 1 completed\n",
      "Tail\n",
      "                  Open        High         Low       Close   Adj Close  \\\n",
      "Date                                                                     \n",
      "2020-12-21  125.019997  128.309998  123.449997  128.229996  126.919128   \n",
      "2020-12-22  131.610001  134.410004  129.649994  131.880005  130.531815   \n",
      "2020-12-23  132.160004  132.429993  130.779999  130.960007  129.621231   \n",
      "2020-12-24  131.320007  133.460007  131.100006  131.970001  130.620911   \n",
      "2020-12-28  133.990005  137.339996  133.509995  136.690002  135.292664   \n",
      "\n",
      "               Volume  \n",
      "Date                   \n",
      "2020-12-21  121251600  \n",
      "2020-12-22  168904800  \n",
      "2020-12-23   88223700  \n",
      "2020-12-24   54930100  \n",
      "2020-12-28  124486200  \n",
      "Head\n",
      "                 Open       High        Low      Close  Adj Close     Volume\n",
      "Date                                                                        \n",
      "2018-01-02  42.540001  43.075001  42.314999  43.064999  41.018429  102223600\n",
      "2018-01-03  43.132500  43.637501  42.990002  43.057499  41.011280  118071600\n",
      "2018-01-04  43.134998  43.367500  43.020000  43.257500  41.201782   89738400\n",
      "2018-01-05  43.360001  43.842499  43.262501  43.750000  41.670872   94640000\n",
      "2018-01-08  43.587502  43.902500  43.482498  43.587502  41.516098   82271200\n"
     ]
    }
   ],
   "source": [
    "# Pull\n",
    "Y_data_raw = yf.download('GOOG','2018-01-03','2020-12-30')\n",
    "# check\n",
    "print('Tail')\n",
    "print(Y_data_raw.tail())\n",
    "print('Head')\n",
    "print(Y_data_raw.head())\n",
    "\n",
    "# Pull Covariates\n",
    "X_data_raw = yf.download('AAPL','2018-01-02','2020-12-29')\n",
    "# check\n",
    "print('Tail')\n",
    "print(X_data_raw.tail())\n",
    "print('Head')\n",
    "print(X_data_raw.head())"
   ]
  },
  {
   "cell_type": "code",
   "execution_count": 49,
   "metadata": {},
   "outputs": [
    {
     "name": "stdout",
     "output_type": "stream",
     "text": [
      "(753, 1)\n",
      "(753, 1)\n"
     ]
    }
   ],
   "source": [
    "# 1) Keep only the Closing Prices as covariates\n",
    "# 2) Convert to Dataframe type (Manipulation of data is easier for this object class; as opposed to numpy arrays)\n",
    "Y = pd.DataFrame(Y_data_raw.Close)\n",
    "X = pd.DataFrame(X_data_raw.Close)\n",
    "\n",
    "# Just double-check arrays are of the same size (note Jan. 1rst is a holiday)\n",
    "print(X.shape)\n",
    "print(Y.shape)"
   ]
  },
  {
   "cell_type": "markdown",
   "metadata": {},
   "source": [
    "Let's visualize things"
   ]
  },
  {
   "cell_type": "code",
   "execution_count": 50,
   "metadata": {},
   "outputs": [
    {
     "data": {
      "text/plain": [
       "[<matplotlib.lines.Line2D at 0x7f544fe09ee0>]"
      ]
     },
     "execution_count": 50,
     "metadata": {},
     "output_type": "execute_result"
    },
    {
     "data": {
      "image/png": "[encoded data removed]",
      "text/plain": [
       "<Figure size 432x288 with 1 Axes>"
      ]
     },
     "metadata": {},
     "output_type": "display_data"
    }
   ],
   "source": [
    "# Activate Seaborn (<- this makes plots pretty :3)\n",
    "sns.set()\n",
    "\n",
    "# Plot!\n",
    "plt.plot(Y)\n",
    "plt.plot(X)"
   ]
  },
  {
   "cell_type": "markdown",
   "metadata": {},
   "source": [
    "Let's make the last 20 days \"invisible\" and use them as our testing set (we'll pretend those are the too be predicted prices!)."
   ]
  },
  {
   "cell_type": "code",
   "execution_count": 51,
   "metadata": {},
   "outputs": [
    {
     "name": "stdout",
     "output_type": "stream",
     "text": [
      "Check Train\n",
      "(653, 1)\n",
      "                Close\n",
      "Date                 \n",
      "2018-01-02  43.064999\n",
      "2018-01-03  43.057499\n",
      "2018-01-04  43.257500\n",
      "2018-01-05  43.750000\n",
      "2018-01-08  43.587502\n",
      "Check Test\n",
      "(100, 1)\n"
     ]
    },
    {
     "data": {
      "text/html": [
       "<div>\n",
       "<style scoped>\n",
       "    .dataframe tbody tr th:only-of-type {\n",
       "        vertical-align: middle;\n",
       "    }\n",
       "\n",
       "    .dataframe tbody tr th {\n",
       "        vertical-align: top;\n",
       "    }\n",
       "\n",
       "    .dataframe thead th {\n",
       "        text-align: right;\n",
       "    }\n",
       "</style>\n",
       "<table border=\"1\" class=\"dataframe\">\n",
       "  <thead>\n",
       "    <tr style=\"text-align: right;\">\n",
       "      <th></th>\n",
       "      <th>Close</th>\n",
       "    </tr>\n",
       "    <tr>\n",
       "      <th>Date</th>\n",
       "      <th></th>\n",
       "    </tr>\n",
       "  </thead>\n",
       "  <tbody>\n",
       "    <tr>\n",
       "      <th>2018-01-02</th>\n",
       "      <td>43.064999</td>\n",
       "    </tr>\n",
       "    <tr>\n",
       "      <th>2018-01-03</th>\n",
       "      <td>43.057499</td>\n",
       "    </tr>\n",
       "    <tr>\n",
       "      <th>2018-01-04</th>\n",
       "      <td>43.257500</td>\n",
       "    </tr>\n",
       "    <tr>\n",
       "      <th>2018-01-05</th>\n",
       "      <td>43.750000</td>\n",
       "    </tr>\n",
       "    <tr>\n",
       "      <th>2018-01-08</th>\n",
       "      <td>43.587502</td>\n",
       "    </tr>\n",
       "  </tbody>\n",
       "</table>\n",
       "</div>"
      ],
      "text/plain": [
       "                Close\n",
       "Date                 \n",
       "2018-01-02  43.064999\n",
       "2018-01-03  43.057499\n",
       "2018-01-04  43.257500\n",
       "2018-01-05  43.750000\n",
       "2018-01-08  43.587502"
      ]
     },
     "execution_count": 51,
     "metadata": {},
     "output_type": "execute_result"
    }
   ],
   "source": [
    "# Number of training points\n",
    "N_test = 10**2\n",
    "\n",
    "# Build Train\n",
    "Y_train = Y[:-N_test]\n",
    "X_train = X[:-N_test]\n",
    "\n",
    "# Build Test\n",
    "Y_test = Y[:N_test]\n",
    "X_test = X[:N_test]\n",
    "\n",
    "\n",
    "# Visualize Dataframe Dimensions (make sure things are running reasonably!)\n",
    "print('Check Train')\n",
    "print(X_train.shape)\n",
    "print(X_train.head())\n",
    "print('Check Test')\n",
    "print(X_test.shape)\n",
    "X_test.head()"
   ]
  },
  {
   "cell_type": "markdown",
   "metadata": {},
   "source": [
    "#### Building and Training our Regression Model"
   ]
  },
  {
   "cell_type": "code",
   "execution_count": 52,
   "metadata": {},
   "outputs": [],
   "source": [
    "model = LinearRegression()"
   ]
  },
  {
   "cell_type": "markdown",
   "metadata": {},
   "source": [
    "First we train our model, with the \"training\" (a.k.a. in-sample) data."
   ]
  },
  {
   "cell_type": "code",
   "execution_count": 53,
   "metadata": {},
   "outputs": [
    {
     "data": {
      "text/html": [
       "<style>#sk-container-id-4 {color: black;background-color: white;}#sk-container-id-4 pre{padding: 0;}#sk-container-id-4 div.sk-toggleable {background-color: white;}#sk-container-id-4 label.sk-toggleable__label {cursor: pointer;display: block;width: 100%;margin-bottom: 0;padding: 0.3em;box-sizing: border-box;text-align: center;}#sk-container-id-4 label.sk-toggleable__label-arrow:before {content: \"▸\";float: left;margin-right: 0.25em;color: #696969;}#sk-container-id-4 label.sk-toggleable__label-arrow:hover:before {color: black;}#sk-container-id-4 div.sk-estimator:hover label.sk-toggleable__label-arrow:before {color: black;}#sk-container-id-4 div.sk-toggleable__content {max-height: 0;max-width: 0;overflow: hidden;text-align: left;background-color: #f0f8ff;}#sk-container-id-4 div.sk-toggleable__content pre {margin: 0.2em;color: black;border-radius: 0.25em;background-color: #f0f8ff;}#sk-container-id-4 input.sk-toggleable__control:checked~div.sk-toggleable__content {max-height: 200px;max-width: 100%;overflow: auto;}#sk-container-id-4 input.sk-toggleable__control:checked~label.sk-toggleable__label-arrow:before {content: \"▾\";}#sk-container-id-4 div.sk-estimator input.sk-toggleable__control:checked~label.sk-toggleable__label {background-color: #d4ebff;}#sk-container-id-4 div.sk-label input.sk-toggleable__control:checked~label.sk-toggleable__label {background-color: #d4ebff;}#sk-container-id-4 input.sk-hidden--visually {border: 0;clip: rect(1px 1px 1px 1px);clip: rect(1px, 1px, 1px, 1px);height: 1px;margin: -1px;overflow: hidden;padding: 0;position: absolute;width: 1px;}#sk-container-id-4 div.sk-estimator {font-family: monospace;background-color: #f0f8ff;border: 1px dotted black;border-radius: 0.25em;box-sizing: border-box;margin-bottom: 0.5em;}#sk-container-id-4 div.sk-estimator:hover {background-color: #d4ebff;}#sk-container-id-4 div.sk-parallel-item::after {content: \"\";width: 100%;border-bottom: 1px solid gray;flex-grow: 1;}#sk-container-id-4 div.sk-label:hover label.sk-toggleable__label {background-color: #d4ebff;}#sk-container-id-4 div.sk-serial::before {content: \"\";position: absolute;border-left: 1px solid gray;box-sizing: border-box;top: 0;bottom: 0;left: 50%;z-index: 0;}#sk-container-id-4 div.sk-serial {display: flex;flex-direction: column;align-items: center;background-color: white;padding-right: 0.2em;padding-left: 0.2em;position: relative;}#sk-container-id-4 div.sk-item {position: relative;z-index: 1;}#sk-container-id-4 div.sk-parallel {display: flex;align-items: stretch;justify-content: center;background-color: white;position: relative;}#sk-container-id-4 div.sk-item::before, #sk-container-id-4 div.sk-parallel-item::before {content: \"\";position: absolute;border-left: 1px solid gray;box-sizing: border-box;top: 0;bottom: 0;left: 50%;z-index: -1;}#sk-container-id-4 div.sk-parallel-item {display: flex;flex-direction: column;z-index: 1;position: relative;background-color: white;}#sk-container-id-4 div.sk-parallel-item:first-child::after {align-self: flex-end;width: 50%;}#sk-container-id-4 div.sk-parallel-item:last-child::after {align-self: flex-start;width: 50%;}#sk-container-id-4 div.sk-parallel-item:only-child::after {width: 0;}#sk-container-id-4 div.sk-dashed-wrapped {border: 1px dashed gray;margin: 0 0.4em 0.5em 0.4em;box-sizing: border-box;padding-bottom: 0.4em;background-color: white;}#sk-container-id-4 div.sk-label label {font-family: monospace;font-weight: bold;display: inline-block;line-height: 1.2em;}#sk-container-id-4 div.sk-label-container {text-align: center;}#sk-container-id-4 div.sk-container {/* jupyter's `normalize.less` sets `[hidden] { display: none; }` but bootstrap.min.css set `[hidden] { display: none !important; }` so we also need the `!important` here to be able to override the default hidden behavior on the sphinx rendered scikit-learn.org. See: https://github.com/scikit-learn/scikit-learn/issues/21755 */display: inline-block !important;position: relative;}#sk-container-id-4 div.sk-text-repr-fallback {display: none;}</style><div id=\"sk-container-id-4\" class=\"sk-top-container\"><div class=\"sk-text-repr-fallback\"><pre>LinearRegression()</pre><b>In a Jupyter environment, please rerun this cell to show the HTML representation or trust the notebook. <br />On GitHub, the HTML representation is unable to render, please try loading this page with nbviewer.org.</b></div><div class=\"sk-container\" hidden><div class=\"sk-item\"><div class=\"sk-estimator sk-toggleable\"><input class=\"sk-toggleable__control sk-hidden--visually\" id=\"sk-estimator-id-4\" type=\"checkbox\" checked><label for=\"sk-estimator-id-4\" class=\"sk-toggleable__label sk-toggleable__label-arrow\">LinearRegression</label><div class=\"sk-toggleable__content\"><pre>LinearRegression()</pre></div></div></div></div></div>"
      ],
      "text/plain": [
       "LinearRegression()"
      ]
     },
     "execution_count": 53,
     "metadata": {},
     "output_type": "execute_result"
    }
   ],
   "source": [
    "model.fit(X_train, Y_train)"
   ]
  },
  {
   "cell_type": "markdown",
   "metadata": {},
   "source": [
    "Now we'll predict the test data given our input train data!"
   ]
  },
  {
   "cell_type": "code",
   "execution_count": 54,
   "metadata": {},
   "outputs": [
    {
     "data": {
      "text/plain": [
       "array([54.71761996, 54.7145467 , 54.79650399, 54.99832318, 54.93173376,\n",
       "       54.92968439, 54.92558567, 55.027008  , 55.21243541, 55.12023444,\n",
       "       55.41835333, 55.43474353, 55.35278781, 55.20321563, 55.20731279,\n",
       "       54.91841525, 54.59980742, 54.64078529, 54.27710244, 54.17568011,\n",
       "       54.2228045 , 54.25866131, 53.51285291, 53.10204411, 53.77204173,\n",
       "       53.41450385, 52.96476498, 53.09384822, 53.73925976, 53.90624604,\n",
       "       54.21665798, 54.79240683, 54.73503563, 54.67561819, 54.59571026,\n",
       "       54.74220761, 55.04954629, 55.40503482, 55.34561582, 55.3179549 ,\n",
       "       54.99832318, 55.1222838 , 55.18477606, 55.16940819, 55.00139644,\n",
       "       55.1970691 , 55.50850494, 55.68676194, 55.50748104, 55.35073844,\n",
       "       55.37225127, 55.30771122, 55.02905736, 55.02291083, 54.61619919,\n",
       "       54.36827952, 53.9677144 , 54.76986853, 54.31603094, 54.1254809 ,\n",
       "       54.25866131, 54.14596983, 54.32115357, 54.65103054, 54.77294179,\n",
       "       54.32012967, 54.49121467, 54.81904228, 54.73606109, 54.91021936,\n",
       "       54.97066226, 55.08232983, 55.33024951, 55.28927008, 54.77294179,\n",
       "       54.04762233, 53.99844858, 53.76282195, 53.83555789, 53.89395299,\n",
       "       53.69930579, 54.00049638, 54.39389107, 55.1591645 , 55.19194648,\n",
       "       55.90292354, 56.0391772 , 56.13035428, 56.26455859, 56.53911372,\n",
       "       56.39056701, 56.34549042, 56.17030825, 56.34856368, 56.22665398,\n",
       "       56.15698974, 56.2922195 , 56.24406965, 56.36700481, 56.34549042])"
      ]
     },
     "execution_count": 54,
     "metadata": {},
     "output_type": "execute_result"
    }
   ],
   "source": [
    "# Generate Prediction\n",
    "Yhat_test = model.predict(X_test)\n",
    "# Convert to \"vector shape\"\n",
    "Yhat_test = Yhat_test.reshape([-1,])\n",
    "# Visualize to make sure things look okay!\n",
    "Yhat_test"
   ]
  },
  {
   "cell_type": "markdown",
   "metadata": {},
   "source": [
    "We'll record our training performance while we're at it also."
   ]
  },
  {
   "cell_type": "code",
   "execution_count": 55,
   "metadata": {},
   "outputs": [
    {
     "data": {
      "text/plain": [
       "array([54.71761996, 54.7145467 , 54.79650399, 54.99832318, 54.93173376,\n",
       "       54.92968439, 54.92558567, 55.027008  , 55.21243541, 55.12023444,\n",
       "       55.41835333, 55.43474353, 55.35278781, 55.20321563, 55.20731279,\n",
       "       54.91841525, 54.59980742, 54.64078529, 54.27710244, 54.17568011,\n",
       "       54.2228045 , 54.25866131, 53.51285291, 53.10204411, 53.77204173,\n",
       "       53.41450385, 52.96476498, 53.09384822, 53.73925976, 53.90624604,\n",
       "       54.21665798, 54.79240683, 54.73503563, 54.67561819, 54.59571026,\n",
       "       54.74220761, 55.04954629, 55.40503482, 55.34561582, 55.3179549 ,\n",
       "       54.99832318, 55.1222838 , 55.18477606, 55.16940819, 55.00139644,\n",
       "       55.1970691 , 55.50850494, 55.68676194, 55.50748104, 55.35073844,\n",
       "       55.37225127, 55.30771122, 55.02905736, 55.02291083, 54.61619919,\n",
       "       54.36827952, 53.9677144 , 54.76986853, 54.31603094, 54.1254809 ,\n",
       "       54.25866131, 54.14596983, 54.32115357, 54.65103054, 54.77294179,\n",
       "       54.32012967, 54.49121467, 54.81904228, 54.73606109, 54.91021936,\n",
       "       54.97066226, 55.08232983, 55.33024951, 55.28927008, 54.77294179,\n",
       "       54.04762233, 53.99844858, 53.76282195, 53.83555789, 53.89395299,\n",
       "       53.69930579, 54.00049638, 54.39389107, 55.1591645 , 55.19194648,\n",
       "       55.90292354, 56.0391772 , 56.13035428, 56.26455859, 56.53911372,\n",
       "       56.39056701, 56.34549042, 56.17030825, 56.34856368, 56.22665398,\n",
       "       56.15698974, 56.2922195 , 56.24406965, 56.36700481, 56.34549042,\n",
       "       56.38954311, 56.31987886, 56.27890099, 56.21435937, 56.55960421,\n",
       "       56.72249334, 56.87411331, 56.9427521 , 56.88948119, 56.70917483,\n",
       "       56.66102498, 56.76859383, 56.6067286 , 56.61697385, 56.41617856,\n",
       "       56.40593488, 56.09347358, 56.17645477, 56.06991138, 56.01458955,\n",
       "       55.73286243, 55.96439033, 55.93673098, 56.07400854, 56.03405458,\n",
       "       56.24611745, 55.91214332, 56.0637633 , 56.32705085, 56.59443556,\n",
       "       56.57087336, 56.31783106, 56.64053605, 56.67127023, 56.628243  ,\n",
       "       56.68356327, 56.57599442, 56.72761596, 56.68253937, 56.69995504,\n",
       "       56.84235523, 57.02880811, 56.96631585, 56.63541342, 56.52579677,\n",
       "       56.56472528, 57.71314815, 58.31655635, 58.37802472, 58.48866683,\n",
       "       58.28787154, 58.30221395, 58.46920179, 58.33089876, 58.46817633,\n",
       "       58.55832951, 58.60852872, 58.92406328, 59.36048364, 59.14329814,\n",
       "       59.10026935, 59.10129482, 59.14637141, 59.21501019, 59.39736435,\n",
       "       59.57766914, 59.91369263, 60.12370771, 60.39006852, 60.46485383,\n",
       "       60.31220839, 59.92598724, 59.74158372, 59.43731831, 60.00282191,\n",
       "       59.71802153, 60.265084  , 60.00179645, 59.39121782, 59.42809853,\n",
       "       59.44141547, 59.61147658, 59.36867953, 59.68933515, 59.8327608 ,\n",
       "       59.65143055, 60.11551182, 60.19644522, 60.35216235, 60.55910417,\n",
       "       60.84493001, 60.42694922, 60.04789694, 59.99462603, 60.31220839,\n",
       "       59.23549912, 59.03982646, 59.82456492, 59.33794535, 59.82866208,\n",
       "       59.73031458, 59.20066778, 59.53771517, 59.67499274, 59.88808108,\n",
       "       59.10539198, 59.58791439, 59.2293526 , 58.81342117, 58.92201392,\n",
       "       59.49161468, 59.83583406, 58.32577614, 57.72236794, 57.94570152,\n",
       "       58.57881844, 58.42924783, 58.01741356, 56.96221713, 56.7634712 ,\n",
       "       56.20718895, 56.67946611, 56.89665161, 56.11088925, 55.20116627,\n",
       "       55.18067733, 54.72069322, 54.95939311, 54.92046461, 55.60685401,\n",
       "       55.46445382, 55.36508085, 56.00434586, 55.17145755, 54.96963836,\n",
       "       54.33139881, 54.44511419, 54.34574122, 54.39389107, 54.58341565,\n",
       "       54.02303467, 53.86526817, 54.08347914, 53.55280687, 53.13687545,\n",
       "       52.51195285, 52.1124132 , 53.17170679, 53.0672112 , 53.07540709,\n",
       "       53.23010189, 53.24854146, 51.63706277, 52.25891055, 52.22510311,\n",
       "       52.51400221, 52.7762643 , 52.82646351, 52.67176871, 52.43716754,\n",
       "       52.75167821, 52.94325215, 53.03750249, 53.13585155, 52.7752404 ,\n",
       "       52.83875656, 52.71377204, 53.23214969, 53.08257908, 52.91661513,\n",
       "       53.99947248, 54.12138374, 54.12957962, 54.61414983, 54.91431652,\n",
       "       54.92046461, 54.58239175, 54.52809538, 54.42769695, 54.57726913,\n",
       "       54.50453162, 54.56804934, 54.52911928, 54.58136629, 54.69405776,\n",
       "       54.5946848 , 54.79035747, 54.91943915, 54.92968439, 54.98500467,\n",
       "       54.80879704, 54.99524992, 55.08540309, 55.05261955, 54.94914943,\n",
       "       54.74220761, 54.78421094, 55.39786283, 55.60378074, 55.68573804,\n",
       "       55.89267829, 56.1375247 , 56.33217347, 56.17952803, 56.34651588,\n",
       "       57.05646747, 56.64258541, 56.40593488, 56.20616349, 56.37827396,\n",
       "       56.40388551, 56.52989393, 56.66205044, 56.94685082, 57.08310449,\n",
       "       57.11793583, 57.25214014, 57.56972406, 57.5082557 , 57.62299497,\n",
       "       57.45190996, 57.44371408, 57.48059478, 57.48264414, 57.880136  ,\n",
       "       57.9549213 , 58.02356009, 58.32577614, 58.29299416, 58.10039476,\n",
       "       57.99999789, 58.03175597, 57.6281176 , 58.63721354, 58.49686115,\n",
       "       58.76322196, 58.42822237, 57.85247508, 57.85657224, 57.63324022,\n",
       "       57.27057971, 56.09654684, 56.39773899, 56.6292669 , 56.54321244,\n",
       "       56.43257033, 55.82711277, 56.18670002, 55.79535469, 55.47572296,\n",
       "       55.40503482, 55.32922405, 55.24214569, 55.33639603, 55.00549516,\n",
       "       54.82416491, 55.4736736 , 55.77076703, 56.04532373, 56.55038287,\n",
       "       56.79932801, 57.02778265, 56.96426649, 56.96016777, 56.81571978,\n",
       "       56.93353231, 57.40068685, 57.34126785, 57.50415854, 57.43449429,\n",
       "       57.41400536, 57.10564278, 57.53898988, 57.53284336, 57.34639048,\n",
       "       57.71827077, 57.83915657, 58.01126704, 57.99282591, 57.56152817,\n",
       "       57.68651269, 57.89037968, 57.73875971, 57.89755167, 58.09322433,\n",
       "       58.02048683, 57.90267429, 58.13932482, 57.82481416, 58.29914068,\n",
       "       58.46510307, 58.4476874 , 58.27865175, 58.35241316, 58.55115752,\n",
       "       58.45895655, 58.8953769 , 58.42309974, 57.97131308, 56.87718658,\n",
       "       57.25214014, 57.46112975, 57.91086861, 57.66090114, 57.60865256,\n",
       "       58.47842158, 57.84120593, 57.73773581, 58.22537928, 58.61979787,\n",
       "       58.62082177, 58.85439904, 58.83595947, 57.82993678, 58.22435538,\n",
       "       57.98565548, 58.12600631, 58.48251874, 58.45485938, 58.14342198,\n",
       "       58.50095987, 58.91996456, 58.9179152 , 59.01114164, 59.27033046,\n",
       "       59.97618489, 59.92496178, 59.48034554, 59.59815807, 59.68011536,\n",
       "       59.8921798 , 59.70675238, 59.37584995, 59.47727228, 59.37072733,\n",
       "       59.71392281, 59.59713417, 59.48751752, 60.01511496, 60.07863112,\n",
       "       59.50185993, 59.69240997, 60.3265508 , 60.33167342, 60.05916609,\n",
       "       60.32860016, 60.64208536, 61.26905732, 61.23422442, 61.17788024,\n",
       "       61.08055508, 61.17378152, 61.28954625, 61.70957484, 61.65323067,\n",
       "       61.98310607, 62.0240855 , 62.33142418, 62.58446648, 61.99437522,\n",
       "       61.99130196, 62.5547562 , 63.27802786, 63.45013677, 63.41223217,\n",
       "       63.42349975, 63.64785724, 63.72059631, 63.93163528, 63.90704606,\n",
       "       64.16418709, 63.97671187, 64.29634359, 64.43362116, 64.35063997,\n",
       "       64.03305604, 63.91217025, 63.88860649, 64.35883429, 64.14574752,\n",
       "       64.50943037, 64.44898747, 64.13242901, 63.64990816, 63.88450777,\n",
       "       64.2779009 , 64.80345053, 64.41518159, 64.57499745, 64.80959706,\n",
       "       64.8802852 , 65.25831202, 65.74083287, 65.79718017, 65.72853982,\n",
       "       65.75722464, 65.69780721, 66.16496174, 66.1926211 , 66.77041931,\n",
       "       66.7591486 , 66.93535623, 67.15356719, 67.83995815, 67.5408138 ,\n",
       "       67.78361085, 67.63916443, 68.13090506, 68.790659  , 68.86236948,\n",
       "       69.54158846, 69.10311874, 68.96584117, 69.36538082, 69.72292028,\n",
       "       69.50163605, 69.61740079, 69.77414339, 69.67989149, 68.72099632,\n",
       "       69.61637533, 70.2976421 , 70.24949225, 68.77836595, 68.69128604,\n",
       "       69.73521332, 70.00157413, 70.38676982, 69.85609912, 70.01181626,\n",
       "       69.81307033, 70.59063993, 70.35193847, 70.36013592, 69.75057963,\n",
       "       70.22388069, 69.88375847, 69.14102334, 67.61764847, 66.58294097,\n",
       "       67.05112097, 65.09132418, 65.0749324 , 67.68219009, 66.70997641,\n",
       "       68.08480301, 67.07878345, 66.68026613, 64.33834692, 66.30223931,\n",
       "       65.28699684, 62.50045982, 65.54721113, 61.88373467, 62.97478635,\n",
       "       62.34064396, 62.14702066, 60.555007  , 60.05609282, 62.36215836,\n",
       "       62.22283143, 63.54643647, 62.45026217, 63.17455617, 63.1212837 ,\n",
       "       61.75055427, 62.16238697, 61.80177738, 63.95929464, 63.64785724,\n",
       "       64.32810167, 64.52479667, 65.06366482, 66.47742148, 66.20901287,\n",
       "       66.44054234, 66.04202502, 65.44066618, 64.56372674, 65.35563719,\n",
       "       65.24601898, 66.05944226, 66.07993275, 65.60970183, 66.54708729,\n",
       "       67.1689335 , 66.68436486, 67.10336954, 67.55413231, 67.86864297,\n",
       "       68.18724923, 68.84188211, 69.34182019, 68.97301316, 68.58781435,\n",
       "       68.78143921, 68.59396087, 69.33669601, 69.15024625, 69.77414339,\n",
       "       69.53032087, 69.73931205, 69.51802783, 69.65940099, 69.67374496,\n",
       "       69.64198688, 70.042552  , 70.19519587, 70.37755003, 70.09070185,\n",
       "       71.03115745, 71.23195117, 72.3107098 , 73.21735952, 71.48192021,\n",
       "       71.77901364, 72.20826358, 73.13949939, 73.08930174, 73.10364571,\n",
       "       72.8977278 , 73.83511014, 74.6198486 , 73.95702139, 74.44671423,\n",
       "       73.29829292, 74.13322903, 74.4426155 , 74.37192736, 74.37192736,\n",
       "       75.36975572, 75.25091772, 76.14015021, 76.30816352, 76.37680074,\n",
       "       76.19547204, 76.84293294, 77.11646261, 76.62369652, 76.54378859,\n",
       "       77.37565144, 76.81936918, 76.93103519, 75.11671342, 75.02246151,\n",
       "       75.92193925, 75.28370126, 76.01619115, 76.48744441, 80.61397825,\n",
       "       81.71117644, 82.00929533, 82.17218446])"
      ]
     },
     "execution_count": 55,
     "metadata": {},
     "output_type": "execute_result"
    }
   ],
   "source": [
    "# Generate Prediction\n",
    "Yhat_train = model.predict(X_train)\n",
    "# Convert to \"vector shape\"\n",
    "Yhat_train = Yhat_train.reshape([-1,])\n",
    "# Visualize to make sure things look okay!\n",
    "Yhat_train"
   ]
  },
  {
   "cell_type": "markdown",
   "metadata": {},
   "source": [
    "### Let's check how we did!"
   ]
  },
  {
   "cell_type": "markdown",
   "metadata": {},
   "source": [
    "Build dataframe\n",
    "\n",
    "*This is not the most efficient coding; but the point is rather to show you how to name and join columns to dataframes :)*"
   ]
  },
  {
   "cell_type": "code",
   "execution_count": 56,
   "metadata": {},
   "outputs": [
    {
     "data": {
      "text/html": [
       "<div>\n",
       "<style scoped>\n",
       "    .dataframe tbody tr th:only-of-type {\n",
       "        vertical-align: middle;\n",
       "    }\n",
       "\n",
       "    .dataframe tbody tr th {\n",
       "        vertical-align: top;\n",
       "    }\n",
       "\n",
       "    .dataframe thead th {\n",
       "        text-align: right;\n",
       "    }\n",
       "</style>\n",
       "<table border=\"1\" class=\"dataframe\">\n",
       "  <thead>\n",
       "    <tr style=\"text-align: right;\">\n",
       "      <th></th>\n",
       "      <th>Targets_Test</th>\n",
       "      <th>Predictions_Test</th>\n",
       "    </tr>\n",
       "    <tr>\n",
       "      <th>Date</th>\n",
       "      <th></th>\n",
       "      <th></th>\n",
       "    </tr>\n",
       "  </thead>\n",
       "  <tbody>\n",
       "    <tr>\n",
       "      <th>2018-01-03</th>\n",
       "      <td>54.124001</td>\n",
       "      <td>54.717620</td>\n",
       "    </tr>\n",
       "    <tr>\n",
       "      <th>2018-01-04</th>\n",
       "      <td>54.320000</td>\n",
       "      <td>54.714547</td>\n",
       "    </tr>\n",
       "    <tr>\n",
       "      <th>2018-01-05</th>\n",
       "      <td>55.111500</td>\n",
       "      <td>54.796504</td>\n",
       "    </tr>\n",
       "    <tr>\n",
       "      <th>2018-01-08</th>\n",
       "      <td>55.347000</td>\n",
       "      <td>54.998323</td>\n",
       "    </tr>\n",
       "    <tr>\n",
       "      <th>2018-01-09</th>\n",
       "      <td>55.313000</td>\n",
       "      <td>54.931734</td>\n",
       "    </tr>\n",
       "    <tr>\n",
       "      <th>...</th>\n",
       "      <td>...</td>\n",
       "      <td>...</td>\n",
       "    </tr>\n",
       "    <tr>\n",
       "      <th>2018-05-21</th>\n",
       "      <td>53.979000</td>\n",
       "      <td>56.156990</td>\n",
       "    </tr>\n",
       "    <tr>\n",
       "      <th>2018-05-22</th>\n",
       "      <td>53.486500</td>\n",
       "      <td>56.292220</td>\n",
       "    </tr>\n",
       "    <tr>\n",
       "      <th>2018-05-23</th>\n",
       "      <td>53.984501</td>\n",
       "      <td>56.244070</td>\n",
       "    </tr>\n",
       "    <tr>\n",
       "      <th>2018-05-24</th>\n",
       "      <td>53.962002</td>\n",
       "      <td>56.367005</td>\n",
       "    </tr>\n",
       "    <tr>\n",
       "      <th>2018-05-25</th>\n",
       "      <td>53.783001</td>\n",
       "      <td>56.345490</td>\n",
       "    </tr>\n",
       "  </tbody>\n",
       "</table>\n",
       "<p>100 rows × 2 columns</p>\n",
       "</div>"
      ],
      "text/plain": [
       "            Targets_Test  Predictions_Test\n",
       "Date                                      \n",
       "2018-01-03     54.124001         54.717620\n",
       "2018-01-04     54.320000         54.714547\n",
       "2018-01-05     55.111500         54.796504\n",
       "2018-01-08     55.347000         54.998323\n",
       "2018-01-09     55.313000         54.931734\n",
       "...                  ...               ...\n",
       "2018-05-21     53.979000         56.156990\n",
       "2018-05-22     53.486500         56.292220\n",
       "2018-05-23     53.984501         56.244070\n",
       "2018-05-24     53.962002         56.367005\n",
       "2018-05-25     53.783001         56.345490\n",
       "\n",
       "[100 rows x 2 columns]"
      ]
     },
     "execution_count": 56,
     "metadata": {},
     "output_type": "execute_result"
    }
   ],
   "source": [
    "# Let's build a dataframe with the target and our predictions as columns\n",
    "time_series_comparison = pd.DataFrame(Y_test)\n",
    "time_series_comparison.columns = ['Targets_Test'] # <- Rename columns\n",
    "\n",
    "# Append Predictions to Dataframe\n",
    "time_series_comparison['Predictions_Test'] = Yhat_test\n",
    "\n",
    "# Check nothing went wrong (Safefy First!)\n",
    "time_series_comparison"
   ]
  },
  {
   "cell_type": "code",
   "execution_count": 57,
   "metadata": {},
   "outputs": [
    {
     "data": {
      "image/png": "[encoded data removed]",
      "text/plain": [
       "<Figure size 432x288 with 1 Axes>"
      ]
     },
     "metadata": {},
     "output_type": "display_data"
    }
   ],
   "source": [
    "# Activate Seaborn (<- this makes plots pretty :3)\n",
    "sns.set()\n",
    "\n",
    "# Plot!\n",
    "plt.plot(time_series_comparison)\n",
    "\n",
    "# Now we'll need a legend also\n",
    "plt.legend(time_series_comparison.columns);"
   ]
  },
  {
   "cell_type": "markdown",
   "metadata": {},
   "source": [
    "---"
   ]
  },
  {
   "cell_type": "markdown",
   "metadata": {},
   "source": [
    "# **P**robably **A**pproximately **C**orrect Bounds"
   ]
  },
  {
   "cell_type": "markdown",
   "metadata": {},
   "source": [
    "In our last class on linear regression, we learned about how to quantify our *confidence* in how our model preforms on unknown data, based on how it preforms on known data.  That is, we learned about how to quantify our model's **true (test) risk** *(which we cannot directly observe from data)*\n",
    "$$\n",
    "\\mathcal{R}(\\hat{f}) := \\mathbb{E}_{(X,Y)}\\big[\\|f(X)-Y\\|^2\\big]\n",
    "$$\n",
    "using the **empirical risk** *(which we can completely compute from data)*\n",
    "$$\n",
    "\\mathcal{R}_{\\mathcal{D}}(\\hat{f}) := \\frac1{N} \\sum_{n=1}^N\\, \\|f(x_n)-y_n\\|^2\n",
    "$$\n",
    "where $\\mathcal{D}:=\\{(x_n,y_n)\\}_{n=1}^N$ are i.i.d. copies of $X$ and $Y$.  \n",
    "\n",
    "In the case of linear regressors *(linear hypotheses)* to the following problem\n",
    "$$\n",
    "\\begin{aligned}\n",
    "\\underset{{f_w\\in \\mathcal{H}_{\\operatorname{lin}}}}{\\operatorname{argmin}}\\,\n",
    "& \\frac1{N}\\sum_{n=1}^N\\, \\operatorname{Huber}\\big(f_w(x_n),y_n\\big)\n",
    "\\\\\n",
    "\\mbox{s.t.} \\, & \\|w\\|_2 \\le c;\n",
    "\\end{aligned}\n",
    "$$\n",
    "we obtained the following PAC bound.  "
   ]
  },
  {
   "cell_type": "markdown",
   "metadata": {},
   "source": [
    "**Theorem** *PAC (Risk) Bound - Kakade et al. (2008)*\n",
    "Let $D=1$, an input radius $r>0$, an *approximation error* $\\epsilon>0$, and a *confidence level* $0<\\delta \\le 1$.  \n",
    "Consider the *input space* $\\mathcal{X}=\\{x\\in \\mathbb{R}^d:\\, \\|x\\|_2\\le r\\}$ and suppose hat $\\hat{f}$ solves the regression problem \n",
    "$$\n",
    "\\begin{aligned}\n",
    "\\underset{{f_w\\in \\mathcal{H}_{\\operatorname{lin}}}}{\\operatorname{argmin}}\\,\n",
    "& \\frac1{N}\\sum_{n=1}^N\\, \\operatorname{Huber}\\big(f_w(x_n),y_n\\big)\n",
    "\\\\\n",
    "\\mbox{s.t.} \\, & \\|w\\|_2 \\le c;\n",
    "\\end{aligned}\n",
    "$$\n",
    "Then $\\hat{f}$ satisfies\n",
    "$$\n",
    "    \\mathbb{P}\\biggl(\n",
    "        \\mathcal{R}(\\hat{f})\n",
    "            \\le \n",
    "        \\mathcal{R}_{\\mathcal{D}}(\\hat{f})\n",
    "            +\n",
    "        \\frac{2 \n",
    "        %1 (Huber's Lipschitz constant)\n",
    "        r\n",
    "        c\n",
    "        }{\\sqrt{N}}\n",
    "        \\,\n",
    "        \\Big(\n",
    "            1\n",
    "            +\n",
    "            2^{-1/2}\\,\\sqrt{\\log(1/\\delta)}\n",
    "        \\Big)\n",
    "    \\biggr)\n",
    "    \\ge \n",
    "    1-\\delta\n",
    ".\n",
    "$$"
   ]
  },
  {
   "cell_type": "markdown",
   "metadata": {},
   "source": [
    "### In practice\n",
    "\n",
    "Let's see the implications of this bound in practice."
   ]
  },
  {
   "cell_type": "markdown",
   "metadata": {},
   "source": [
    "This code will compute our risk-bounds in practice; for a given *confidence level* $\\delta$ between $0$ and $1$:"
   ]
  },
  {
   "cell_type": "code",
   "execution_count": 56,
   "metadata": {},
   "outputs": [],
   "source": [
    "def PAC_Bound(delta):\n",
    "    # def PAC_Bound(delta)\n",
    "    # Identify input space radius\n",
    "    r = np.max(np.abs(np.array(X_train)))\n",
    "    # Get Regression weight\n",
    "    c = model.coef_[0,0]\n",
    "    # Identify N training instances\n",
    "    N = X_train.shape[0]\n",
    "    # Compute Empirical Risk\n",
    "    Empirical_Risk = np.mean((Yhat_train - np.array(Y_train).reshape(-1,))**2)\n",
    "\n",
    "    # Compute Risk-Bound\n",
    "    True_Risk_Bound = Empirical_Risk + ((2*r*c)/np.sqrt(N))*(1 + np.sqrt(np.log(1/delta)))/np.sqrt(2)\n",
    "    \n",
    "    return True_Risk_Bound"
   ]
  },
  {
   "cell_type": "markdown",
   "metadata": {},
   "source": [
    "We'll plot all risk-bound vs. confidence in our risk bound now; to get an idea of how \"bad\" our model can perform."
   ]
  },
  {
   "cell_type": "code",
   "execution_count": 73,
   "metadata": {},
   "outputs": [
    {
     "data": {
      "image/png": "[encoded data removed]",
      "text/plain": [
       "<Figure size 640x480 with 1 Axes>"
      ]
     },
     "metadata": {},
     "output_type": "display_data"
    }
   ],
   "source": [
    "# Generate List of \"confidence levels\" (deltas)\n",
    "deltas = np.linspace(start=0.00001,stop= 1, num = 100)\n",
    "# Generate list of PAC bounds for these \"confidence levels\" (deltas)\n",
    "PAC_Bound_for_various_deltas = np.array(list(map(PAC_Bound, deltas)))\n",
    "\n",
    "# Plot\n",
    "## Activate Seaborn (<- this makes plots pretty :3)\n",
    "sns.set()\n",
    "plt.plot(1-deltas,PAC_Bound_for_various_deltas)\n",
    "\n",
    "plt.title(\"PAC - Risk Bound for Linear Regression\")\n",
    "plt.xlabel(\"Probability that bound is true (1-delta)\")\n",
    "plt.ylabel(\"Bound on True Risk\")\n",
    "\n",
    "plt.show()"
   ]
  },
  {
   "cell_type": "markdown",
   "metadata": {},
   "source": [
    "---"
   ]
  }
 ],
 "metadata": {
  "kernelspec": {
   "display_name": "Python 3",
   "language": "python",
   "name": "python3"
  },
  "language_info": {
   "codemirror_mode": {
    "name": "ipython",
    "version": 3
   },
   "file_extension": ".py",
   "mimetype": "text/x-python",
   "name": "python",
   "nbconvert_exporter": "python",
   "pygments_lexer": "ipython3",
   "version": "3.9.13"
  }
 },
 "nbformat": 4,
 "nbformat_minor": 5
}
