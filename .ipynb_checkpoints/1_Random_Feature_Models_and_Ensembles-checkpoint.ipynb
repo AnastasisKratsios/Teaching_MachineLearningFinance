{
 "cells": [
  {
   "cell_type": "markdown",
   "id": "d868746a",
   "metadata": {},
   "source": [
    "# Introduction to Regression II: Random Feature Models"
   ]
  },
  {
   "cell_type": "markdown",
   "id": "44dd1f74",
   "metadata": {},
   "source": [
    "## Getting Started\n",
    "Let's start with the basics and some artificial data!"
   ]
  },
  {
   "cell_type": "markdown",
   "id": "9c82a17e",
   "metadata": {},
   "source": [
    "### Initializations"
   ]
  },
  {
   "cell_type": "markdown",
   "id": "17c1d1e2",
   "metadata": {},
   "source": [
    "Initialize/Import some basic packages\n",
    "\n",
    "*Make sure to comment your code so you can remember what it does in 2+ days :P*"
   ]
  },
  {
   "cell_type": "code",
   "execution_count": 1,
   "id": "9c54e59f",
   "metadata": {},
   "outputs": [],
   "source": [
    "import numpy as np\n",
    "import matplotlib.pyplot as plt\n",
    "import seaborn as sns\n",
    "import pandas as pd\n",
    "import math\n",
    "\n",
    "# Let's ignore warnings (they're annoying and we know what's up)\n",
    "import warnings\n",
    "warnings.filterwarnings(\"ignore\")"
   ]
  },
  {
   "cell_type": "markdown",
   "id": "9e24fe17",
   "metadata": {},
   "source": [
    "ML Models"
   ]
  },
  {
   "cell_type": "code",
   "execution_count": 2,
   "id": "3d7568ab",
   "metadata": {},
   "outputs": [],
   "source": [
    "from sklearn.linear_model import LinearRegression"
   ]
  },
  {
   "cell_type": "markdown",
   "id": "e4457cf3",
   "metadata": {},
   "source": [
    "Let's load our real data again."
   ]
  },
  {
   "cell_type": "code",
   "execution_count": 3,
   "id": "8b4186b8",
   "metadata": {},
   "outputs": [],
   "source": [
    "# This package pulls, data from finance\n",
    "import yfinance as yf"
   ]
  },
  {
   "cell_type": "markdown",
   "id": "cc530c16",
   "metadata": {},
   "source": [
    "---"
   ]
  },
  {
   "cell_type": "markdown",
   "id": "127a787a",
   "metadata": {},
   "source": [
    "Since we'll be randomizing things; we want our experiments to be reproducible...\n",
    "So let's set a seed!"
   ]
  },
  {
   "cell_type": "code",
   "execution_count": 4,
   "id": "e08ac3a0",
   "metadata": {},
   "outputs": [],
   "source": [
    "import random\n",
    "np.random.seed(2022) # Numpy uses a different (random) seed :/\n",
    "random.seed(2022)"
   ]
  },
  {
   "cell_type": "markdown",
   "id": "b412aec2",
   "metadata": {},
   "source": [
    "### Let's gather our hyperparameters here"
   ]
  },
  {
   "cell_type": "markdown",
   "id": "df89722d",
   "metadata": {},
   "source": [
    "#### Size of Test Set"
   ]
  },
  {
   "cell_type": "code",
   "execution_count": 5,
   "id": "872917da",
   "metadata": {},
   "outputs": [],
   "source": [
    "# Number of testin points\n",
    "N_test = 300"
   ]
  },
  {
   "cell_type": "markdown",
   "id": "cb46106d",
   "metadata": {},
   "source": [
    "Shortly, we'll want to pick a large feature space dimension \"$F$\"."
   ]
  },
  {
   "cell_type": "markdown",
   "id": "17718559",
   "metadata": {},
   "source": [
    "#### Parameters for Random Feature Maps"
   ]
  },
  {
   "cell_type": "code",
   "execution_count": 6,
   "id": "dd6da087",
   "metadata": {},
   "outputs": [],
   "source": [
    "# Feature Space's Dimension\n",
    "dim_feature = 10**4\n",
    "# Radius for sampling random weights\n",
    "radius_weights = 0.25 # <- Should be positive\n",
    "# Radius for sampling random biases\n",
    "radius_bias = 1.1 # <- Should be bigger than 1"
   ]
  },
  {
   "cell_type": "markdown",
   "id": "50558838",
   "metadata": {},
   "source": [
    "#### Building and Training our Regression Model"
   ]
  },
  {
   "cell_type": "code",
   "execution_count": 7,
   "id": "43d3f23e",
   "metadata": {},
   "outputs": [],
   "source": [
    "model_linReg = LinearRegression()"
   ]
  },
  {
   "cell_type": "markdown",
   "id": "bcf9db9b",
   "metadata": {},
   "source": [
    "As last week: \n",
    "We will pull, google stock's daily closing prices from Yahoo finance as covariates.\n",
    "The targets will be Google's next day price :)\n",
    "\n",
    "We'll train on a daily 5 year period!"
   ]
  },
  {
   "cell_type": "code",
   "execution_count": 8,
   "id": "85401e66",
   "metadata": {},
   "outputs": [
    {
     "name": "stdout",
     "output_type": "stream",
     "text": [
      "[*********************100%***********************]  1 of 1 completed\n",
      "Tail\n",
      "                 Open       High        Low      Close  Adj Close    Volume\n",
      "Date                                                                       \n",
      "2020-12-23  86.405502  87.399498  86.251999  86.619003  86.619003  20676000\n",
      "2020-12-24  86.750000  87.300003  86.455498  86.942497  86.942497   6936000\n",
      "2020-12-28  87.581749  89.536400  87.316750  88.804497  88.804497  27860000\n",
      "2020-12-29  89.389503  89.622002  87.804497  87.935997  87.935997  25988000\n",
      "2020-12-30  88.100502  88.254753  86.279999  86.975998  86.975998  26122000\n",
      "Head\n",
      "                 Open       High        Low      Close  Adj Close     Volume\n",
      "Date                                                                        \n",
      "2008-01-02  17.257067  17.369146  16.879980  17.065783  17.065783  172921733\n",
      "2008-01-03  17.067528  17.107128  16.849842  17.069269  17.069269  130587647\n",
      "2008-01-04  16.928797  16.960428  16.313852  16.363665  16.363665  215195594\n",
      "2008-01-07  16.287451  16.495173  15.874249  16.170637  16.170637  257096061\n",
      "2008-01-08  16.264038  16.437389  15.716092  15.733029  15.733029  214364490\n"
     ]
    }
   ],
   "source": [
    "# Pull\n",
    "data_raw = yf.download('GOOG','2008-01-01','2020-12-31')\n",
    "# check\n",
    "print('Tail')\n",
    "print(data_raw.tail())\n",
    "print('Head')\n",
    "print(data_raw.head())"
   ]
  },
  {
   "cell_type": "code",
   "execution_count": 9,
   "id": "bb5fbab7",
   "metadata": {},
   "outputs": [],
   "source": [
    "# 1) Keep only the Closing Prices as covariates\n",
    "# 2) Convert to Dataframe type (Manipulation of data is easier for this object class; as opposed to numpy arrays)\n",
    "data_close = pd.DataFrame(data_raw.Close)"
   ]
  },
  {
   "cell_type": "markdown",
   "id": "3dd18d6c",
   "metadata": {},
   "source": [
    "Let's visualize things"
   ]
  },
  {
   "cell_type": "code",
   "execution_count": 10,
   "id": "9972d0c1",
   "metadata": {},
   "outputs": [
    {
     "data": {
      "text/plain": [
       "[<matplotlib.lines.Line2D at 0x14f88fbb0>]"
      ]
     },
     "execution_count": 10,
     "metadata": {},
     "output_type": "execute_result"
    },
    {
     "data": {
      "image/png": "[encoded data removed]",
      "text/plain": [
       "<Figure size 640x480 with 1 Axes>"
      ]
     },
     "metadata": {},
     "output_type": "display_data"
    }
   ],
   "source": [
    "# Activate Seaborn (<- this makes plots pretty :3)\n",
    "sns.set()\n",
    "\n",
    "# Plot!\n",
    "plt.plot(data_close)"
   ]
  },
  {
   "cell_type": "code",
   "execution_count": 11,
   "id": "e4b3c70b",
   "metadata": {},
   "outputs": [],
   "source": [
    "# The covariates \n",
    "# The inputs will be the rolling average of the last 3 days\n",
    "data = data_close\n",
    "data['Rolling_Mean_Historical'] = data_close.shift(1).rolling(window=3).mean() \n",
    "data = data.dropna()\n",
    "\n",
    "# Lets divide things up into targets and covariates\n",
    "Y = pd.DataFrame(data['Close'])\n",
    "X = pd.DataFrame(data['Rolling_Mean_Historical'])"
   ]
  },
  {
   "cell_type": "markdown",
   "id": "ff0c7d70",
   "metadata": {},
   "source": [
    "Let's make the last 20 days \"invisible\" and use them as our testing set (we'll pretend those are the too be predicted prices!)."
   ]
  },
  {
   "cell_type": "code",
   "execution_count": 12,
   "id": "c283c343",
   "metadata": {},
   "outputs": [
    {
     "name": "stdout",
     "output_type": "stream",
     "text": [
      "Check Train\n",
      "(2970, 1)\n",
      "            Rolling_Mean_Historical\n",
      "Date                               \n",
      "2008-01-07                16.832905\n",
      "2008-01-08                16.534524\n",
      "2008-01-09                16.089110\n",
      "2008-01-10                16.057562\n",
      "2008-01-11                16.036641\n",
      "Check Test\n",
      "(300, 1)\n"
     ]
    },
    {
     "data": {
      "text/html": [
       "<div>\n",
       "<style scoped>\n",
       "    .dataframe tbody tr th:only-of-type {\n",
       "        vertical-align: middle;\n",
       "    }\n",
       "\n",
       "    .dataframe tbody tr th {\n",
       "        vertical-align: top;\n",
       "    }\n",
       "\n",
       "    .dataframe thead th {\n",
       "        text-align: right;\n",
       "    }\n",
       "</style>\n",
       "<table border=\"1\" class=\"dataframe\">\n",
       "  <thead>\n",
       "    <tr style=\"text-align: right;\">\n",
       "      <th></th>\n",
       "      <th>Rolling_Mean_Historical</th>\n",
       "    </tr>\n",
       "    <tr>\n",
       "      <th>Date</th>\n",
       "      <th></th>\n",
       "    </tr>\n",
       "  </thead>\n",
       "  <tbody>\n",
       "    <tr>\n",
       "      <th>2008-01-07</th>\n",
       "      <td>16.832905</td>\n",
       "    </tr>\n",
       "    <tr>\n",
       "      <th>2008-01-08</th>\n",
       "      <td>16.534524</td>\n",
       "    </tr>\n",
       "    <tr>\n",
       "      <th>2008-01-09</th>\n",
       "      <td>16.089110</td>\n",
       "    </tr>\n",
       "    <tr>\n",
       "      <th>2008-01-10</th>\n",
       "      <td>16.057562</td>\n",
       "    </tr>\n",
       "    <tr>\n",
       "      <th>2008-01-11</th>\n",
       "      <td>16.036641</td>\n",
       "    </tr>\n",
       "  </tbody>\n",
       "</table>\n",
       "</div>"
      ],
      "text/plain": [
       "            Rolling_Mean_Historical\n",
       "Date                               \n",
       "2008-01-07                16.832905\n",
       "2008-01-08                16.534524\n",
       "2008-01-09                16.089110\n",
       "2008-01-10                16.057562\n",
       "2008-01-11                16.036641"
      ]
     },
     "execution_count": 12,
     "metadata": {},
     "output_type": "execute_result"
    }
   ],
   "source": [
    "# Build Train\n",
    "Y_train = Y[:-N_test]\n",
    "X_train = X[:-N_test]\n",
    "\n",
    "# Build Test\n",
    "Y_test = Y[:N_test]\n",
    "X_test = X[:N_test]\n",
    "\n",
    "\n",
    "# Visualize Dataframe Dimensions (make sure things are running reasonably!)\n",
    "print('Check Train')\n",
    "print(X_train.shape)\n",
    "print(X_train.head())\n",
    "print('Check Test')\n",
    "print(X_test.shape)\n",
    "X_test.head()"
   ]
  },
  {
   "cell_type": "markdown",
   "id": "b0a3596c",
   "metadata": {},
   "source": [
    "---\n",
    "## We'll Initialize our Benchmark model\n",
    "\n",
    "This simple/basic/vanilla model will serve as our target to beat; if we don't then we're doing something wrong :S"
   ]
  },
  {
   "cell_type": "markdown",
   "id": "6e8b2a75",
   "metadata": {},
   "source": [
    "#### Building and Training our Regression Model"
   ]
  },
  {
   "cell_type": "code",
   "execution_count": 13,
   "id": "309b4373",
   "metadata": {},
   "outputs": [],
   "source": [
    "model_linReg = LinearRegression()"
   ]
  },
  {
   "cell_type": "markdown",
   "id": "12d0d7c9",
   "metadata": {},
   "source": [
    "First we train our model, with the \"training\" (a.k.a. in-sample) data."
   ]
  },
  {
   "cell_type": "code",
   "execution_count": 14,
   "id": "1f3650d0",
   "metadata": {},
   "outputs": [
    {
     "data": {
      "text/html": [
       "<style>#sk-container-id-1 {color: black;background-color: white;}#sk-container-id-1 pre{padding: 0;}#sk-container-id-1 div.sk-toggleable {background-color: white;}#sk-container-id-1 label.sk-toggleable__label {cursor: pointer;display: block;width: 100%;margin-bottom: 0;padding: 0.3em;box-sizing: border-box;text-align: center;}#sk-container-id-1 label.sk-toggleable__label-arrow:before {content: \"▸\";float: left;margin-right: 0.25em;color: #696969;}#sk-container-id-1 label.sk-toggleable__label-arrow:hover:before {color: black;}#sk-container-id-1 div.sk-estimator:hover label.sk-toggleable__label-arrow:before {color: black;}#sk-container-id-1 div.sk-toggleable__content {max-height: 0;max-width: 0;overflow: hidden;text-align: left;background-color: #f0f8ff;}#sk-container-id-1 div.sk-toggleable__content pre {margin: 0.2em;color: black;border-radius: 0.25em;background-color: #f0f8ff;}#sk-container-id-1 input.sk-toggleable__control:checked~div.sk-toggleable__content {max-height: 200px;max-width: 100%;overflow: auto;}#sk-container-id-1 input.sk-toggleable__control:checked~label.sk-toggleable__label-arrow:before {content: \"▾\";}#sk-container-id-1 div.sk-estimator input.sk-toggleable__control:checked~label.sk-toggleable__label {background-color: #d4ebff;}#sk-container-id-1 div.sk-label input.sk-toggleable__control:checked~label.sk-toggleable__label {background-color: #d4ebff;}#sk-container-id-1 input.sk-hidden--visually {border: 0;clip: rect(1px 1px 1px 1px);clip: rect(1px, 1px, 1px, 1px);height: 1px;margin: -1px;overflow: hidden;padding: 0;position: absolute;width: 1px;}#sk-container-id-1 div.sk-estimator {font-family: monospace;background-color: #f0f8ff;border: 1px dotted black;border-radius: 0.25em;box-sizing: border-box;margin-bottom: 0.5em;}#sk-container-id-1 div.sk-estimator:hover {background-color: #d4ebff;}#sk-container-id-1 div.sk-parallel-item::after {content: \"\";width: 100%;border-bottom: 1px solid gray;flex-grow: 1;}#sk-container-id-1 div.sk-label:hover label.sk-toggleable__label {background-color: #d4ebff;}#sk-container-id-1 div.sk-serial::before {content: \"\";position: absolute;border-left: 1px solid gray;box-sizing: border-box;top: 0;bottom: 0;left: 50%;z-index: 0;}#sk-container-id-1 div.sk-serial {display: flex;flex-direction: column;align-items: center;background-color: white;padding-right: 0.2em;padding-left: 0.2em;position: relative;}#sk-container-id-1 div.sk-item {position: relative;z-index: 1;}#sk-container-id-1 div.sk-parallel {display: flex;align-items: stretch;justify-content: center;background-color: white;position: relative;}#sk-container-id-1 div.sk-item::before, #sk-container-id-1 div.sk-parallel-item::before {content: \"\";position: absolute;border-left: 1px solid gray;box-sizing: border-box;top: 0;bottom: 0;left: 50%;z-index: -1;}#sk-container-id-1 div.sk-parallel-item {display: flex;flex-direction: column;z-index: 1;position: relative;background-color: white;}#sk-container-id-1 div.sk-parallel-item:first-child::after {align-self: flex-end;width: 50%;}#sk-container-id-1 div.sk-parallel-item:last-child::after {align-self: flex-start;width: 50%;}#sk-container-id-1 div.sk-parallel-item:only-child::after {width: 0;}#sk-container-id-1 div.sk-dashed-wrapped {border: 1px dashed gray;margin: 0 0.4em 0.5em 0.4em;box-sizing: border-box;padding-bottom: 0.4em;background-color: white;}#sk-container-id-1 div.sk-label label {font-family: monospace;font-weight: bold;display: inline-block;line-height: 1.2em;}#sk-container-id-1 div.sk-label-container {text-align: center;}#sk-container-id-1 div.sk-container {/* jupyter's `normalize.less` sets `[hidden] { display: none; }` but bootstrap.min.css set `[hidden] { display: none !important; }` so we also need the `!important` here to be able to override the default hidden behavior on the sphinx rendered scikit-learn.org. See: https://github.com/scikit-learn/scikit-learn/issues/21755 */display: inline-block !important;position: relative;}#sk-container-id-1 div.sk-text-repr-fallback {display: none;}</style><div id=\"sk-container-id-1\" class=\"sk-top-container\"><div class=\"sk-text-repr-fallback\"><pre>LinearRegression()</pre><b>In a Jupyter environment, please rerun this cell to show the HTML representation or trust the notebook. <br />On GitHub, the HTML representation is unable to render, please try loading this page with nbviewer.org.</b></div><div class=\"sk-container\" hidden><div class=\"sk-item\"><div class=\"sk-estimator sk-toggleable\"><input class=\"sk-toggleable__control sk-hidden--visually\" id=\"sk-estimator-id-1\" type=\"checkbox\" checked><label for=\"sk-estimator-id-1\" class=\"sk-toggleable__label sk-toggleable__label-arrow\">LinearRegression</label><div class=\"sk-toggleable__content\"><pre>LinearRegression()</pre></div></div></div></div></div>"
      ],
      "text/plain": [
       "LinearRegression()"
      ]
     },
     "execution_count": 14,
     "metadata": {},
     "output_type": "execute_result"
    }
   ],
   "source": [
    "model_linReg.fit(X_train, Y_train)"
   ]
  },
  {
   "cell_type": "markdown",
   "id": "64e058f2",
   "metadata": {},
   "source": [
    "Now we'll predict the test data given our input train data!"
   ]
  },
  {
   "cell_type": "code",
   "execution_count": 15,
   "id": "590d6de8",
   "metadata": {},
   "outputs": [
    {
     "data": {
      "text/plain": [
       "array([16.8544477 , 16.5558245 , 16.11005089, 16.07847718, 16.05753918,\n",
       "       16.1121284 , 16.11727986, 16.04183441, 15.85654529, 15.41592282,\n",
       "       15.10516925, 14.84260724, 14.40913006, 14.19509176, 14.04594656,\n",
       "       14.10710045, 13.90793559, 13.75729477, 13.82642496, 13.53876962,\n",
       "       13.0997258 , 12.62196234, 12.50405837, 12.58315902, 12.66533426,\n",
       "       12.82694295, 12.93612232, 13.08510146, 13.1772478 , 13.27321606,\n",
       "       13.05992572, 12.86674302, 12.64422988, 12.63467492, 12.44722557,\n",
       "       12.12591901, 11.8356049 , 11.74379102, 11.80187032, 11.6702567 ,\n",
       "       11.4144248 , 11.2193313 , 11.01725825, 10.92378268, 10.64061419,\n",
       "       10.69993968, 10.75668944, 11.00088886, 10.98493562, 10.81618164,\n",
       "       10.78419243, 10.73500379, 10.8486697 , 11.02648074, 11.18252246,\n",
       "       11.38725459, 11.25032343, 11.14480021, 10.9975658 , 11.17728796,\n",
       "       11.40678033, 11.52850653, 11.57320864, 11.66560409, 11.77104427,\n",
       "       11.71371261, 11.64940142, 11.5633209 , 11.45921026, 11.27441968,\n",
       "       11.25431206, 11.23669712, 12.00585481, 12.69350187, 13.56976143,\n",
       "       13.6285887 , 13.67221069, 13.58131118, 13.62809048, 13.75629705,\n",
       "       14.00747571, 14.34780946, 14.53741968, 14.70866699, 14.65283127,\n",
       "       14.63380376, 14.53501034, 14.42566457, 14.47501928, 14.47493624,\n",
       "       14.50069387, 14.46795702, 14.44361197, 14.45374882, 14.43380726,\n",
       "       14.1838748 , 13.95072595, 13.66838846, 13.75903854, 13.91508058,\n",
       "       14.23397716, 14.44086984, 14.49703803, 14.36658787, 14.25375264,\n",
       "       14.34764371, 14.34515133, 14.22591782, 13.958952  , 13.77781694,\n",
       "       13.73693739, 13.88101418, 14.11042415, 14.24760442, 14.17174379,\n",
       "       14.06696791, 13.87561328, 13.73294908, 13.58421937, 13.62219137,\n",
       "       13.48600785, 13.36777142, 13.1635375 , 13.21264342, 13.20408554,\n",
       "       13.29199446, 13.36827059, 13.59668317, 13.63448845, 13.60673634,\n",
       "       13.43449195, 13.26889528, 13.06549269, 13.08044885, 13.17866006,\n",
       "       12.88975853, 12.33472217, 11.86668038, 11.9323208 , 11.98898753,\n",
       "       12.11254118, 12.01200335, 12.07423736, 11.99713054, 11.96912932,\n",
       "       11.84241773, 11.67873186, 11.72941643, 11.88296577, 12.0169057 ,\n",
       "       12.14286901, 12.26334839, 12.45852494, 12.50023581, 12.53887242,\n",
       "       12.60152192, 12.58714765, 12.46259692, 12.25362736, 12.15583102,\n",
       "       12.15657867, 12.14004385, 12.03726244, 11.85438298, 11.77769167,\n",
       "       11.68737341, 11.65970466, 11.58184956, 11.47358422, 11.29909688,\n",
       "       10.92968211, 10.66711979, 10.41710397, 10.53176727, 10.68963739,\n",
       "       10.85332295, 10.92959908, 10.73708098, 10.78045387, 10.8321352 ,\n",
       "       10.96216986, 10.88065923, 10.76400177, 10.84260452, 10.85731126,\n",
       "       10.40771508, 10.08300179,  9.92247322, 10.00132476,  9.88824043,\n",
       "        9.55164555,  9.18206439,  8.77658812,  8.425702  ,  8.30929397,\n",
       "        8.6658304 ,  8.9460907 ,  9.00566562,  8.77301562,  8.85469233,\n",
       "        9.18829597,  9.26914199,  9.12897048,  8.90462957,  8.70970182,\n",
       "        8.49217375,  8.62868941,  8.78414955,  9.03507941,  8.95705856,\n",
       "        8.86142276,  8.92166261,  8.77941359,  8.65253656,  8.35507683,\n",
       "        8.1601494 ,  7.99596451,  7.66244374,  7.60677362,  7.59480901,\n",
       "        7.6705866 ,  7.54877783,  7.30083905,  6.96382867,  6.67309937,\n",
       "        6.48415425,  6.67102234,  6.91746519,  7.21259846,  7.07915691,\n",
       "        6.9380712 ,  6.82565132,  6.8950311 ,  6.96881438,  7.15726112,\n",
       "        7.42007256,  7.62638335,  7.61067953,  7.69202393,  7.70739544,\n",
       "        7.91561719,  7.91129641,  7.90805575,  7.78250794,  7.63186712,\n",
       "        7.52999975,  7.47000917,  7.4970133 ,  7.49202791,  7.4933573 ,\n",
       "        7.5539293 ,  7.75251289,  7.9597374 ,  8.17917628,  8.18490931,\n",
       "        8.16114584,  8.00335908,  7.92591964,  7.8356017 ,  7.71844601,\n",
       "        7.60461371,  7.48288798,  7.33149935,  7.36548319,  7.42223295,\n",
       "        7.77079228,  7.94353489,  8.15109202,  8.3502572 ,  8.51186588,\n",
       "        8.57044404,  8.50314192,  8.47929541,  8.5164364 ,  8.6256985 ,\n",
       "        8.88186286,  9.17907316,  9.21887323,  9.10886285,  8.97824662,\n",
       "        8.97135011,  8.84355872,  8.76096765,  8.6360011 ,  8.66749209,\n",
       "        8.47597139,  8.49931969,  8.45935354,  8.51851296,  8.45652838,\n",
       "        8.33621507,  8.23900062,  8.08054925,  7.90174114,  7.76123716,\n",
       "        7.5283379 ,  7.54935925,  7.62696461,  7.89816801,  8.03318806])"
      ]
     },
     "execution_count": 15,
     "metadata": {},
     "output_type": "execute_result"
    }
   ],
   "source": [
    "# Generate Prediction\n",
    "Yhat_test_linReg = model_linReg.predict(X_test)\n",
    "# Convert to \"vector shape\"\n",
    "Yhat_test_linReg = Yhat_test_linReg.reshape([-1,])\n",
    "# Visualize to make sure things look okay!\n",
    "Yhat_test_linReg"
   ]
  },
  {
   "cell_type": "markdown",
   "id": "3b0dbe70",
   "metadata": {},
   "source": [
    "We'll record our training performance while we're at it also."
   ]
  },
  {
   "cell_type": "code",
   "execution_count": 16,
   "id": "1fc72a47",
   "metadata": {},
   "outputs": [
    {
     "data": {
      "text/plain": [
       "array([16.8544477 , 16.5558245 , 16.11005089, ..., 62.38701575,\n",
       "       62.42838271, 62.47024979])"
      ]
     },
     "execution_count": 16,
     "metadata": {},
     "output_type": "execute_result"
    }
   ],
   "source": [
    "# Generate Prediction\n",
    "Yhat_train_linReg = model_linReg.predict(X_train)\n",
    "# Convert to \"vector shape\"\n",
    "Yhat_train_linReg = Yhat_train_linReg.reshape([-1,])\n",
    "# Visualize to make sure things look okay!\n",
    "Yhat_train_linReg"
   ]
  },
  {
   "cell_type": "markdown",
   "id": "fccfa469",
   "metadata": {},
   "source": [
    "### Let's check how we did!"
   ]
  },
  {
   "cell_type": "markdown",
   "id": "86f64523",
   "metadata": {},
   "source": [
    "Build dataframe\n",
    "\n",
    "*This is not the most efficient coding; but the point is rather to show you how to name and join columns to dataframes :)*"
   ]
  },
  {
   "cell_type": "code",
   "execution_count": 17,
   "id": "c9311352",
   "metadata": {},
   "outputs": [
    {
     "data": {
      "text/html": [
       "<div>\n",
       "<style scoped>\n",
       "    .dataframe tbody tr th:only-of-type {\n",
       "        vertical-align: middle;\n",
       "    }\n",
       "\n",
       "    .dataframe tbody tr th {\n",
       "        vertical-align: top;\n",
       "    }\n",
       "\n",
       "    .dataframe thead th {\n",
       "        text-align: right;\n",
       "    }\n",
       "</style>\n",
       "<table border=\"1\" class=\"dataframe\">\n",
       "  <thead>\n",
       "    <tr style=\"text-align: right;\">\n",
       "      <th></th>\n",
       "      <th>Targets_Test</th>\n",
       "      <th>Predictions_Test</th>\n",
       "    </tr>\n",
       "    <tr>\n",
       "      <th>Date</th>\n",
       "      <th></th>\n",
       "      <th></th>\n",
       "    </tr>\n",
       "  </thead>\n",
       "  <tbody>\n",
       "    <tr>\n",
       "      <th>2008-01-07</th>\n",
       "      <td>16.170637</td>\n",
       "      <td>16.854448</td>\n",
       "    </tr>\n",
       "    <tr>\n",
       "      <th>2008-01-08</th>\n",
       "      <td>15.733029</td>\n",
       "      <td>16.555825</td>\n",
       "    </tr>\n",
       "    <tr>\n",
       "      <th>2008-01-09</th>\n",
       "      <td>16.269020</td>\n",
       "      <td>16.110051</td>\n",
       "    </tr>\n",
       "    <tr>\n",
       "      <th>2008-01-10</th>\n",
       "      <td>16.107874</td>\n",
       "      <td>16.078477</td>\n",
       "    </tr>\n",
       "    <tr>\n",
       "      <th>2008-01-11</th>\n",
       "      <td>15.896665</td>\n",
       "      <td>16.057539</td>\n",
       "    </tr>\n",
       "    <tr>\n",
       "      <th>...</th>\n",
       "      <td>...</td>\n",
       "      <td>...</td>\n",
       "    </tr>\n",
       "    <tr>\n",
       "      <th>2009-03-10</th>\n",
       "      <td>7.675480</td>\n",
       "      <td>7.528338</td>\n",
       "    </tr>\n",
       "    <tr>\n",
       "      <th>2009-03-11</th>\n",
       "      <td>7.918071</td>\n",
       "      <td>7.549359</td>\n",
       "    </tr>\n",
       "    <tr>\n",
       "      <th>2009-03-12</th>\n",
       "      <td>8.058046</td>\n",
       "      <td>7.626965</td>\n",
       "    </tr>\n",
       "    <tr>\n",
       "      <th>2009-03-13</th>\n",
       "      <td>8.080213</td>\n",
       "      <td>7.898168</td>\n",
       "    </tr>\n",
       "    <tr>\n",
       "      <th>2009-03-16</th>\n",
       "      <td>7.962405</td>\n",
       "      <td>8.033188</td>\n",
       "    </tr>\n",
       "  </tbody>\n",
       "</table>\n",
       "<p>300 rows × 2 columns</p>\n",
       "</div>"
      ],
      "text/plain": [
       "            Targets_Test  Predictions_Test\n",
       "Date                                      \n",
       "2008-01-07     16.170637         16.854448\n",
       "2008-01-08     15.733029         16.555825\n",
       "2008-01-09     16.269020         16.110051\n",
       "2008-01-10     16.107874         16.078477\n",
       "2008-01-11     15.896665         16.057539\n",
       "...                  ...               ...\n",
       "2009-03-10      7.675480          7.528338\n",
       "2009-03-11      7.918071          7.549359\n",
       "2009-03-12      8.058046          7.626965\n",
       "2009-03-13      8.080213          7.898168\n",
       "2009-03-16      7.962405          8.033188\n",
       "\n",
       "[300 rows x 2 columns]"
      ]
     },
     "execution_count": 17,
     "metadata": {},
     "output_type": "execute_result"
    }
   ],
   "source": [
    "# Let's build a dataframe with the target and our predictions as columns\n",
    "time_series_comparison = pd.DataFrame(Y_test)\n",
    "time_series_comparison.columns = ['Targets_Test'] # <- Rename columns\n",
    "\n",
    "# Append Predictions to Dataframe\n",
    "time_series_comparison['Predictions_Test'] = Yhat_test_linReg\n",
    "\n",
    "# Check nothing went wrong (Safefy First!)\n",
    "time_series_comparison"
   ]
  },
  {
   "cell_type": "markdown",
   "id": "969aab65",
   "metadata": {},
   "source": [
    "# Like Last week We Visualize how things are panning our so far!"
   ]
  },
  {
   "cell_type": "code",
   "execution_count": 18,
   "id": "03c6b1b4",
   "metadata": {},
   "outputs": [
    {
     "data": {
      "image/png": "[encoded data removed]",
      "text/plain": [
       "<Figure size 640x480 with 1 Axes>"
      ]
     },
     "metadata": {},
     "output_type": "display_data"
    }
   ],
   "source": [
    "# Activate Seaborn (<- this makes plots pretty :3)\n",
    "sns.set()\n",
    "\n",
    "# Plot!\n",
    "plt.plot(time_series_comparison)\n",
    "\n",
    "# Now we'll need a legend also\n",
    "plt.legend(time_series_comparison.columns);"
   ]
  },
  {
   "cell_type": "markdown",
   "id": "938755fe",
   "metadata": {},
   "source": [
    "---"
   ]
  },
  {
   "cell_type": "markdown",
   "id": "70efad5a",
   "metadata": {},
   "source": [
    "## Time to try our Random Feature model"
   ]
  },
  {
   "cell_type": "markdown",
   "id": "da9495cf",
   "metadata": {},
   "source": [
    "#### Let's initialize our hyperparameters + latent parameters\n",
    "These will be used in generating our (random) feature map"
   ]
  },
  {
   "cell_type": "code",
   "execution_count": 19,
   "id": "9fa0d499",
   "metadata": {},
   "outputs": [],
   "source": [
    "dim_data = X_train.shape[1] # <- Number of covariates"
   ]
  },
  {
   "cell_type": "markdown",
   "id": "62ac7e6b",
   "metadata": {},
   "source": [
    "### Helper Functions"
   ]
  },
  {
   "cell_type": "markdown",
   "id": "48112a09",
   "metadata": {},
   "source": [
    "Well get our first \"helper function\".  These are intended to be used often (like lemata) to help with small individual tasks, which we frequently perform.  "
   ]
  },
  {
   "cell_type": "markdown",
   "id": "82d64f46",
   "metadata": {},
   "source": [
    "#### Uniform Sampler "
   ]
  },
  {
   "cell_type": "code",
   "execution_count": 20,
   "id": "b6ccd4f6",
   "metadata": {},
   "outputs": [],
   "source": [
    "def random_ball(num_points = dim_feature, dimension=dim_data, radius=1):\n",
    "    from numpy import random, linalg\n",
    "    # First generate random directions by normalizing the length of a\n",
    "    # vector of random-normal values (these distribute evenly on ball).\n",
    "    random_directions = random.normal(size=(dimension,num_points))\n",
    "    random_directions /= linalg.norm(random_directions, axis=0)\n",
    "    # Second generate a random radius with probability proportional to\n",
    "    # the surface area of a ball with a given radius.\n",
    "    random_radii = random.random(num_points) ** (1/dimension)\n",
    "    # Return the list of random (direction & length) points.\n",
    "    return radius * (random_directions * random_radii).T"
   ]
  },
  {
   "cell_type": "markdown",
   "id": "1e0d8bf3",
   "metadata": {},
   "source": [
    "## Next let's write a little function to generate random features"
   ]
  },
  {
   "cell_type": "markdown",
   "id": "119afa4c",
   "metadata": {},
   "source": [
    "Since we have set the correct default parameters for the theorem...let's just run it with an empty argument."
   ]
  },
  {
   "cell_type": "code",
   "execution_count": 21,
   "id": "0f5e3600",
   "metadata": {},
   "outputs": [],
   "source": [
    "# Generate the random parameters determining our feature map\n",
    "rand_weights = random_ball(radius=radius_weights)\n",
    "rand_biases = random_ball(dimension = 1,radius=radius_bias)"
   ]
  },
  {
   "cell_type": "markdown",
   "id": "5b0e3eff",
   "metadata": {},
   "source": [
    "**Note**: It's crucial to initialize the random matrix and random vectors externally to the random feature map.  Otherwise, everytime you run the code you'll be multiplying by a different matrix + adding a different vector.\n",
    "\n",
    "*I.e.: You'll turn your features into pure noise :0*"
   ]
  },
  {
   "cell_type": "code",
   "execution_count": 22,
   "id": "fbfd83e9",
   "metadata": {},
   "outputs": [],
   "source": [
    "def rand_feature_map(x_input):\n",
    "    x_int = np.array(x_input).transpose()\n",
    "    #Apply Random Weights\n",
    "    x_int = rand_weights.dot(x_int).transpose()\n",
    "    #Apply Random Bias\n",
    "    x_int = x_int + rand_biases.transpose()\n",
    "    #Apply ReLU activation function\n",
    "    x_int = np.maximum(x_int,0)\n",
    "    #Return Random Features\n",
    "    return x_int"
   ]
  },
  {
   "cell_type": "markdown",
   "id": "f8ed1668",
   "metadata": {},
   "source": [
    "Next we apply our random feature map to each of our data points in X\n",
    "\n",
    "This gives us our random features."
   ]
  },
  {
   "cell_type": "code",
   "execution_count": 23,
   "id": "796d8a7c",
   "metadata": {},
   "outputs": [
    {
     "name": "stdout",
     "output_type": "stream",
     "text": [
      "Train Shape\n",
      "(2970, 10000)\n",
      "   0     1     2         3         4         5         6         7     \\\n",
      "0   0.0   0.0   0.0  0.338095  2.446481  0.272373  4.986246  0.530882   \n",
      "1   0.0   0.0   0.0  0.335680  2.384849  0.264652  4.913375  0.516163   \n",
      "2   0.0   0.0   0.0  0.332076  2.292847  0.253126  4.804595  0.494190   \n",
      "3   0.0   0.0   0.0  0.331821  2.286331  0.252310  4.796891  0.492634   \n",
      "4   0.0   0.0   0.0  0.331651  2.282010  0.251769  4.791781  0.491602   \n",
      "\n",
      "       8     9     ...  9990      9991  9992  9993      9994      9995  9996  \\\n",
      "0  3.887259   0.0  ...   0.0  0.754540   0.0   0.0  2.286638  1.836296   0.0   \n",
      "1  3.826405   0.0  ...   0.0  0.752776   0.0   0.0  2.248544  1.808139   0.0   \n",
      "2  3.735563   0.0  ...   0.0  0.750144   0.0   0.0  2.191678  1.766107   0.0   \n",
      "3  3.729129   0.0  ...   0.0  0.749958   0.0   0.0  2.187650  1.763130   0.0   \n",
      "4  3.724862   0.0  ...   0.0  0.749834   0.0   0.0  2.184979  1.761156   0.0   \n",
      "\n",
      "       9997      9998  9999  \n",
      "0  0.413335  4.936240   0.0  \n",
      "1  0.403795  4.866179   0.0  \n",
      "2  0.389555  4.761594   0.0  \n",
      "3  0.388546  4.754187   0.0  \n",
      "4  0.387877  4.749274   0.0  \n",
      "\n",
      "[5 rows x 10000 columns]\n",
      "Test Shape\n",
      "(300, 10000)\n",
      "Test Features\n"
     ]
    },
    {
     "data": {
      "text/html": [
       "<div>\n",
       "<style scoped>\n",
       "    .dataframe tbody tr th:only-of-type {\n",
       "        vertical-align: middle;\n",
       "    }\n",
       "\n",
       "    .dataframe tbody tr th {\n",
       "        vertical-align: top;\n",
       "    }\n",
       "\n",
       "    .dataframe thead th {\n",
       "        text-align: right;\n",
       "    }\n",
       "</style>\n",
       "<table border=\"1\" class=\"dataframe\">\n",
       "  <thead>\n",
       "    <tr style=\"text-align: right;\">\n",
       "      <th></th>\n",
       "      <th>0</th>\n",
       "      <th>1</th>\n",
       "      <th>2</th>\n",
       "      <th>3</th>\n",
       "      <th>4</th>\n",
       "      <th>5</th>\n",
       "      <th>6</th>\n",
       "      <th>7</th>\n",
       "      <th>8</th>\n",
       "      <th>9</th>\n",
       "      <th>...</th>\n",
       "      <th>9990</th>\n",
       "      <th>9991</th>\n",
       "      <th>9992</th>\n",
       "      <th>9993</th>\n",
       "      <th>9994</th>\n",
       "      <th>9995</th>\n",
       "      <th>9996</th>\n",
       "      <th>9997</th>\n",
       "      <th>9998</th>\n",
       "      <th>9999</th>\n",
       "    </tr>\n",
       "  </thead>\n",
       "  <tbody>\n",
       "    <tr>\n",
       "      <th>0</th>\n",
       "      <td>0.0</td>\n",
       "      <td>0.0</td>\n",
       "      <td>0.0</td>\n",
       "      <td>0.338095</td>\n",
       "      <td>2.446481</td>\n",
       "      <td>0.272373</td>\n",
       "      <td>4.986246</td>\n",
       "      <td>0.530882</td>\n",
       "      <td>3.887259</td>\n",
       "      <td>0.0</td>\n",
       "      <td>...</td>\n",
       "      <td>0.0</td>\n",
       "      <td>0.754540</td>\n",
       "      <td>0.0</td>\n",
       "      <td>0.0</td>\n",
       "      <td>2.286638</td>\n",
       "      <td>1.836296</td>\n",
       "      <td>0.0</td>\n",
       "      <td>0.413335</td>\n",
       "      <td>4.936240</td>\n",
       "      <td>0.0</td>\n",
       "    </tr>\n",
       "    <tr>\n",
       "      <th>1</th>\n",
       "      <td>0.0</td>\n",
       "      <td>0.0</td>\n",
       "      <td>0.0</td>\n",
       "      <td>0.335680</td>\n",
       "      <td>2.384849</td>\n",
       "      <td>0.264652</td>\n",
       "      <td>4.913375</td>\n",
       "      <td>0.516163</td>\n",
       "      <td>3.826405</td>\n",
       "      <td>0.0</td>\n",
       "      <td>...</td>\n",
       "      <td>0.0</td>\n",
       "      <td>0.752776</td>\n",
       "      <td>0.0</td>\n",
       "      <td>0.0</td>\n",
       "      <td>2.248544</td>\n",
       "      <td>1.808139</td>\n",
       "      <td>0.0</td>\n",
       "      <td>0.403795</td>\n",
       "      <td>4.866179</td>\n",
       "      <td>0.0</td>\n",
       "    </tr>\n",
       "    <tr>\n",
       "      <th>2</th>\n",
       "      <td>0.0</td>\n",
       "      <td>0.0</td>\n",
       "      <td>0.0</td>\n",
       "      <td>0.332076</td>\n",
       "      <td>2.292847</td>\n",
       "      <td>0.253126</td>\n",
       "      <td>4.804595</td>\n",
       "      <td>0.494190</td>\n",
       "      <td>3.735563</td>\n",
       "      <td>0.0</td>\n",
       "      <td>...</td>\n",
       "      <td>0.0</td>\n",
       "      <td>0.750144</td>\n",
       "      <td>0.0</td>\n",
       "      <td>0.0</td>\n",
       "      <td>2.191678</td>\n",
       "      <td>1.766107</td>\n",
       "      <td>0.0</td>\n",
       "      <td>0.389555</td>\n",
       "      <td>4.761594</td>\n",
       "      <td>0.0</td>\n",
       "    </tr>\n",
       "    <tr>\n",
       "      <th>3</th>\n",
       "      <td>0.0</td>\n",
       "      <td>0.0</td>\n",
       "      <td>0.0</td>\n",
       "      <td>0.331821</td>\n",
       "      <td>2.286331</td>\n",
       "      <td>0.252310</td>\n",
       "      <td>4.796891</td>\n",
       "      <td>0.492634</td>\n",
       "      <td>3.729129</td>\n",
       "      <td>0.0</td>\n",
       "      <td>...</td>\n",
       "      <td>0.0</td>\n",
       "      <td>0.749958</td>\n",
       "      <td>0.0</td>\n",
       "      <td>0.0</td>\n",
       "      <td>2.187650</td>\n",
       "      <td>1.763130</td>\n",
       "      <td>0.0</td>\n",
       "      <td>0.388546</td>\n",
       "      <td>4.754187</td>\n",
       "      <td>0.0</td>\n",
       "    </tr>\n",
       "    <tr>\n",
       "      <th>4</th>\n",
       "      <td>0.0</td>\n",
       "      <td>0.0</td>\n",
       "      <td>0.0</td>\n",
       "      <td>0.331651</td>\n",
       "      <td>2.282010</td>\n",
       "      <td>0.251769</td>\n",
       "      <td>4.791781</td>\n",
       "      <td>0.491602</td>\n",
       "      <td>3.724862</td>\n",
       "      <td>0.0</td>\n",
       "      <td>...</td>\n",
       "      <td>0.0</td>\n",
       "      <td>0.749834</td>\n",
       "      <td>0.0</td>\n",
       "      <td>0.0</td>\n",
       "      <td>2.184979</td>\n",
       "      <td>1.761156</td>\n",
       "      <td>0.0</td>\n",
       "      <td>0.387877</td>\n",
       "      <td>4.749274</td>\n",
       "      <td>0.0</td>\n",
       "    </tr>\n",
       "  </tbody>\n",
       "</table>\n",
       "<p>5 rows × 10000 columns</p>\n",
       "</div>"
      ],
      "text/plain": [
       "   0     1     2         3         4         5         6         7     \\\n",
       "0   0.0   0.0   0.0  0.338095  2.446481  0.272373  4.986246  0.530882   \n",
       "1   0.0   0.0   0.0  0.335680  2.384849  0.264652  4.913375  0.516163   \n",
       "2   0.0   0.0   0.0  0.332076  2.292847  0.253126  4.804595  0.494190   \n",
       "3   0.0   0.0   0.0  0.331821  2.286331  0.252310  4.796891  0.492634   \n",
       "4   0.0   0.0   0.0  0.331651  2.282010  0.251769  4.791781  0.491602   \n",
       "\n",
       "       8     9     ...  9990      9991  9992  9993      9994      9995  9996  \\\n",
       "0  3.887259   0.0  ...   0.0  0.754540   0.0   0.0  2.286638  1.836296   0.0   \n",
       "1  3.826405   0.0  ...   0.0  0.752776   0.0   0.0  2.248544  1.808139   0.0   \n",
       "2  3.735563   0.0  ...   0.0  0.750144   0.0   0.0  2.191678  1.766107   0.0   \n",
       "3  3.729129   0.0  ...   0.0  0.749958   0.0   0.0  2.187650  1.763130   0.0   \n",
       "4  3.724862   0.0  ...   0.0  0.749834   0.0   0.0  2.184979  1.761156   0.0   \n",
       "\n",
       "       9997      9998  9999  \n",
       "0  0.413335  4.936240   0.0  \n",
       "1  0.403795  4.866179   0.0  \n",
       "2  0.389555  4.761594   0.0  \n",
       "3  0.388546  4.754187   0.0  \n",
       "4  0.387877  4.749274   0.0  \n",
       "\n",
       "[5 rows x 10000 columns]"
      ]
     },
     "execution_count": 23,
     "metadata": {},
     "output_type": "execute_result"
    }
   ],
   "source": [
    "#Apply to each data\n",
    "## first to the training dataset\n",
    "X_Rand_Features_train = rand_feature_map(X_train)\n",
    "X_Rand_Features_train = pd.DataFrame(X_Rand_Features_train)\n",
    "## then to the testing dataset\n",
    "X_Rand_Features_test = rand_feature_map(X_test)\n",
    "X_Rand_Features_test = pd.DataFrame(X_Rand_Features_test)\n",
    "\n",
    "# Vislualize things to make sure all is working\n",
    "print('Train Shape')\n",
    "print(X_Rand_Features_train.shape)\n",
    "print(X_Rand_Features_train.head())\n",
    "print('Test Shape')\n",
    "print(X_Rand_Features_test.shape)\n",
    "print('Test Features')\n",
    "X_Rand_Features_test.head()"
   ]
  },
  {
   "cell_type": "markdown",
   "id": "6b6af411",
   "metadata": {},
   "source": [
    "We'll also include the original (untransformed features)"
   ]
  },
  {
   "cell_type": "code",
   "execution_count": 24,
   "id": "15de8016",
   "metadata": {},
   "outputs": [
    {
     "name": "stdout",
     "output_type": "stream",
     "text": [
      "     0    1    2         3         4         5         6         7         8  \\\n",
      "0  0.0  0.0  0.0  0.338095  2.446481  0.272373  4.986246  0.530882  3.887259   \n",
      "1  0.0  0.0  0.0  0.335680  2.384849  0.264652  4.913375  0.516163  3.826405   \n",
      "2  0.0  0.0  0.0  0.332076  2.292847  0.253126  4.804595  0.494190  3.735563   \n",
      "3  0.0  0.0  0.0  0.331821  2.286331  0.252310  4.796891  0.492634  3.729129   \n",
      "4  0.0  0.0  0.0  0.331651  2.282010  0.251769  4.791781  0.491602  3.724862   \n",
      "\n",
      "     9  ...      9991  9992  9993      9994      9995  9996      9997  \\\n",
      "0  0.0  ...  0.754540   0.0   0.0  2.286638  1.836296   0.0  0.413335   \n",
      "1  0.0  ...  0.752776   0.0   0.0  2.248544  1.808139   0.0  0.403795   \n",
      "2  0.0  ...  0.750144   0.0   0.0  2.191678  1.766107   0.0  0.389555   \n",
      "3  0.0  ...  0.749958   0.0   0.0  2.187650  1.763130   0.0  0.388546   \n",
      "4  0.0  ...  0.749834   0.0   0.0  2.184979  1.761156   0.0  0.387877   \n",
      "\n",
      "       9998  9999  Original_Features  \n",
      "0  4.936240   0.0          16.832905  \n",
      "1  4.866179   0.0          16.534524  \n",
      "2  4.761594   0.0          16.089110  \n",
      "3  4.754187   0.0          16.057562  \n",
      "4  4.749274   0.0          16.036641  \n",
      "\n",
      "[5 rows x 10001 columns]\n"
     ]
    },
    {
     "data": {
      "text/html": [
       "<div>\n",
       "<style scoped>\n",
       "    .dataframe tbody tr th:only-of-type {\n",
       "        vertical-align: middle;\n",
       "    }\n",
       "\n",
       "    .dataframe tbody tr th {\n",
       "        vertical-align: top;\n",
       "    }\n",
       "\n",
       "    .dataframe thead th {\n",
       "        text-align: right;\n",
       "    }\n",
       "</style>\n",
       "<table border=\"1\" class=\"dataframe\">\n",
       "  <thead>\n",
       "    <tr style=\"text-align: right;\">\n",
       "      <th></th>\n",
       "      <th>0</th>\n",
       "      <th>1</th>\n",
       "      <th>2</th>\n",
       "      <th>3</th>\n",
       "      <th>4</th>\n",
       "      <th>5</th>\n",
       "      <th>6</th>\n",
       "      <th>7</th>\n",
       "      <th>8</th>\n",
       "      <th>9</th>\n",
       "      <th>...</th>\n",
       "      <th>9991</th>\n",
       "      <th>9992</th>\n",
       "      <th>9993</th>\n",
       "      <th>9994</th>\n",
       "      <th>9995</th>\n",
       "      <th>9996</th>\n",
       "      <th>9997</th>\n",
       "      <th>9998</th>\n",
       "      <th>9999</th>\n",
       "      <th>Original_Features</th>\n",
       "    </tr>\n",
       "  </thead>\n",
       "  <tbody>\n",
       "    <tr>\n",
       "      <th>0</th>\n",
       "      <td>0.0</td>\n",
       "      <td>0.0</td>\n",
       "      <td>0.0</td>\n",
       "      <td>0.338095</td>\n",
       "      <td>2.446481</td>\n",
       "      <td>0.272373</td>\n",
       "      <td>4.986246</td>\n",
       "      <td>0.530882</td>\n",
       "      <td>3.887259</td>\n",
       "      <td>0.0</td>\n",
       "      <td>...</td>\n",
       "      <td>0.754540</td>\n",
       "      <td>0.0</td>\n",
       "      <td>0.0</td>\n",
       "      <td>2.286638</td>\n",
       "      <td>1.836296</td>\n",
       "      <td>0.0</td>\n",
       "      <td>0.413335</td>\n",
       "      <td>4.936240</td>\n",
       "      <td>0.0</td>\n",
       "      <td>16.832905</td>\n",
       "    </tr>\n",
       "    <tr>\n",
       "      <th>1</th>\n",
       "      <td>0.0</td>\n",
       "      <td>0.0</td>\n",
       "      <td>0.0</td>\n",
       "      <td>0.335680</td>\n",
       "      <td>2.384849</td>\n",
       "      <td>0.264652</td>\n",
       "      <td>4.913375</td>\n",
       "      <td>0.516163</td>\n",
       "      <td>3.826405</td>\n",
       "      <td>0.0</td>\n",
       "      <td>...</td>\n",
       "      <td>0.752776</td>\n",
       "      <td>0.0</td>\n",
       "      <td>0.0</td>\n",
       "      <td>2.248544</td>\n",
       "      <td>1.808139</td>\n",
       "      <td>0.0</td>\n",
       "      <td>0.403795</td>\n",
       "      <td>4.866179</td>\n",
       "      <td>0.0</td>\n",
       "      <td>16.534524</td>\n",
       "    </tr>\n",
       "    <tr>\n",
       "      <th>2</th>\n",
       "      <td>0.0</td>\n",
       "      <td>0.0</td>\n",
       "      <td>0.0</td>\n",
       "      <td>0.332076</td>\n",
       "      <td>2.292847</td>\n",
       "      <td>0.253126</td>\n",
       "      <td>4.804595</td>\n",
       "      <td>0.494190</td>\n",
       "      <td>3.735563</td>\n",
       "      <td>0.0</td>\n",
       "      <td>...</td>\n",
       "      <td>0.750144</td>\n",
       "      <td>0.0</td>\n",
       "      <td>0.0</td>\n",
       "      <td>2.191678</td>\n",
       "      <td>1.766107</td>\n",
       "      <td>0.0</td>\n",
       "      <td>0.389555</td>\n",
       "      <td>4.761594</td>\n",
       "      <td>0.0</td>\n",
       "      <td>16.089110</td>\n",
       "    </tr>\n",
       "    <tr>\n",
       "      <th>3</th>\n",
       "      <td>0.0</td>\n",
       "      <td>0.0</td>\n",
       "      <td>0.0</td>\n",
       "      <td>0.331821</td>\n",
       "      <td>2.286331</td>\n",
       "      <td>0.252310</td>\n",
       "      <td>4.796891</td>\n",
       "      <td>0.492634</td>\n",
       "      <td>3.729129</td>\n",
       "      <td>0.0</td>\n",
       "      <td>...</td>\n",
       "      <td>0.749958</td>\n",
       "      <td>0.0</td>\n",
       "      <td>0.0</td>\n",
       "      <td>2.187650</td>\n",
       "      <td>1.763130</td>\n",
       "      <td>0.0</td>\n",
       "      <td>0.388546</td>\n",
       "      <td>4.754187</td>\n",
       "      <td>0.0</td>\n",
       "      <td>16.057562</td>\n",
       "    </tr>\n",
       "    <tr>\n",
       "      <th>4</th>\n",
       "      <td>0.0</td>\n",
       "      <td>0.0</td>\n",
       "      <td>0.0</td>\n",
       "      <td>0.331651</td>\n",
       "      <td>2.282010</td>\n",
       "      <td>0.251769</td>\n",
       "      <td>4.791781</td>\n",
       "      <td>0.491602</td>\n",
       "      <td>3.724862</td>\n",
       "      <td>0.0</td>\n",
       "      <td>...</td>\n",
       "      <td>0.749834</td>\n",
       "      <td>0.0</td>\n",
       "      <td>0.0</td>\n",
       "      <td>2.184979</td>\n",
       "      <td>1.761156</td>\n",
       "      <td>0.0</td>\n",
       "      <td>0.387877</td>\n",
       "      <td>4.749274</td>\n",
       "      <td>0.0</td>\n",
       "      <td>16.036641</td>\n",
       "    </tr>\n",
       "  </tbody>\n",
       "</table>\n",
       "<p>5 rows × 10001 columns</p>\n",
       "</div>"
      ],
      "text/plain": [
       "     0    1    2         3         4         5         6         7         8  \\\n",
       "0  0.0  0.0  0.0  0.338095  2.446481  0.272373  4.986246  0.530882  3.887259   \n",
       "1  0.0  0.0  0.0  0.335680  2.384849  0.264652  4.913375  0.516163  3.826405   \n",
       "2  0.0  0.0  0.0  0.332076  2.292847  0.253126  4.804595  0.494190  3.735563   \n",
       "3  0.0  0.0  0.0  0.331821  2.286331  0.252310  4.796891  0.492634  3.729129   \n",
       "4  0.0  0.0  0.0  0.331651  2.282010  0.251769  4.791781  0.491602  3.724862   \n",
       "\n",
       "     9  ...      9991  9992  9993      9994      9995  9996      9997  \\\n",
       "0  0.0  ...  0.754540   0.0   0.0  2.286638  1.836296   0.0  0.413335   \n",
       "1  0.0  ...  0.752776   0.0   0.0  2.248544  1.808139   0.0  0.403795   \n",
       "2  0.0  ...  0.750144   0.0   0.0  2.191678  1.766107   0.0  0.389555   \n",
       "3  0.0  ...  0.749958   0.0   0.0  2.187650  1.763130   0.0  0.388546   \n",
       "4  0.0  ...  0.749834   0.0   0.0  2.184979  1.761156   0.0  0.387877   \n",
       "\n",
       "       9998  9999  Original_Features  \n",
       "0  4.936240   0.0          16.832905  \n",
       "1  4.866179   0.0          16.534524  \n",
       "2  4.761594   0.0          16.089110  \n",
       "3  4.754187   0.0          16.057562  \n",
       "4  4.749274   0.0          16.036641  \n",
       "\n",
       "[5 rows x 10001 columns]"
      ]
     },
     "execution_count": 24,
     "metadata": {},
     "output_type": "execute_result"
    }
   ],
   "source": [
    "X_Rand_Features_train['Original_Features'] = np.array(X_train)\n",
    "X_Rand_Features_test['Original_Features'] = np.array(X_test)\n",
    "\n",
    "# Let's check all is working well\n",
    "print(X_Rand_Features_train.head())\n",
    "X_Rand_Features_test.head()"
   ]
  },
  {
   "cell_type": "markdown",
   "id": "9dcb72f4",
   "metadata": {},
   "source": [
    "As before...\n",
    "\n",
    "#### Building and Training our Regression Model"
   ]
  },
  {
   "cell_type": "code",
   "execution_count": 25,
   "id": "b2529212",
   "metadata": {},
   "outputs": [],
   "source": [
    "model_linReg_randfeatures = LinearRegression()"
   ]
  },
  {
   "cell_type": "markdown",
   "id": "63eb243d",
   "metadata": {},
   "source": [
    "First we train our model, with the \"training\" (a.k.a. in-sample) data."
   ]
  },
  {
   "cell_type": "code",
   "execution_count": 26,
   "id": "044df650",
   "metadata": {
    "scrolled": true
   },
   "outputs": [
    {
     "data": {
      "text/html": [
       "<style>#sk-container-id-2 {color: black;background-color: white;}#sk-container-id-2 pre{padding: 0;}#sk-container-id-2 div.sk-toggleable {background-color: white;}#sk-container-id-2 label.sk-toggleable__label {cursor: pointer;display: block;width: 100%;margin-bottom: 0;padding: 0.3em;box-sizing: border-box;text-align: center;}#sk-container-id-2 label.sk-toggleable__label-arrow:before {content: \"▸\";float: left;margin-right: 0.25em;color: #696969;}#sk-container-id-2 label.sk-toggleable__label-arrow:hover:before {color: black;}#sk-container-id-2 div.sk-estimator:hover label.sk-toggleable__label-arrow:before {color: black;}#sk-container-id-2 div.sk-toggleable__content {max-height: 0;max-width: 0;overflow: hidden;text-align: left;background-color: #f0f8ff;}#sk-container-id-2 div.sk-toggleable__content pre {margin: 0.2em;color: black;border-radius: 0.25em;background-color: #f0f8ff;}#sk-container-id-2 input.sk-toggleable__control:checked~div.sk-toggleable__content {max-height: 200px;max-width: 100%;overflow: auto;}#sk-container-id-2 input.sk-toggleable__control:checked~label.sk-toggleable__label-arrow:before {content: \"▾\";}#sk-container-id-2 div.sk-estimator input.sk-toggleable__control:checked~label.sk-toggleable__label {background-color: #d4ebff;}#sk-container-id-2 div.sk-label input.sk-toggleable__control:checked~label.sk-toggleable__label {background-color: #d4ebff;}#sk-container-id-2 input.sk-hidden--visually {border: 0;clip: rect(1px 1px 1px 1px);clip: rect(1px, 1px, 1px, 1px);height: 1px;margin: -1px;overflow: hidden;padding: 0;position: absolute;width: 1px;}#sk-container-id-2 div.sk-estimator {font-family: monospace;background-color: #f0f8ff;border: 1px dotted black;border-radius: 0.25em;box-sizing: border-box;margin-bottom: 0.5em;}#sk-container-id-2 div.sk-estimator:hover {background-color: #d4ebff;}#sk-container-id-2 div.sk-parallel-item::after {content: \"\";width: 100%;border-bottom: 1px solid gray;flex-grow: 1;}#sk-container-id-2 div.sk-label:hover label.sk-toggleable__label {background-color: #d4ebff;}#sk-container-id-2 div.sk-serial::before {content: \"\";position: absolute;border-left: 1px solid gray;box-sizing: border-box;top: 0;bottom: 0;left: 50%;z-index: 0;}#sk-container-id-2 div.sk-serial {display: flex;flex-direction: column;align-items: center;background-color: white;padding-right: 0.2em;padding-left: 0.2em;position: relative;}#sk-container-id-2 div.sk-item {position: relative;z-index: 1;}#sk-container-id-2 div.sk-parallel {display: flex;align-items: stretch;justify-content: center;background-color: white;position: relative;}#sk-container-id-2 div.sk-item::before, #sk-container-id-2 div.sk-parallel-item::before {content: \"\";position: absolute;border-left: 1px solid gray;box-sizing: border-box;top: 0;bottom: 0;left: 50%;z-index: -1;}#sk-container-id-2 div.sk-parallel-item {display: flex;flex-direction: column;z-index: 1;position: relative;background-color: white;}#sk-container-id-2 div.sk-parallel-item:first-child::after {align-self: flex-end;width: 50%;}#sk-container-id-2 div.sk-parallel-item:last-child::after {align-self: flex-start;width: 50%;}#sk-container-id-2 div.sk-parallel-item:only-child::after {width: 0;}#sk-container-id-2 div.sk-dashed-wrapped {border: 1px dashed gray;margin: 0 0.4em 0.5em 0.4em;box-sizing: border-box;padding-bottom: 0.4em;background-color: white;}#sk-container-id-2 div.sk-label label {font-family: monospace;font-weight: bold;display: inline-block;line-height: 1.2em;}#sk-container-id-2 div.sk-label-container {text-align: center;}#sk-container-id-2 div.sk-container {/* jupyter's `normalize.less` sets `[hidden] { display: none; }` but bootstrap.min.css set `[hidden] { display: none !important; }` so we also need the `!important` here to be able to override the default hidden behavior on the sphinx rendered scikit-learn.org. See: https://github.com/scikit-learn/scikit-learn/issues/21755 */display: inline-block !important;position: relative;}#sk-container-id-2 div.sk-text-repr-fallback {display: none;}</style><div id=\"sk-container-id-2\" class=\"sk-top-container\"><div class=\"sk-text-repr-fallback\"><pre>LinearRegression()</pre><b>In a Jupyter environment, please rerun this cell to show the HTML representation or trust the notebook. <br />On GitHub, the HTML representation is unable to render, please try loading this page with nbviewer.org.</b></div><div class=\"sk-container\" hidden><div class=\"sk-item\"><div class=\"sk-estimator sk-toggleable\"><input class=\"sk-toggleable__control sk-hidden--visually\" id=\"sk-estimator-id-2\" type=\"checkbox\" checked><label for=\"sk-estimator-id-2\" class=\"sk-toggleable__label sk-toggleable__label-arrow\">LinearRegression</label><div class=\"sk-toggleable__content\"><pre>LinearRegression()</pre></div></div></div></div></div>"
      ],
      "text/plain": [
       "LinearRegression()"
      ]
     },
     "execution_count": 26,
     "metadata": {},
     "output_type": "execute_result"
    }
   ],
   "source": [
    "model_linReg_randfeatures.fit(X_Rand_Features_train, Y_train)"
   ]
  },
  {
   "cell_type": "markdown",
   "id": "83dddb83",
   "metadata": {},
   "source": [
    "It remains to train our random neural network (or random feature model)"
   ]
  },
  {
   "cell_type": "code",
   "execution_count": 27,
   "id": "88d9fd9a",
   "metadata": {},
   "outputs": [
    {
     "data": {
      "text/html": [
       "<style>#sk-container-id-3 {color: black;background-color: white;}#sk-container-id-3 pre{padding: 0;}#sk-container-id-3 div.sk-toggleable {background-color: white;}#sk-container-id-3 label.sk-toggleable__label {cursor: pointer;display: block;width: 100%;margin-bottom: 0;padding: 0.3em;box-sizing: border-box;text-align: center;}#sk-container-id-3 label.sk-toggleable__label-arrow:before {content: \"▸\";float: left;margin-right: 0.25em;color: #696969;}#sk-container-id-3 label.sk-toggleable__label-arrow:hover:before {color: black;}#sk-container-id-3 div.sk-estimator:hover label.sk-toggleable__label-arrow:before {color: black;}#sk-container-id-3 div.sk-toggleable__content {max-height: 0;max-width: 0;overflow: hidden;text-align: left;background-color: #f0f8ff;}#sk-container-id-3 div.sk-toggleable__content pre {margin: 0.2em;color: black;border-radius: 0.25em;background-color: #f0f8ff;}#sk-container-id-3 input.sk-toggleable__control:checked~div.sk-toggleable__content {max-height: 200px;max-width: 100%;overflow: auto;}#sk-container-id-3 input.sk-toggleable__control:checked~label.sk-toggleable__label-arrow:before {content: \"▾\";}#sk-container-id-3 div.sk-estimator input.sk-toggleable__control:checked~label.sk-toggleable__label {background-color: #d4ebff;}#sk-container-id-3 div.sk-label input.sk-toggleable__control:checked~label.sk-toggleable__label {background-color: #d4ebff;}#sk-container-id-3 input.sk-hidden--visually {border: 0;clip: rect(1px 1px 1px 1px);clip: rect(1px, 1px, 1px, 1px);height: 1px;margin: -1px;overflow: hidden;padding: 0;position: absolute;width: 1px;}#sk-container-id-3 div.sk-estimator {font-family: monospace;background-color: #f0f8ff;border: 1px dotted black;border-radius: 0.25em;box-sizing: border-box;margin-bottom: 0.5em;}#sk-container-id-3 div.sk-estimator:hover {background-color: #d4ebff;}#sk-container-id-3 div.sk-parallel-item::after {content: \"\";width: 100%;border-bottom: 1px solid gray;flex-grow: 1;}#sk-container-id-3 div.sk-label:hover label.sk-toggleable__label {background-color: #d4ebff;}#sk-container-id-3 div.sk-serial::before {content: \"\";position: absolute;border-left: 1px solid gray;box-sizing: border-box;top: 0;bottom: 0;left: 50%;z-index: 0;}#sk-container-id-3 div.sk-serial {display: flex;flex-direction: column;align-items: center;background-color: white;padding-right: 0.2em;padding-left: 0.2em;position: relative;}#sk-container-id-3 div.sk-item {position: relative;z-index: 1;}#sk-container-id-3 div.sk-parallel {display: flex;align-items: stretch;justify-content: center;background-color: white;position: relative;}#sk-container-id-3 div.sk-item::before, #sk-container-id-3 div.sk-parallel-item::before {content: \"\";position: absolute;border-left: 1px solid gray;box-sizing: border-box;top: 0;bottom: 0;left: 50%;z-index: -1;}#sk-container-id-3 div.sk-parallel-item {display: flex;flex-direction: column;z-index: 1;position: relative;background-color: white;}#sk-container-id-3 div.sk-parallel-item:first-child::after {align-self: flex-end;width: 50%;}#sk-container-id-3 div.sk-parallel-item:last-child::after {align-self: flex-start;width: 50%;}#sk-container-id-3 div.sk-parallel-item:only-child::after {width: 0;}#sk-container-id-3 div.sk-dashed-wrapped {border: 1px dashed gray;margin: 0 0.4em 0.5em 0.4em;box-sizing: border-box;padding-bottom: 0.4em;background-color: white;}#sk-container-id-3 div.sk-label label {font-family: monospace;font-weight: bold;display: inline-block;line-height: 1.2em;}#sk-container-id-3 div.sk-label-container {text-align: center;}#sk-container-id-3 div.sk-container {/* jupyter's `normalize.less` sets `[hidden] { display: none; }` but bootstrap.min.css set `[hidden] { display: none !important; }` so we also need the `!important` here to be able to override the default hidden behavior on the sphinx rendered scikit-learn.org. See: https://github.com/scikit-learn/scikit-learn/issues/21755 */display: inline-block !important;position: relative;}#sk-container-id-3 div.sk-text-repr-fallback {display: none;}</style><div id=\"sk-container-id-3\" class=\"sk-top-container\"><div class=\"sk-text-repr-fallback\"><pre>LinearRegression()</pre><b>In a Jupyter environment, please rerun this cell to show the HTML representation or trust the notebook. <br />On GitHub, the HTML representation is unable to render, please try loading this page with nbviewer.org.</b></div><div class=\"sk-container\" hidden><div class=\"sk-item\"><div class=\"sk-estimator sk-toggleable\"><input class=\"sk-toggleable__control sk-hidden--visually\" id=\"sk-estimator-id-3\" type=\"checkbox\" checked><label for=\"sk-estimator-id-3\" class=\"sk-toggleable__label sk-toggleable__label-arrow\">LinearRegression</label><div class=\"sk-toggleable__content\"><pre>LinearRegression()</pre></div></div></div></div></div>"
      ],
      "text/plain": [
       "LinearRegression()"
      ]
     },
     "execution_count": 27,
     "metadata": {},
     "output_type": "execute_result"
    }
   ],
   "source": [
    "# Instantiate Model\n",
    "model_linReg_randfeatures = LinearRegression()\n",
    "# Train Model\n",
    "# fit model\n",
    "model_linReg_randfeatures.fit(X_Rand_Features_train, Y_train)"
   ]
  },
  {
   "cell_type": "markdown",
   "id": "9ed8a928",
   "metadata": {},
   "source": [
    "Now we'll predict the test data given our input train data!"
   ]
  },
  {
   "cell_type": "code",
   "execution_count": 28,
   "id": "8b636545",
   "metadata": {},
   "outputs": [],
   "source": [
    "# Generate Prediction\n",
    "Yhat_train_linReg_RF = model_linReg_randfeatures.predict(X_Rand_Features_train)\n",
    "Yhat_train_linReg_RF = Yhat_train_linReg_RF.reshape([-1,])"
   ]
  },
  {
   "cell_type": "markdown",
   "id": "54ccc550",
   "metadata": {},
   "source": [
    "We'll record our training performance while we're at it also."
   ]
  },
  {
   "cell_type": "code",
   "execution_count": 29,
   "id": "6a1ad9a1",
   "metadata": {},
   "outputs": [],
   "source": [
    "Yhat_test_linReg_RF = model_linReg_randfeatures.predict(X_Rand_Features_test)\n",
    "# Yhat_test_linReg = pd.DataFrame(Yhat_test_linReg)\n",
    "Yhat_test_linReg_RF = Yhat_test_linReg_RF.reshape([-1,])"
   ]
  },
  {
   "cell_type": "markdown",
   "id": "d4c3e054",
   "metadata": {},
   "source": [
    "---"
   ]
  },
  {
   "cell_type": "markdown",
   "id": "b1d1f54a",
   "metadata": {},
   "source": [
    "# Let's see how our new random feature model measures up"
   ]
  },
  {
   "cell_type": "code",
   "execution_count": 30,
   "id": "9d30b58b",
   "metadata": {},
   "outputs": [
    {
     "data": {
      "text/plain": [
       "array([16.8544477 , 16.5558245 , 16.11005089, 16.07847718, 16.05753918,\n",
       "       16.1121284 , 16.11727986, 16.04183441, 15.85654529, 15.41592282,\n",
       "       15.10516925, 14.84260724, 14.40913006, 14.19509176, 14.04594656,\n",
       "       14.10710045, 13.90793559, 13.75729477, 13.82642496, 13.53876962,\n",
       "       13.0997258 , 12.62196234, 12.50405837, 12.58315902, 12.66533426,\n",
       "       12.82694295, 12.93612232, 13.08510146, 13.1772478 , 13.27321606,\n",
       "       13.05992572, 12.86674302, 12.64422988, 12.63467492, 12.44722557,\n",
       "       12.12591901, 11.8356049 , 11.74379102, 11.80187032, 11.6702567 ,\n",
       "       11.4144248 , 11.2193313 , 11.01725825, 10.92378268, 10.64061419,\n",
       "       10.69993968, 10.75668944, 11.00088886, 10.98493562, 10.81618164,\n",
       "       10.78419243, 10.73500379, 10.8486697 , 11.02648074, 11.18252246,\n",
       "       11.38725459, 11.25032343, 11.14480021, 10.9975658 , 11.17728796,\n",
       "       11.40678033, 11.52850653, 11.57320864, 11.66560409, 11.77104427,\n",
       "       11.71371261, 11.64940142, 11.5633209 , 11.45921026, 11.27441968,\n",
       "       11.25431206, 11.23669712, 12.00585481, 12.69350187, 13.56976143,\n",
       "       13.6285887 , 13.67221069, 13.58131118, 13.62809048, 13.75629705,\n",
       "       14.00747571, 14.34780946, 14.53741968, 14.70866699, 14.65283127,\n",
       "       14.63380376, 14.53501034, 14.42566457, 14.47501928, 14.47493624,\n",
       "       14.50069387, 14.46795702, 14.44361197, 14.45374882, 14.43380726,\n",
       "       14.1838748 , 13.95072595, 13.66838846, 13.75903854, 13.91508058,\n",
       "       14.23397716, 14.44086984, 14.49703803, 14.36658787, 14.25375264,\n",
       "       14.34764371, 14.34515133, 14.22591782, 13.958952  , 13.77781694,\n",
       "       13.73693739, 13.88101418, 14.11042415, 14.24760442, 14.17174379,\n",
       "       14.06696791, 13.87561328, 13.73294908, 13.58421937, 13.62219137,\n",
       "       13.48600785, 13.36777142, 13.1635375 , 13.21264342, 13.20408554,\n",
       "       13.29199446, 13.36827059, 13.59668317, 13.63448845, 13.60673634,\n",
       "       13.43449195, 13.26889528, 13.06549269, 13.08044885, 13.17866006,\n",
       "       12.88975853, 12.33472217, 11.86668038, 11.9323208 , 11.98898753,\n",
       "       12.11254118, 12.01200335, 12.07423736, 11.99713054, 11.96912932,\n",
       "       11.84241773, 11.67873186, 11.72941643, 11.88296577, 12.0169057 ,\n",
       "       12.14286901, 12.26334839, 12.45852494, 12.50023581, 12.53887242,\n",
       "       12.60152192, 12.58714765, 12.46259692, 12.25362736, 12.15583102,\n",
       "       12.15657867, 12.14004385, 12.03726244, 11.85438298, 11.77769167,\n",
       "       11.68737341, 11.65970466, 11.58184956, 11.47358422, 11.29909688,\n",
       "       10.92968211, 10.66711979, 10.41710397, 10.53176727, 10.68963739,\n",
       "       10.85332295, 10.92959908, 10.73708098, 10.78045387, 10.8321352 ,\n",
       "       10.96216986, 10.88065923, 10.76400177, 10.84260452, 10.85731126,\n",
       "       10.40771508, 10.08300179,  9.92247322, 10.00132476,  9.88824043,\n",
       "        9.55164555,  9.18206439,  8.77658812,  8.425702  ,  8.30929397,\n",
       "        8.6658304 ,  8.9460907 ,  9.00566562,  8.77301562,  8.85469233,\n",
       "        9.18829597,  9.26914199,  9.12897048,  8.90462957,  8.70970182,\n",
       "        8.49217375,  8.62868941,  8.78414955,  9.03507941,  8.95705856,\n",
       "        8.86142276,  8.92166261,  8.77941359,  8.65253656,  8.35507683,\n",
       "        8.1601494 ,  7.99596451,  7.66244374,  7.60677362,  7.59480901,\n",
       "        7.6705866 ,  7.54877783,  7.30083905,  6.96382867,  6.67309937,\n",
       "        6.48415425,  6.67102234,  6.91746519,  7.21259846,  7.07915691,\n",
       "        6.9380712 ,  6.82565132,  6.8950311 ,  6.96881438,  7.15726112,\n",
       "        7.42007256,  7.62638335,  7.61067953,  7.69202393,  7.70739544,\n",
       "        7.91561719,  7.91129641,  7.90805575,  7.78250794,  7.63186712,\n",
       "        7.52999975,  7.47000917,  7.4970133 ,  7.49202791,  7.4933573 ,\n",
       "        7.5539293 ,  7.75251289,  7.9597374 ,  8.17917628,  8.18490931,\n",
       "        8.16114584,  8.00335908,  7.92591964,  7.8356017 ,  7.71844601,\n",
       "        7.60461371,  7.48288798,  7.33149935,  7.36548319,  7.42223295,\n",
       "        7.77079228,  7.94353489,  8.15109202,  8.3502572 ,  8.51186588,\n",
       "        8.57044404,  8.50314192,  8.47929541,  8.5164364 ,  8.6256985 ,\n",
       "        8.88186286,  9.17907316,  9.21887323,  9.10886285,  8.97824662,\n",
       "        8.97135011,  8.84355872,  8.76096765,  8.6360011 ,  8.66749209,\n",
       "        8.47597139,  8.49931969,  8.45935354,  8.51851296,  8.45652838,\n",
       "        8.33621507,  8.23900062,  8.08054925,  7.90174114,  7.76123716,\n",
       "        7.5283379 ,  7.54935925,  7.62696461,  7.89816801,  8.03318806])"
      ]
     },
     "execution_count": 30,
     "metadata": {},
     "output_type": "execute_result"
    }
   ],
   "source": [
    "# Append Predictions to Dataframe\n",
    "time_series_comparison['Predictions_Test_RF'] = Yhat_test_linReg_RF\n",
    "\n",
    "# Check nothing went wrong (Safefy First!)\n",
    "Yhat_test_linReg"
   ]
  },
  {
   "cell_type": "markdown",
   "id": "5ac185ef",
   "metadata": {},
   "source": [
    "## Let's Visualize How we did with our random Features!"
   ]
  },
  {
   "cell_type": "code",
   "execution_count": 31,
   "id": "95007b9d",
   "metadata": {},
   "outputs": [
    {
     "data": {
      "image/png": "[encoded data removed]",
      "text/plain": [
       "<Figure size 640x480 with 1 Axes>"
      ]
     },
     "metadata": {},
     "output_type": "display_data"
    }
   ],
   "source": [
    "# Activate Seaborn (<- this makes plots pretty :3)\n",
    "sns.set()\n",
    "\n",
    "# Plot!\n",
    "plt.plot(time_series_comparison)\n",
    "\n",
    "# Now we'll need a legend also\n",
    "plt.legend(time_series_comparison.columns);"
   ]
  },
  {
   "cell_type": "markdown",
   "id": "0583028d",
   "metadata": {},
   "source": [
    "To get a better look, let's plot the time-series of squared prediction errors!"
   ]
  },
  {
   "cell_type": "code",
   "execution_count": 32,
   "id": "630143f7",
   "metadata": {},
   "outputs": [],
   "source": [
    "# Get timeseries of Squred prediction errors, for vanilla regression model!\n",
    "SSE_LinReg = np.abs(time_series_comparison['Targets_Test'] - time_series_comparison['Predictions_Test'])**2\n",
    "\n",
    "# Get timeseries of Squred prediction errors, for random feature model!\n",
    "SSE_LinReg_RF = np.abs(time_series_comparison['Targets_Test'] - time_series_comparison['Predictions_Test_RF'])**2"
   ]
  },
  {
   "cell_type": "markdown",
   "id": "38893248",
   "metadata": {},
   "source": [
    "We'll make a pandas dataframe!"
   ]
  },
  {
   "cell_type": "code",
   "execution_count": 33,
   "id": "0e34ef99",
   "metadata": {},
   "outputs": [
    {
     "data": {
      "text/html": [
       "<div>\n",
       "<style scoped>\n",
       "    .dataframe tbody tr th:only-of-type {\n",
       "        vertical-align: middle;\n",
       "    }\n",
       "\n",
       "    .dataframe tbody tr th {\n",
       "        vertical-align: top;\n",
       "    }\n",
       "\n",
       "    .dataframe thead th {\n",
       "        text-align: right;\n",
       "    }\n",
       "</style>\n",
       "<table border=\"1\" class=\"dataframe\">\n",
       "  <thead>\n",
       "    <tr style=\"text-align: right;\">\n",
       "      <th></th>\n",
       "      <th>Lin. Reg.</th>\n",
       "      <th>Lin. Reg. + RF</th>\n",
       "    </tr>\n",
       "    <tr>\n",
       "      <th>Date</th>\n",
       "      <th></th>\n",
       "      <th></th>\n",
       "    </tr>\n",
       "  </thead>\n",
       "  <tbody>\n",
       "    <tr>\n",
       "      <th>2008-01-07</th>\n",
       "      <td>0.467597</td>\n",
       "      <td>1.753364e-01</td>\n",
       "    </tr>\n",
       "    <tr>\n",
       "      <th>2008-01-08</th>\n",
       "      <td>0.676992</td>\n",
       "      <td>2.173681e-07</td>\n",
       "    </tr>\n",
       "    <tr>\n",
       "      <th>2008-01-09</th>\n",
       "      <td>0.025271</td>\n",
       "      <td>1.120447e-02</td>\n",
       "    </tr>\n",
       "    <tr>\n",
       "      <th>2008-01-10</th>\n",
       "      <td>0.000864</td>\n",
       "      <td>1.795397e-02</td>\n",
       "    </tr>\n",
       "    <tr>\n",
       "      <th>2008-01-11</th>\n",
       "      <td>0.025881</td>\n",
       "      <td>2.332962e-03</td>\n",
       "    </tr>\n",
       "  </tbody>\n",
       "</table>\n",
       "</div>"
      ],
      "text/plain": [
       "            Lin. Reg.  Lin. Reg. + RF\n",
       "Date                                 \n",
       "2008-01-07   0.467597    1.753364e-01\n",
       "2008-01-08   0.676992    2.173681e-07\n",
       "2008-01-09   0.025271    1.120447e-02\n",
       "2008-01-10   0.000864    1.795397e-02\n",
       "2008-01-11   0.025881    2.332962e-03"
      ]
     },
     "execution_count": 33,
     "metadata": {},
     "output_type": "execute_result"
    }
   ],
   "source": [
    "# Append Predictions to Dataframe\n",
    "time_series_comparison_errors = pd.DataFrame({'Lin. Reg.':SSE_LinReg,'Lin. Reg. + RF':SSE_LinReg_RF})\n",
    "\n",
    "# Check nothing went wrong (Safefy First!)\n",
    "time_series_comparison_errors.head()"
   ]
  },
  {
   "cell_type": "code",
   "execution_count": 34,
   "id": "06867ca7",
   "metadata": {},
   "outputs": [
    {
     "data": {
      "image/png": "[encoded data removed]",
      "text/plain": [
       "<Figure size 640x480 with 1 Axes>"
      ]
     },
     "metadata": {},
     "output_type": "display_data"
    }
   ],
   "source": [
    "# Activate Seaborn (<- this makes plots pretty :3)\n",
    "sns.set()\n",
    "\n",
    "# Plot!\n",
    "plt.plot(time_series_comparison_errors)\n",
    "\n",
    "# Now we'll need a legend also\n",
    "plt.legend(time_series_comparison_errors.columns);"
   ]
  },
  {
   "cell_type": "markdown",
   "id": "6da58a62",
   "metadata": {},
   "source": [
    "Let's look at some statistics to see when and if we ever do better with the random feature?\n",
    "\n",
    "Typically, is:\n",
    "\n",
    "time_series_comparison_errors['Lin. Reg.'] > time_series_comparison_errors['Lin. Reg. + RF']?\n",
    "\n",
    "I.e. is this quantity positive?"
   ]
  },
  {
   "cell_type": "code",
   "execution_count": 35,
   "id": "51d4cdf3",
   "metadata": {},
   "outputs": [
    {
     "name": "stdout",
     "output_type": "stream",
     "text": [
      "Average gain by random features\n"
     ]
    },
    {
     "data": {
      "text/plain": [
       "0.12058742698283209"
      ]
     },
     "execution_count": 35,
     "metadata": {},
     "output_type": "execute_result"
    }
   ],
   "source": [
    "print('Average gain by random features') \n",
    "np.mean(time_series_comparison_errors['Lin. Reg.']-time_series_comparison_errors['Lin. Reg. + RF'])"
   ]
  },
  {
   "cell_type": "markdown",
   "id": "0dc8c4cd",
   "metadata": {},
   "source": [
    "What about the variance in the two model's errors?"
   ]
  },
  {
   "cell_type": "code",
   "execution_count": 36,
   "id": "9e6cc80e",
   "metadata": {},
   "outputs": [
    {
     "name": "stdout",
     "output_type": "stream",
     "text": [
      "Variance\n"
     ]
    },
    {
     "data": {
      "text/plain": [
       "0.12057285361390176"
      ]
     },
     "execution_count": 36,
     "metadata": {},
     "output_type": "execute_result"
    }
   ],
   "source": [
    "print('Variance')\n",
    "np.var(time_series_comparison_errors['Lin. Reg.']-time_series_comparison_errors['Lin. Reg. + RF'])"
   ]
  },
  {
   "cell_type": "markdown",
   "id": "fc4107dc",
   "metadata": {},
   "source": [
    "How often are the random features paying off?"
   ]
  },
  {
   "cell_type": "code",
   "execution_count": 37,
   "id": "8b98f8bc",
   "metadata": {},
   "outputs": [
    {
     "name": "stdout",
     "output_type": "stream",
     "text": [
      "Linear Regression has a larger error\n",
      "0.8233333333333334\n",
      "percent of the time!\n"
     ]
    }
   ],
   "source": [
    "print('Linear Regression has a larger error')\n",
    "print(np.mean(time_series_comparison_errors['Lin. Reg.']>time_series_comparison_errors['Lin. Reg. + RF']))\n",
    "print('percent of the time!')"
   ]
  },
  {
   "cell_type": "markdown",
   "id": "a8595c49",
   "metadata": {},
   "source": [
    "---"
   ]
  },
  {
   "cell_type": "markdown",
   "id": "f1eda273",
   "metadata": {},
   "source": [
    "# What conclusion do you draw?"
   ]
  }
 ],
 "metadata": {
  "kernelspec": {
   "display_name": "Python 3 (ipykernel)",
   "language": "python",
   "name": "python3"
  },
  "language_info": {
   "codemirror_mode": {
    "name": "ipython",
    "version": 3
   },
   "file_extension": ".py",
   "mimetype": "text/x-python",
   "name": "python",
   "nbconvert_exporter": "python",
   "pygments_lexer": "ipython3",
   "version": "3.9.12"
  }
 },
 "nbformat": 4,
 "nbformat_minor": 5
}
