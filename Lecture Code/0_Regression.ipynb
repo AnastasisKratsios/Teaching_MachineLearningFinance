{
 "cells": [
  {
   "cell_type": "markdown",
   "id": "9c82a17e",
   "metadata": {},
   "source": [
    "# Initializations"
   ]
  },
  {
   "cell_type": "markdown",
   "id": "17c1d1e2",
   "metadata": {},
   "source": [
    "Initialize/Import some basic packages\n",
    "\n",
    "*Make sure to comment your code so you can remember what it does in 2+ days :P*"
   ]
  },
  {
   "cell_type": "code",
   "execution_count": 8,
   "id": "9c54e59f",
   "metadata": {},
   "outputs": [],
   "source": [
    "import numpy as np\n",
    "import matplotlib as plot\n",
    "import seaborn as sns\n",
    "import pandas as pd\n",
    "import math"
   ]
  },
  {
   "cell_type": "markdown",
   "id": "9e24fe17",
   "metadata": {},
   "source": [
    "ML Models"
   ]
  },
  {
   "cell_type": "code",
   "execution_count": 10,
   "id": "3d7568ab",
   "metadata": {},
   "outputs": [
    {
     "ename": "ModuleNotFoundError",
     "evalue": "No module named 'sklearn'",
     "output_type": "error",
     "traceback": [
      "\u001b[0;31m---------------------------------------------------------------------------\u001b[0m",
      "\u001b[0;31mModuleNotFoundError\u001b[0m                       Traceback (most recent call last)",
      "Cell \u001b[0;32mIn [10], line 1\u001b[0m\n\u001b[0;32m----> 1\u001b[0m \u001b[38;5;28;01mfrom\u001b[39;00m \u001b[38;5;21;01msklearn\u001b[39;00m\u001b[38;5;21;01m.\u001b[39;00m\u001b[38;5;21;01mlinear_model\u001b[39;00m \u001b[38;5;28;01mimport\u001b[39;00m LinearRegression\n",
      "\u001b[0;31mModuleNotFoundError\u001b[0m: No module named 'sklearn'"
     ]
    }
   ],
   "source": [
    "from sklearn.linear_model import LinearRegression"
   ]
  },
  {
   "cell_type": "markdown",
   "id": "e3ff5686",
   "metadata": {},
   "source": [
    "---\n",
    "\n",
    "Let's generate some fake data\n",
    "\n",
    "---"
   ]
  },
  {
   "cell_type": "markdown",
   "id": "d3045797",
   "metadata": {},
   "source": [
    "Let's fix some parameters\n",
    "\n",
    "*Fixing things ahead of time will make it easy to modify our code on the fly!*"
   ]
  },
  {
   "cell_type": "code",
   "execution_count": 25,
   "id": "c4d3125e",
   "metadata": {},
   "outputs": [],
   "source": [
    "# Number of training points\n",
    "N = 10\n",
    "# Dimension of Input Space\n",
    "d = 2"
   ]
  },
  {
   "cell_type": "markdown",
   "id": "915e5468",
   "metadata": {},
   "source": [
    "#### Inputs"
   ]
  },
  {
   "cell_type": "code",
   "execution_count": 31,
   "id": "46801445",
   "metadata": {},
   "outputs": [
    {
     "data": {
      "text/plain": [
       "array([[ 0.6446058 , -2.03961442],\n",
       "       [ 0.53370303,  0.61242459],\n",
       "       [ 0.54351973,  0.09992261],\n",
       "       [-0.5788139 ,  0.71625235],\n",
       "       [ 1.91394763,  1.42546205],\n",
       "       [-0.40318451, -0.43617906],\n",
       "       [-0.45974422,  0.64959778],\n",
       "       [ 1.42469593, -0.295073  ],\n",
       "       [-0.94695774, -0.60594392],\n",
       "       [ 0.73383264,  0.88888249]])"
      ]
     },
     "execution_count": 31,
     "metadata": {},
     "output_type": "execute_result"
    }
   ],
   "source": [
    "# A Random set of N inputs in 2 dimensions\n",
    "X = np.random.normal(0,1,np.array([N,d]))\n",
    "X"
   ]
  },
  {
   "cell_type": "markdown",
   "id": "be5c6825",
   "metadata": {},
   "source": [
    "#### Outputs"
   ]
  },
  {
   "cell_type": "code",
   "execution_count": 32,
   "id": "868186da",
   "metadata": {},
   "outputs": [
    {
     "data": {
      "text/plain": [
       "array([ 0.43416264, -0.87390574,  0.32566877, -0.83621643,  1.23208586,\n",
       "        0.8370354 , -0.32763228,  1.40788468,  1.92962138, -1.3739048 ])"
      ]
     },
     "execution_count": 32,
     "metadata": {},
     "output_type": "execute_result"
    }
   ],
   "source": [
    "# A Random set of N outputs in 1 dimensions\n",
    "Y = np.random.normal(0,1,N)\n",
    "Y"
   ]
  },
  {
   "cell_type": "markdown",
   "id": "45ba49aa",
   "metadata": {},
   "source": [
    "### Building our Regression Model"
   ]
  },
  {
   "cell_type": "code",
   "execution_count": 1,
   "id": "9b2681d8",
   "metadata": {},
   "outputs": [
    {
     "ename": "NameError",
     "evalue": "name 'LinearRegression' is not defined",
     "output_type": "error",
     "traceback": [
      "\u001b[0;31m---------------------------------------------------------------------------\u001b[0m",
      "\u001b[0;31mNameError\u001b[0m                                 Traceback (most recent call last)",
      "Cell \u001b[0;32mIn [1], line 1\u001b[0m\n\u001b[0;32m----> 1\u001b[0m model \u001b[38;5;241m=\u001b[39m LinearRegression()\n",
      "\u001b[0;31mNameError\u001b[0m: name 'LinearRegression' is not defined"
     ]
    }
   ],
   "source": [
    "model = LinearRegression()"
   ]
  },
  {
   "cell_type": "markdown",
   "id": "ac577eae",
   "metadata": {},
   "source": [
    "### Applying Our Regression Model to get Predictions"
   ]
  },
  {
   "cell_type": "code",
   "execution_count": 3,
   "id": "7d78ad54",
   "metadata": {},
   "outputs": [
    {
     "ename": "NameError",
     "evalue": "name 'model' is not defined",
     "output_type": "error",
     "traceback": [
      "\u001b[0;31m---------------------------------------------------------------------------\u001b[0m",
      "\u001b[0;31mNameError\u001b[0m                                 Traceback (most recent call last)",
      "Cell \u001b[0;32mIn [3], line 1\u001b[0m\n\u001b[0;32m----> 1\u001b[0m y_hat \u001b[38;5;241m=\u001b[39m model\u001b[38;5;241m.\u001b[39mfit(x, y)\n",
      "\u001b[0;31mNameError\u001b[0m: name 'model' is not defined"
     ]
    }
   ],
   "source": [
    "y_hat = model.fit(x, y)"
   ]
  },
  {
   "cell_type": "code",
   "execution_count": null,
   "id": "82c362d0",
   "metadata": {},
   "outputs": [],
   "source": []
  }
 ],
 "metadata": {
  "kernelspec": {
   "display_name": "Python 3 (ipykernel)",
   "language": "python",
   "name": "python3"
  },
  "language_info": {
   "codemirror_mode": {
    "name": "ipython",
    "version": 3
   },
   "file_extension": ".py",
   "mimetype": "text/x-python",
   "name": "python",
   "nbconvert_exporter": "python",
   "pygments_lexer": "ipython3",
   "version": "3.11.0rc1"
  }
 },
 "nbformat": 4,
 "nbformat_minor": 5
}
