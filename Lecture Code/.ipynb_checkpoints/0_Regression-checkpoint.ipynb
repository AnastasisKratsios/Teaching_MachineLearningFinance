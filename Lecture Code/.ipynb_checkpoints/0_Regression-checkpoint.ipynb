{
 "cells": [
  {
   "cell_type": "markdown",
   "id": "9c82a17e",
   "metadata": {},
   "source": [
    "# Initializations"
   ]
  },
  {
   "cell_type": "markdown",
   "id": "17c1d1e2",
   "metadata": {},
   "source": [
    "Initialize/Import some basic packages\n",
    "\n",
    "*Make sure to comment your code so you can remember what it does in 2+ days :P*"
   ]
  },
  {
   "cell_type": "code",
   "execution_count": 1,
   "id": "9c54e59f",
   "metadata": {},
   "outputs": [],
   "source": [
    "import numpy as np\n",
    "import matplotlib as plot\n",
    "import seaborn as sns\n",
    "import pandas as pd\n",
    "import math"
   ]
  },
  {
   "cell_type": "markdown",
   "id": "9e24fe17",
   "metadata": {},
   "source": [
    "ML Models"
   ]
  },
  {
   "cell_type": "code",
   "execution_count": 2,
   "id": "3d7568ab",
   "metadata": {},
   "outputs": [],
   "source": [
    "from sklearn.linear_model import LinearRegression"
   ]
  },
  {
   "cell_type": "markdown",
   "id": "e3ff5686",
   "metadata": {},
   "source": [
    "---\n",
    "\n",
    "Let's generate some fake data\n",
    "\n",
    "---"
   ]
  },
  {
   "cell_type": "markdown",
   "id": "d3045797",
   "metadata": {},
   "source": [
    "Let's fix some parameters\n",
    "\n",
    "*Fixing things ahead of time will make it easy to modify our code on the fly!*"
   ]
  },
  {
   "cell_type": "code",
   "execution_count": 3,
   "id": "c4d3125e",
   "metadata": {},
   "outputs": [],
   "source": [
    "# Number of training points\n",
    "N = 10\n",
    "# Dimension of Input Space\n",
    "d = 2"
   ]
  },
  {
   "cell_type": "markdown",
   "id": "915e5468",
   "metadata": {},
   "source": [
    "#### Inputs"
   ]
  },
  {
   "cell_type": "code",
   "execution_count": 4,
   "id": "46801445",
   "metadata": {},
   "outputs": [
    {
     "data": {
      "text/plain": [
       "array([[ 0.82059144,  2.30788434],\n",
       "       [ 0.57525317, -0.00691241],\n",
       "       [-2.07496791,  0.28609412],\n",
       "       [ 0.91219801,  0.94006727],\n",
       "       [-0.29447476, -0.89802551],\n",
       "       [-0.68327639, -0.9511796 ],\n",
       "       [ 0.95463317,  0.02307865],\n",
       "       [ 0.73728391,  1.22583943],\n",
       "       [-0.7716137 , -1.48941337],\n",
       "       [ 1.05037075,  0.39933732]])"
      ]
     },
     "execution_count": 4,
     "metadata": {},
     "output_type": "execute_result"
    }
   ],
   "source": [
    "# A Random set of N inputs in 2 dimensions\n",
    "X = np.random.normal(0,1,np.array([N,d]))\n",
    "X"
   ]
  },
  {
   "cell_type": "markdown",
   "id": "be5c6825",
   "metadata": {},
   "source": [
    "#### Outputs"
   ]
  },
  {
   "cell_type": "code",
   "execution_count": 5,
   "id": "868186da",
   "metadata": {},
   "outputs": [
    {
     "data": {
      "text/plain": [
       "array([-0.52994342,  1.14863078, -1.53555318,  0.58041346,  0.87296995,\n",
       "       -0.26818239,  0.26766711, -1.34029416,  1.98113177, -0.55361304])"
      ]
     },
     "execution_count": 5,
     "metadata": {},
     "output_type": "execute_result"
    }
   ],
   "source": [
    "# A Random set of N outputs in 1 dimensions\n",
    "Y = np.random.normal(0,1,N)\n",
    "Y"
   ]
  },
  {
   "cell_type": "markdown",
   "id": "45ba49aa",
   "metadata": {},
   "source": [
    "### Building our Regression Model"
   ]
  },
  {
   "cell_type": "code",
   "execution_count": 6,
   "id": "9b2681d8",
   "metadata": {},
   "outputs": [],
   "source": [
    "model = LinearRegression()"
   ]
  },
  {
   "cell_type": "markdown",
   "id": "ac577eae",
   "metadata": {},
   "source": [
    "### Applying Our Regression Model to get Predictions"
   ]
  },
  {
   "cell_type": "code",
   "execution_count": 8,
   "id": "7d78ad54",
   "metadata": {},
   "outputs": [],
   "source": [
    "y_hat = model.fit(X, Y)"
   ]
  },
  {
   "cell_type": "markdown",
   "id": "dd539fab",
   "metadata": {},
   "source": [
    "---"
   ]
  },
  {
   "cell_type": "markdown",
   "id": "c44da537",
   "metadata": {},
   "source": [
    "## Let's do it with real data!"
   ]
  },
  {
   "cell_type": "code",
   "execution_count": null,
   "id": "0dc90763",
   "metadata": {},
   "outputs": [],
   "source": []
  },
  {
   "cell_type": "markdown",
   "id": "be8d7297",
   "metadata": {},
   "source": [
    "---"
   ]
  }
 ],
 "metadata": {
  "kernelspec": {
   "display_name": "Python 3 (ipykernel)",
   "language": "python",
   "name": "python3"
  },
  "language_info": {
   "codemirror_mode": {
    "name": "ipython",
    "version": 3
   },
   "file_extension": ".py",
   "mimetype": "text/x-python",
   "name": "python",
   "nbconvert_exporter": "python",
   "pygments_lexer": "ipython3",
   "version": "3.9.12"
  }
 },
 "nbformat": 4,
 "nbformat_minor": 5
}
