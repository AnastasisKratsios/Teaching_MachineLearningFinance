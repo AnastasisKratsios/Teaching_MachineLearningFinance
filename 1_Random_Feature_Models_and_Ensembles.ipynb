{
 "cells": [
  {
   "cell_type": "markdown",
   "id": "d868746a",
   "metadata": {},
   "source": [
    "# Introduction to Regression"
   ]
  },
  {
   "cell_type": "markdown",
   "id": "44dd1f74",
   "metadata": {},
   "source": [
    "## Getting Started\n",
    "Let's start with the basics and some artificial data!"
   ]
  },
  {
   "cell_type": "markdown",
   "id": "9c82a17e",
   "metadata": {},
   "source": [
    "### Initializations"
   ]
  },
  {
   "cell_type": "markdown",
   "id": "17c1d1e2",
   "metadata": {},
   "source": [
    "Initialize/Import some basic packages\n",
    "\n",
    "*Make sure to comment your code so you can remember what it does in 2+ days :P*"
   ]
  },
  {
   "cell_type": "code",
   "execution_count": 1,
   "id": "9c54e59f",
   "metadata": {},
   "outputs": [],
   "source": [
    "import numpy as np\n",
    "import matplotlib.pyplot as plt\n",
    "import seaborn as sns\n",
    "import pandas as pd\n",
    "import math\n",
    "\n",
    "# Let's ignore warnings (they're annoying and we know what's up)\n",
    "import warnings\n",
    "warnings.filterwarnings(\"ignore\")"
   ]
  },
  {
   "cell_type": "markdown",
   "id": "9e24fe17",
   "metadata": {},
   "source": [
    "ML Models"
   ]
  },
  {
   "cell_type": "code",
   "execution_count": 2,
   "id": "3d7568ab",
   "metadata": {},
   "outputs": [],
   "source": [
    "from sklearn.linear_model import LinearRegression"
   ]
  },
  {
   "cell_type": "markdown",
   "id": "e3ff5686",
   "metadata": {},
   "source": [
    "---\n",
    "\n",
    "Let's generate some fake data\n",
    "\n",
    "---"
   ]
  },
  {
   "cell_type": "markdown",
   "id": "d3045797",
   "metadata": {},
   "source": [
    "Let's fix some parameters\n",
    "\n",
    "*Fixing things ahead of time will make it easy to modify our code on the fly!*"
   ]
  },
  {
   "cell_type": "code",
   "execution_count": 3,
   "id": "c4d3125e",
   "metadata": {},
   "outputs": [],
   "source": [
    "# Number of training points\n",
    "N_train = 10\n",
    "N_test = 2\n",
    "# Dimension of Input Space\n",
    "d = 2"
   ]
  },
  {
   "cell_type": "markdown",
   "id": "915e5468",
   "metadata": {},
   "source": [
    "#### Inputs"
   ]
  },
  {
   "cell_type": "code",
   "execution_count": 4,
   "id": "46801445",
   "metadata": {},
   "outputs": [
    {
     "name": "stdout",
     "output_type": "stream",
     "text": [
      "         x1        x2\n",
      "0 -0.623366  1.492227\n",
      "1 -0.210222  2.900535\n",
      "2  1.140373 -0.182798\n",
      "3  0.054888 -0.024406\n",
      "4  0.769940  0.420601\n",
      "5 -0.933282  1.638229\n",
      "6 -1.665956  1.454971\n",
      "7  1.065404 -1.225752\n",
      "8 -0.504406  0.752381\n",
      "9  1.200380  1.185115\n"
     ]
    },
    {
     "data": {
      "text/html": [
       "<div>\n",
       "<style scoped>\n",
       "    .dataframe tbody tr th:only-of-type {\n",
       "        vertical-align: middle;\n",
       "    }\n",
       "\n",
       "    .dataframe tbody tr th {\n",
       "        vertical-align: top;\n",
       "    }\n",
       "\n",
       "    .dataframe thead th {\n",
       "        text-align: right;\n",
       "    }\n",
       "</style>\n",
       "<table border=\"1\" class=\"dataframe\">\n",
       "  <thead>\n",
       "    <tr style=\"text-align: right;\">\n",
       "      <th></th>\n",
       "      <th>x1</th>\n",
       "      <th>x2</th>\n",
       "    </tr>\n",
       "  </thead>\n",
       "  <tbody>\n",
       "    <tr>\n",
       "      <th>0</th>\n",
       "      <td>-0.223663</td>\n",
       "      <td>0.568414</td>\n",
       "    </tr>\n",
       "    <tr>\n",
       "      <th>1</th>\n",
       "      <td>0.134613</td>\n",
       "      <td>0.529179</td>\n",
       "    </tr>\n",
       "  </tbody>\n",
       "</table>\n",
       "</div>"
      ],
      "text/plain": [
       "         x1        x2\n",
       "0 -0.223663  0.568414\n",
       "1  0.134613  0.529179"
      ]
     },
     "execution_count": 4,
     "metadata": {},
     "output_type": "execute_result"
    }
   ],
   "source": [
    "# Training Set\n",
    "\n",
    "## A Random set of N inputs in 2 dimensions\n",
    "X_train = np.random.normal(0,1,np.array([N_train,d]))\n",
    "## 1) We'll convert to pandas object type since it's easier to work with than numpy (in these cases)\n",
    "## 2) We'll name our columns\n",
    "X_train = pd.DataFrame(X_train,columns=['x1','x2'])\n",
    "## View our Dataframe (to make sure there arent' any coding erros)\n",
    "print(X_train)\n",
    "\n",
    "# Testing Set\n",
    "X_test = np.random.normal(0,1,np.array([N_test,d]))\n",
    "## 1) We'll convert to pandas object type since it's easier to work with than numpy (in these cases)\n",
    "## 2) We'll name our columns\n",
    "X_test = pd.DataFrame(X_test,columns=['x1','x2'])\n",
    "## View our Dataframe (to make sure there arent' any coding erros)\n",
    "X_test"
   ]
  },
  {
   "cell_type": "markdown",
   "id": "be5c6825",
   "metadata": {},
   "source": [
    "#### Outputs\n",
    "We'll consider the simple (noisless) linear target model\n",
    "$$\n",
    "y_n = 2\\,x_1 + x_2\n",
    "$$"
   ]
  },
  {
   "cell_type": "code",
   "execution_count": 5,
   "id": "868186da",
   "metadata": {},
   "outputs": [
    {
     "name": "stdout",
     "output_type": "stream",
     "text": [
      "          Y\n",
      "0  0.245495\n",
      "1  2.480091\n",
      "2  2.097948\n",
      "3  0.085371\n",
      "4  1.960481\n",
      "5 -0.228335\n",
      "6 -1.876942\n",
      "7  0.905056\n",
      "8 -0.256430\n",
      "9  3.585875\n"
     ]
    },
    {
     "data": {
      "text/html": [
       "<div>\n",
       "<style scoped>\n",
       "    .dataframe tbody tr th:only-of-type {\n",
       "        vertical-align: middle;\n",
       "    }\n",
       "\n",
       "    .dataframe tbody tr th {\n",
       "        vertical-align: top;\n",
       "    }\n",
       "\n",
       "    .dataframe thead th {\n",
       "        text-align: right;\n",
       "    }\n",
       "</style>\n",
       "<table border=\"1\" class=\"dataframe\">\n",
       "  <thead>\n",
       "    <tr style=\"text-align: right;\">\n",
       "      <th></th>\n",
       "      <th>Y</th>\n",
       "    </tr>\n",
       "  </thead>\n",
       "  <tbody>\n",
       "    <tr>\n",
       "      <th>0</th>\n",
       "      <td>0.121089</td>\n",
       "    </tr>\n",
       "    <tr>\n",
       "      <th>1</th>\n",
       "      <td>0.798405</td>\n",
       "    </tr>\n",
       "  </tbody>\n",
       "</table>\n",
       "</div>"
      ],
      "text/plain": [
       "          Y\n",
       "0  0.121089\n",
       "1  0.798405"
      ]
     },
     "execution_count": 5,
     "metadata": {},
     "output_type": "execute_result"
    }
   ],
   "source": [
    "# Train\n",
    "\n",
    "## Initialize our target dataframe\n",
    "Y_train = X_train\n",
    "## We first multiply the first row of our Pandas Dataframe by 2 (note the above equation)\n",
    "Y_train['x1'] = Y_train['x1'].apply(lambda x: 2*x)\n",
    "## We'll sum across the rows of our dataframe\n",
    "Y_train = pd.DataFrame(Y_train.sum(axis = 1),columns=['Y'])\n",
    "## Visualize to check there are no coding errors!\n",
    "print(Y_train)\n",
    "\n",
    "# Test\n",
    "## Initialize our target dataframe\n",
    "Y_test = X_test\n",
    "## We first multiply the first row of our Pandas Dataframe by 2 (note the above equation)\n",
    "Y_test['x1'] = Y_test['x1'].apply(lambda x: 2*x)\n",
    "## We'll sum across the rows of our dataframe\n",
    "Y_test = pd.DataFrame(Y_test.sum(axis = 1),columns=['Y'])\n",
    "Y_test"
   ]
  },
  {
   "cell_type": "markdown",
   "id": "45ba49aa",
   "metadata": {},
   "source": [
    "#### Building and Training our Regression Model"
   ]
  },
  {
   "cell_type": "code",
   "execution_count": 6,
   "id": "9b2681d8",
   "metadata": {},
   "outputs": [],
   "source": [
    "model = LinearRegression()"
   ]
  },
  {
   "cell_type": "markdown",
   "id": "ac577eae",
   "metadata": {},
   "source": [
    "First we train our model, with the \"training\" (a.k.a. in-sample) data."
   ]
  },
  {
   "cell_type": "code",
   "execution_count": 7,
   "id": "7d78ad54",
   "metadata": {},
   "outputs": [
    {
     "data": {
      "text/html": [
       "<style>#sk-container-id-1 {color: black;background-color: white;}#sk-container-id-1 pre{padding: 0;}#sk-container-id-1 div.sk-toggleable {background-color: white;}#sk-container-id-1 label.sk-toggleable__label {cursor: pointer;display: block;width: 100%;margin-bottom: 0;padding: 0.3em;box-sizing: border-box;text-align: center;}#sk-container-id-1 label.sk-toggleable__label-arrow:before {content: \"▸\";float: left;margin-right: 0.25em;color: #696969;}#sk-container-id-1 label.sk-toggleable__label-arrow:hover:before {color: black;}#sk-container-id-1 div.sk-estimator:hover label.sk-toggleable__label-arrow:before {color: black;}#sk-container-id-1 div.sk-toggleable__content {max-height: 0;max-width: 0;overflow: hidden;text-align: left;background-color: #f0f8ff;}#sk-container-id-1 div.sk-toggleable__content pre {margin: 0.2em;color: black;border-radius: 0.25em;background-color: #f0f8ff;}#sk-container-id-1 input.sk-toggleable__control:checked~div.sk-toggleable__content {max-height: 200px;max-width: 100%;overflow: auto;}#sk-container-id-1 input.sk-toggleable__control:checked~label.sk-toggleable__label-arrow:before {content: \"▾\";}#sk-container-id-1 div.sk-estimator input.sk-toggleable__control:checked~label.sk-toggleable__label {background-color: #d4ebff;}#sk-container-id-1 div.sk-label input.sk-toggleable__control:checked~label.sk-toggleable__label {background-color: #d4ebff;}#sk-container-id-1 input.sk-hidden--visually {border: 0;clip: rect(1px 1px 1px 1px);clip: rect(1px, 1px, 1px, 1px);height: 1px;margin: -1px;overflow: hidden;padding: 0;position: absolute;width: 1px;}#sk-container-id-1 div.sk-estimator {font-family: monospace;background-color: #f0f8ff;border: 1px dotted black;border-radius: 0.25em;box-sizing: border-box;margin-bottom: 0.5em;}#sk-container-id-1 div.sk-estimator:hover {background-color: #d4ebff;}#sk-container-id-1 div.sk-parallel-item::after {content: \"\";width: 100%;border-bottom: 1px solid gray;flex-grow: 1;}#sk-container-id-1 div.sk-label:hover label.sk-toggleable__label {background-color: #d4ebff;}#sk-container-id-1 div.sk-serial::before {content: \"\";position: absolute;border-left: 1px solid gray;box-sizing: border-box;top: 0;bottom: 0;left: 50%;z-index: 0;}#sk-container-id-1 div.sk-serial {display: flex;flex-direction: column;align-items: center;background-color: white;padding-right: 0.2em;padding-left: 0.2em;position: relative;}#sk-container-id-1 div.sk-item {position: relative;z-index: 1;}#sk-container-id-1 div.sk-parallel {display: flex;align-items: stretch;justify-content: center;background-color: white;position: relative;}#sk-container-id-1 div.sk-item::before, #sk-container-id-1 div.sk-parallel-item::before {content: \"\";position: absolute;border-left: 1px solid gray;box-sizing: border-box;top: 0;bottom: 0;left: 50%;z-index: -1;}#sk-container-id-1 div.sk-parallel-item {display: flex;flex-direction: column;z-index: 1;position: relative;background-color: white;}#sk-container-id-1 div.sk-parallel-item:first-child::after {align-self: flex-end;width: 50%;}#sk-container-id-1 div.sk-parallel-item:last-child::after {align-self: flex-start;width: 50%;}#sk-container-id-1 div.sk-parallel-item:only-child::after {width: 0;}#sk-container-id-1 div.sk-dashed-wrapped {border: 1px dashed gray;margin: 0 0.4em 0.5em 0.4em;box-sizing: border-box;padding-bottom: 0.4em;background-color: white;}#sk-container-id-1 div.sk-label label {font-family: monospace;font-weight: bold;display: inline-block;line-height: 1.2em;}#sk-container-id-1 div.sk-label-container {text-align: center;}#sk-container-id-1 div.sk-container {/* jupyter's `normalize.less` sets `[hidden] { display: none; }` but bootstrap.min.css set `[hidden] { display: none !important; }` so we also need the `!important` here to be able to override the default hidden behavior on the sphinx rendered scikit-learn.org. See: https://github.com/scikit-learn/scikit-learn/issues/21755 */display: inline-block !important;position: relative;}#sk-container-id-1 div.sk-text-repr-fallback {display: none;}</style><div id=\"sk-container-id-1\" class=\"sk-top-container\"><div class=\"sk-text-repr-fallback\"><pre>LinearRegression()</pre><b>In a Jupyter environment, please rerun this cell to show the HTML representation or trust the notebook. <br />On GitHub, the HTML representation is unable to render, please try loading this page with nbviewer.org.</b></div><div class=\"sk-container\" hidden><div class=\"sk-item\"><div class=\"sk-estimator sk-toggleable\"><input class=\"sk-toggleable__control sk-hidden--visually\" id=\"sk-estimator-id-1\" type=\"checkbox\" checked><label for=\"sk-estimator-id-1\" class=\"sk-toggleable__label sk-toggleable__label-arrow\">LinearRegression</label><div class=\"sk-toggleable__content\"><pre>LinearRegression()</pre></div></div></div></div></div>"
      ],
      "text/plain": [
       "LinearRegression()"
      ]
     },
     "execution_count": 7,
     "metadata": {},
     "output_type": "execute_result"
    }
   ],
   "source": [
    "model.fit(X_train, Y_train)"
   ]
  },
  {
   "cell_type": "markdown",
   "id": "87ee51e4",
   "metadata": {},
   "source": [
    "Now we'll predict the test data given our input train data!"
   ]
  },
  {
   "cell_type": "code",
   "execution_count": 8,
   "id": "be6bc851",
   "metadata": {},
   "outputs": [
    {
     "data": {
      "text/plain": [
       "array([0.12108917, 0.79840504])"
      ]
     },
     "execution_count": 8,
     "metadata": {},
     "output_type": "execute_result"
    }
   ],
   "source": [
    "# Generate Prediction\n",
    "Yhat_test = model.predict(X_test)\n",
    "# Convert to \"vector shape\"\n",
    "Yhat_test = Yhat_test.reshape([-1,])\n",
    "# Visualize to make sure things look okay!\n",
    "Yhat_test"
   ]
  },
  {
   "cell_type": "markdown",
   "id": "9c1aad61",
   "metadata": {},
   "source": [
    "We'll record our training performance while we're at it also."
   ]
  },
  {
   "cell_type": "code",
   "execution_count": 9,
   "id": "c02f4f17",
   "metadata": {},
   "outputs": [
    {
     "data": {
      "text/plain": [
       "array([ 0.24549542,  2.48009094,  2.09794805,  0.0853712 ,  1.96048076,\n",
       "       -0.22833468, -1.87694154,  0.90505636, -0.25643017,  3.58587543])"
      ]
     },
     "execution_count": 9,
     "metadata": {},
     "output_type": "execute_result"
    }
   ],
   "source": [
    "# Generate Prediction\n",
    "Yhat_train = model.predict(X_train)\n",
    "# Convert to \"vector shape\"\n",
    "Yhat_train = Yhat_train.reshape([-1,])\n",
    "# Visualize to make sure things look okay!\n",
    "Yhat_train"
   ]
  },
  {
   "cell_type": "markdown",
   "id": "c1e8a09c",
   "metadata": {},
   "source": [
    "---"
   ]
  },
  {
   "cell_type": "markdown",
   "id": "e4457cf3",
   "metadata": {},
   "source": [
    "### Let's do it with real data.\n",
    "\n",
    "Let's pull data from Yahoo finance."
   ]
  },
  {
   "cell_type": "code",
   "execution_count": 10,
   "id": "8b4186b8",
   "metadata": {},
   "outputs": [],
   "source": [
    "# This package pulls, data from finance\n",
    "import yfinance as yf"
   ]
  },
  {
   "cell_type": "markdown",
   "id": "bcf9db9b",
   "metadata": {},
   "source": [
    "We will pull, google stock's daily closing prices from Yahoo finance as covariates.\n",
    "The targets will be Google's next day price :)\n",
    "\n",
    "We'll train on a daily 5 year period!"
   ]
  },
  {
   "cell_type": "code",
   "execution_count": 11,
   "id": "85401e66",
   "metadata": {},
   "outputs": [
    {
     "name": "stdout",
     "output_type": "stream",
     "text": [
      "Tail\n",
      "                  Open        High        Low       Close    Volume  \\\n",
      "Date                                                                  \n",
      "2022-09-23  100.059998  100.110001  98.010002   99.169998  25645100   \n",
      "2022-09-26   98.610001  100.440002  98.379997   98.809998  22437900   \n",
      "2022-09-27   99.910004  100.459999  97.339996   98.089996  24225000   \n",
      "2022-09-28   98.019997  101.400002  97.800003  100.739998  24594800   \n",
      "2022-09-29   99.300003   99.269997  96.779999   97.200500   7631812   \n",
      "\n",
      "            Dividends  Stock Splits  \n",
      "Date                                 \n",
      "2022-09-23          0           0.0  \n",
      "2022-09-26          0           0.0  \n",
      "2022-09-27          0           0.0  \n",
      "2022-09-28          0           0.0  \n",
      "2022-09-29          0           0.0  \n",
      "Head\n",
      "                 Open       High        Low      Close    Volume  Dividends  \\\n",
      "Date                                                                          \n",
      "2017-09-29  47.599998  47.989300  47.575500  47.955502  31620000          0   \n",
      "2017-10-02  47.999001  48.126999  47.391998  47.663502  25668000          0   \n",
      "2017-10-03  47.700001  47.900002  47.457001  47.889500  17766000          0   \n",
      "2017-10-04  47.849998  48.019501  47.534500  47.584000  19048000          0   \n",
      "2017-10-05  47.774502  48.545502  47.758999  48.498001  24276000          0   \n",
      "\n",
      "            Stock Splits  \n",
      "Date                      \n",
      "2017-09-29           0.0  \n",
      "2017-10-02           0.0  \n",
      "2017-10-03           0.0  \n",
      "2017-10-04           0.0  \n",
      "2017-10-05           0.0  \n"
     ]
    }
   ],
   "source": [
    "# Pull\n",
    "data_raw = yf.Ticker(\"GOOG\").history(period='5y')\n",
    "# check\n",
    "print('Tail')\n",
    "print(data_raw.tail())\n",
    "print('Head')\n",
    "print(data_raw.head())"
   ]
  },
  {
   "cell_type": "code",
   "execution_count": 12,
   "id": "bb5fbab7",
   "metadata": {},
   "outputs": [],
   "source": [
    "# 1) Keep only the Closing Prices as covariates\n",
    "# 2) Convert to Dataframe type (Manipulation of data is easier for this object class; as opposed to numpy arrays)\n",
    "data_close = pd.DataFrame(data_raw.Close)"
   ]
  },
  {
   "cell_type": "markdown",
   "id": "3dd18d6c",
   "metadata": {},
   "source": [
    "Let's visualize things"
   ]
  },
  {
   "cell_type": "code",
   "execution_count": 13,
   "id": "9972d0c1",
   "metadata": {},
   "outputs": [
    {
     "data": {
      "text/plain": [
       "[<matplotlib.lines.Line2D at 0x12b6b0a60>]"
      ]
     },
     "execution_count": 13,
     "metadata": {},
     "output_type": "execute_result"
    },
    {
     "data": {
      "image/png": "[encoded data removed]",
      "text/plain": [
       "<Figure size 640x480 with 1 Axes>"
      ]
     },
     "metadata": {},
     "output_type": "display_data"
    }
   ],
   "source": [
    "# Activate Seaborn (<- this makes plots pretty :3)\n",
    "sns.set()\n",
    "\n",
    "# Plot!\n",
    "plt.plot(data_close)"
   ]
  },
  {
   "cell_type": "code",
   "execution_count": 14,
   "id": "e4b3c70b",
   "metadata": {},
   "outputs": [],
   "source": [
    "# Remove the first entry in our array; this will effectively shift time forward\n",
    "Y = data_close[1:]\n",
    "# Remove the last entry of the pandas dataframe; this will ensure we have the same number of covariate observations and of target observations\n",
    "X = data_close[:-1]"
   ]
  },
  {
   "cell_type": "markdown",
   "id": "ff0c7d70",
   "metadata": {},
   "source": [
    "Let's make the last 20 days \"invisible\" and use them as our testing set (we'll pretend those are the too be predicted prices!)."
   ]
  },
  {
   "cell_type": "code",
   "execution_count": 15,
   "id": "c283c343",
   "metadata": {},
   "outputs": [
    {
     "name": "stdout",
     "output_type": "stream",
     "text": [
      "Check Train\n",
      "(1158, 1)\n",
      "                Close\n",
      "Date                 \n",
      "2017-09-29  47.955502\n",
      "2017-10-02  47.663502\n",
      "2017-10-03  47.889500\n",
      "2017-10-04  47.584000\n",
      "2017-10-05  48.498001\n",
      "Check Test\n",
      "(100, 1)\n"
     ]
    },
    {
     "data": {
      "text/html": [
       "<div>\n",
       "<style scoped>\n",
       "    .dataframe tbody tr th:only-of-type {\n",
       "        vertical-align: middle;\n",
       "    }\n",
       "\n",
       "    .dataframe tbody tr th {\n",
       "        vertical-align: top;\n",
       "    }\n",
       "\n",
       "    .dataframe thead th {\n",
       "        text-align: right;\n",
       "    }\n",
       "</style>\n",
       "<table border=\"1\" class=\"dataframe\">\n",
       "  <thead>\n",
       "    <tr style=\"text-align: right;\">\n",
       "      <th></th>\n",
       "      <th>Close</th>\n",
       "    </tr>\n",
       "    <tr>\n",
       "      <th>Date</th>\n",
       "      <th></th>\n",
       "    </tr>\n",
       "  </thead>\n",
       "  <tbody>\n",
       "    <tr>\n",
       "      <th>2017-09-29</th>\n",
       "      <td>47.955502</td>\n",
       "    </tr>\n",
       "    <tr>\n",
       "      <th>2017-10-02</th>\n",
       "      <td>47.663502</td>\n",
       "    </tr>\n",
       "    <tr>\n",
       "      <th>2017-10-03</th>\n",
       "      <td>47.889500</td>\n",
       "    </tr>\n",
       "    <tr>\n",
       "      <th>2017-10-04</th>\n",
       "      <td>47.584000</td>\n",
       "    </tr>\n",
       "    <tr>\n",
       "      <th>2017-10-05</th>\n",
       "      <td>48.498001</td>\n",
       "    </tr>\n",
       "  </tbody>\n",
       "</table>\n",
       "</div>"
      ],
      "text/plain": [
       "                Close\n",
       "Date                 \n",
       "2017-09-29  47.955502\n",
       "2017-10-02  47.663502\n",
       "2017-10-03  47.889500\n",
       "2017-10-04  47.584000\n",
       "2017-10-05  48.498001"
      ]
     },
     "execution_count": 15,
     "metadata": {},
     "output_type": "execute_result"
    }
   ],
   "source": [
    "# Number of training points\n",
    "N_test = 10**2\n",
    "\n",
    "# Build Train\n",
    "Y_train = Y[:-N_test]\n",
    "X_train = X[:-N_test]\n",
    "\n",
    "# Build Test\n",
    "Y_test = Y[:N_test]\n",
    "X_test = X[:N_test]\n",
    "\n",
    "\n",
    "# Visualize Dataframe Dimensions (make sure things are running reasonably!)\n",
    "print('Check Train')\n",
    "print(X_train.shape)\n",
    "print(X_train.head())\n",
    "print('Check Test')\n",
    "print(X_test.shape)\n",
    "X_test.head()"
   ]
  },
  {
   "cell_type": "markdown",
   "id": "6e8b2a75",
   "metadata": {},
   "source": [
    "#### Building and Training our Regression Model"
   ]
  },
  {
   "cell_type": "code",
   "execution_count": 16,
   "id": "309b4373",
   "metadata": {},
   "outputs": [],
   "source": [
    "model = LinearRegression()"
   ]
  },
  {
   "cell_type": "markdown",
   "id": "12d0d7c9",
   "metadata": {},
   "source": [
    "First we train our model, with the \"training\" (a.k.a. in-sample) data."
   ]
  },
  {
   "cell_type": "code",
   "execution_count": 17,
   "id": "1f3650d0",
   "metadata": {},
   "outputs": [
    {
     "data": {
      "text/html": [
       "<style>#sk-container-id-2 {color: black;background-color: white;}#sk-container-id-2 pre{padding: 0;}#sk-container-id-2 div.sk-toggleable {background-color: white;}#sk-container-id-2 label.sk-toggleable__label {cursor: pointer;display: block;width: 100%;margin-bottom: 0;padding: 0.3em;box-sizing: border-box;text-align: center;}#sk-container-id-2 label.sk-toggleable__label-arrow:before {content: \"▸\";float: left;margin-right: 0.25em;color: #696969;}#sk-container-id-2 label.sk-toggleable__label-arrow:hover:before {color: black;}#sk-container-id-2 div.sk-estimator:hover label.sk-toggleable__label-arrow:before {color: black;}#sk-container-id-2 div.sk-toggleable__content {max-height: 0;max-width: 0;overflow: hidden;text-align: left;background-color: #f0f8ff;}#sk-container-id-2 div.sk-toggleable__content pre {margin: 0.2em;color: black;border-radius: 0.25em;background-color: #f0f8ff;}#sk-container-id-2 input.sk-toggleable__control:checked~div.sk-toggleable__content {max-height: 200px;max-width: 100%;overflow: auto;}#sk-container-id-2 input.sk-toggleable__control:checked~label.sk-toggleable__label-arrow:before {content: \"▾\";}#sk-container-id-2 div.sk-estimator input.sk-toggleable__control:checked~label.sk-toggleable__label {background-color: #d4ebff;}#sk-container-id-2 div.sk-label input.sk-toggleable__control:checked~label.sk-toggleable__label {background-color: #d4ebff;}#sk-container-id-2 input.sk-hidden--visually {border: 0;clip: rect(1px 1px 1px 1px);clip: rect(1px, 1px, 1px, 1px);height: 1px;margin: -1px;overflow: hidden;padding: 0;position: absolute;width: 1px;}#sk-container-id-2 div.sk-estimator {font-family: monospace;background-color: #f0f8ff;border: 1px dotted black;border-radius: 0.25em;box-sizing: border-box;margin-bottom: 0.5em;}#sk-container-id-2 div.sk-estimator:hover {background-color: #d4ebff;}#sk-container-id-2 div.sk-parallel-item::after {content: \"\";width: 100%;border-bottom: 1px solid gray;flex-grow: 1;}#sk-container-id-2 div.sk-label:hover label.sk-toggleable__label {background-color: #d4ebff;}#sk-container-id-2 div.sk-serial::before {content: \"\";position: absolute;border-left: 1px solid gray;box-sizing: border-box;top: 0;bottom: 0;left: 50%;z-index: 0;}#sk-container-id-2 div.sk-serial {display: flex;flex-direction: column;align-items: center;background-color: white;padding-right: 0.2em;padding-left: 0.2em;position: relative;}#sk-container-id-2 div.sk-item {position: relative;z-index: 1;}#sk-container-id-2 div.sk-parallel {display: flex;align-items: stretch;justify-content: center;background-color: white;position: relative;}#sk-container-id-2 div.sk-item::before, #sk-container-id-2 div.sk-parallel-item::before {content: \"\";position: absolute;border-left: 1px solid gray;box-sizing: border-box;top: 0;bottom: 0;left: 50%;z-index: -1;}#sk-container-id-2 div.sk-parallel-item {display: flex;flex-direction: column;z-index: 1;position: relative;background-color: white;}#sk-container-id-2 div.sk-parallel-item:first-child::after {align-self: flex-end;width: 50%;}#sk-container-id-2 div.sk-parallel-item:last-child::after {align-self: flex-start;width: 50%;}#sk-container-id-2 div.sk-parallel-item:only-child::after {width: 0;}#sk-container-id-2 div.sk-dashed-wrapped {border: 1px dashed gray;margin: 0 0.4em 0.5em 0.4em;box-sizing: border-box;padding-bottom: 0.4em;background-color: white;}#sk-container-id-2 div.sk-label label {font-family: monospace;font-weight: bold;display: inline-block;line-height: 1.2em;}#sk-container-id-2 div.sk-label-container {text-align: center;}#sk-container-id-2 div.sk-container {/* jupyter's `normalize.less` sets `[hidden] { display: none; }` but bootstrap.min.css set `[hidden] { display: none !important; }` so we also need the `!important` here to be able to override the default hidden behavior on the sphinx rendered scikit-learn.org. See: https://github.com/scikit-learn/scikit-learn/issues/21755 */display: inline-block !important;position: relative;}#sk-container-id-2 div.sk-text-repr-fallback {display: none;}</style><div id=\"sk-container-id-2\" class=\"sk-top-container\"><div class=\"sk-text-repr-fallback\"><pre>LinearRegression()</pre><b>In a Jupyter environment, please rerun this cell to show the HTML representation or trust the notebook. <br />On GitHub, the HTML representation is unable to render, please try loading this page with nbviewer.org.</b></div><div class=\"sk-container\" hidden><div class=\"sk-item\"><div class=\"sk-estimator sk-toggleable\"><input class=\"sk-toggleable__control sk-hidden--visually\" id=\"sk-estimator-id-2\" type=\"checkbox\" checked><label for=\"sk-estimator-id-2\" class=\"sk-toggleable__label sk-toggleable__label-arrow\">LinearRegression</label><div class=\"sk-toggleable__content\"><pre>LinearRegression()</pre></div></div></div></div></div>"
      ],
      "text/plain": [
       "LinearRegression()"
      ]
     },
     "execution_count": 17,
     "metadata": {},
     "output_type": "execute_result"
    }
   ],
   "source": [
    "model.fit(X_train, Y_train)"
   ]
  },
  {
   "cell_type": "markdown",
   "id": "64e058f2",
   "metadata": {},
   "source": [
    "Now we'll predict the test data given our input train data!"
   ]
  },
  {
   "cell_type": "code",
   "execution_count": 18,
   "id": "590d6de8",
   "metadata": {},
   "outputs": [
    {
     "data": {
      "text/plain": [
       "array([48.05101834, 47.75934379, 47.98508997, 47.67993024, 48.59291358,\n",
       "       49.03891508, 48.94451885, 48.72476651, 49.55633962, 49.48541576,\n",
       "       49.57781531, 49.69368341, 49.70267607, 49.73413894, 49.31660529,\n",
       "       49.50389643, 48.51749719, 48.6218806 , 48.76122488, 48.72276602,\n",
       "       51.05566707, 50.94778567, 50.92431331, 51.36682064, 51.37081398,\n",
       "       51.7154309 , 51.386795  , 51.7578831 , 52.08352017, 51.65449803,\n",
       "       51.49517558, 51.37930366, 51.3917905 , 51.13757646, 51.71642924,\n",
       "       51.04667442, 51.01121439, 51.81581715, 51.88923686, 52.12147605,\n",
       "       52.80071888, 52.46109746, 51.17503317, 51.16254633, 50.60117208,\n",
       "       50.02731099, 50.35045222, 51.01121439, 51.63801784, 51.94367673,\n",
       "       52.14595055, 52.11498304, 52.12147605, 52.54800235, 53.29916358,\n",
       "       53.9459414 , 53.62330315, 53.33712327, 53.27119489, 53.09589142,\n",
       "       52.92708096, 52.55898787, 52.49755964, 52.41065475, 53.33961911,\n",
       "       54.21264609, 54.4084269 , 55.19904532, 55.43428333, 55.40032081,\n",
       "       55.21802517, 55.36336327, 56.19942891, 56.17445904, 56.6848876 ,\n",
       "       56.57550869, 56.9610803 , 57.87506197, 58.5822735 , 58.29609361,\n",
       "       58.60225168, 58.87544555, 58.86245955, 58.26862409, 58.58077599,\n",
       "       58.46889743, 55.68200817, 52.88013243, 54.11874903, 52.51953449,\n",
       "       50.16915492, 51.9801351 , 52.68734662, 52.69533713, 53.57435795,\n",
       "       54.56425517, 54.82796104, 55.21053382, 55.65403949, 55.41880148])"
      ]
     },
     "execution_count": 18,
     "metadata": {},
     "output_type": "execute_result"
    }
   ],
   "source": [
    "# Generate Prediction\n",
    "Yhat_test = model.predict(X_test)\n",
    "# Convert to \"vector shape\"\n",
    "Yhat_test = Yhat_test.reshape([-1,])\n",
    "# Visualize to make sure things look okay!\n",
    "Yhat_test"
   ]
  },
  {
   "cell_type": "markdown",
   "id": "3b0dbe70",
   "metadata": {},
   "source": [
    "We'll record our training performance while we're at it also."
   ]
  },
  {
   "cell_type": "code",
   "execution_count": 19,
   "id": "1fc72a47",
   "metadata": {},
   "outputs": [
    {
     "data": {
      "text/plain": [
       "array([ 48.05101834,  47.75934379,  47.98508997, ..., 118.14684955,\n",
       "       122.58739321, 116.76538688])"
      ]
     },
     "execution_count": 19,
     "metadata": {},
     "output_type": "execute_result"
    }
   ],
   "source": [
    "# Generate Prediction\n",
    "Yhat_train = model.predict(X_train)\n",
    "# Convert to \"vector shape\"\n",
    "Yhat_train = Yhat_train.reshape([-1,])\n",
    "# Visualize to make sure things look okay!\n",
    "Yhat_train"
   ]
  },
  {
   "cell_type": "markdown",
   "id": "fccfa469",
   "metadata": {},
   "source": [
    "### Let's check how we did!"
   ]
  },
  {
   "cell_type": "markdown",
   "id": "86f64523",
   "metadata": {},
   "source": [
    "Build dataframe\n",
    "\n",
    "*This is not the most efficient coding; but the point is rather to show you how to name and join columns to dataframes :)*"
   ]
  },
  {
   "cell_type": "code",
   "execution_count": 20,
   "id": "c9311352",
   "metadata": {},
   "outputs": [
    {
     "data": {
      "text/html": [
       "<div>\n",
       "<style scoped>\n",
       "    .dataframe tbody tr th:only-of-type {\n",
       "        vertical-align: middle;\n",
       "    }\n",
       "\n",
       "    .dataframe tbody tr th {\n",
       "        vertical-align: top;\n",
       "    }\n",
       "\n",
       "    .dataframe thead th {\n",
       "        text-align: right;\n",
       "    }\n",
       "</style>\n",
       "<table border=\"1\" class=\"dataframe\">\n",
       "  <thead>\n",
       "    <tr style=\"text-align: right;\">\n",
       "      <th></th>\n",
       "      <th>Targets_Test</th>\n",
       "      <th>Predictions_Test</th>\n",
       "    </tr>\n",
       "    <tr>\n",
       "      <th>Date</th>\n",
       "      <th></th>\n",
       "      <th></th>\n",
       "    </tr>\n",
       "  </thead>\n",
       "  <tbody>\n",
       "    <tr>\n",
       "      <th>2017-10-02</th>\n",
       "      <td>47.663502</td>\n",
       "      <td>48.051018</td>\n",
       "    </tr>\n",
       "    <tr>\n",
       "      <th>2017-10-03</th>\n",
       "      <td>47.889500</td>\n",
       "      <td>47.759344</td>\n",
       "    </tr>\n",
       "    <tr>\n",
       "      <th>2017-10-04</th>\n",
       "      <td>47.584000</td>\n",
       "      <td>47.985090</td>\n",
       "    </tr>\n",
       "    <tr>\n",
       "      <th>2017-10-05</th>\n",
       "      <td>48.498001</td>\n",
       "      <td>47.679930</td>\n",
       "    </tr>\n",
       "    <tr>\n",
       "      <th>2017-10-06</th>\n",
       "      <td>48.944500</td>\n",
       "      <td>48.592914</td>\n",
       "    </tr>\n",
       "    <tr>\n",
       "      <th>...</th>\n",
       "      <td>...</td>\n",
       "      <td>...</td>\n",
       "    </tr>\n",
       "    <tr>\n",
       "      <th>2018-02-16</th>\n",
       "      <td>54.740002</td>\n",
       "      <td>54.564255</td>\n",
       "    </tr>\n",
       "    <tr>\n",
       "      <th>2018-02-20</th>\n",
       "      <td>55.123001</td>\n",
       "      <td>54.827961</td>\n",
       "    </tr>\n",
       "    <tr>\n",
       "      <th>2018-02-21</th>\n",
       "      <td>55.567001</td>\n",
       "      <td>55.210534</td>\n",
       "    </tr>\n",
       "    <tr>\n",
       "      <th>2018-02-22</th>\n",
       "      <td>55.331501</td>\n",
       "      <td>55.654039</td>\n",
       "    </tr>\n",
       "    <tr>\n",
       "      <th>2018-02-23</th>\n",
       "      <td>56.339500</td>\n",
       "      <td>55.418801</td>\n",
       "    </tr>\n",
       "  </tbody>\n",
       "</table>\n",
       "<p>100 rows × 2 columns</p>\n",
       "</div>"
      ],
      "text/plain": [
       "            Targets_Test  Predictions_Test\n",
       "Date                                      \n",
       "2017-10-02     47.663502         48.051018\n",
       "2017-10-03     47.889500         47.759344\n",
       "2017-10-04     47.584000         47.985090\n",
       "2017-10-05     48.498001         47.679930\n",
       "2017-10-06     48.944500         48.592914\n",
       "...                  ...               ...\n",
       "2018-02-16     54.740002         54.564255\n",
       "2018-02-20     55.123001         54.827961\n",
       "2018-02-21     55.567001         55.210534\n",
       "2018-02-22     55.331501         55.654039\n",
       "2018-02-23     56.339500         55.418801\n",
       "\n",
       "[100 rows x 2 columns]"
      ]
     },
     "execution_count": 20,
     "metadata": {},
     "output_type": "execute_result"
    }
   ],
   "source": [
    "# Let's build a dataframe with the target and our predictions as columns\n",
    "time_series_comparison = pd.DataFrame(Y_test)\n",
    "time_series_comparison.columns = ['Targets_Test'] # <- Rename columns\n",
    "\n",
    "# Append Predictions to Dataframe\n",
    "time_series_comparison['Predictions_Test'] = Yhat_test\n",
    "\n",
    "# Check nothing went wrong (Safefy First!)\n",
    "time_series_comparison"
   ]
  },
  {
   "cell_type": "code",
   "execution_count": 21,
   "id": "03c6b1b4",
   "metadata": {},
   "outputs": [
    {
     "data": {
      "image/png": "[encoded data removed]",
      "text/plain": [
       "<Figure size 640x480 with 1 Axes>"
      ]
     },
     "metadata": {},
     "output_type": "display_data"
    }
   ],
   "source": [
    "# Activate Seaborn (<- this makes plots pretty :3)\n",
    "sns.set()\n",
    "\n",
    "# Plot!\n",
    "plt.plot(time_series_comparison)\n",
    "\n",
    "# Now we'll need a legend also\n",
    "plt.legend(time_series_comparison.columns);"
   ]
  },
  {
   "cell_type": "markdown",
   "id": "938755fe",
   "metadata": {},
   "source": [
    "---"
   ]
  },
  {
   "cell_type": "markdown",
   "id": "48112a09",
   "metadata": {},
   "source": [
    "## "
   ]
  }
 ],
 "metadata": {
  "kernelspec": {
   "display_name": "Python 3 (ipykernel)",
   "language": "python",
   "name": "python3"
  },
  "language_info": {
   "codemirror_mode": {
    "name": "ipython",
    "version": 3
   },
   "file_extension": ".py",
   "mimetype": "text/x-python",
   "name": "python",
   "nbconvert_exporter": "python",
   "pygments_lexer": "ipython3",
   "version": "3.9.12"
  }
 },
 "nbformat": 4,
 "nbformat_minor": 5
}
